{
 "cells": [
  {
   "cell_type": "code",
   "execution_count": 1,
   "metadata": {},
   "outputs": [],
   "source": [
    "import pandas as pd\n",
    "import numpy as np\n",
    "import matplotlib.pyplot as plt\n",
    "import seaborn as sns"
   ]
  },
  {
   "cell_type": "code",
   "execution_count": 2,
   "metadata": {
    "scrolled": true
   },
   "outputs": [
    {
     "data": {
      "text/html": [
       "<div>\n",
       "<style scoped>\n",
       "    .dataframe tbody tr th:only-of-type {\n",
       "        vertical-align: middle;\n",
       "    }\n",
       "\n",
       "    .dataframe tbody tr th {\n",
       "        vertical-align: top;\n",
       "    }\n",
       "\n",
       "    .dataframe thead th {\n",
       "        text-align: right;\n",
       "    }\n",
       "</style>\n",
       "<table border=\"1\" class=\"dataframe\">\n",
       "  <thead>\n",
       "    <tr style=\"text-align: right;\">\n",
       "      <th></th>\n",
       "      <th>Date</th>\n",
       "      <th>Location</th>\n",
       "      <th>MinTemp</th>\n",
       "      <th>MaxTemp</th>\n",
       "      <th>Rainfall</th>\n",
       "      <th>Evaporation</th>\n",
       "      <th>Sunshine</th>\n",
       "      <th>WindGustDir</th>\n",
       "      <th>WindGustSpeed</th>\n",
       "      <th>WindDir9am</th>\n",
       "      <th>...</th>\n",
       "      <th>Humidity9am</th>\n",
       "      <th>Humidity3pm</th>\n",
       "      <th>Pressure9am</th>\n",
       "      <th>Pressure3pm</th>\n",
       "      <th>Cloud9am</th>\n",
       "      <th>Cloud3pm</th>\n",
       "      <th>Temp9am</th>\n",
       "      <th>Temp3pm</th>\n",
       "      <th>RainToday</th>\n",
       "      <th>RainTomorrow</th>\n",
       "    </tr>\n",
       "  </thead>\n",
       "  <tbody>\n",
       "    <tr>\n",
       "      <th>0</th>\n",
       "      <td>2008-12-01</td>\n",
       "      <td>Albury</td>\n",
       "      <td>13.4</td>\n",
       "      <td>22.9</td>\n",
       "      <td>0.6</td>\n",
       "      <td>NaN</td>\n",
       "      <td>NaN</td>\n",
       "      <td>W</td>\n",
       "      <td>44.0</td>\n",
       "      <td>W</td>\n",
       "      <td>...</td>\n",
       "      <td>71.0</td>\n",
       "      <td>22.0</td>\n",
       "      <td>1007.7</td>\n",
       "      <td>1007.1</td>\n",
       "      <td>8.0</td>\n",
       "      <td>NaN</td>\n",
       "      <td>16.9</td>\n",
       "      <td>21.8</td>\n",
       "      <td>No</td>\n",
       "      <td>No</td>\n",
       "    </tr>\n",
       "    <tr>\n",
       "      <th>1</th>\n",
       "      <td>2008-12-02</td>\n",
       "      <td>Albury</td>\n",
       "      <td>7.4</td>\n",
       "      <td>25.1</td>\n",
       "      <td>0.0</td>\n",
       "      <td>NaN</td>\n",
       "      <td>NaN</td>\n",
       "      <td>WNW</td>\n",
       "      <td>44.0</td>\n",
       "      <td>NNW</td>\n",
       "      <td>...</td>\n",
       "      <td>44.0</td>\n",
       "      <td>25.0</td>\n",
       "      <td>1010.6</td>\n",
       "      <td>1007.8</td>\n",
       "      <td>NaN</td>\n",
       "      <td>NaN</td>\n",
       "      <td>17.2</td>\n",
       "      <td>24.3</td>\n",
       "      <td>No</td>\n",
       "      <td>No</td>\n",
       "    </tr>\n",
       "    <tr>\n",
       "      <th>2</th>\n",
       "      <td>2008-12-03</td>\n",
       "      <td>Albury</td>\n",
       "      <td>12.9</td>\n",
       "      <td>25.7</td>\n",
       "      <td>0.0</td>\n",
       "      <td>NaN</td>\n",
       "      <td>NaN</td>\n",
       "      <td>WSW</td>\n",
       "      <td>46.0</td>\n",
       "      <td>W</td>\n",
       "      <td>...</td>\n",
       "      <td>38.0</td>\n",
       "      <td>30.0</td>\n",
       "      <td>1007.6</td>\n",
       "      <td>1008.7</td>\n",
       "      <td>NaN</td>\n",
       "      <td>2.0</td>\n",
       "      <td>21.0</td>\n",
       "      <td>23.2</td>\n",
       "      <td>No</td>\n",
       "      <td>No</td>\n",
       "    </tr>\n",
       "    <tr>\n",
       "      <th>3</th>\n",
       "      <td>2008-12-04</td>\n",
       "      <td>Albury</td>\n",
       "      <td>9.2</td>\n",
       "      <td>28.0</td>\n",
       "      <td>0.0</td>\n",
       "      <td>NaN</td>\n",
       "      <td>NaN</td>\n",
       "      <td>NE</td>\n",
       "      <td>24.0</td>\n",
       "      <td>SE</td>\n",
       "      <td>...</td>\n",
       "      <td>45.0</td>\n",
       "      <td>16.0</td>\n",
       "      <td>1017.6</td>\n",
       "      <td>1012.8</td>\n",
       "      <td>NaN</td>\n",
       "      <td>NaN</td>\n",
       "      <td>18.1</td>\n",
       "      <td>26.5</td>\n",
       "      <td>No</td>\n",
       "      <td>No</td>\n",
       "    </tr>\n",
       "    <tr>\n",
       "      <th>4</th>\n",
       "      <td>2008-12-05</td>\n",
       "      <td>Albury</td>\n",
       "      <td>17.5</td>\n",
       "      <td>32.3</td>\n",
       "      <td>1.0</td>\n",
       "      <td>NaN</td>\n",
       "      <td>NaN</td>\n",
       "      <td>W</td>\n",
       "      <td>41.0</td>\n",
       "      <td>ENE</td>\n",
       "      <td>...</td>\n",
       "      <td>82.0</td>\n",
       "      <td>33.0</td>\n",
       "      <td>1010.8</td>\n",
       "      <td>1006.0</td>\n",
       "      <td>7.0</td>\n",
       "      <td>8.0</td>\n",
       "      <td>17.8</td>\n",
       "      <td>29.7</td>\n",
       "      <td>No</td>\n",
       "      <td>No</td>\n",
       "    </tr>\n",
       "    <tr>\n",
       "      <th>5</th>\n",
       "      <td>2008-12-06</td>\n",
       "      <td>Albury</td>\n",
       "      <td>14.6</td>\n",
       "      <td>29.7</td>\n",
       "      <td>0.2</td>\n",
       "      <td>NaN</td>\n",
       "      <td>NaN</td>\n",
       "      <td>WNW</td>\n",
       "      <td>56.0</td>\n",
       "      <td>W</td>\n",
       "      <td>...</td>\n",
       "      <td>55.0</td>\n",
       "      <td>23.0</td>\n",
       "      <td>1009.2</td>\n",
       "      <td>1005.4</td>\n",
       "      <td>NaN</td>\n",
       "      <td>NaN</td>\n",
       "      <td>20.6</td>\n",
       "      <td>28.9</td>\n",
       "      <td>No</td>\n",
       "      <td>No</td>\n",
       "    </tr>\n",
       "  </tbody>\n",
       "</table>\n",
       "<p>6 rows × 23 columns</p>\n",
       "</div>"
      ],
      "text/plain": [
       "         Date Location  MinTemp  MaxTemp  Rainfall  Evaporation  Sunshine  \\\n",
       "0  2008-12-01   Albury     13.4     22.9       0.6          NaN       NaN   \n",
       "1  2008-12-02   Albury      7.4     25.1       0.0          NaN       NaN   \n",
       "2  2008-12-03   Albury     12.9     25.7       0.0          NaN       NaN   \n",
       "3  2008-12-04   Albury      9.2     28.0       0.0          NaN       NaN   \n",
       "4  2008-12-05   Albury     17.5     32.3       1.0          NaN       NaN   \n",
       "5  2008-12-06   Albury     14.6     29.7       0.2          NaN       NaN   \n",
       "\n",
       "  WindGustDir  WindGustSpeed WindDir9am  ... Humidity9am  Humidity3pm  \\\n",
       "0           W           44.0          W  ...        71.0         22.0   \n",
       "1         WNW           44.0        NNW  ...        44.0         25.0   \n",
       "2         WSW           46.0          W  ...        38.0         30.0   \n",
       "3          NE           24.0         SE  ...        45.0         16.0   \n",
       "4           W           41.0        ENE  ...        82.0         33.0   \n",
       "5         WNW           56.0          W  ...        55.0         23.0   \n",
       "\n",
       "   Pressure9am  Pressure3pm  Cloud9am  Cloud3pm  Temp9am  Temp3pm  RainToday  \\\n",
       "0       1007.7       1007.1       8.0       NaN     16.9     21.8         No   \n",
       "1       1010.6       1007.8       NaN       NaN     17.2     24.3         No   \n",
       "2       1007.6       1008.7       NaN       2.0     21.0     23.2         No   \n",
       "3       1017.6       1012.8       NaN       NaN     18.1     26.5         No   \n",
       "4       1010.8       1006.0       7.0       8.0     17.8     29.7         No   \n",
       "5       1009.2       1005.4       NaN       NaN     20.6     28.9         No   \n",
       "\n",
       "   RainTomorrow  \n",
       "0            No  \n",
       "1            No  \n",
       "2            No  \n",
       "3            No  \n",
       "4            No  \n",
       "5            No  \n",
       "\n",
       "[6 rows x 23 columns]"
      ]
     },
     "execution_count": 2,
     "metadata": {},
     "output_type": "execute_result"
    }
   ],
   "source": [
    "data = pd.read_csv(r\"C:\\Users\\hp\\Desktop\\dataset\\weatherAUS.csv~\\weatherAUS.csv\")\n",
    "data.head(6)"
   ]
  },
  {
   "cell_type": "code",
   "execution_count": 3,
   "metadata": {},
   "outputs": [
    {
     "data": {
      "text/plain": [
       "Date                 0\n",
       "Location             0\n",
       "MinTemp           1485\n",
       "MaxTemp           1261\n",
       "Rainfall          3261\n",
       "Evaporation      62790\n",
       "Sunshine         69835\n",
       "WindGustDir      10326\n",
       "WindGustSpeed    10263\n",
       "WindDir9am       10566\n",
       "WindDir3pm        4228\n",
       "WindSpeed9am      1767\n",
       "WindSpeed3pm      3062\n",
       "Humidity9am       2654\n",
       "Humidity3pm       4507\n",
       "Pressure9am      15065\n",
       "Pressure3pm      15028\n",
       "Cloud9am         55888\n",
       "Cloud3pm         59358\n",
       "Temp9am           1767\n",
       "Temp3pm           3609\n",
       "RainToday         3261\n",
       "RainTomorrow      3267\n",
       "dtype: int64"
      ]
     },
     "execution_count": 3,
     "metadata": {},
     "output_type": "execute_result"
    }
   ],
   "source": [
    "data.isnull().sum() "
   ]
  },
  {
   "cell_type": "code",
   "execution_count": 4,
   "metadata": {},
   "outputs": [
    {
     "data": {
      "text/html": [
       "<div>\n",
       "<style scoped>\n",
       "    .dataframe tbody tr th:only-of-type {\n",
       "        vertical-align: middle;\n",
       "    }\n",
       "\n",
       "    .dataframe tbody tr th {\n",
       "        vertical-align: top;\n",
       "    }\n",
       "\n",
       "    .dataframe thead th {\n",
       "        text-align: right;\n",
       "    }\n",
       "</style>\n",
       "<table border=\"1\" class=\"dataframe\">\n",
       "  <thead>\n",
       "    <tr style=\"text-align: right;\">\n",
       "      <th></th>\n",
       "      <th>MinTemp</th>\n",
       "      <th>MaxTemp</th>\n",
       "      <th>Rainfall</th>\n",
       "      <th>Evaporation</th>\n",
       "      <th>Sunshine</th>\n",
       "      <th>WindGustSpeed</th>\n",
       "      <th>WindSpeed9am</th>\n",
       "      <th>WindSpeed3pm</th>\n",
       "      <th>Humidity9am</th>\n",
       "      <th>Humidity3pm</th>\n",
       "      <th>Pressure9am</th>\n",
       "      <th>Pressure3pm</th>\n",
       "      <th>Cloud9am</th>\n",
       "      <th>Cloud3pm</th>\n",
       "      <th>Temp9am</th>\n",
       "      <th>Temp3pm</th>\n",
       "    </tr>\n",
       "  </thead>\n",
       "  <tbody>\n",
       "    <tr>\n",
       "      <th>count</th>\n",
       "      <td>143975.000000</td>\n",
       "      <td>144199.000000</td>\n",
       "      <td>142199.000000</td>\n",
       "      <td>82670.000000</td>\n",
       "      <td>75625.000000</td>\n",
       "      <td>135197.000000</td>\n",
       "      <td>143693.000000</td>\n",
       "      <td>142398.000000</td>\n",
       "      <td>142806.000000</td>\n",
       "      <td>140953.000000</td>\n",
       "      <td>130395.00000</td>\n",
       "      <td>130432.000000</td>\n",
       "      <td>89572.000000</td>\n",
       "      <td>86102.000000</td>\n",
       "      <td>143693.000000</td>\n",
       "      <td>141851.00000</td>\n",
       "    </tr>\n",
       "    <tr>\n",
       "      <th>mean</th>\n",
       "      <td>12.194034</td>\n",
       "      <td>23.221348</td>\n",
       "      <td>2.360918</td>\n",
       "      <td>5.468232</td>\n",
       "      <td>7.611178</td>\n",
       "      <td>40.035230</td>\n",
       "      <td>14.043426</td>\n",
       "      <td>18.662657</td>\n",
       "      <td>68.880831</td>\n",
       "      <td>51.539116</td>\n",
       "      <td>1017.64994</td>\n",
       "      <td>1015.255889</td>\n",
       "      <td>4.447461</td>\n",
       "      <td>4.509930</td>\n",
       "      <td>16.990631</td>\n",
       "      <td>21.68339</td>\n",
       "    </tr>\n",
       "    <tr>\n",
       "      <th>std</th>\n",
       "      <td>6.398495</td>\n",
       "      <td>7.119049</td>\n",
       "      <td>8.478060</td>\n",
       "      <td>4.193704</td>\n",
       "      <td>3.785483</td>\n",
       "      <td>13.607062</td>\n",
       "      <td>8.915375</td>\n",
       "      <td>8.809800</td>\n",
       "      <td>19.029164</td>\n",
       "      <td>20.795902</td>\n",
       "      <td>7.10653</td>\n",
       "      <td>7.037414</td>\n",
       "      <td>2.887159</td>\n",
       "      <td>2.720357</td>\n",
       "      <td>6.488753</td>\n",
       "      <td>6.93665</td>\n",
       "    </tr>\n",
       "    <tr>\n",
       "      <th>min</th>\n",
       "      <td>-8.500000</td>\n",
       "      <td>-4.800000</td>\n",
       "      <td>0.000000</td>\n",
       "      <td>0.000000</td>\n",
       "      <td>0.000000</td>\n",
       "      <td>6.000000</td>\n",
       "      <td>0.000000</td>\n",
       "      <td>0.000000</td>\n",
       "      <td>0.000000</td>\n",
       "      <td>0.000000</td>\n",
       "      <td>980.50000</td>\n",
       "      <td>977.100000</td>\n",
       "      <td>0.000000</td>\n",
       "      <td>0.000000</td>\n",
       "      <td>-7.200000</td>\n",
       "      <td>-5.40000</td>\n",
       "    </tr>\n",
       "    <tr>\n",
       "      <th>25%</th>\n",
       "      <td>7.600000</td>\n",
       "      <td>17.900000</td>\n",
       "      <td>0.000000</td>\n",
       "      <td>2.600000</td>\n",
       "      <td>4.800000</td>\n",
       "      <td>31.000000</td>\n",
       "      <td>7.000000</td>\n",
       "      <td>13.000000</td>\n",
       "      <td>57.000000</td>\n",
       "      <td>37.000000</td>\n",
       "      <td>1012.90000</td>\n",
       "      <td>1010.400000</td>\n",
       "      <td>1.000000</td>\n",
       "      <td>2.000000</td>\n",
       "      <td>12.300000</td>\n",
       "      <td>16.60000</td>\n",
       "    </tr>\n",
       "    <tr>\n",
       "      <th>50%</th>\n",
       "      <td>12.000000</td>\n",
       "      <td>22.600000</td>\n",
       "      <td>0.000000</td>\n",
       "      <td>4.800000</td>\n",
       "      <td>8.400000</td>\n",
       "      <td>39.000000</td>\n",
       "      <td>13.000000</td>\n",
       "      <td>19.000000</td>\n",
       "      <td>70.000000</td>\n",
       "      <td>52.000000</td>\n",
       "      <td>1017.60000</td>\n",
       "      <td>1015.200000</td>\n",
       "      <td>5.000000</td>\n",
       "      <td>5.000000</td>\n",
       "      <td>16.700000</td>\n",
       "      <td>21.10000</td>\n",
       "    </tr>\n",
       "    <tr>\n",
       "      <th>75%</th>\n",
       "      <td>16.900000</td>\n",
       "      <td>28.200000</td>\n",
       "      <td>0.800000</td>\n",
       "      <td>7.400000</td>\n",
       "      <td>10.600000</td>\n",
       "      <td>48.000000</td>\n",
       "      <td>19.000000</td>\n",
       "      <td>24.000000</td>\n",
       "      <td>83.000000</td>\n",
       "      <td>66.000000</td>\n",
       "      <td>1022.40000</td>\n",
       "      <td>1020.000000</td>\n",
       "      <td>7.000000</td>\n",
       "      <td>7.000000</td>\n",
       "      <td>21.600000</td>\n",
       "      <td>26.40000</td>\n",
       "    </tr>\n",
       "    <tr>\n",
       "      <th>max</th>\n",
       "      <td>33.900000</td>\n",
       "      <td>48.100000</td>\n",
       "      <td>371.000000</td>\n",
       "      <td>145.000000</td>\n",
       "      <td>14.500000</td>\n",
       "      <td>135.000000</td>\n",
       "      <td>130.000000</td>\n",
       "      <td>87.000000</td>\n",
       "      <td>100.000000</td>\n",
       "      <td>100.000000</td>\n",
       "      <td>1041.00000</td>\n",
       "      <td>1039.600000</td>\n",
       "      <td>9.000000</td>\n",
       "      <td>9.000000</td>\n",
       "      <td>40.200000</td>\n",
       "      <td>46.70000</td>\n",
       "    </tr>\n",
       "  </tbody>\n",
       "</table>\n",
       "</div>"
      ],
      "text/plain": [
       "             MinTemp        MaxTemp       Rainfall   Evaporation  \\\n",
       "count  143975.000000  144199.000000  142199.000000  82670.000000   \n",
       "mean       12.194034      23.221348       2.360918      5.468232   \n",
       "std         6.398495       7.119049       8.478060      4.193704   \n",
       "min        -8.500000      -4.800000       0.000000      0.000000   \n",
       "25%         7.600000      17.900000       0.000000      2.600000   \n",
       "50%        12.000000      22.600000       0.000000      4.800000   \n",
       "75%        16.900000      28.200000       0.800000      7.400000   \n",
       "max        33.900000      48.100000     371.000000    145.000000   \n",
       "\n",
       "           Sunshine  WindGustSpeed   WindSpeed9am   WindSpeed3pm  \\\n",
       "count  75625.000000  135197.000000  143693.000000  142398.000000   \n",
       "mean       7.611178      40.035230      14.043426      18.662657   \n",
       "std        3.785483      13.607062       8.915375       8.809800   \n",
       "min        0.000000       6.000000       0.000000       0.000000   \n",
       "25%        4.800000      31.000000       7.000000      13.000000   \n",
       "50%        8.400000      39.000000      13.000000      19.000000   \n",
       "75%       10.600000      48.000000      19.000000      24.000000   \n",
       "max       14.500000     135.000000     130.000000      87.000000   \n",
       "\n",
       "         Humidity9am    Humidity3pm   Pressure9am    Pressure3pm  \\\n",
       "count  142806.000000  140953.000000  130395.00000  130432.000000   \n",
       "mean       68.880831      51.539116    1017.64994    1015.255889   \n",
       "std        19.029164      20.795902       7.10653       7.037414   \n",
       "min         0.000000       0.000000     980.50000     977.100000   \n",
       "25%        57.000000      37.000000    1012.90000    1010.400000   \n",
       "50%        70.000000      52.000000    1017.60000    1015.200000   \n",
       "75%        83.000000      66.000000    1022.40000    1020.000000   \n",
       "max       100.000000     100.000000    1041.00000    1039.600000   \n",
       "\n",
       "           Cloud9am      Cloud3pm        Temp9am       Temp3pm  \n",
       "count  89572.000000  86102.000000  143693.000000  141851.00000  \n",
       "mean       4.447461      4.509930      16.990631      21.68339  \n",
       "std        2.887159      2.720357       6.488753       6.93665  \n",
       "min        0.000000      0.000000      -7.200000      -5.40000  \n",
       "25%        1.000000      2.000000      12.300000      16.60000  \n",
       "50%        5.000000      5.000000      16.700000      21.10000  \n",
       "75%        7.000000      7.000000      21.600000      26.40000  \n",
       "max        9.000000      9.000000      40.200000      46.70000  "
      ]
     },
     "execution_count": 4,
     "metadata": {},
     "output_type": "execute_result"
    }
   ],
   "source": [
    "data.describe()"
   ]
  },
  {
   "cell_type": "code",
   "execution_count": 5,
   "metadata": {},
   "outputs": [
    {
     "name": "stdout",
     "output_type": "stream",
     "text": [
      "<class 'pandas.core.frame.DataFrame'>\n",
      "RangeIndex: 145460 entries, 0 to 145459\n",
      "Data columns (total 23 columns):\n",
      " #   Column         Non-Null Count   Dtype  \n",
      "---  ------         --------------   -----  \n",
      " 0   Date           145460 non-null  object \n",
      " 1   Location       145460 non-null  object \n",
      " 2   MinTemp        143975 non-null  float64\n",
      " 3   MaxTemp        144199 non-null  float64\n",
      " 4   Rainfall       142199 non-null  float64\n",
      " 5   Evaporation    82670 non-null   float64\n",
      " 6   Sunshine       75625 non-null   float64\n",
      " 7   WindGustDir    135134 non-null  object \n",
      " 8   WindGustSpeed  135197 non-null  float64\n",
      " 9   WindDir9am     134894 non-null  object \n",
      " 10  WindDir3pm     141232 non-null  object \n",
      " 11  WindSpeed9am   143693 non-null  float64\n",
      " 12  WindSpeed3pm   142398 non-null  float64\n",
      " 13  Humidity9am    142806 non-null  float64\n",
      " 14  Humidity3pm    140953 non-null  float64\n",
      " 15  Pressure9am    130395 non-null  float64\n",
      " 16  Pressure3pm    130432 non-null  float64\n",
      " 17  Cloud9am       89572 non-null   float64\n",
      " 18  Cloud3pm       86102 non-null   float64\n",
      " 19  Temp9am        143693 non-null  float64\n",
      " 20  Temp3pm        141851 non-null  float64\n",
      " 21  RainToday      142199 non-null  object \n",
      " 22  RainTomorrow   142193 non-null  object \n",
      "dtypes: float64(16), object(7)\n",
      "memory usage: 25.5+ MB\n"
     ]
    }
   ],
   "source": [
    "data.info()"
   ]
  },
  {
   "cell_type": "code",
   "execution_count": 6,
   "metadata": {
    "scrolled": true
   },
   "outputs": [
    {
     "data": {
      "text/plain": [
       "49"
      ]
     },
     "execution_count": 6,
     "metadata": {},
     "output_type": "execute_result"
    }
   ],
   "source": [
    "len(data['Location'].unique())"
   ]
  },
  {
   "cell_type": "code",
   "execution_count": 253,
   "metadata": {},
   "outputs": [
    {
     "data": {
      "text/html": [
       "<div>\n",
       "<style scoped>\n",
       "    .dataframe tbody tr th:only-of-type {\n",
       "        vertical-align: middle;\n",
       "    }\n",
       "\n",
       "    .dataframe tbody tr th {\n",
       "        vertical-align: top;\n",
       "    }\n",
       "\n",
       "    .dataframe thead th {\n",
       "        text-align: right;\n",
       "    }\n",
       "</style>\n",
       "<table border=\"1\" class=\"dataframe\">\n",
       "  <thead>\n",
       "    <tr style=\"text-align: right;\">\n",
       "      <th></th>\n",
       "      <th>MinTemp</th>\n",
       "      <th>MaxTemp</th>\n",
       "      <th>Rainfall</th>\n",
       "      <th>Evaporation</th>\n",
       "      <th>Sunshine</th>\n",
       "      <th>WindGustDir</th>\n",
       "      <th>WindGustSpeed</th>\n",
       "      <th>WindDir9am</th>\n",
       "      <th>WindDir3pm</th>\n",
       "      <th>WindSpeed9am</th>\n",
       "      <th>...</th>\n",
       "      <th>Humidity9am</th>\n",
       "      <th>Humidity3pm</th>\n",
       "      <th>Pressure9am</th>\n",
       "      <th>Pressure3pm</th>\n",
       "      <th>Cloud9am</th>\n",
       "      <th>Cloud3pm</th>\n",
       "      <th>Temp9am</th>\n",
       "      <th>Temp3pm</th>\n",
       "      <th>RainToday</th>\n",
       "      <th>RainTomorrow</th>\n",
       "    </tr>\n",
       "  </thead>\n",
       "  <tbody>\n",
       "    <tr>\n",
       "      <th>MinTemp</th>\n",
       "      <td>1.000000</td>\n",
       "      <td>0.734422</td>\n",
       "      <td>0.103769</td>\n",
       "      <td>0.359833</td>\n",
       "      <td>0.052565</td>\n",
       "      <td>-0.074868</td>\n",
       "      <td>0.174101</td>\n",
       "      <td>-0.041724</td>\n",
       "      <td>-0.071806</td>\n",
       "      <td>0.174920</td>\n",
       "      <td>...</td>\n",
       "      <td>-0.232794</td>\n",
       "      <td>0.005692</td>\n",
       "      <td>-0.424932</td>\n",
       "      <td>-0.434879</td>\n",
       "      <td>0.060918</td>\n",
       "      <td>0.015436</td>\n",
       "      <td>0.898936</td>\n",
       "      <td>0.700177</td>\n",
       "      <td>0.056113</td>\n",
       "      <td>0.084192</td>\n",
       "    </tr>\n",
       "    <tr>\n",
       "      <th>MaxTemp</th>\n",
       "      <td>0.734422</td>\n",
       "      <td>1.000000</td>\n",
       "      <td>-0.074608</td>\n",
       "      <td>0.450375</td>\n",
       "      <td>0.333009</td>\n",
       "      <td>-0.113756</td>\n",
       "      <td>0.067058</td>\n",
       "      <td>-0.107794</td>\n",
       "      <td>-0.067234</td>\n",
       "      <td>0.014386</td>\n",
       "      <td>...</td>\n",
       "      <td>-0.501359</td>\n",
       "      <td>-0.500617</td>\n",
       "      <td>-0.309172</td>\n",
       "      <td>-0.397830</td>\n",
       "      <td>-0.228132</td>\n",
       "      <td>-0.215538</td>\n",
       "      <td>0.881734</td>\n",
       "      <td>0.970326</td>\n",
       "      <td>-0.228645</td>\n",
       "      <td>-0.159258</td>\n",
       "    </tr>\n",
       "    <tr>\n",
       "      <th>Rainfall</th>\n",
       "      <td>0.103769</td>\n",
       "      <td>-0.074608</td>\n",
       "      <td>1.000000</td>\n",
       "      <td>-0.040869</td>\n",
       "      <td>-0.173480</td>\n",
       "      <td>0.014238</td>\n",
       "      <td>0.127987</td>\n",
       "      <td>0.028465</td>\n",
       "      <td>0.011852</td>\n",
       "      <td>0.086404</td>\n",
       "      <td>...</td>\n",
       "      <td>0.222188</td>\n",
       "      <td>0.250717</td>\n",
       "      <td>-0.160456</td>\n",
       "      <td>-0.120992</td>\n",
       "      <td>0.171879</td>\n",
       "      <td>0.146295</td>\n",
       "      <td>0.011428</td>\n",
       "      <td>-0.077929</td>\n",
       "      <td>0.500997</td>\n",
       "      <td>0.239099</td>\n",
       "    </tr>\n",
       "    <tr>\n",
       "      <th>Evaporation</th>\n",
       "      <td>0.359833</td>\n",
       "      <td>0.450375</td>\n",
       "      <td>-0.040869</td>\n",
       "      <td>1.000000</td>\n",
       "      <td>0.295200</td>\n",
       "      <td>-0.046771</td>\n",
       "      <td>0.150127</td>\n",
       "      <td>-0.056160</td>\n",
       "      <td>-0.020882</td>\n",
       "      <td>0.143551</td>\n",
       "      <td>...</td>\n",
       "      <td>-0.384486</td>\n",
       "      <td>-0.295497</td>\n",
       "      <td>-0.215705</td>\n",
       "      <td>-0.235582</td>\n",
       "      <td>-0.155229</td>\n",
       "      <td>-0.150523</td>\n",
       "      <td>0.424252</td>\n",
       "      <td>0.436737</td>\n",
       "      <td>-0.144731</td>\n",
       "      <td>-0.091276</td>\n",
       "    </tr>\n",
       "    <tr>\n",
       "      <th>Sunshine</th>\n",
       "      <td>0.052565</td>\n",
       "      <td>0.333009</td>\n",
       "      <td>-0.173480</td>\n",
       "      <td>0.295200</td>\n",
       "      <td>1.000000</td>\n",
       "      <td>-0.060663</td>\n",
       "      <td>-0.021928</td>\n",
       "      <td>-0.078307</td>\n",
       "      <td>-0.025063</td>\n",
       "      <td>0.006898</td>\n",
       "      <td>...</td>\n",
       "      <td>-0.353699</td>\n",
       "      <td>-0.448553</td>\n",
       "      <td>0.030967</td>\n",
       "      <td>-0.015471</td>\n",
       "      <td>-0.539570</td>\n",
       "      <td>-0.561617</td>\n",
       "      <td>0.211020</td>\n",
       "      <td>0.350636</td>\n",
       "      <td>-0.240516</td>\n",
       "      <td>-0.328785</td>\n",
       "    </tr>\n",
       "    <tr>\n",
       "      <th>WindGustDir</th>\n",
       "      <td>-0.074868</td>\n",
       "      <td>-0.113756</td>\n",
       "      <td>0.014238</td>\n",
       "      <td>-0.046771</td>\n",
       "      <td>-0.060663</td>\n",
       "      <td>1.000000</td>\n",
       "      <td>0.046261</td>\n",
       "      <td>0.198389</td>\n",
       "      <td>0.252872</td>\n",
       "      <td>-0.011700</td>\n",
       "      <td>...</td>\n",
       "      <td>0.059529</td>\n",
       "      <td>0.065061</td>\n",
       "      <td>-0.057751</td>\n",
       "      <td>-0.028896</td>\n",
       "      <td>0.046709</td>\n",
       "      <td>0.051615</td>\n",
       "      <td>-0.096227</td>\n",
       "      <td>-0.119846</td>\n",
       "      <td>0.048794</td>\n",
       "      <td>0.047176</td>\n",
       "    </tr>\n",
       "    <tr>\n",
       "      <th>WindGustSpeed</th>\n",
       "      <td>0.174101</td>\n",
       "      <td>0.067058</td>\n",
       "      <td>0.127987</td>\n",
       "      <td>0.150127</td>\n",
       "      <td>-0.021928</td>\n",
       "      <td>0.046261</td>\n",
       "      <td>1.000000</td>\n",
       "      <td>0.040533</td>\n",
       "      <td>0.058179</td>\n",
       "      <td>0.578109</td>\n",
       "      <td>...</td>\n",
       "      <td>-0.209061</td>\n",
       "      <td>-0.025655</td>\n",
       "      <td>-0.426810</td>\n",
       "      <td>-0.384843</td>\n",
       "      <td>0.052275</td>\n",
       "      <td>0.080458</td>\n",
       "      <td>0.147215</td>\n",
       "      <td>0.032717</td>\n",
       "      <td>0.149817</td>\n",
       "      <td>0.225658</td>\n",
       "    </tr>\n",
       "    <tr>\n",
       "      <th>WindDir9am</th>\n",
       "      <td>-0.041724</td>\n",
       "      <td>-0.107794</td>\n",
       "      <td>0.028465</td>\n",
       "      <td>-0.056160</td>\n",
       "      <td>-0.078307</td>\n",
       "      <td>0.198389</td>\n",
       "      <td>0.040533</td>\n",
       "      <td>1.000000</td>\n",
       "      <td>0.122355</td>\n",
       "      <td>-0.029325</td>\n",
       "      <td>...</td>\n",
       "      <td>0.082513</td>\n",
       "      <td>0.094204</td>\n",
       "      <td>-0.044037</td>\n",
       "      <td>-0.013829</td>\n",
       "      <td>0.061100</td>\n",
       "      <td>0.057742</td>\n",
       "      <td>-0.071749</td>\n",
       "      <td>-0.116460</td>\n",
       "      <td>0.065440</td>\n",
       "      <td>0.048751</td>\n",
       "    </tr>\n",
       "    <tr>\n",
       "      <th>WindDir3pm</th>\n",
       "      <td>-0.071806</td>\n",
       "      <td>-0.067234</td>\n",
       "      <td>0.011852</td>\n",
       "      <td>-0.020882</td>\n",
       "      <td>-0.025063</td>\n",
       "      <td>0.252872</td>\n",
       "      <td>0.058179</td>\n",
       "      <td>0.122355</td>\n",
       "      <td>1.000000</td>\n",
       "      <td>0.005715</td>\n",
       "      <td>...</td>\n",
       "      <td>0.017717</td>\n",
       "      <td>0.005490</td>\n",
       "      <td>-0.062146</td>\n",
       "      <td>-0.041407</td>\n",
       "      <td>0.021767</td>\n",
       "      <td>0.030149</td>\n",
       "      <td>-0.073524</td>\n",
       "      <td>-0.070239</td>\n",
       "      <td>0.031813</td>\n",
       "      <td>0.031697</td>\n",
       "    </tr>\n",
       "    <tr>\n",
       "      <th>WindSpeed9am</th>\n",
       "      <td>0.174920</td>\n",
       "      <td>0.014386</td>\n",
       "      <td>0.086404</td>\n",
       "      <td>0.143551</td>\n",
       "      <td>0.006898</td>\n",
       "      <td>-0.011700</td>\n",
       "      <td>0.578109</td>\n",
       "      <td>-0.029325</td>\n",
       "      <td>0.005715</td>\n",
       "      <td>1.000000</td>\n",
       "      <td>...</td>\n",
       "      <td>-0.268846</td>\n",
       "      <td>-0.031046</td>\n",
       "      <td>-0.214801</td>\n",
       "      <td>-0.164689</td>\n",
       "      <td>0.018702</td>\n",
       "      <td>0.040713</td>\n",
       "      <td>0.128620</td>\n",
       "      <td>0.004789</td>\n",
       "      <td>0.101869</td>\n",
       "      <td>0.089472</td>\n",
       "    </tr>\n",
       "    <tr>\n",
       "      <th>WindSpeed3pm</th>\n",
       "      <td>0.174389</td>\n",
       "      <td>0.050793</td>\n",
       "      <td>0.057011</td>\n",
       "      <td>0.096073</td>\n",
       "      <td>0.040238</td>\n",
       "      <td>0.051420</td>\n",
       "      <td>0.658989</td>\n",
       "      <td>0.053011</td>\n",
       "      <td>0.035943</td>\n",
       "      <td>0.513469</td>\n",
       "      <td>...</td>\n",
       "      <td>-0.144405</td>\n",
       "      <td>0.015891</td>\n",
       "      <td>-0.277259</td>\n",
       "      <td>-0.239745</td>\n",
       "      <td>0.040862</td>\n",
       "      <td>0.019262</td>\n",
       "      <td>0.162662</td>\n",
       "      <td>0.028741</td>\n",
       "      <td>0.079244</td>\n",
       "      <td>0.085926</td>\n",
       "    </tr>\n",
       "    <tr>\n",
       "      <th>Humidity9am</th>\n",
       "      <td>-0.232794</td>\n",
       "      <td>-0.501359</td>\n",
       "      <td>0.222188</td>\n",
       "      <td>-0.384486</td>\n",
       "      <td>-0.353699</td>\n",
       "      <td>0.059529</td>\n",
       "      <td>-0.209061</td>\n",
       "      <td>0.082513</td>\n",
       "      <td>0.017717</td>\n",
       "      <td>-0.268846</td>\n",
       "      <td>...</td>\n",
       "      <td>1.000000</td>\n",
       "      <td>0.660917</td>\n",
       "      <td>0.131050</td>\n",
       "      <td>0.175836</td>\n",
       "      <td>0.355143</td>\n",
       "      <td>0.275368</td>\n",
       "      <td>-0.471583</td>\n",
       "      <td>-0.493745</td>\n",
       "      <td>0.351033</td>\n",
       "      <td>0.256050</td>\n",
       "    </tr>\n",
       "    <tr>\n",
       "      <th>Humidity3pm</th>\n",
       "      <td>0.005692</td>\n",
       "      <td>-0.500617</td>\n",
       "      <td>0.250717</td>\n",
       "      <td>-0.295497</td>\n",
       "      <td>-0.448553</td>\n",
       "      <td>0.065061</td>\n",
       "      <td>-0.025655</td>\n",
       "      <td>0.094204</td>\n",
       "      <td>0.005490</td>\n",
       "      <td>-0.031046</td>\n",
       "      <td>...</td>\n",
       "      <td>0.660917</td>\n",
       "      <td>1.000000</td>\n",
       "      <td>-0.026457</td>\n",
       "      <td>0.047998</td>\n",
       "      <td>0.401162</td>\n",
       "      <td>0.408619</td>\n",
       "      <td>-0.218413</td>\n",
       "      <td>-0.556320</td>\n",
       "      <td>0.373539</td>\n",
       "      <td>0.441535</td>\n",
       "    </tr>\n",
       "    <tr>\n",
       "      <th>Pressure9am</th>\n",
       "      <td>-0.424932</td>\n",
       "      <td>-0.309172</td>\n",
       "      <td>-0.160456</td>\n",
       "      <td>-0.215705</td>\n",
       "      <td>0.030967</td>\n",
       "      <td>-0.057751</td>\n",
       "      <td>-0.426810</td>\n",
       "      <td>-0.044037</td>\n",
       "      <td>-0.062146</td>\n",
       "      <td>-0.214801</td>\n",
       "      <td>...</td>\n",
       "      <td>0.131050</td>\n",
       "      <td>-0.026457</td>\n",
       "      <td>1.000000</td>\n",
       "      <td>0.960051</td>\n",
       "      <td>-0.102425</td>\n",
       "      <td>-0.115574</td>\n",
       "      <td>-0.397734</td>\n",
       "      <td>-0.266237</td>\n",
       "      <td>-0.180376</td>\n",
       "      <td>-0.235948</td>\n",
       "    </tr>\n",
       "    <tr>\n",
       "      <th>Pressure3pm</th>\n",
       "      <td>-0.434879</td>\n",
       "      <td>-0.397830</td>\n",
       "      <td>-0.120992</td>\n",
       "      <td>-0.235582</td>\n",
       "      <td>-0.015471</td>\n",
       "      <td>-0.028896</td>\n",
       "      <td>-0.384843</td>\n",
       "      <td>-0.013829</td>\n",
       "      <td>-0.041407</td>\n",
       "      <td>-0.164689</td>\n",
       "      <td>...</td>\n",
       "      <td>0.175836</td>\n",
       "      <td>0.047998</td>\n",
       "      <td>0.960051</td>\n",
       "      <td>1.000000</td>\n",
       "      <td>-0.048403</td>\n",
       "      <td>-0.066879</td>\n",
       "      <td>-0.442368</td>\n",
       "      <td>-0.361513</td>\n",
       "      <td>-0.101021</td>\n",
       "      <td>-0.216819</td>\n",
       "    </tr>\n",
       "    <tr>\n",
       "      <th>Cloud9am</th>\n",
       "      <td>0.060918</td>\n",
       "      <td>-0.228132</td>\n",
       "      <td>0.171879</td>\n",
       "      <td>-0.155229</td>\n",
       "      <td>-0.539570</td>\n",
       "      <td>0.046709</td>\n",
       "      <td>0.052275</td>\n",
       "      <td>0.061100</td>\n",
       "      <td>0.021767</td>\n",
       "      <td>0.018702</td>\n",
       "      <td>...</td>\n",
       "      <td>0.355143</td>\n",
       "      <td>0.401162</td>\n",
       "      <td>-0.102425</td>\n",
       "      <td>-0.048403</td>\n",
       "      <td>1.000000</td>\n",
       "      <td>0.562283</td>\n",
       "      <td>-0.110910</td>\n",
       "      <td>-0.234308</td>\n",
       "      <td>0.246809</td>\n",
       "      <td>0.254200</td>\n",
       "    </tr>\n",
       "    <tr>\n",
       "      <th>Cloud3pm</th>\n",
       "      <td>0.015436</td>\n",
       "      <td>-0.215538</td>\n",
       "      <td>0.146295</td>\n",
       "      <td>-0.150523</td>\n",
       "      <td>-0.561617</td>\n",
       "      <td>0.051615</td>\n",
       "      <td>0.080458</td>\n",
       "      <td>0.057742</td>\n",
       "      <td>0.030149</td>\n",
       "      <td>0.040713</td>\n",
       "      <td>...</td>\n",
       "      <td>0.275368</td>\n",
       "      <td>0.408619</td>\n",
       "      <td>-0.115574</td>\n",
       "      <td>-0.066879</td>\n",
       "      <td>0.562283</td>\n",
       "      <td>1.000000</td>\n",
       "      <td>-0.100641</td>\n",
       "      <td>-0.249237</td>\n",
       "      <td>0.215431</td>\n",
       "      <td>0.303366</td>\n",
       "    </tr>\n",
       "    <tr>\n",
       "      <th>Temp9am</th>\n",
       "      <td>0.898936</td>\n",
       "      <td>0.881734</td>\n",
       "      <td>0.011428</td>\n",
       "      <td>0.424252</td>\n",
       "      <td>0.211020</td>\n",
       "      <td>-0.096227</td>\n",
       "      <td>0.147215</td>\n",
       "      <td>-0.071749</td>\n",
       "      <td>-0.073524</td>\n",
       "      <td>0.128620</td>\n",
       "      <td>...</td>\n",
       "      <td>-0.471583</td>\n",
       "      <td>-0.218413</td>\n",
       "      <td>-0.397734</td>\n",
       "      <td>-0.442368</td>\n",
       "      <td>-0.110910</td>\n",
       "      <td>-0.100641</td>\n",
       "      <td>1.000000</td>\n",
       "      <td>0.847990</td>\n",
       "      <td>-0.096284</td>\n",
       "      <td>-0.025361</td>\n",
       "    </tr>\n",
       "    <tr>\n",
       "      <th>Temp3pm</th>\n",
       "      <td>0.700177</td>\n",
       "      <td>0.970326</td>\n",
       "      <td>-0.077929</td>\n",
       "      <td>0.436737</td>\n",
       "      <td>0.350636</td>\n",
       "      <td>-0.119846</td>\n",
       "      <td>0.032717</td>\n",
       "      <td>-0.116460</td>\n",
       "      <td>-0.070239</td>\n",
       "      <td>0.004789</td>\n",
       "      <td>...</td>\n",
       "      <td>-0.493745</td>\n",
       "      <td>-0.556320</td>\n",
       "      <td>-0.266237</td>\n",
       "      <td>-0.361513</td>\n",
       "      <td>-0.234308</td>\n",
       "      <td>-0.249237</td>\n",
       "      <td>0.847990</td>\n",
       "      <td>1.000000</td>\n",
       "      <td>-0.232484</td>\n",
       "      <td>-0.190692</td>\n",
       "    </tr>\n",
       "    <tr>\n",
       "      <th>RainToday</th>\n",
       "      <td>0.056113</td>\n",
       "      <td>-0.228645</td>\n",
       "      <td>0.500997</td>\n",
       "      <td>-0.144731</td>\n",
       "      <td>-0.240516</td>\n",
       "      <td>0.048794</td>\n",
       "      <td>0.149817</td>\n",
       "      <td>0.065440</td>\n",
       "      <td>0.031813</td>\n",
       "      <td>0.101869</td>\n",
       "      <td>...</td>\n",
       "      <td>0.351033</td>\n",
       "      <td>0.373539</td>\n",
       "      <td>-0.180376</td>\n",
       "      <td>-0.101021</td>\n",
       "      <td>0.246809</td>\n",
       "      <td>0.215431</td>\n",
       "      <td>-0.096284</td>\n",
       "      <td>-0.232484</td>\n",
       "      <td>1.000000</td>\n",
       "      <td>0.313126</td>\n",
       "    </tr>\n",
       "    <tr>\n",
       "      <th>RainTomorrow</th>\n",
       "      <td>0.084192</td>\n",
       "      <td>-0.159258</td>\n",
       "      <td>0.239099</td>\n",
       "      <td>-0.091276</td>\n",
       "      <td>-0.328785</td>\n",
       "      <td>0.047176</td>\n",
       "      <td>0.225658</td>\n",
       "      <td>0.048751</td>\n",
       "      <td>0.031697</td>\n",
       "      <td>0.089472</td>\n",
       "      <td>...</td>\n",
       "      <td>0.256050</td>\n",
       "      <td>0.441535</td>\n",
       "      <td>-0.235948</td>\n",
       "      <td>-0.216819</td>\n",
       "      <td>0.254200</td>\n",
       "      <td>0.303366</td>\n",
       "      <td>-0.025361</td>\n",
       "      <td>-0.190692</td>\n",
       "      <td>0.313126</td>\n",
       "      <td>1.000000</td>\n",
       "    </tr>\n",
       "  </tbody>\n",
       "</table>\n",
       "<p>21 rows × 21 columns</p>\n",
       "</div>"
      ],
      "text/plain": [
       "                MinTemp   MaxTemp  Rainfall  Evaporation  Sunshine  \\\n",
       "MinTemp        1.000000  0.734422  0.103769     0.359833  0.052565   \n",
       "MaxTemp        0.734422  1.000000 -0.074608     0.450375  0.333009   \n",
       "Rainfall       0.103769 -0.074608  1.000000    -0.040869 -0.173480   \n",
       "Evaporation    0.359833  0.450375 -0.040869     1.000000  0.295200   \n",
       "Sunshine       0.052565  0.333009 -0.173480     0.295200  1.000000   \n",
       "WindGustDir   -0.074868 -0.113756  0.014238    -0.046771 -0.060663   \n",
       "WindGustSpeed  0.174101  0.067058  0.127987     0.150127 -0.021928   \n",
       "WindDir9am    -0.041724 -0.107794  0.028465    -0.056160 -0.078307   \n",
       "WindDir3pm    -0.071806 -0.067234  0.011852    -0.020882 -0.025063   \n",
       "WindSpeed9am   0.174920  0.014386  0.086404     0.143551  0.006898   \n",
       "WindSpeed3pm   0.174389  0.050793  0.057011     0.096073  0.040238   \n",
       "Humidity9am   -0.232794 -0.501359  0.222188    -0.384486 -0.353699   \n",
       "Humidity3pm    0.005692 -0.500617  0.250717    -0.295497 -0.448553   \n",
       "Pressure9am   -0.424932 -0.309172 -0.160456    -0.215705  0.030967   \n",
       "Pressure3pm   -0.434879 -0.397830 -0.120992    -0.235582 -0.015471   \n",
       "Cloud9am       0.060918 -0.228132  0.171879    -0.155229 -0.539570   \n",
       "Cloud3pm       0.015436 -0.215538  0.146295    -0.150523 -0.561617   \n",
       "Temp9am        0.898936  0.881734  0.011428     0.424252  0.211020   \n",
       "Temp3pm        0.700177  0.970326 -0.077929     0.436737  0.350636   \n",
       "RainToday      0.056113 -0.228645  0.500997    -0.144731 -0.240516   \n",
       "RainTomorrow   0.084192 -0.159258  0.239099    -0.091276 -0.328785   \n",
       "\n",
       "               WindGustDir  WindGustSpeed  WindDir9am  WindDir3pm  \\\n",
       "MinTemp          -0.074868       0.174101   -0.041724   -0.071806   \n",
       "MaxTemp          -0.113756       0.067058   -0.107794   -0.067234   \n",
       "Rainfall          0.014238       0.127987    0.028465    0.011852   \n",
       "Evaporation      -0.046771       0.150127   -0.056160   -0.020882   \n",
       "Sunshine         -0.060663      -0.021928   -0.078307   -0.025063   \n",
       "WindGustDir       1.000000       0.046261    0.198389    0.252872   \n",
       "WindGustSpeed     0.046261       1.000000    0.040533    0.058179   \n",
       "WindDir9am        0.198389       0.040533    1.000000    0.122355   \n",
       "WindDir3pm        0.252872       0.058179    0.122355    1.000000   \n",
       "WindSpeed9am     -0.011700       0.578109   -0.029325    0.005715   \n",
       "WindSpeed3pm      0.051420       0.658989    0.053011    0.035943   \n",
       "Humidity9am       0.059529      -0.209061    0.082513    0.017717   \n",
       "Humidity3pm       0.065061      -0.025655    0.094204    0.005490   \n",
       "Pressure9am      -0.057751      -0.426810   -0.044037   -0.062146   \n",
       "Pressure3pm      -0.028896      -0.384843   -0.013829   -0.041407   \n",
       "Cloud9am          0.046709       0.052275    0.061100    0.021767   \n",
       "Cloud3pm          0.051615       0.080458    0.057742    0.030149   \n",
       "Temp9am          -0.096227       0.147215   -0.071749   -0.073524   \n",
       "Temp3pm          -0.119846       0.032717   -0.116460   -0.070239   \n",
       "RainToday         0.048794       0.149817    0.065440    0.031813   \n",
       "RainTomorrow      0.047176       0.225658    0.048751    0.031697   \n",
       "\n",
       "               WindSpeed9am  ...  Humidity9am  Humidity3pm  Pressure9am  \\\n",
       "MinTemp            0.174920  ...    -0.232794     0.005692    -0.424932   \n",
       "MaxTemp            0.014386  ...    -0.501359    -0.500617    -0.309172   \n",
       "Rainfall           0.086404  ...     0.222188     0.250717    -0.160456   \n",
       "Evaporation        0.143551  ...    -0.384486    -0.295497    -0.215705   \n",
       "Sunshine           0.006898  ...    -0.353699    -0.448553     0.030967   \n",
       "WindGustDir       -0.011700  ...     0.059529     0.065061    -0.057751   \n",
       "WindGustSpeed      0.578109  ...    -0.209061    -0.025655    -0.426810   \n",
       "WindDir9am        -0.029325  ...     0.082513     0.094204    -0.044037   \n",
       "WindDir3pm         0.005715  ...     0.017717     0.005490    -0.062146   \n",
       "WindSpeed9am       1.000000  ...    -0.268846    -0.031046    -0.214801   \n",
       "WindSpeed3pm       0.513469  ...    -0.144405     0.015891    -0.277259   \n",
       "Humidity9am       -0.268846  ...     1.000000     0.660917     0.131050   \n",
       "Humidity3pm       -0.031046  ...     0.660917     1.000000    -0.026457   \n",
       "Pressure9am       -0.214801  ...     0.131050    -0.026457     1.000000   \n",
       "Pressure3pm       -0.164689  ...     0.175836     0.047998     0.960051   \n",
       "Cloud9am           0.018702  ...     0.355143     0.401162    -0.102425   \n",
       "Cloud3pm           0.040713  ...     0.275368     0.408619    -0.115574   \n",
       "Temp9am            0.128620  ...    -0.471583    -0.218413    -0.397734   \n",
       "Temp3pm            0.004789  ...    -0.493745    -0.556320    -0.266237   \n",
       "RainToday          0.101869  ...     0.351033     0.373539    -0.180376   \n",
       "RainTomorrow       0.089472  ...     0.256050     0.441535    -0.235948   \n",
       "\n",
       "               Pressure3pm  Cloud9am  Cloud3pm   Temp9am   Temp3pm  RainToday  \\\n",
       "MinTemp          -0.434879  0.060918  0.015436  0.898936  0.700177   0.056113   \n",
       "MaxTemp          -0.397830 -0.228132 -0.215538  0.881734  0.970326  -0.228645   \n",
       "Rainfall         -0.120992  0.171879  0.146295  0.011428 -0.077929   0.500997   \n",
       "Evaporation      -0.235582 -0.155229 -0.150523  0.424252  0.436737  -0.144731   \n",
       "Sunshine         -0.015471 -0.539570 -0.561617  0.211020  0.350636  -0.240516   \n",
       "WindGustDir      -0.028896  0.046709  0.051615 -0.096227 -0.119846   0.048794   \n",
       "WindGustSpeed    -0.384843  0.052275  0.080458  0.147215  0.032717   0.149817   \n",
       "WindDir9am       -0.013829  0.061100  0.057742 -0.071749 -0.116460   0.065440   \n",
       "WindDir3pm       -0.041407  0.021767  0.030149 -0.073524 -0.070239   0.031813   \n",
       "WindSpeed9am     -0.164689  0.018702  0.040713  0.128620  0.004789   0.101869   \n",
       "WindSpeed3pm     -0.239745  0.040862  0.019262  0.162662  0.028741   0.079244   \n",
       "Humidity9am       0.175836  0.355143  0.275368 -0.471583 -0.493745   0.351033   \n",
       "Humidity3pm       0.047998  0.401162  0.408619 -0.218413 -0.556320   0.373539   \n",
       "Pressure9am       0.960051 -0.102425 -0.115574 -0.397734 -0.266237  -0.180376   \n",
       "Pressure3pm       1.000000 -0.048403 -0.066879 -0.442368 -0.361513  -0.101021   \n",
       "Cloud9am         -0.048403  1.000000  0.562283 -0.110910 -0.234308   0.246809   \n",
       "Cloud3pm         -0.066879  0.562283  1.000000 -0.100641 -0.249237   0.215431   \n",
       "Temp9am          -0.442368 -0.110910 -0.100641  1.000000  0.847990  -0.096284   \n",
       "Temp3pm          -0.361513 -0.234308 -0.249237  0.847990  1.000000  -0.232484   \n",
       "RainToday        -0.101021  0.246809  0.215431 -0.096284 -0.232484   1.000000   \n",
       "RainTomorrow     -0.216819  0.254200  0.303366 -0.025361 -0.190692   0.313126   \n",
       "\n",
       "               RainTomorrow  \n",
       "MinTemp            0.084192  \n",
       "MaxTemp           -0.159258  \n",
       "Rainfall           0.239099  \n",
       "Evaporation       -0.091276  \n",
       "Sunshine          -0.328785  \n",
       "WindGustDir        0.047176  \n",
       "WindGustSpeed      0.225658  \n",
       "WindDir9am         0.048751  \n",
       "WindDir3pm         0.031697  \n",
       "WindSpeed9am       0.089472  \n",
       "WindSpeed3pm       0.085926  \n",
       "Humidity9am        0.256050  \n",
       "Humidity3pm        0.441535  \n",
       "Pressure9am       -0.235948  \n",
       "Pressure3pm       -0.216819  \n",
       "Cloud9am           0.254200  \n",
       "Cloud3pm           0.303366  \n",
       "Temp9am           -0.025361  \n",
       "Temp3pm           -0.190692  \n",
       "RainToday          0.313126  \n",
       "RainTomorrow       1.000000  \n",
       "\n",
       "[21 rows x 21 columns]"
      ]
     },
     "execution_count": 253,
     "metadata": {},
     "output_type": "execute_result"
    }
   ],
   "source": [
    "data.corr()"
   ]
  },
  {
   "cell_type": "code",
   "execution_count": 7,
   "metadata": {},
   "outputs": [
    {
     "name": "stdout",
     "output_type": "stream",
     "text": [
      "5.468231522922464\n",
      "4.8\n"
     ]
    }
   ],
   "source": [
    "print(data['Evaporation'].mean())\n",
    "print(data['Evaporation'].median())"
   ]
  },
  {
   "cell_type": "code",
   "execution_count": 8,
   "metadata": {},
   "outputs": [
    {
     "name": "stdout",
     "output_type": "stream",
     "text": [
      "Int64Index([42358], dtype='int64')\n",
      "42358    145.0\n",
      "Name: Evaporation, dtype: float64\n",
      "Int64Index([8831], dtype='int64')\n",
      "8831    86.2\n",
      "Name: Evaporation, dtype: float64\n",
      "Int64Index([106968], dtype='int64')\n",
      "106968    82.4\n",
      "Name: Evaporation, dtype: float64\n",
      "Int64Index([105935], dtype='int64')\n",
      "105935    81.2\n",
      "Name: Evaporation, dtype: float64\n",
      "Int64Index([107290], dtype='int64')\n",
      "107290    77.3\n",
      "Name: Evaporation, dtype: float64\n",
      "Int64Index([23954], dtype='int64')\n",
      "23954    74.8\n",
      "Name: Evaporation, dtype: float64\n"
     ]
    }
   ],
   "source": [
    "for x in range(6):\n",
    "    y= data[data['Evaporation'] == data['Evaporation'].quantile(1)][\"Evaporation\"]\n",
    "    index = data[data['Evaporation'] == data['Evaporation'].quantile(1)].index\n",
    "    print(index)\n",
    "    print(y)\n",
    "    data.drop([index[0]], axis=0, inplace=True )\n",
    "   \n",
    "    "
   ]
  },
  {
   "cell_type": "code",
   "execution_count": 9,
   "metadata": {},
   "outputs": [],
   "source": [
    "data['Evaporation'].fillna(data[\"Evaporation\"].mean(), inplace=True)"
   ]
  },
  {
   "cell_type": "code",
   "execution_count": 10,
   "metadata": {
    "scrolled": true
   },
   "outputs": [
    {
     "data": {
      "text/plain": [
       "(array([9.1830e+03, 1.4126e+04, 1.4608e+04, 7.4561e+04, 1.2015e+04,\n",
       "        8.2130e+03, 4.3240e+03, 3.0650e+03, 2.0280e+03, 1.2220e+03,\n",
       "        6.9300e+02, 4.2000e+02, 2.2400e+02, 2.1500e+02, 7.6000e+01,\n",
       "        7.8000e+01, 7.1000e+01, 4.1000e+01, 3.6000e+01, 3.0000e+01,\n",
       "        1.6000e+01, 2.7000e+01, 2.0000e+01, 2.2000e+01, 1.6000e+01,\n",
       "        1.3000e+01, 1.4000e+01, 9.0000e+00, 7.0000e+00, 1.0000e+01,\n",
       "        9.0000e+00, 2.0000e+00, 7.0000e+00, 6.0000e+00, 3.0000e+00,\n",
       "        3.0000e+00, 1.0000e+00, 4.0000e+00, 9.0000e+00, 4.0000e+00,\n",
       "        4.0000e+00, 4.0000e+00, 2.0000e+00, 1.0000e+00, 4.0000e+00,\n",
       "        2.0000e+00, 1.0000e+00, 2.0000e+00, 2.0000e+00, 1.0000e+00]),\n",
       " array([ 0.   ,  1.444,  2.888,  4.332,  5.776,  7.22 ,  8.664, 10.108,\n",
       "        11.552, 12.996, 14.44 , 15.884, 17.328, 18.772, 20.216, 21.66 ,\n",
       "        23.104, 24.548, 25.992, 27.436, 28.88 , 30.324, 31.768, 33.212,\n",
       "        34.656, 36.1  , 37.544, 38.988, 40.432, 41.876, 43.32 , 44.764,\n",
       "        46.208, 47.652, 49.096, 50.54 , 51.984, 53.428, 54.872, 56.316,\n",
       "        57.76 , 59.204, 60.648, 62.092, 63.536, 64.98 , 66.424, 67.868,\n",
       "        69.312, 70.756, 72.2  ]),\n",
       " <a list of 50 Patch objects>)"
      ]
     },
     "execution_count": 10,
     "metadata": {},
     "output_type": "execute_result"
    },
    {
     "data": {
      "image/png": "[encoded data removed]",
      "text/plain": [
       "<Figure size 864x360 with 1 Axes>"
      ]
     },
     "metadata": {
      "needs_background": "light"
     },
     "output_type": "display_data"
    }
   ],
   "source": [
    "plt.figure(figsize=(12,5))\n",
    "plt.hist(x=data['Evaporation'], bins=50)"
   ]
  },
  {
   "cell_type": "code",
   "execution_count": 11,
   "metadata": {},
   "outputs": [
    {
     "data": {
      "text/plain": [
       "12.193713229931232"
      ]
     },
     "execution_count": 11,
     "metadata": {},
     "output_type": "execute_result"
    }
   ],
   "source": [
    "data.MinTemp.mean()"
   ]
  },
  {
   "cell_type": "code",
   "execution_count": 12,
   "metadata": {},
   "outputs": [
    {
     "data": {
      "text/plain": [
       "12.0"
      ]
     },
     "execution_count": 12,
     "metadata": {},
     "output_type": "execute_result"
    }
   ],
   "source": [
    "data.MinTemp.median()"
   ]
  },
  {
   "cell_type": "code",
   "execution_count": 13,
   "metadata": {},
   "outputs": [
    {
     "data": {
      "text/plain": [
       "0    11.0\n",
       "dtype: float64"
      ]
     },
     "execution_count": 13,
     "metadata": {},
     "output_type": "execute_result"
    }
   ],
   "source": [
    "data.MinTemp.mode()"
   ]
  },
  {
   "cell_type": "code",
   "execution_count": 14,
   "metadata": {},
   "outputs": [
    {
     "data": {
      "text/plain": [
       "33.9"
      ]
     },
     "execution_count": 14,
     "metadata": {},
     "output_type": "execute_result"
    }
   ],
   "source": [
    "max(data.MinTemp)"
   ]
  },
  {
   "cell_type": "code",
   "execution_count": 15,
   "metadata": {},
   "outputs": [
    {
     "data": {
      "text/plain": [
       "-8.5"
      ]
     },
     "execution_count": 15,
     "metadata": {},
     "output_type": "execute_result"
    }
   ],
   "source": [
    "min(data.MinTemp)"
   ]
  },
  {
   "cell_type": "code",
   "execution_count": 16,
   "metadata": {},
   "outputs": [
    {
     "data": {
      "text/plain": [
       "1485"
      ]
     },
     "execution_count": 16,
     "metadata": {},
     "output_type": "execute_result"
    }
   ],
   "source": [
    "data.MinTemp.isnull().sum()"
   ]
  },
  {
   "cell_type": "code",
   "execution_count": 17,
   "metadata": {},
   "outputs": [],
   "source": [
    "data.MinTemp.fillna(data.MinTemp.mean(), axis=0, inplace=True)"
   ]
  },
  {
   "cell_type": "code",
   "execution_count": 18,
   "metadata": {},
   "outputs": [
    {
     "data": {
      "text/plain": [
       "0"
      ]
     },
     "execution_count": 18,
     "metadata": {},
     "output_type": "execute_result"
    }
   ],
   "source": [
    "data.MinTemp.isnull().sum()"
   ]
  },
  {
   "cell_type": "code",
   "execution_count": 19,
   "metadata": {},
   "outputs": [
    {
     "data": {
      "text/plain": [
       "1261"
      ]
     },
     "execution_count": 19,
     "metadata": {},
     "output_type": "execute_result"
    }
   ],
   "source": [
    "data.MaxTemp.isnull().sum()"
   ]
  },
  {
   "cell_type": "code",
   "execution_count": 20,
   "metadata": {},
   "outputs": [
    {
     "data": {
      "text/plain": [
       "0         0\n",
       "1         0\n",
       "2         0\n",
       "3         0\n",
       "4         0\n",
       "         ..\n",
       "145455    1\n",
       "145456    0\n",
       "145457    0\n",
       "145458    0\n",
       "145459    0\n",
       "Name: WindGustDir, Length: 145454, dtype: uint8"
      ]
     },
     "execution_count": 20,
     "metadata": {},
     "output_type": "execute_result"
    }
   ],
   "source": [
    "data.WindGustDir = pd.get_dummies(data.WindGustDir)\n",
    "data.WindGustDir"
   ]
  },
  {
   "cell_type": "code",
   "execution_count": 21,
   "metadata": {},
   "outputs": [
    {
     "data": {
      "text/plain": [
       "array([0, 1], dtype=uint8)"
      ]
     },
     "execution_count": 21,
     "metadata": {},
     "output_type": "execute_result"
    }
   ],
   "source": [
    "data.WindDir9am = pd.get_dummies(data.WindDir9am)\n",
    "data.WindDir9am.unique()"
   ]
  },
  {
   "cell_type": "code",
   "execution_count": 22,
   "metadata": {},
   "outputs": [
    {
     "data": {
      "text/plain": [
       "0         0\n",
       "1         0\n",
       "2         0\n",
       "3         1\n",
       "4         0\n",
       "         ..\n",
       "145455    0\n",
       "145456    0\n",
       "145457    0\n",
       "145458    0\n",
       "145459    0\n",
       "Name: WindDir3pm, Length: 145454, dtype: uint8"
      ]
     },
     "execution_count": 22,
     "metadata": {},
     "output_type": "execute_result"
    }
   ],
   "source": [
    "data.WindDir3pm = pd.get_dummies(data.WindDir3pm)\n",
    "data.WindDir3pm"
   ]
  },
  {
   "cell_type": "markdown",
   "metadata": {},
   "source": [
    "## Filling missing values for MaxTemp Column\n"
   ]
  },
  {
   "cell_type": "code",
   "execution_count": 23,
   "metadata": {},
   "outputs": [
    {
     "data": {
      "text/plain": [
       "23.220930974457993"
      ]
     },
     "execution_count": 23,
     "metadata": {},
     "output_type": "execute_result"
    }
   ],
   "source": [
    "data.MaxTemp.mean()"
   ]
  },
  {
   "cell_type": "code",
   "execution_count": 24,
   "metadata": {},
   "outputs": [
    {
     "data": {
      "text/plain": [
       "22.6"
      ]
     },
     "execution_count": 24,
     "metadata": {},
     "output_type": "execute_result"
    }
   ],
   "source": [
    "data.MaxTemp.median()"
   ]
  },
  {
   "cell_type": "code",
   "execution_count": 25,
   "metadata": {},
   "outputs": [
    {
     "data": {
      "text/plain": [
       "0    20.0\n",
       "dtype: float64"
      ]
     },
     "execution_count": 25,
     "metadata": {},
     "output_type": "execute_result"
    }
   ],
   "source": [
    "data.MaxTemp.mode()"
   ]
  },
  {
   "cell_type": "code",
   "execution_count": 26,
   "metadata": {},
   "outputs": [
    {
     "data": {
      "text/plain": [
       "48.1"
      ]
     },
     "execution_count": 26,
     "metadata": {},
     "output_type": "execute_result"
    }
   ],
   "source": [
    "max(data.MaxTemp)"
   ]
  },
  {
   "cell_type": "code",
   "execution_count": 27,
   "metadata": {},
   "outputs": [
    {
     "data": {
      "text/plain": [
       "-4.8"
      ]
     },
     "execution_count": 27,
     "metadata": {},
     "output_type": "execute_result"
    }
   ],
   "source": [
    "min(data.MaxTemp)"
   ]
  },
  {
   "cell_type": "code",
   "execution_count": 28,
   "metadata": {},
   "outputs": [],
   "source": [
    "data.MaxTemp.fillna(data.MaxTemp.mean(), axis=0, inplace=True)"
   ]
  },
  {
   "cell_type": "code",
   "execution_count": 29,
   "metadata": {},
   "outputs": [
    {
     "data": {
      "text/plain": [
       "0"
      ]
     },
     "execution_count": 29,
     "metadata": {},
     "output_type": "execute_result"
    }
   ],
   "source": [
    "data.MaxTemp.isnull().sum()"
   ]
  },
  {
   "cell_type": "code",
   "execution_count": 30,
   "metadata": {},
   "outputs": [
    {
     "data": {
      "text/html": [
       "<div>\n",
       "<style scoped>\n",
       "    .dataframe tbody tr th:only-of-type {\n",
       "        vertical-align: middle;\n",
       "    }\n",
       "\n",
       "    .dataframe tbody tr th {\n",
       "        vertical-align: top;\n",
       "    }\n",
       "\n",
       "    .dataframe thead th {\n",
       "        text-align: right;\n",
       "    }\n",
       "</style>\n",
       "<table border=\"1\" class=\"dataframe\">\n",
       "  <thead>\n",
       "    <tr style=\"text-align: right;\">\n",
       "      <th></th>\n",
       "      <th>Date</th>\n",
       "      <th>Location</th>\n",
       "      <th>MinTemp</th>\n",
       "      <th>MaxTemp</th>\n",
       "      <th>Rainfall</th>\n",
       "      <th>Evaporation</th>\n",
       "      <th>Sunshine</th>\n",
       "      <th>WindGustDir</th>\n",
       "      <th>WindGustSpeed</th>\n",
       "      <th>WindDir9am</th>\n",
       "      <th>...</th>\n",
       "      <th>Humidity9am</th>\n",
       "      <th>Humidity3pm</th>\n",
       "      <th>Pressure9am</th>\n",
       "      <th>Pressure3pm</th>\n",
       "      <th>Cloud9am</th>\n",
       "      <th>Cloud3pm</th>\n",
       "      <th>Temp9am</th>\n",
       "      <th>Temp3pm</th>\n",
       "      <th>RainToday</th>\n",
       "      <th>RainTomorrow</th>\n",
       "    </tr>\n",
       "  </thead>\n",
       "  <tbody>\n",
       "    <tr>\n",
       "      <th>0</th>\n",
       "      <td>2008-12-01</td>\n",
       "      <td>Albury</td>\n",
       "      <td>13.4</td>\n",
       "      <td>22.9</td>\n",
       "      <td>0.6</td>\n",
       "      <td>5.462012</td>\n",
       "      <td>NaN</td>\n",
       "      <td>0</td>\n",
       "      <td>44.0</td>\n",
       "      <td>0</td>\n",
       "      <td>...</td>\n",
       "      <td>71.0</td>\n",
       "      <td>22.0</td>\n",
       "      <td>1007.7</td>\n",
       "      <td>1007.1</td>\n",
       "      <td>8.0</td>\n",
       "      <td>NaN</td>\n",
       "      <td>16.9</td>\n",
       "      <td>21.8</td>\n",
       "      <td>No</td>\n",
       "      <td>No</td>\n",
       "    </tr>\n",
       "    <tr>\n",
       "      <th>1</th>\n",
       "      <td>2008-12-02</td>\n",
       "      <td>Albury</td>\n",
       "      <td>7.4</td>\n",
       "      <td>25.1</td>\n",
       "      <td>0.0</td>\n",
       "      <td>5.462012</td>\n",
       "      <td>NaN</td>\n",
       "      <td>0</td>\n",
       "      <td>44.0</td>\n",
       "      <td>0</td>\n",
       "      <td>...</td>\n",
       "      <td>44.0</td>\n",
       "      <td>25.0</td>\n",
       "      <td>1010.6</td>\n",
       "      <td>1007.8</td>\n",
       "      <td>NaN</td>\n",
       "      <td>NaN</td>\n",
       "      <td>17.2</td>\n",
       "      <td>24.3</td>\n",
       "      <td>No</td>\n",
       "      <td>No</td>\n",
       "    </tr>\n",
       "    <tr>\n",
       "      <th>2</th>\n",
       "      <td>2008-12-03</td>\n",
       "      <td>Albury</td>\n",
       "      <td>12.9</td>\n",
       "      <td>25.7</td>\n",
       "      <td>0.0</td>\n",
       "      <td>5.462012</td>\n",
       "      <td>NaN</td>\n",
       "      <td>0</td>\n",
       "      <td>46.0</td>\n",
       "      <td>0</td>\n",
       "      <td>...</td>\n",
       "      <td>38.0</td>\n",
       "      <td>30.0</td>\n",
       "      <td>1007.6</td>\n",
       "      <td>1008.7</td>\n",
       "      <td>NaN</td>\n",
       "      <td>2.0</td>\n",
       "      <td>21.0</td>\n",
       "      <td>23.2</td>\n",
       "      <td>No</td>\n",
       "      <td>No</td>\n",
       "    </tr>\n",
       "    <tr>\n",
       "      <th>3</th>\n",
       "      <td>2008-12-04</td>\n",
       "      <td>Albury</td>\n",
       "      <td>9.2</td>\n",
       "      <td>28.0</td>\n",
       "      <td>0.0</td>\n",
       "      <td>5.462012</td>\n",
       "      <td>NaN</td>\n",
       "      <td>0</td>\n",
       "      <td>24.0</td>\n",
       "      <td>0</td>\n",
       "      <td>...</td>\n",
       "      <td>45.0</td>\n",
       "      <td>16.0</td>\n",
       "      <td>1017.6</td>\n",
       "      <td>1012.8</td>\n",
       "      <td>NaN</td>\n",
       "      <td>NaN</td>\n",
       "      <td>18.1</td>\n",
       "      <td>26.5</td>\n",
       "      <td>No</td>\n",
       "      <td>No</td>\n",
       "    </tr>\n",
       "    <tr>\n",
       "      <th>4</th>\n",
       "      <td>2008-12-05</td>\n",
       "      <td>Albury</td>\n",
       "      <td>17.5</td>\n",
       "      <td>32.3</td>\n",
       "      <td>1.0</td>\n",
       "      <td>5.462012</td>\n",
       "      <td>NaN</td>\n",
       "      <td>0</td>\n",
       "      <td>41.0</td>\n",
       "      <td>0</td>\n",
       "      <td>...</td>\n",
       "      <td>82.0</td>\n",
       "      <td>33.0</td>\n",
       "      <td>1010.8</td>\n",
       "      <td>1006.0</td>\n",
       "      <td>7.0</td>\n",
       "      <td>8.0</td>\n",
       "      <td>17.8</td>\n",
       "      <td>29.7</td>\n",
       "      <td>No</td>\n",
       "      <td>No</td>\n",
       "    </tr>\n",
       "  </tbody>\n",
       "</table>\n",
       "<p>5 rows × 23 columns</p>\n",
       "</div>"
      ],
      "text/plain": [
       "         Date Location  MinTemp  MaxTemp  Rainfall  Evaporation  Sunshine  \\\n",
       "0  2008-12-01   Albury     13.4     22.9       0.6     5.462012       NaN   \n",
       "1  2008-12-02   Albury      7.4     25.1       0.0     5.462012       NaN   \n",
       "2  2008-12-03   Albury     12.9     25.7       0.0     5.462012       NaN   \n",
       "3  2008-12-04   Albury      9.2     28.0       0.0     5.462012       NaN   \n",
       "4  2008-12-05   Albury     17.5     32.3       1.0     5.462012       NaN   \n",
       "\n",
       "   WindGustDir  WindGustSpeed  WindDir9am  ...  Humidity9am  Humidity3pm  \\\n",
       "0            0           44.0           0  ...         71.0         22.0   \n",
       "1            0           44.0           0  ...         44.0         25.0   \n",
       "2            0           46.0           0  ...         38.0         30.0   \n",
       "3            0           24.0           0  ...         45.0         16.0   \n",
       "4            0           41.0           0  ...         82.0         33.0   \n",
       "\n",
       "   Pressure9am  Pressure3pm  Cloud9am  Cloud3pm  Temp9am  Temp3pm  RainToday  \\\n",
       "0       1007.7       1007.1       8.0       NaN     16.9     21.8         No   \n",
       "1       1010.6       1007.8       NaN       NaN     17.2     24.3         No   \n",
       "2       1007.6       1008.7       NaN       2.0     21.0     23.2         No   \n",
       "3       1017.6       1012.8       NaN       NaN     18.1     26.5         No   \n",
       "4       1010.8       1006.0       7.0       8.0     17.8     29.7         No   \n",
       "\n",
       "   RainTomorrow  \n",
       "0            No  \n",
       "1            No  \n",
       "2            No  \n",
       "3            No  \n",
       "4            No  \n",
       "\n",
       "[5 rows x 23 columns]"
      ]
     },
     "execution_count": 30,
     "metadata": {},
     "output_type": "execute_result"
    }
   ],
   "source": [
    "data.head()"
   ]
  },
  {
   "cell_type": "markdown",
   "metadata": {},
   "source": [
    "## Treating mising values for Rainfall column"
   ]
  },
  {
   "cell_type": "code",
   "execution_count": 31,
   "metadata": {},
   "outputs": [
    {
     "data": {
      "text/plain": [
       "3261"
      ]
     },
     "execution_count": 31,
     "metadata": {},
     "output_type": "execute_result"
    }
   ],
   "source": [
    "data.Rainfall.isnull().sum()"
   ]
  },
  {
   "cell_type": "code",
   "execution_count": 32,
   "metadata": {},
   "outputs": [
    {
     "data": {
      "text/plain": [
       "2.360587370686687"
      ]
     },
     "execution_count": 32,
     "metadata": {},
     "output_type": "execute_result"
    }
   ],
   "source": [
    "data.Rainfall.mean()"
   ]
  },
  {
   "cell_type": "code",
   "execution_count": 33,
   "metadata": {},
   "outputs": [
    {
     "data": {
      "text/plain": [
       "0.0"
      ]
     },
     "execution_count": 33,
     "metadata": {},
     "output_type": "execute_result"
    }
   ],
   "source": [
    "data.Rainfall.median()"
   ]
  },
  {
   "cell_type": "code",
   "execution_count": 34,
   "metadata": {},
   "outputs": [
    {
     "data": {
      "text/plain": [
       "0    0.0\n",
       "dtype: float64"
      ]
     },
     "execution_count": 34,
     "metadata": {},
     "output_type": "execute_result"
    }
   ],
   "source": [
    "data.Rainfall.mode()"
   ]
  },
  {
   "cell_type": "code",
   "execution_count": 35,
   "metadata": {},
   "outputs": [],
   "source": [
    "data.Rainfall.fillna(data.Rainfall.mean(), axis=0, inplace=True)"
   ]
  },
  {
   "cell_type": "code",
   "execution_count": 36,
   "metadata": {},
   "outputs": [
    {
     "data": {
      "text/plain": [
       "0"
      ]
     },
     "execution_count": 36,
     "metadata": {},
     "output_type": "execute_result"
    }
   ],
   "source": [
    "data.Rainfall.isnull().sum()"
   ]
  },
  {
   "cell_type": "code",
   "execution_count": 37,
   "metadata": {},
   "outputs": [
    {
     "data": {
      "text/plain": [
       "Date                 0\n",
       "Location             0\n",
       "MinTemp              0\n",
       "MaxTemp              0\n",
       "Rainfall             0\n",
       "Evaporation          0\n",
       "Sunshine         69830\n",
       "WindGustDir          0\n",
       "WindGustSpeed    10262\n",
       "WindDir9am           0\n",
       "WindDir3pm           0\n",
       "WindSpeed9am      1766\n",
       "WindSpeed3pm      3062\n",
       "Humidity9am       2653\n",
       "Humidity3pm       4506\n",
       "Pressure9am      15065\n",
       "Pressure3pm      15028\n",
       "Cloud9am         55887\n",
       "Cloud3pm         59357\n",
       "Temp9am           1767\n",
       "Temp3pm           3609\n",
       "RainToday         3261\n",
       "RainTomorrow      3267\n",
       "dtype: int64"
      ]
     },
     "execution_count": 37,
     "metadata": {},
     "output_type": "execute_result"
    }
   ],
   "source": [
    "data.isnull().sum()"
   ]
  },
  {
   "cell_type": "code",
   "execution_count": 38,
   "metadata": {},
   "outputs": [
    {
     "name": "stdout",
     "output_type": "stream",
     "text": [
      "<class 'pandas.core.frame.DataFrame'>\n",
      "Int64Index: 145454 entries, 0 to 145459\n",
      "Data columns (total 23 columns):\n",
      " #   Column         Non-Null Count   Dtype  \n",
      "---  ------         --------------   -----  \n",
      " 0   Date           145454 non-null  object \n",
      " 1   Location       145454 non-null  object \n",
      " 2   MinTemp        145454 non-null  float64\n",
      " 3   MaxTemp        145454 non-null  float64\n",
      " 4   Rainfall       145454 non-null  float64\n",
      " 5   Evaporation    145454 non-null  float64\n",
      " 6   Sunshine       75624 non-null   float64\n",
      " 7   WindGustDir    145454 non-null  uint8  \n",
      " 8   WindGustSpeed  135192 non-null  float64\n",
      " 9   WindDir9am     145454 non-null  uint8  \n",
      " 10  WindDir3pm     145454 non-null  uint8  \n",
      " 11  WindSpeed9am   143688 non-null  float64\n",
      " 12  WindSpeed3pm   142392 non-null  float64\n",
      " 13  Humidity9am    142801 non-null  float64\n",
      " 14  Humidity3pm    140948 non-null  float64\n",
      " 15  Pressure9am    130389 non-null  float64\n",
      " 16  Pressure3pm    130426 non-null  float64\n",
      " 17  Cloud9am       89567 non-null   float64\n",
      " 18  Cloud3pm       86097 non-null   float64\n",
      " 19  Temp9am        143687 non-null  float64\n",
      " 20  Temp3pm        141845 non-null  float64\n",
      " 21  RainToday      142193 non-null  object \n",
      " 22  RainTomorrow   142187 non-null  object \n",
      "dtypes: float64(16), object(4), uint8(3)\n",
      "memory usage: 23.7+ MB\n"
     ]
    }
   ],
   "source": [
    "data.info()"
   ]
  },
  {
   "cell_type": "markdown",
   "metadata": {},
   "source": [
    "## Treating Missing Values for Evaporation column\n"
   ]
  },
  {
   "cell_type": "code",
   "execution_count": 39,
   "metadata": {},
   "outputs": [
    {
     "data": {
      "text/plain": [
       "0"
      ]
     },
     "execution_count": 39,
     "metadata": {},
     "output_type": "execute_result"
    }
   ],
   "source": [
    "data.Evaporation.isnull().sum()"
   ]
  },
  {
   "cell_type": "code",
   "execution_count": 40,
   "metadata": {},
   "outputs": [
    {
     "data": {
      "text/plain": [
       "5.462012484277576"
      ]
     },
     "execution_count": 40,
     "metadata": {},
     "output_type": "execute_result"
    }
   ],
   "source": [
    "data.Evaporation.mean()"
   ]
  },
  {
   "cell_type": "code",
   "execution_count": 41,
   "metadata": {},
   "outputs": [
    {
     "data": {
      "text/plain": [
       "5.462012484273686"
      ]
     },
     "execution_count": 41,
     "metadata": {},
     "output_type": "execute_result"
    }
   ],
   "source": [
    "data.Evaporation.median()"
   ]
  },
  {
   "cell_type": "code",
   "execution_count": 42,
   "metadata": {},
   "outputs": [
    {
     "data": {
      "text/plain": [
       "0    5.462012\n",
       "dtype: float64"
      ]
     },
     "execution_count": 42,
     "metadata": {},
     "output_type": "execute_result"
    }
   ],
   "source": [
    "data.Evaporation.mode()"
   ]
  },
  {
   "cell_type": "code",
   "execution_count": 43,
   "metadata": {},
   "outputs": [
    {
     "data": {
      "text/plain": [
       "72.2"
      ]
     },
     "execution_count": 43,
     "metadata": {},
     "output_type": "execute_result"
    }
   ],
   "source": [
    "max(data.Evaporation)"
   ]
  },
  {
   "cell_type": "code",
   "execution_count": 44,
   "metadata": {},
   "outputs": [
    {
     "data": {
      "text/plain": [
       "0.0"
      ]
     },
     "execution_count": 44,
     "metadata": {},
     "output_type": "execute_result"
    }
   ],
   "source": [
    "min(data.Evaporation)"
   ]
  },
  {
   "cell_type": "code",
   "execution_count": 45,
   "metadata": {},
   "outputs": [],
   "source": [
    "data.Evaporation.fillna(data.Evaporation.mean(), axis=0, inplace = True)"
   ]
  },
  {
   "cell_type": "code",
   "execution_count": 46,
   "metadata": {},
   "outputs": [
    {
     "data": {
      "text/plain": [
       "0"
      ]
     },
     "execution_count": 46,
     "metadata": {},
     "output_type": "execute_result"
    }
   ],
   "source": [
    "data.Evaporation.isnull().sum()"
   ]
  },
  {
   "cell_type": "code",
   "execution_count": 47,
   "metadata": {},
   "outputs": [
    {
     "name": "stdout",
     "output_type": "stream",
     "text": [
      "<class 'pandas.core.frame.DataFrame'>\n",
      "Int64Index: 145454 entries, 0 to 145459\n",
      "Data columns (total 23 columns):\n",
      " #   Column         Non-Null Count   Dtype  \n",
      "---  ------         --------------   -----  \n",
      " 0   Date           145454 non-null  object \n",
      " 1   Location       145454 non-null  object \n",
      " 2   MinTemp        145454 non-null  float64\n",
      " 3   MaxTemp        145454 non-null  float64\n",
      " 4   Rainfall       145454 non-null  float64\n",
      " 5   Evaporation    145454 non-null  float64\n",
      " 6   Sunshine       75624 non-null   float64\n",
      " 7   WindGustDir    145454 non-null  uint8  \n",
      " 8   WindGustSpeed  135192 non-null  float64\n",
      " 9   WindDir9am     145454 non-null  uint8  \n",
      " 10  WindDir3pm     145454 non-null  uint8  \n",
      " 11  WindSpeed9am   143688 non-null  float64\n",
      " 12  WindSpeed3pm   142392 non-null  float64\n",
      " 13  Humidity9am    142801 non-null  float64\n",
      " 14  Humidity3pm    140948 non-null  float64\n",
      " 15  Pressure9am    130389 non-null  float64\n",
      " 16  Pressure3pm    130426 non-null  float64\n",
      " 17  Cloud9am       89567 non-null   float64\n",
      " 18  Cloud3pm       86097 non-null   float64\n",
      " 19  Temp9am        143687 non-null  float64\n",
      " 20  Temp3pm        141845 non-null  float64\n",
      " 21  RainToday      142193 non-null  object \n",
      " 22  RainTomorrow   142187 non-null  object \n",
      "dtypes: float64(16), object(4), uint8(3)\n",
      "memory usage: 23.7+ MB\n"
     ]
    }
   ],
   "source": [
    "data.info()"
   ]
  },
  {
   "cell_type": "markdown",
   "metadata": {},
   "source": [
    "## Treating missing values for Sunshine column\n",
    "\n"
   ]
  },
  {
   "cell_type": "code",
   "execution_count": 48,
   "metadata": {},
   "outputs": [
    {
     "data": {
      "text/plain": [
       "69830"
      ]
     },
     "execution_count": 48,
     "metadata": {},
     "output_type": "execute_result"
    }
   ],
   "source": [
    "data.Sunshine.isnull().sum()"
   ]
  },
  {
   "cell_type": "code",
   "execution_count": 49,
   "metadata": {},
   "outputs": [
    {
     "data": {
      "text/plain": [
       "7.611103617899069"
      ]
     },
     "execution_count": 49,
     "metadata": {},
     "output_type": "execute_result"
    }
   ],
   "source": [
    "data.Sunshine.mean()"
   ]
  },
  {
   "cell_type": "code",
   "execution_count": 50,
   "metadata": {},
   "outputs": [
    {
     "data": {
      "text/plain": [
       "8.4"
      ]
     },
     "execution_count": 50,
     "metadata": {},
     "output_type": "execute_result"
    }
   ],
   "source": [
    "data.Sunshine.median()"
   ]
  },
  {
   "cell_type": "code",
   "execution_count": 51,
   "metadata": {},
   "outputs": [
    {
     "data": {
      "text/plain": [
       "0    0.0\n",
       "dtype: float64"
      ]
     },
     "execution_count": 51,
     "metadata": {},
     "output_type": "execute_result"
    }
   ],
   "source": [
    "data.Sunshine.mode()"
   ]
  },
  {
   "cell_type": "code",
   "execution_count": 52,
   "metadata": {},
   "outputs": [
    {
     "data": {
      "text/plain": [
       "nan"
      ]
     },
     "execution_count": 52,
     "metadata": {},
     "output_type": "execute_result"
    }
   ],
   "source": [
    "max(data.Sunshine)"
   ]
  },
  {
   "cell_type": "code",
   "execution_count": 53,
   "metadata": {},
   "outputs": [
    {
     "data": {
      "text/plain": [
       "nan"
      ]
     },
     "execution_count": 53,
     "metadata": {},
     "output_type": "execute_result"
    }
   ],
   "source": [
    "min(data.Sunshine)"
   ]
  },
  {
   "cell_type": "code",
   "execution_count": 54,
   "metadata": {},
   "outputs": [],
   "source": [
    "data.Sunshine.fillna(data.Sunshine.mean(), axis=0, inplace=True)"
   ]
  },
  {
   "cell_type": "code",
   "execution_count": 55,
   "metadata": {},
   "outputs": [
    {
     "data": {
      "text/plain": [
       "14.5"
      ]
     },
     "execution_count": 55,
     "metadata": {},
     "output_type": "execute_result"
    }
   ],
   "source": [
    "max(data.Sunshine)"
   ]
  },
  {
   "cell_type": "code",
   "execution_count": 56,
   "metadata": {},
   "outputs": [
    {
     "data": {
      "text/plain": [
       "0.0"
      ]
     },
     "execution_count": 56,
     "metadata": {},
     "output_type": "execute_result"
    }
   ],
   "source": [
    "min(data.Sunshine)"
   ]
  },
  {
   "cell_type": "code",
   "execution_count": 57,
   "metadata": {},
   "outputs": [
    {
     "name": "stdout",
     "output_type": "stream",
     "text": [
      "<class 'pandas.core.frame.DataFrame'>\n",
      "Int64Index: 145454 entries, 0 to 145459\n",
      "Data columns (total 23 columns):\n",
      " #   Column         Non-Null Count   Dtype  \n",
      "---  ------         --------------   -----  \n",
      " 0   Date           145454 non-null  object \n",
      " 1   Location       145454 non-null  object \n",
      " 2   MinTemp        145454 non-null  float64\n",
      " 3   MaxTemp        145454 non-null  float64\n",
      " 4   Rainfall       145454 non-null  float64\n",
      " 5   Evaporation    145454 non-null  float64\n",
      " 6   Sunshine       145454 non-null  float64\n",
      " 7   WindGustDir    145454 non-null  uint8  \n",
      " 8   WindGustSpeed  135192 non-null  float64\n",
      " 9   WindDir9am     145454 non-null  uint8  \n",
      " 10  WindDir3pm     145454 non-null  uint8  \n",
      " 11  WindSpeed9am   143688 non-null  float64\n",
      " 12  WindSpeed3pm   142392 non-null  float64\n",
      " 13  Humidity9am    142801 non-null  float64\n",
      " 14  Humidity3pm    140948 non-null  float64\n",
      " 15  Pressure9am    130389 non-null  float64\n",
      " 16  Pressure3pm    130426 non-null  float64\n",
      " 17  Cloud9am       89567 non-null   float64\n",
      " 18  Cloud3pm       86097 non-null   float64\n",
      " 19  Temp9am        143687 non-null  float64\n",
      " 20  Temp3pm        141845 non-null  float64\n",
      " 21  RainToday      142193 non-null  object \n",
      " 22  RainTomorrow   142187 non-null  object \n",
      "dtypes: float64(16), object(4), uint8(3)\n",
      "memory usage: 23.7+ MB\n"
     ]
    }
   ],
   "source": [
    "data.info()"
   ]
  },
  {
   "cell_type": "markdown",
   "metadata": {},
   "source": [
    "## Treating missing values for WindGustSpeed column "
   ]
  },
  {
   "cell_type": "code",
   "execution_count": 58,
   "metadata": {},
   "outputs": [
    {
     "data": {
      "text/plain": [
       "10262"
      ]
     },
     "execution_count": 58,
     "metadata": {},
     "output_type": "execute_result"
    }
   ],
   "source": [
    "data.WindGustSpeed.isnull().sum()"
   ]
  },
  {
   "cell_type": "code",
   "execution_count": 59,
   "metadata": {},
   "outputs": [
    {
     "data": {
      "text/plain": [
       "40.034913308479794"
      ]
     },
     "execution_count": 59,
     "metadata": {},
     "output_type": "execute_result"
    }
   ],
   "source": [
    "data.WindGustSpeed.mean()"
   ]
  },
  {
   "cell_type": "code",
   "execution_count": 60,
   "metadata": {},
   "outputs": [
    {
     "data": {
      "text/plain": [
       "39.0"
      ]
     },
     "execution_count": 60,
     "metadata": {},
     "output_type": "execute_result"
    }
   ],
   "source": [
    "data.WindGustSpeed.median()"
   ]
  },
  {
   "cell_type": "code",
   "execution_count": 61,
   "metadata": {},
   "outputs": [
    {
     "data": {
      "text/plain": [
       "0    35.0\n",
       "dtype: float64"
      ]
     },
     "execution_count": 61,
     "metadata": {},
     "output_type": "execute_result"
    }
   ],
   "source": [
    "data.WindGustSpeed.mode()"
   ]
  },
  {
   "cell_type": "code",
   "execution_count": 62,
   "metadata": {},
   "outputs": [
    {
     "data": {
      "text/plain": [
       "135.0"
      ]
     },
     "execution_count": 62,
     "metadata": {},
     "output_type": "execute_result"
    }
   ],
   "source": [
    "max(data.WindGustSpeed)"
   ]
  },
  {
   "cell_type": "code",
   "execution_count": 63,
   "metadata": {},
   "outputs": [
    {
     "data": {
      "text/plain": [
       "6.0"
      ]
     },
     "execution_count": 63,
     "metadata": {},
     "output_type": "execute_result"
    }
   ],
   "source": [
    "min(data.WindGustSpeed)"
   ]
  },
  {
   "cell_type": "code",
   "execution_count": 64,
   "metadata": {},
   "outputs": [],
   "source": [
    "data.WindGustSpeed.fillna(data.WindGustSpeed.mean(), axis = 0, inplace = True)"
   ]
  },
  {
   "cell_type": "code",
   "execution_count": 65,
   "metadata": {},
   "outputs": [
    {
     "data": {
      "text/plain": [
       "0"
      ]
     },
     "execution_count": 65,
     "metadata": {},
     "output_type": "execute_result"
    }
   ],
   "source": [
    "data.WindGustSpeed.isnull().sum()"
   ]
  },
  {
   "cell_type": "code",
   "execution_count": 66,
   "metadata": {},
   "outputs": [
    {
     "name": "stdout",
     "output_type": "stream",
     "text": [
      "<class 'pandas.core.frame.DataFrame'>\n",
      "Int64Index: 145454 entries, 0 to 145459\n",
      "Data columns (total 23 columns):\n",
      " #   Column         Non-Null Count   Dtype  \n",
      "---  ------         --------------   -----  \n",
      " 0   Date           145454 non-null  object \n",
      " 1   Location       145454 non-null  object \n",
      " 2   MinTemp        145454 non-null  float64\n",
      " 3   MaxTemp        145454 non-null  float64\n",
      " 4   Rainfall       145454 non-null  float64\n",
      " 5   Evaporation    145454 non-null  float64\n",
      " 6   Sunshine       145454 non-null  float64\n",
      " 7   WindGustDir    145454 non-null  uint8  \n",
      " 8   WindGustSpeed  145454 non-null  float64\n",
      " 9   WindDir9am     145454 non-null  uint8  \n",
      " 10  WindDir3pm     145454 non-null  uint8  \n",
      " 11  WindSpeed9am   143688 non-null  float64\n",
      " 12  WindSpeed3pm   142392 non-null  float64\n",
      " 13  Humidity9am    142801 non-null  float64\n",
      " 14  Humidity3pm    140948 non-null  float64\n",
      " 15  Pressure9am    130389 non-null  float64\n",
      " 16  Pressure3pm    130426 non-null  float64\n",
      " 17  Cloud9am       89567 non-null   float64\n",
      " 18  Cloud3pm       86097 non-null   float64\n",
      " 19  Temp9am        143687 non-null  float64\n",
      " 20  Temp3pm        141845 non-null  float64\n",
      " 21  RainToday      142193 non-null  object \n",
      " 22  RainTomorrow   142187 non-null  object \n",
      "dtypes: float64(16), object(4), uint8(3)\n",
      "memory usage: 23.7+ MB\n"
     ]
    }
   ],
   "source": [
    "data.info()"
   ]
  },
  {
   "cell_type": "markdown",
   "metadata": {},
   "source": [
    "## Treating mising values for WindSpeed9am column"
   ]
  },
  {
   "cell_type": "code",
   "execution_count": 67,
   "metadata": {},
   "outputs": [
    {
     "data": {
      "text/plain": [
       "1766"
      ]
     },
     "execution_count": 67,
     "metadata": {},
     "output_type": "execute_result"
    }
   ],
   "source": [
    "data.WindSpeed9am.isnull().sum()"
   ]
  },
  {
   "cell_type": "code",
   "execution_count": 68,
   "metadata": {},
   "outputs": [
    {
     "data": {
      "text/plain": [
       "14.043288235621624"
      ]
     },
     "execution_count": 68,
     "metadata": {},
     "output_type": "execute_result"
    }
   ],
   "source": [
    "data.WindSpeed9am.mean()"
   ]
  },
  {
   "cell_type": "code",
   "execution_count": 69,
   "metadata": {},
   "outputs": [
    {
     "data": {
      "text/plain": [
       "13.0"
      ]
     },
     "execution_count": 69,
     "metadata": {},
     "output_type": "execute_result"
    }
   ],
   "source": [
    "data.WindSpeed9am.median()"
   ]
  },
  {
   "cell_type": "code",
   "execution_count": 70,
   "metadata": {},
   "outputs": [
    {
     "data": {
      "text/plain": [
       "0    9.0\n",
       "dtype: float64"
      ]
     },
     "execution_count": 70,
     "metadata": {},
     "output_type": "execute_result"
    }
   ],
   "source": [
    "data.WindSpeed9am.mode()"
   ]
  },
  {
   "cell_type": "code",
   "execution_count": 71,
   "metadata": {},
   "outputs": [
    {
     "data": {
      "text/plain": [
       "130.0"
      ]
     },
     "execution_count": 71,
     "metadata": {},
     "output_type": "execute_result"
    }
   ],
   "source": [
    "max(data.WindSpeed9am)"
   ]
  },
  {
   "cell_type": "code",
   "execution_count": 72,
   "metadata": {},
   "outputs": [
    {
     "data": {
      "text/plain": [
       "0.0"
      ]
     },
     "execution_count": 72,
     "metadata": {},
     "output_type": "execute_result"
    }
   ],
   "source": [
    "min(data.WindSpeed9am)"
   ]
  },
  {
   "cell_type": "code",
   "execution_count": 73,
   "metadata": {},
   "outputs": [],
   "source": [
    "data.WindSpeed9am.fillna(data.WindSpeed9am.mean(), axis=0, inplace=True)"
   ]
  },
  {
   "cell_type": "code",
   "execution_count": 74,
   "metadata": {},
   "outputs": [
    {
     "name": "stdout",
     "output_type": "stream",
     "text": [
      "<class 'pandas.core.frame.DataFrame'>\n",
      "Int64Index: 145454 entries, 0 to 145459\n",
      "Data columns (total 23 columns):\n",
      " #   Column         Non-Null Count   Dtype  \n",
      "---  ------         --------------   -----  \n",
      " 0   Date           145454 non-null  object \n",
      " 1   Location       145454 non-null  object \n",
      " 2   MinTemp        145454 non-null  float64\n",
      " 3   MaxTemp        145454 non-null  float64\n",
      " 4   Rainfall       145454 non-null  float64\n",
      " 5   Evaporation    145454 non-null  float64\n",
      " 6   Sunshine       145454 non-null  float64\n",
      " 7   WindGustDir    145454 non-null  uint8  \n",
      " 8   WindGustSpeed  145454 non-null  float64\n",
      " 9   WindDir9am     145454 non-null  uint8  \n",
      " 10  WindDir3pm     145454 non-null  uint8  \n",
      " 11  WindSpeed9am   145454 non-null  float64\n",
      " 12  WindSpeed3pm   142392 non-null  float64\n",
      " 13  Humidity9am    142801 non-null  float64\n",
      " 14  Humidity3pm    140948 non-null  float64\n",
      " 15  Pressure9am    130389 non-null  float64\n",
      " 16  Pressure3pm    130426 non-null  float64\n",
      " 17  Cloud9am       89567 non-null   float64\n",
      " 18  Cloud3pm       86097 non-null   float64\n",
      " 19  Temp9am        143687 non-null  float64\n",
      " 20  Temp3pm        141845 non-null  float64\n",
      " 21  RainToday      142193 non-null  object \n",
      " 22  RainTomorrow   142187 non-null  object \n",
      "dtypes: float64(16), object(4), uint8(3)\n",
      "memory usage: 23.7+ MB\n"
     ]
    }
   ],
   "source": [
    "data.info()"
   ]
  },
  {
   "cell_type": "markdown",
   "metadata": {},
   "source": [
    "## Treating Mising values for WindSpeed3pm column"
   ]
  },
  {
   "cell_type": "code",
   "execution_count": 75,
   "metadata": {},
   "outputs": [],
   "source": [
    "data.WindSpeed3pm.fillna(data.WindSpeed3pm.mean(), axis = 0, inplace=True)"
   ]
  },
  {
   "cell_type": "code",
   "execution_count": 76,
   "metadata": {},
   "outputs": [
    {
     "name": "stdout",
     "output_type": "stream",
     "text": [
      "<class 'pandas.core.frame.DataFrame'>\n",
      "Int64Index: 145454 entries, 0 to 145459\n",
      "Data columns (total 23 columns):\n",
      " #   Column         Non-Null Count   Dtype  \n",
      "---  ------         --------------   -----  \n",
      " 0   Date           145454 non-null  object \n",
      " 1   Location       145454 non-null  object \n",
      " 2   MinTemp        145454 non-null  float64\n",
      " 3   MaxTemp        145454 non-null  float64\n",
      " 4   Rainfall       145454 non-null  float64\n",
      " 5   Evaporation    145454 non-null  float64\n",
      " 6   Sunshine       145454 non-null  float64\n",
      " 7   WindGustDir    145454 non-null  uint8  \n",
      " 8   WindGustSpeed  145454 non-null  float64\n",
      " 9   WindDir9am     145454 non-null  uint8  \n",
      " 10  WindDir3pm     145454 non-null  uint8  \n",
      " 11  WindSpeed9am   145454 non-null  float64\n",
      " 12  WindSpeed3pm   145454 non-null  float64\n",
      " 13  Humidity9am    142801 non-null  float64\n",
      " 14  Humidity3pm    140948 non-null  float64\n",
      " 15  Pressure9am    130389 non-null  float64\n",
      " 16  Pressure3pm    130426 non-null  float64\n",
      " 17  Cloud9am       89567 non-null   float64\n",
      " 18  Cloud3pm       86097 non-null   float64\n",
      " 19  Temp9am        143687 non-null  float64\n",
      " 20  Temp3pm        141845 non-null  float64\n",
      " 21  RainToday      142193 non-null  object \n",
      " 22  RainTomorrow   142187 non-null  object \n",
      "dtypes: float64(16), object(4), uint8(3)\n",
      "memory usage: 23.7+ MB\n"
     ]
    }
   ],
   "source": [
    "data.info()"
   ]
  },
  {
   "cell_type": "markdown",
   "metadata": {},
   "source": [
    "## Treating missing values for Humidity9am column"
   ]
  },
  {
   "cell_type": "code",
   "execution_count": 77,
   "metadata": {},
   "outputs": [
    {
     "data": {
      "text/plain": [
       "2653"
      ]
     },
     "execution_count": 77,
     "metadata": {},
     "output_type": "execute_result"
    }
   ],
   "source": [
    "data.Humidity9am.isnull().sum()"
   ]
  },
  {
   "cell_type": "code",
   "execution_count": 78,
   "metadata": {},
   "outputs": [],
   "source": [
    "data.Humidity9am.fillna(data.Humidity9am.mean(), axis=0, inplace = True)"
   ]
  },
  {
   "cell_type": "code",
   "execution_count": 79,
   "metadata": {},
   "outputs": [
    {
     "name": "stdout",
     "output_type": "stream",
     "text": [
      "<class 'pandas.core.frame.DataFrame'>\n",
      "Int64Index: 145454 entries, 0 to 145459\n",
      "Data columns (total 23 columns):\n",
      " #   Column         Non-Null Count   Dtype  \n",
      "---  ------         --------------   -----  \n",
      " 0   Date           145454 non-null  object \n",
      " 1   Location       145454 non-null  object \n",
      " 2   MinTemp        145454 non-null  float64\n",
      " 3   MaxTemp        145454 non-null  float64\n",
      " 4   Rainfall       145454 non-null  float64\n",
      " 5   Evaporation    145454 non-null  float64\n",
      " 6   Sunshine       145454 non-null  float64\n",
      " 7   WindGustDir    145454 non-null  uint8  \n",
      " 8   WindGustSpeed  145454 non-null  float64\n",
      " 9   WindDir9am     145454 non-null  uint8  \n",
      " 10  WindDir3pm     145454 non-null  uint8  \n",
      " 11  WindSpeed9am   145454 non-null  float64\n",
      " 12  WindSpeed3pm   145454 non-null  float64\n",
      " 13  Humidity9am    145454 non-null  float64\n",
      " 14  Humidity3pm    140948 non-null  float64\n",
      " 15  Pressure9am    130389 non-null  float64\n",
      " 16  Pressure3pm    130426 non-null  float64\n",
      " 17  Cloud9am       89567 non-null   float64\n",
      " 18  Cloud3pm       86097 non-null   float64\n",
      " 19  Temp9am        143687 non-null  float64\n",
      " 20  Temp3pm        141845 non-null  float64\n",
      " 21  RainToday      142193 non-null  object \n",
      " 22  RainTomorrow   142187 non-null  object \n",
      "dtypes: float64(16), object(4), uint8(3)\n",
      "memory usage: 23.7+ MB\n"
     ]
    }
   ],
   "source": [
    "data.info()"
   ]
  },
  {
   "cell_type": "markdown",
   "metadata": {},
   "source": [
    "## Treating missing values for Humidity3pm column\n"
   ]
  },
  {
   "cell_type": "code",
   "execution_count": 80,
   "metadata": {},
   "outputs": [],
   "source": [
    "data.Humidity3pm.fillna(data.Humidity3pm.mean(), axis=0, inplace=True)"
   ]
  },
  {
   "cell_type": "code",
   "execution_count": 81,
   "metadata": {},
   "outputs": [
    {
     "name": "stdout",
     "output_type": "stream",
     "text": [
      "<class 'pandas.core.frame.DataFrame'>\n",
      "Int64Index: 145454 entries, 0 to 145459\n",
      "Data columns (total 23 columns):\n",
      " #   Column         Non-Null Count   Dtype  \n",
      "---  ------         --------------   -----  \n",
      " 0   Date           145454 non-null  object \n",
      " 1   Location       145454 non-null  object \n",
      " 2   MinTemp        145454 non-null  float64\n",
      " 3   MaxTemp        145454 non-null  float64\n",
      " 4   Rainfall       145454 non-null  float64\n",
      " 5   Evaporation    145454 non-null  float64\n",
      " 6   Sunshine       145454 non-null  float64\n",
      " 7   WindGustDir    145454 non-null  uint8  \n",
      " 8   WindGustSpeed  145454 non-null  float64\n",
      " 9   WindDir9am     145454 non-null  uint8  \n",
      " 10  WindDir3pm     145454 non-null  uint8  \n",
      " 11  WindSpeed9am   145454 non-null  float64\n",
      " 12  WindSpeed3pm   145454 non-null  float64\n",
      " 13  Humidity9am    145454 non-null  float64\n",
      " 14  Humidity3pm    145454 non-null  float64\n",
      " 15  Pressure9am    130389 non-null  float64\n",
      " 16  Pressure3pm    130426 non-null  float64\n",
      " 17  Cloud9am       89567 non-null   float64\n",
      " 18  Cloud3pm       86097 non-null   float64\n",
      " 19  Temp9am        143687 non-null  float64\n",
      " 20  Temp3pm        141845 non-null  float64\n",
      " 21  RainToday      142193 non-null  object \n",
      " 22  RainTomorrow   142187 non-null  object \n",
      "dtypes: float64(16), object(4), uint8(3)\n",
      "memory usage: 23.7+ MB\n"
     ]
    }
   ],
   "source": [
    "data.info()"
   ]
  },
  {
   "cell_type": "markdown",
   "metadata": {},
   "source": [
    "## Treating mising values for Pressure9am column"
   ]
  },
  {
   "cell_type": "code",
   "execution_count": 82,
   "metadata": {},
   "outputs": [],
   "source": [
    "data.Pressure9am.fillna(data.Pressure9am.mean(), axis=0, inplace=True)"
   ]
  },
  {
   "cell_type": "code",
   "execution_count": 83,
   "metadata": {},
   "outputs": [
    {
     "name": "stdout",
     "output_type": "stream",
     "text": [
      "<class 'pandas.core.frame.DataFrame'>\n",
      "Int64Index: 145454 entries, 0 to 145459\n",
      "Data columns (total 23 columns):\n",
      " #   Column         Non-Null Count   Dtype  \n",
      "---  ------         --------------   -----  \n",
      " 0   Date           145454 non-null  object \n",
      " 1   Location       145454 non-null  object \n",
      " 2   MinTemp        145454 non-null  float64\n",
      " 3   MaxTemp        145454 non-null  float64\n",
      " 4   Rainfall       145454 non-null  float64\n",
      " 5   Evaporation    145454 non-null  float64\n",
      " 6   Sunshine       145454 non-null  float64\n",
      " 7   WindGustDir    145454 non-null  uint8  \n",
      " 8   WindGustSpeed  145454 non-null  float64\n",
      " 9   WindDir9am     145454 non-null  uint8  \n",
      " 10  WindDir3pm     145454 non-null  uint8  \n",
      " 11  WindSpeed9am   145454 non-null  float64\n",
      " 12  WindSpeed3pm   145454 non-null  float64\n",
      " 13  Humidity9am    145454 non-null  float64\n",
      " 14  Humidity3pm    145454 non-null  float64\n",
      " 15  Pressure9am    145454 non-null  float64\n",
      " 16  Pressure3pm    130426 non-null  float64\n",
      " 17  Cloud9am       89567 non-null   float64\n",
      " 18  Cloud3pm       86097 non-null   float64\n",
      " 19  Temp9am        143687 non-null  float64\n",
      " 20  Temp3pm        141845 non-null  float64\n",
      " 21  RainToday      142193 non-null  object \n",
      " 22  RainTomorrow   142187 non-null  object \n",
      "dtypes: float64(16), object(4), uint8(3)\n",
      "memory usage: 23.7+ MB\n"
     ]
    }
   ],
   "source": [
    "data.info()"
   ]
  },
  {
   "cell_type": "markdown",
   "metadata": {},
   "source": [
    "## Treating missing values for Pressure3pm columns\n"
   ]
  },
  {
   "cell_type": "code",
   "execution_count": 84,
   "metadata": {},
   "outputs": [],
   "source": [
    "data.Pressure3pm.fillna(data.Pressure3pm.mean(), axis=0,inplace=True)"
   ]
  },
  {
   "cell_type": "code",
   "execution_count": 85,
   "metadata": {},
   "outputs": [
    {
     "name": "stdout",
     "output_type": "stream",
     "text": [
      "<class 'pandas.core.frame.DataFrame'>\n",
      "Int64Index: 145454 entries, 0 to 145459\n",
      "Data columns (total 23 columns):\n",
      " #   Column         Non-Null Count   Dtype  \n",
      "---  ------         --------------   -----  \n",
      " 0   Date           145454 non-null  object \n",
      " 1   Location       145454 non-null  object \n",
      " 2   MinTemp        145454 non-null  float64\n",
      " 3   MaxTemp        145454 non-null  float64\n",
      " 4   Rainfall       145454 non-null  float64\n",
      " 5   Evaporation    145454 non-null  float64\n",
      " 6   Sunshine       145454 non-null  float64\n",
      " 7   WindGustDir    145454 non-null  uint8  \n",
      " 8   WindGustSpeed  145454 non-null  float64\n",
      " 9   WindDir9am     145454 non-null  uint8  \n",
      " 10  WindDir3pm     145454 non-null  uint8  \n",
      " 11  WindSpeed9am   145454 non-null  float64\n",
      " 12  WindSpeed3pm   145454 non-null  float64\n",
      " 13  Humidity9am    145454 non-null  float64\n",
      " 14  Humidity3pm    145454 non-null  float64\n",
      " 15  Pressure9am    145454 non-null  float64\n",
      " 16  Pressure3pm    145454 non-null  float64\n",
      " 17  Cloud9am       89567 non-null   float64\n",
      " 18  Cloud3pm       86097 non-null   float64\n",
      " 19  Temp9am        143687 non-null  float64\n",
      " 20  Temp3pm        141845 non-null  float64\n",
      " 21  RainToday      142193 non-null  object \n",
      " 22  RainTomorrow   142187 non-null  object \n",
      "dtypes: float64(16), object(4), uint8(3)\n",
      "memory usage: 23.7+ MB\n"
     ]
    }
   ],
   "source": [
    "data.info()"
   ]
  },
  {
   "cell_type": "markdown",
   "metadata": {},
   "source": [
    "## Treating missing values for Cloud9am column"
   ]
  },
  {
   "cell_type": "code",
   "execution_count": 86,
   "metadata": {},
   "outputs": [],
   "source": [
    "data.Cloud9am.fillna(data.Cloud9am.mean(), axis= 0, inplace=True)"
   ]
  },
  {
   "cell_type": "code",
   "execution_count": 87,
   "metadata": {},
   "outputs": [
    {
     "name": "stdout",
     "output_type": "stream",
     "text": [
      "<class 'pandas.core.frame.DataFrame'>\n",
      "Int64Index: 145454 entries, 0 to 145459\n",
      "Data columns (total 23 columns):\n",
      " #   Column         Non-Null Count   Dtype  \n",
      "---  ------         --------------   -----  \n",
      " 0   Date           145454 non-null  object \n",
      " 1   Location       145454 non-null  object \n",
      " 2   MinTemp        145454 non-null  float64\n",
      " 3   MaxTemp        145454 non-null  float64\n",
      " 4   Rainfall       145454 non-null  float64\n",
      " 5   Evaporation    145454 non-null  float64\n",
      " 6   Sunshine       145454 non-null  float64\n",
      " 7   WindGustDir    145454 non-null  uint8  \n",
      " 8   WindGustSpeed  145454 non-null  float64\n",
      " 9   WindDir9am     145454 non-null  uint8  \n",
      " 10  WindDir3pm     145454 non-null  uint8  \n",
      " 11  WindSpeed9am   145454 non-null  float64\n",
      " 12  WindSpeed3pm   145454 non-null  float64\n",
      " 13  Humidity9am    145454 non-null  float64\n",
      " 14  Humidity3pm    145454 non-null  float64\n",
      " 15  Pressure9am    145454 non-null  float64\n",
      " 16  Pressure3pm    145454 non-null  float64\n",
      " 17  Cloud9am       145454 non-null  float64\n",
      " 18  Cloud3pm       86097 non-null   float64\n",
      " 19  Temp9am        143687 non-null  float64\n",
      " 20  Temp3pm        141845 non-null  float64\n",
      " 21  RainToday      142193 non-null  object \n",
      " 22  RainTomorrow   142187 non-null  object \n",
      "dtypes: float64(16), object(4), uint8(3)\n",
      "memory usage: 23.7+ MB\n"
     ]
    }
   ],
   "source": [
    "data.info()"
   ]
  },
  {
   "cell_type": "markdown",
   "metadata": {},
   "source": [
    "## Treating missing values for Cloud3pm column"
   ]
  },
  {
   "cell_type": "code",
   "execution_count": 88,
   "metadata": {},
   "outputs": [],
   "source": [
    "data.Cloud3pm.fillna(data.Cloud3pm.mean(), axis=0, inplace=True)"
   ]
  },
  {
   "cell_type": "markdown",
   "metadata": {},
   "source": [
    "## Treating missing values for Temp9am column"
   ]
  },
  {
   "cell_type": "code",
   "execution_count": 89,
   "metadata": {},
   "outputs": [],
   "source": [
    "data.Temp9am.fillna(data.Temp9am.mean(), axis=0, inplace=True)"
   ]
  },
  {
   "cell_type": "markdown",
   "metadata": {},
   "source": [
    "## Treating missing value for Temp3pm column"
   ]
  },
  {
   "cell_type": "code",
   "execution_count": 90,
   "metadata": {},
   "outputs": [],
   "source": [
    "data.Temp3pm.fillna(data.Temp3pm.mean(), axis=0,inplace=True)"
   ]
  },
  {
   "cell_type": "code",
   "execution_count": 91,
   "metadata": {},
   "outputs": [
    {
     "name": "stdout",
     "output_type": "stream",
     "text": [
      "<class 'pandas.core.frame.DataFrame'>\n",
      "Int64Index: 145454 entries, 0 to 145459\n",
      "Data columns (total 23 columns):\n",
      " #   Column         Non-Null Count   Dtype  \n",
      "---  ------         --------------   -----  \n",
      " 0   Date           145454 non-null  object \n",
      " 1   Location       145454 non-null  object \n",
      " 2   MinTemp        145454 non-null  float64\n",
      " 3   MaxTemp        145454 non-null  float64\n",
      " 4   Rainfall       145454 non-null  float64\n",
      " 5   Evaporation    145454 non-null  float64\n",
      " 6   Sunshine       145454 non-null  float64\n",
      " 7   WindGustDir    145454 non-null  uint8  \n",
      " 8   WindGustSpeed  145454 non-null  float64\n",
      " 9   WindDir9am     145454 non-null  uint8  \n",
      " 10  WindDir3pm     145454 non-null  uint8  \n",
      " 11  WindSpeed9am   145454 non-null  float64\n",
      " 12  WindSpeed3pm   145454 non-null  float64\n",
      " 13  Humidity9am    145454 non-null  float64\n",
      " 14  Humidity3pm    145454 non-null  float64\n",
      " 15  Pressure9am    145454 non-null  float64\n",
      " 16  Pressure3pm    145454 non-null  float64\n",
      " 17  Cloud9am       145454 non-null  float64\n",
      " 18  Cloud3pm       145454 non-null  float64\n",
      " 19  Temp9am        145454 non-null  float64\n",
      " 20  Temp3pm        145454 non-null  float64\n",
      " 21  RainToday      142193 non-null  object \n",
      " 22  RainTomorrow   142187 non-null  object \n",
      "dtypes: float64(16), object(4), uint8(3)\n",
      "memory usage: 23.7+ MB\n"
     ]
    }
   ],
   "source": [
    "data.info()"
   ]
  },
  {
   "cell_type": "code",
   "execution_count": 92,
   "metadata": {},
   "outputs": [
    {
     "data": {
      "text/plain": [
       "0"
      ]
     },
     "execution_count": 92,
     "metadata": {},
     "output_type": "execute_result"
    }
   ],
   "source": [
    "data.WindGustDir.isnull().sum()"
   ]
  },
  {
   "cell_type": "code",
   "execution_count": null,
   "metadata": {},
   "outputs": [],
   "source": []
  },
  {
   "cell_type": "code",
   "execution_count": 93,
   "metadata": {},
   "outputs": [
    {
     "data": {
      "text/plain": [
       "0"
      ]
     },
     "execution_count": 93,
     "metadata": {},
     "output_type": "execute_result"
    }
   ],
   "source": [
    "data.WindGustDir.isnull().sum()"
   ]
  },
  {
   "cell_type": "code",
   "execution_count": 94,
   "metadata": {},
   "outputs": [
    {
     "data": {
      "text/plain": [
       "array([0, 1], dtype=uint8)"
      ]
     },
     "execution_count": 94,
     "metadata": {},
     "output_type": "execute_result"
    }
   ],
   "source": [
    "data.WindGustDir.unique()"
   ]
  },
  {
   "cell_type": "code",
   "execution_count": 95,
   "metadata": {},
   "outputs": [],
   "source": [
    "for x in data.WindGustDir:\n",
    "    if x == np.nan:\n",
    "        print(x)"
   ]
  },
  {
   "cell_type": "code",
   "execution_count": 96,
   "metadata": {},
   "outputs": [
    {
     "data": {
      "text/plain": [
       "array([0, 1], dtype=uint8)"
      ]
     },
     "execution_count": 96,
     "metadata": {},
     "output_type": "execute_result"
    }
   ],
   "source": [
    "data.WindGustDir.unique()"
   ]
  },
  {
   "cell_type": "code",
   "execution_count": 97,
   "metadata": {},
   "outputs": [
    {
     "data": {
      "text/plain": [
       "Date                0\n",
       "Location            0\n",
       "MinTemp             0\n",
       "MaxTemp             0\n",
       "Rainfall            0\n",
       "Evaporation         0\n",
       "Sunshine            0\n",
       "WindGustDir         0\n",
       "WindGustSpeed       0\n",
       "WindDir9am          0\n",
       "WindDir3pm          0\n",
       "WindSpeed9am        0\n",
       "WindSpeed3pm        0\n",
       "Humidity9am         0\n",
       "Humidity3pm         0\n",
       "Pressure9am         0\n",
       "Pressure3pm         0\n",
       "Cloud9am            0\n",
       "Cloud3pm            0\n",
       "Temp9am             0\n",
       "Temp3pm             0\n",
       "RainToday        3261\n",
       "RainTomorrow     3267\n",
       "dtype: int64"
      ]
     },
     "execution_count": 97,
     "metadata": {},
     "output_type": "execute_result"
    }
   ],
   "source": [
    "data.isnull().sum()"
   ]
  },
  {
   "cell_type": "code",
   "execution_count": null,
   "metadata": {},
   "outputs": [],
   "source": []
  },
  {
   "cell_type": "code",
   "execution_count": null,
   "metadata": {},
   "outputs": [],
   "source": []
  },
  {
   "cell_type": "code",
   "execution_count": 98,
   "metadata": {},
   "outputs": [
    {
     "data": {
      "text/plain": [
       "array([0, 1], dtype=uint8)"
      ]
     },
     "execution_count": 98,
     "metadata": {},
     "output_type": "execute_result"
    }
   ],
   "source": [
    "data.WindGustDir.unique()"
   ]
  },
  {
   "cell_type": "code",
   "execution_count": 99,
   "metadata": {},
   "outputs": [
    {
     "data": {
      "text/plain": [
       "Date                0\n",
       "Location            0\n",
       "MinTemp             0\n",
       "MaxTemp             0\n",
       "Rainfall            0\n",
       "Evaporation         0\n",
       "Sunshine            0\n",
       "WindGustDir         0\n",
       "WindGustSpeed       0\n",
       "WindDir9am          0\n",
       "WindDir3pm          0\n",
       "WindSpeed9am        0\n",
       "WindSpeed3pm        0\n",
       "Humidity9am         0\n",
       "Humidity3pm         0\n",
       "Pressure9am         0\n",
       "Pressure3pm         0\n",
       "Cloud9am            0\n",
       "Cloud3pm            0\n",
       "Temp9am             0\n",
       "Temp3pm             0\n",
       "RainToday        3261\n",
       "RainTomorrow     3267\n",
       "dtype: int64"
      ]
     },
     "execution_count": 99,
     "metadata": {},
     "output_type": "execute_result"
    }
   ],
   "source": [
    "data.isnull().sum()"
   ]
  },
  {
   "cell_type": "code",
   "execution_count": null,
   "metadata": {},
   "outputs": [],
   "source": []
  },
  {
   "cell_type": "code",
   "execution_count": 100,
   "metadata": {},
   "outputs": [
    {
     "name": "stdout",
     "output_type": "stream",
     "text": [
      "<class 'pandas.core.frame.DataFrame'>\n",
      "Int64Index: 145454 entries, 0 to 145459\n",
      "Data columns (total 23 columns):\n",
      " #   Column         Non-Null Count   Dtype  \n",
      "---  ------         --------------   -----  \n",
      " 0   Date           145454 non-null  object \n",
      " 1   Location       145454 non-null  object \n",
      " 2   MinTemp        145454 non-null  float64\n",
      " 3   MaxTemp        145454 non-null  float64\n",
      " 4   Rainfall       145454 non-null  float64\n",
      " 5   Evaporation    145454 non-null  float64\n",
      " 6   Sunshine       145454 non-null  float64\n",
      " 7   WindGustDir    145454 non-null  uint8  \n",
      " 8   WindGustSpeed  145454 non-null  float64\n",
      " 9   WindDir9am     145454 non-null  uint8  \n",
      " 10  WindDir3pm     145454 non-null  uint8  \n",
      " 11  WindSpeed9am   145454 non-null  float64\n",
      " 12  WindSpeed3pm   145454 non-null  float64\n",
      " 13  Humidity9am    145454 non-null  float64\n",
      " 14  Humidity3pm    145454 non-null  float64\n",
      " 15  Pressure9am    145454 non-null  float64\n",
      " 16  Pressure3pm    145454 non-null  float64\n",
      " 17  Cloud9am       145454 non-null  float64\n",
      " 18  Cloud3pm       145454 non-null  float64\n",
      " 19  Temp9am        145454 non-null  float64\n",
      " 20  Temp3pm        145454 non-null  float64\n",
      " 21  RainToday      142193 non-null  object \n",
      " 22  RainTomorrow   142187 non-null  object \n",
      "dtypes: float64(16), object(4), uint8(3)\n",
      "memory usage: 23.7+ MB\n"
     ]
    }
   ],
   "source": [
    "data.info()"
   ]
  },
  {
   "cell_type": "code",
   "execution_count": 101,
   "metadata": {},
   "outputs": [],
   "source": [
    "data.WindGustDir.ffill(inplace=True)"
   ]
  },
  {
   "cell_type": "code",
   "execution_count": 102,
   "metadata": {},
   "outputs": [
    {
     "data": {
      "text/plain": [
       "Date                0\n",
       "Location            0\n",
       "MinTemp             0\n",
       "MaxTemp             0\n",
       "Rainfall            0\n",
       "Evaporation         0\n",
       "Sunshine            0\n",
       "WindGustDir         0\n",
       "WindGustSpeed       0\n",
       "WindDir9am          0\n",
       "WindDir3pm          0\n",
       "WindSpeed9am        0\n",
       "WindSpeed3pm        0\n",
       "Humidity9am         0\n",
       "Humidity3pm         0\n",
       "Pressure9am         0\n",
       "Pressure3pm         0\n",
       "Cloud9am            0\n",
       "Cloud3pm            0\n",
       "Temp9am             0\n",
       "Temp3pm             0\n",
       "RainToday        3261\n",
       "RainTomorrow     3267\n",
       "dtype: int64"
      ]
     },
     "execution_count": 102,
     "metadata": {},
     "output_type": "execute_result"
    }
   ],
   "source": [
    "data.isnull().sum()"
   ]
  },
  {
   "cell_type": "code",
   "execution_count": 103,
   "metadata": {},
   "outputs": [],
   "source": [
    "data.WindGustDir = pd.get_dummies(data.WindGustDir)"
   ]
  },
  {
   "cell_type": "code",
   "execution_count": 104,
   "metadata": {},
   "outputs": [],
   "source": [
    "data.WindDir9am.ffill(inplace=True)"
   ]
  },
  {
   "cell_type": "code",
   "execution_count": 105,
   "metadata": {},
   "outputs": [],
   "source": [
    "data.WindDir9am =pd.get_dummies(data.WindDir9am)"
   ]
  },
  {
   "cell_type": "code",
   "execution_count": 106,
   "metadata": {},
   "outputs": [],
   "source": [
    "data.WindDir3pm.ffill(inplace=True)"
   ]
  },
  {
   "cell_type": "code",
   "execution_count": 107,
   "metadata": {},
   "outputs": [],
   "source": [
    "data.WindDir3pm = pd.get_dummies(data.WindDir3pm)"
   ]
  },
  {
   "cell_type": "code",
   "execution_count": 108,
   "metadata": {},
   "outputs": [
    {
     "data": {
      "text/plain": [
       "Date                0\n",
       "Location            0\n",
       "MinTemp             0\n",
       "MaxTemp             0\n",
       "Rainfall            0\n",
       "Evaporation         0\n",
       "Sunshine            0\n",
       "WindGustDir         0\n",
       "WindGustSpeed       0\n",
       "WindDir9am          0\n",
       "WindDir3pm          0\n",
       "WindSpeed9am        0\n",
       "WindSpeed3pm        0\n",
       "Humidity9am         0\n",
       "Humidity3pm         0\n",
       "Pressure9am         0\n",
       "Pressure3pm         0\n",
       "Cloud9am            0\n",
       "Cloud3pm            0\n",
       "Temp9am             0\n",
       "Temp3pm             0\n",
       "RainToday        3261\n",
       "RainTomorrow     3267\n",
       "dtype: int64"
      ]
     },
     "execution_count": 108,
     "metadata": {},
     "output_type": "execute_result"
    }
   ],
   "source": [
    "data.isnull().sum()"
   ]
  },
  {
   "cell_type": "code",
   "execution_count": 109,
   "metadata": {},
   "outputs": [
    {
     "data": {
      "text/plain": [
       "array(['No', 'Yes', nan], dtype=object)"
      ]
     },
     "execution_count": 109,
     "metadata": {},
     "output_type": "execute_result"
    }
   ],
   "source": [
    "data.RainToday.unique()"
   ]
  },
  {
   "cell_type": "code",
   "execution_count": 110,
   "metadata": {},
   "outputs": [],
   "source": [
    "no = 0\n",
    "yes = 0\n",
    "_nan = 0\n",
    "for x in data.RainToday:\n",
    "    if x == 'No':\n",
    "        no += 1\n",
    "    elif x == 'Yes':\n",
    "        yes += 1\n",
    "    else:\n",
    "        _nan += 1"
   ]
  },
  {
   "cell_type": "code",
   "execution_count": 111,
   "metadata": {},
   "outputs": [
    {
     "name": "stdout",
     "output_type": "stream",
     "text": [
      "110315 31878 3261\n"
     ]
    }
   ],
   "source": [
    "print(no, yes, _nan)"
   ]
  },
  {
   "cell_type": "code",
   "execution_count": 112,
   "metadata": {},
   "outputs": [
    {
     "data": {
      "text/plain": [
       "array(['No', 'Yes', nan], dtype=object)"
      ]
     },
     "execution_count": 112,
     "metadata": {},
     "output_type": "execute_result"
    }
   ],
   "source": [
    "data.RainTomorrow.unique()"
   ]
  },
  {
   "cell_type": "code",
   "execution_count": 113,
   "metadata": {},
   "outputs": [],
   "source": [
    "no = 0\n",
    "yes = 0\n",
    "_nan = 0\n",
    "for x in data.RainTomorrow:\n",
    "    if x == 'No':\n",
    "        no += 1\n",
    "    elif x == 'Yes':\n",
    "        yes += 1\n",
    "    else:\n",
    "        _nan += 1"
   ]
  },
  {
   "cell_type": "code",
   "execution_count": 114,
   "metadata": {},
   "outputs": [
    {
     "name": "stdout",
     "output_type": "stream",
     "text": [
      "110311 31876 3267\n"
     ]
    }
   ],
   "source": [
    "print(no, yes, _nan)"
   ]
  },
  {
   "cell_type": "code",
   "execution_count": 115,
   "metadata": {},
   "outputs": [],
   "source": [
    "data.dropna(axis=0,inplace=True)"
   ]
  },
  {
   "cell_type": "code",
   "execution_count": 116,
   "metadata": {
    "scrolled": true
   },
   "outputs": [
    {
     "name": "stdout",
     "output_type": "stream",
     "text": [
      "<class 'pandas.core.frame.DataFrame'>\n",
      "Int64Index: 140781 entries, 0 to 145458\n",
      "Data columns (total 23 columns):\n",
      " #   Column         Non-Null Count   Dtype  \n",
      "---  ------         --------------   -----  \n",
      " 0   Date           140781 non-null  object \n",
      " 1   Location       140781 non-null  object \n",
      " 2   MinTemp        140781 non-null  float64\n",
      " 3   MaxTemp        140781 non-null  float64\n",
      " 4   Rainfall       140781 non-null  float64\n",
      " 5   Evaporation    140781 non-null  float64\n",
      " 6   Sunshine       140781 non-null  float64\n",
      " 7   WindGustDir    140781 non-null  uint8  \n",
      " 8   WindGustSpeed  140781 non-null  float64\n",
      " 9   WindDir9am     140781 non-null  uint8  \n",
      " 10  WindDir3pm     140781 non-null  uint8  \n",
      " 11  WindSpeed9am   140781 non-null  float64\n",
      " 12  WindSpeed3pm   140781 non-null  float64\n",
      " 13  Humidity9am    140781 non-null  float64\n",
      " 14  Humidity3pm    140781 non-null  float64\n",
      " 15  Pressure9am    140781 non-null  float64\n",
      " 16  Pressure3pm    140781 non-null  float64\n",
      " 17  Cloud9am       140781 non-null  float64\n",
      " 18  Cloud3pm       140781 non-null  float64\n",
      " 19  Temp9am        140781 non-null  float64\n",
      " 20  Temp3pm        140781 non-null  float64\n",
      " 21  RainToday      140781 non-null  object \n",
      " 22  RainTomorrow   140781 non-null  object \n",
      "dtypes: float64(16), object(4), uint8(3)\n",
      "memory usage: 23.0+ MB\n"
     ]
    }
   ],
   "source": [
    "data.info()"
   ]
  },
  {
   "cell_type": "code",
   "execution_count": 117,
   "metadata": {},
   "outputs": [
    {
     "data": {
      "text/plain": [
       "Date             0\n",
       "Location         0\n",
       "MinTemp          0\n",
       "MaxTemp          0\n",
       "Rainfall         0\n",
       "Evaporation      0\n",
       "Sunshine         0\n",
       "WindGustDir      0\n",
       "WindGustSpeed    0\n",
       "WindDir9am       0\n",
       "WindDir3pm       0\n",
       "WindSpeed9am     0\n",
       "WindSpeed3pm     0\n",
       "Humidity9am      0\n",
       "Humidity3pm      0\n",
       "Pressure9am      0\n",
       "Pressure3pm      0\n",
       "Cloud9am         0\n",
       "Cloud3pm         0\n",
       "Temp9am          0\n",
       "Temp3pm          0\n",
       "RainToday        0\n",
       "RainTomorrow     0\n",
       "dtype: int64"
      ]
     },
     "execution_count": 117,
     "metadata": {},
     "output_type": "execute_result"
    }
   ],
   "source": [
    "data.isnull().sum()"
   ]
  },
  {
   "cell_type": "code",
   "execution_count": 118,
   "metadata": {},
   "outputs": [
    {
     "data": {
      "text/html": [
       "<div>\n",
       "<style scoped>\n",
       "    .dataframe tbody tr th:only-of-type {\n",
       "        vertical-align: middle;\n",
       "    }\n",
       "\n",
       "    .dataframe tbody tr th {\n",
       "        vertical-align: top;\n",
       "    }\n",
       "\n",
       "    .dataframe thead th {\n",
       "        text-align: right;\n",
       "    }\n",
       "</style>\n",
       "<table border=\"1\" class=\"dataframe\">\n",
       "  <thead>\n",
       "    <tr style=\"text-align: right;\">\n",
       "      <th></th>\n",
       "      <th>Date</th>\n",
       "      <th>Location</th>\n",
       "      <th>MinTemp</th>\n",
       "      <th>MaxTemp</th>\n",
       "      <th>Rainfall</th>\n",
       "      <th>Evaporation</th>\n",
       "      <th>Sunshine</th>\n",
       "      <th>WindGustDir</th>\n",
       "      <th>WindGustSpeed</th>\n",
       "      <th>WindDir9am</th>\n",
       "      <th>...</th>\n",
       "      <th>Humidity9am</th>\n",
       "      <th>Humidity3pm</th>\n",
       "      <th>Pressure9am</th>\n",
       "      <th>Pressure3pm</th>\n",
       "      <th>Cloud9am</th>\n",
       "      <th>Cloud3pm</th>\n",
       "      <th>Temp9am</th>\n",
       "      <th>Temp3pm</th>\n",
       "      <th>RainToday</th>\n",
       "      <th>RainTomorrow</th>\n",
       "    </tr>\n",
       "  </thead>\n",
       "  <tbody>\n",
       "    <tr>\n",
       "      <th>0</th>\n",
       "      <td>2008-12-01</td>\n",
       "      <td>Albury</td>\n",
       "      <td>13.4</td>\n",
       "      <td>22.9</td>\n",
       "      <td>0.6</td>\n",
       "      <td>5.462012</td>\n",
       "      <td>7.611104</td>\n",
       "      <td>1</td>\n",
       "      <td>44.0</td>\n",
       "      <td>1</td>\n",
       "      <td>...</td>\n",
       "      <td>71.0</td>\n",
       "      <td>22.0</td>\n",
       "      <td>1007.7</td>\n",
       "      <td>1007.1</td>\n",
       "      <td>8.000000</td>\n",
       "      <td>4.509948</td>\n",
       "      <td>16.9</td>\n",
       "      <td>21.8</td>\n",
       "      <td>No</td>\n",
       "      <td>No</td>\n",
       "    </tr>\n",
       "    <tr>\n",
       "      <th>1</th>\n",
       "      <td>2008-12-02</td>\n",
       "      <td>Albury</td>\n",
       "      <td>7.4</td>\n",
       "      <td>25.1</td>\n",
       "      <td>0.0</td>\n",
       "      <td>5.462012</td>\n",
       "      <td>7.611104</td>\n",
       "      <td>1</td>\n",
       "      <td>44.0</td>\n",
       "      <td>1</td>\n",
       "      <td>...</td>\n",
       "      <td>44.0</td>\n",
       "      <td>25.0</td>\n",
       "      <td>1010.6</td>\n",
       "      <td>1007.8</td>\n",
       "      <td>4.447542</td>\n",
       "      <td>4.509948</td>\n",
       "      <td>17.2</td>\n",
       "      <td>24.3</td>\n",
       "      <td>No</td>\n",
       "      <td>No</td>\n",
       "    </tr>\n",
       "    <tr>\n",
       "      <th>2</th>\n",
       "      <td>2008-12-03</td>\n",
       "      <td>Albury</td>\n",
       "      <td>12.9</td>\n",
       "      <td>25.7</td>\n",
       "      <td>0.0</td>\n",
       "      <td>5.462012</td>\n",
       "      <td>7.611104</td>\n",
       "      <td>1</td>\n",
       "      <td>46.0</td>\n",
       "      <td>1</td>\n",
       "      <td>...</td>\n",
       "      <td>38.0</td>\n",
       "      <td>30.0</td>\n",
       "      <td>1007.6</td>\n",
       "      <td>1008.7</td>\n",
       "      <td>4.447542</td>\n",
       "      <td>2.000000</td>\n",
       "      <td>21.0</td>\n",
       "      <td>23.2</td>\n",
       "      <td>No</td>\n",
       "      <td>No</td>\n",
       "    </tr>\n",
       "    <tr>\n",
       "      <th>3</th>\n",
       "      <td>2008-12-04</td>\n",
       "      <td>Albury</td>\n",
       "      <td>9.2</td>\n",
       "      <td>28.0</td>\n",
       "      <td>0.0</td>\n",
       "      <td>5.462012</td>\n",
       "      <td>7.611104</td>\n",
       "      <td>1</td>\n",
       "      <td>24.0</td>\n",
       "      <td>1</td>\n",
       "      <td>...</td>\n",
       "      <td>45.0</td>\n",
       "      <td>16.0</td>\n",
       "      <td>1017.6</td>\n",
       "      <td>1012.8</td>\n",
       "      <td>4.447542</td>\n",
       "      <td>4.509948</td>\n",
       "      <td>18.1</td>\n",
       "      <td>26.5</td>\n",
       "      <td>No</td>\n",
       "      <td>No</td>\n",
       "    </tr>\n",
       "    <tr>\n",
       "      <th>4</th>\n",
       "      <td>2008-12-05</td>\n",
       "      <td>Albury</td>\n",
       "      <td>17.5</td>\n",
       "      <td>32.3</td>\n",
       "      <td>1.0</td>\n",
       "      <td>5.462012</td>\n",
       "      <td>7.611104</td>\n",
       "      <td>1</td>\n",
       "      <td>41.0</td>\n",
       "      <td>1</td>\n",
       "      <td>...</td>\n",
       "      <td>82.0</td>\n",
       "      <td>33.0</td>\n",
       "      <td>1010.8</td>\n",
       "      <td>1006.0</td>\n",
       "      <td>7.000000</td>\n",
       "      <td>8.000000</td>\n",
       "      <td>17.8</td>\n",
       "      <td>29.7</td>\n",
       "      <td>No</td>\n",
       "      <td>No</td>\n",
       "    </tr>\n",
       "  </tbody>\n",
       "</table>\n",
       "<p>5 rows × 23 columns</p>\n",
       "</div>"
      ],
      "text/plain": [
       "         Date Location  MinTemp  MaxTemp  Rainfall  Evaporation  Sunshine  \\\n",
       "0  2008-12-01   Albury     13.4     22.9       0.6     5.462012  7.611104   \n",
       "1  2008-12-02   Albury      7.4     25.1       0.0     5.462012  7.611104   \n",
       "2  2008-12-03   Albury     12.9     25.7       0.0     5.462012  7.611104   \n",
       "3  2008-12-04   Albury      9.2     28.0       0.0     5.462012  7.611104   \n",
       "4  2008-12-05   Albury     17.5     32.3       1.0     5.462012  7.611104   \n",
       "\n",
       "   WindGustDir  WindGustSpeed  WindDir9am  ...  Humidity9am  Humidity3pm  \\\n",
       "0            1           44.0           1  ...         71.0         22.0   \n",
       "1            1           44.0           1  ...         44.0         25.0   \n",
       "2            1           46.0           1  ...         38.0         30.0   \n",
       "3            1           24.0           1  ...         45.0         16.0   \n",
       "4            1           41.0           1  ...         82.0         33.0   \n",
       "\n",
       "   Pressure9am  Pressure3pm  Cloud9am  Cloud3pm  Temp9am  Temp3pm  RainToday  \\\n",
       "0       1007.7       1007.1  8.000000  4.509948     16.9     21.8         No   \n",
       "1       1010.6       1007.8  4.447542  4.509948     17.2     24.3         No   \n",
       "2       1007.6       1008.7  4.447542  2.000000     21.0     23.2         No   \n",
       "3       1017.6       1012.8  4.447542  4.509948     18.1     26.5         No   \n",
       "4       1010.8       1006.0  7.000000  8.000000     17.8     29.7         No   \n",
       "\n",
       "   RainTomorrow  \n",
       "0            No  \n",
       "1            No  \n",
       "2            No  \n",
       "3            No  \n",
       "4            No  \n",
       "\n",
       "[5 rows x 23 columns]"
      ]
     },
     "execution_count": 118,
     "metadata": {},
     "output_type": "execute_result"
    }
   ],
   "source": [
    "data.head()"
   ]
  },
  {
   "cell_type": "code",
   "execution_count": 119,
   "metadata": {},
   "outputs": [
    {
     "name": "stdout",
     "output_type": "stream",
     "text": [
      "109328 31453 0\n"
     ]
    }
   ],
   "source": [
    "no = 0\n",
    "yes = 0\n",
    "_nan = 0\n",
    "for x in data.RainToday:\n",
    "    if x == 'No':\n",
    "        no += 1\n",
    "    elif x == 'Yes':\n",
    "        yes += 1\n",
    "    else:\n",
    "        _nan += 1\n",
    "print(no, yes, _nan)"
   ]
  },
  {
   "cell_type": "code",
   "execution_count": 120,
   "metadata": {},
   "outputs": [
    {
     "name": "stdout",
     "output_type": "stream",
     "text": [
      "109581 31200 0\n"
     ]
    }
   ],
   "source": [
    "no = 0\n",
    "yes = 0\n",
    "_nan = 0\n",
    "for x in data.RainTomorrow:\n",
    "    if x == 'No':\n",
    "        no += 1\n",
    "    elif x == 'Yes':\n",
    "        yes += 1\n",
    "    else:\n",
    "        _nan += 1\n",
    "print(no, yes, _nan)"
   ]
  },
  {
   "cell_type": "code",
   "execution_count": 121,
   "metadata": {},
   "outputs": [
    {
     "name": "stdout",
     "output_type": "stream",
     "text": [
      "<class 'pandas.core.frame.DataFrame'>\n",
      "Int64Index: 140781 entries, 0 to 145458\n",
      "Data columns (total 23 columns):\n",
      " #   Column         Non-Null Count   Dtype  \n",
      "---  ------         --------------   -----  \n",
      " 0   Date           140781 non-null  object \n",
      " 1   Location       140781 non-null  object \n",
      " 2   MinTemp        140781 non-null  float64\n",
      " 3   MaxTemp        140781 non-null  float64\n",
      " 4   Rainfall       140781 non-null  float64\n",
      " 5   Evaporation    140781 non-null  float64\n",
      " 6   Sunshine       140781 non-null  float64\n",
      " 7   WindGustDir    140781 non-null  uint8  \n",
      " 8   WindGustSpeed  140781 non-null  float64\n",
      " 9   WindDir9am     140781 non-null  uint8  \n",
      " 10  WindDir3pm     140781 non-null  uint8  \n",
      " 11  WindSpeed9am   140781 non-null  float64\n",
      " 12  WindSpeed3pm   140781 non-null  float64\n",
      " 13  Humidity9am    140781 non-null  float64\n",
      " 14  Humidity3pm    140781 non-null  float64\n",
      " 15  Pressure9am    140781 non-null  float64\n",
      " 16  Pressure3pm    140781 non-null  float64\n",
      " 17  Cloud9am       140781 non-null  float64\n",
      " 18  Cloud3pm       140781 non-null  float64\n",
      " 19  Temp9am        140781 non-null  float64\n",
      " 20  Temp3pm        140781 non-null  float64\n",
      " 21  RainToday      140781 non-null  object \n",
      " 22  RainTomorrow   140781 non-null  object \n",
      "dtypes: float64(16), object(4), uint8(3)\n",
      "memory usage: 23.0+ MB\n"
     ]
    }
   ],
   "source": [
    "data.info()"
   ]
  },
  {
   "cell_type": "code",
   "execution_count": 122,
   "metadata": {},
   "outputs": [
    {
     "data": {
      "text/plain": [
       "2"
      ]
     },
     "execution_count": 122,
     "metadata": {},
     "output_type": "execute_result"
    }
   ],
   "source": [
    "len(data.WindGustDir.unique())"
   ]
  },
  {
   "cell_type": "code",
   "execution_count": 123,
   "metadata": {},
   "outputs": [
    {
     "data": {
      "text/plain": [
       "array([1, 0], dtype=uint8)"
      ]
     },
     "execution_count": 123,
     "metadata": {},
     "output_type": "execute_result"
    }
   ],
   "source": [
    "data.WindGustDir.unique()"
   ]
  },
  {
   "cell_type": "code",
   "execution_count": 124,
   "metadata": {},
   "outputs": [],
   "source": [
    "data.drop([\"Date\", \"Location\"], axis=1,inplace = True)"
   ]
  },
  {
   "cell_type": "code",
   "execution_count": 125,
   "metadata": {},
   "outputs": [
    {
     "data": {
      "text/html": [
       "<div>\n",
       "<style scoped>\n",
       "    .dataframe tbody tr th:only-of-type {\n",
       "        vertical-align: middle;\n",
       "    }\n",
       "\n",
       "    .dataframe tbody tr th {\n",
       "        vertical-align: top;\n",
       "    }\n",
       "\n",
       "    .dataframe thead th {\n",
       "        text-align: right;\n",
       "    }\n",
       "</style>\n",
       "<table border=\"1\" class=\"dataframe\">\n",
       "  <thead>\n",
       "    <tr style=\"text-align: right;\">\n",
       "      <th></th>\n",
       "      <th>MinTemp</th>\n",
       "      <th>MaxTemp</th>\n",
       "      <th>Rainfall</th>\n",
       "      <th>Evaporation</th>\n",
       "      <th>Sunshine</th>\n",
       "      <th>WindGustDir</th>\n",
       "      <th>WindGustSpeed</th>\n",
       "      <th>WindDir9am</th>\n",
       "      <th>WindDir3pm</th>\n",
       "      <th>WindSpeed9am</th>\n",
       "      <th>...</th>\n",
       "      <th>Humidity9am</th>\n",
       "      <th>Humidity3pm</th>\n",
       "      <th>Pressure9am</th>\n",
       "      <th>Pressure3pm</th>\n",
       "      <th>Cloud9am</th>\n",
       "      <th>Cloud3pm</th>\n",
       "      <th>Temp9am</th>\n",
       "      <th>Temp3pm</th>\n",
       "      <th>RainToday</th>\n",
       "      <th>RainTomorrow</th>\n",
       "    </tr>\n",
       "  </thead>\n",
       "  <tbody>\n",
       "    <tr>\n",
       "      <th>0</th>\n",
       "      <td>13.4</td>\n",
       "      <td>22.9</td>\n",
       "      <td>0.6</td>\n",
       "      <td>5.462012</td>\n",
       "      <td>7.611104</td>\n",
       "      <td>1</td>\n",
       "      <td>44.0</td>\n",
       "      <td>1</td>\n",
       "      <td>1</td>\n",
       "      <td>20.0</td>\n",
       "      <td>...</td>\n",
       "      <td>71.0</td>\n",
       "      <td>22.0</td>\n",
       "      <td>1007.7</td>\n",
       "      <td>1007.1</td>\n",
       "      <td>8.000000</td>\n",
       "      <td>4.509948</td>\n",
       "      <td>16.9</td>\n",
       "      <td>21.8</td>\n",
       "      <td>No</td>\n",
       "      <td>No</td>\n",
       "    </tr>\n",
       "    <tr>\n",
       "      <th>1</th>\n",
       "      <td>7.4</td>\n",
       "      <td>25.1</td>\n",
       "      <td>0.0</td>\n",
       "      <td>5.462012</td>\n",
       "      <td>7.611104</td>\n",
       "      <td>1</td>\n",
       "      <td>44.0</td>\n",
       "      <td>1</td>\n",
       "      <td>1</td>\n",
       "      <td>4.0</td>\n",
       "      <td>...</td>\n",
       "      <td>44.0</td>\n",
       "      <td>25.0</td>\n",
       "      <td>1010.6</td>\n",
       "      <td>1007.8</td>\n",
       "      <td>4.447542</td>\n",
       "      <td>4.509948</td>\n",
       "      <td>17.2</td>\n",
       "      <td>24.3</td>\n",
       "      <td>No</td>\n",
       "      <td>No</td>\n",
       "    </tr>\n",
       "    <tr>\n",
       "      <th>2</th>\n",
       "      <td>12.9</td>\n",
       "      <td>25.7</td>\n",
       "      <td>0.0</td>\n",
       "      <td>5.462012</td>\n",
       "      <td>7.611104</td>\n",
       "      <td>1</td>\n",
       "      <td>46.0</td>\n",
       "      <td>1</td>\n",
       "      <td>1</td>\n",
       "      <td>19.0</td>\n",
       "      <td>...</td>\n",
       "      <td>38.0</td>\n",
       "      <td>30.0</td>\n",
       "      <td>1007.6</td>\n",
       "      <td>1008.7</td>\n",
       "      <td>4.447542</td>\n",
       "      <td>2.000000</td>\n",
       "      <td>21.0</td>\n",
       "      <td>23.2</td>\n",
       "      <td>No</td>\n",
       "      <td>No</td>\n",
       "    </tr>\n",
       "    <tr>\n",
       "      <th>3</th>\n",
       "      <td>9.2</td>\n",
       "      <td>28.0</td>\n",
       "      <td>0.0</td>\n",
       "      <td>5.462012</td>\n",
       "      <td>7.611104</td>\n",
       "      <td>1</td>\n",
       "      <td>24.0</td>\n",
       "      <td>1</td>\n",
       "      <td>0</td>\n",
       "      <td>11.0</td>\n",
       "      <td>...</td>\n",
       "      <td>45.0</td>\n",
       "      <td>16.0</td>\n",
       "      <td>1017.6</td>\n",
       "      <td>1012.8</td>\n",
       "      <td>4.447542</td>\n",
       "      <td>4.509948</td>\n",
       "      <td>18.1</td>\n",
       "      <td>26.5</td>\n",
       "      <td>No</td>\n",
       "      <td>No</td>\n",
       "    </tr>\n",
       "    <tr>\n",
       "      <th>4</th>\n",
       "      <td>17.5</td>\n",
       "      <td>32.3</td>\n",
       "      <td>1.0</td>\n",
       "      <td>5.462012</td>\n",
       "      <td>7.611104</td>\n",
       "      <td>1</td>\n",
       "      <td>41.0</td>\n",
       "      <td>1</td>\n",
       "      <td>1</td>\n",
       "      <td>7.0</td>\n",
       "      <td>...</td>\n",
       "      <td>82.0</td>\n",
       "      <td>33.0</td>\n",
       "      <td>1010.8</td>\n",
       "      <td>1006.0</td>\n",
       "      <td>7.000000</td>\n",
       "      <td>8.000000</td>\n",
       "      <td>17.8</td>\n",
       "      <td>29.7</td>\n",
       "      <td>No</td>\n",
       "      <td>No</td>\n",
       "    </tr>\n",
       "  </tbody>\n",
       "</table>\n",
       "<p>5 rows × 21 columns</p>\n",
       "</div>"
      ],
      "text/plain": [
       "   MinTemp  MaxTemp  Rainfall  Evaporation  Sunshine  WindGustDir  \\\n",
       "0     13.4     22.9       0.6     5.462012  7.611104            1   \n",
       "1      7.4     25.1       0.0     5.462012  7.611104            1   \n",
       "2     12.9     25.7       0.0     5.462012  7.611104            1   \n",
       "3      9.2     28.0       0.0     5.462012  7.611104            1   \n",
       "4     17.5     32.3       1.0     5.462012  7.611104            1   \n",
       "\n",
       "   WindGustSpeed  WindDir9am  WindDir3pm  WindSpeed9am  ...  Humidity9am  \\\n",
       "0           44.0           1           1          20.0  ...         71.0   \n",
       "1           44.0           1           1           4.0  ...         44.0   \n",
       "2           46.0           1           1          19.0  ...         38.0   \n",
       "3           24.0           1           0          11.0  ...         45.0   \n",
       "4           41.0           1           1           7.0  ...         82.0   \n",
       "\n",
       "   Humidity3pm  Pressure9am  Pressure3pm  Cloud9am  Cloud3pm  Temp9am  \\\n",
       "0         22.0       1007.7       1007.1  8.000000  4.509948     16.9   \n",
       "1         25.0       1010.6       1007.8  4.447542  4.509948     17.2   \n",
       "2         30.0       1007.6       1008.7  4.447542  2.000000     21.0   \n",
       "3         16.0       1017.6       1012.8  4.447542  4.509948     18.1   \n",
       "4         33.0       1010.8       1006.0  7.000000  8.000000     17.8   \n",
       "\n",
       "   Temp3pm  RainToday RainTomorrow  \n",
       "0     21.8         No           No  \n",
       "1     24.3         No           No  \n",
       "2     23.2         No           No  \n",
       "3     26.5         No           No  \n",
       "4     29.7         No           No  \n",
       "\n",
       "[5 rows x 21 columns]"
      ]
     },
     "execution_count": 125,
     "metadata": {},
     "output_type": "execute_result"
    }
   ],
   "source": [
    "data.head()"
   ]
  },
  {
   "cell_type": "code",
   "execution_count": 126,
   "metadata": {},
   "outputs": [],
   "source": [
    "data.RainTomorrow = [0 if x == \"No\" else 1 for x in data.RainTomorrow]\n",
    "data.RainToday = [0 if x == \"No\" else 1 for x in data.RainToday]\n",
    "# X = data.drop(\"RainTomorrow\", axis=1)"
   ]
  },
  {
   "cell_type": "code",
   "execution_count": 127,
   "metadata": {},
   "outputs": [],
   "source": [
    "sampled = data.sample(n=20000, replace=True)\n",
    "# sample2= \"\"\n",
    "# for x in data.values:\n",
    "#     if x.RainTomorrow == 1:\n",
    "#         sample2 += data[x.index[0]]"
   ]
  },
  {
   "cell_type": "code",
   "execution_count": 128,
   "metadata": {},
   "outputs": [
    {
     "name": "stdout",
     "output_type": "stream",
     "text": [
      "4391 15609\n"
     ]
    }
   ],
   "source": [
    "yes=0\n",
    "no =0\n",
    "for x in sampled.RainTomorrow:\n",
    "    if x == 1:\n",
    "        yes+=1\n",
    "    else:\n",
    "        no += 1\n",
    "print(yes,no)"
   ]
  },
  {
   "cell_type": "code",
   "execution_count": 129,
   "metadata": {},
   "outputs": [],
   "source": [
    "X = sampled.drop(\"RainTomorrow\", axis=1)"
   ]
  },
  {
   "cell_type": "code",
   "execution_count": 130,
   "metadata": {},
   "outputs": [
    {
     "data": {
      "text/plain": [
       "105774    0\n",
       "67873     1\n",
       "130861    0\n",
       "22096     0\n",
       "135805    1\n",
       "         ..\n",
       "38968     0\n",
       "66997     0\n",
       "21808     0\n",
       "86513     0\n",
       "127618    0\n",
       "Name: RainTomorrow, Length: 20000, dtype: int64"
      ]
     },
     "execution_count": 130,
     "metadata": {},
     "output_type": "execute_result"
    }
   ],
   "source": [
    "\n",
    "data.RainTomorrow.unique()\n",
    "y= sampled.RainTomorrow\n",
    "y"
   ]
  },
  {
   "cell_type": "code",
   "execution_count": 131,
   "metadata": {},
   "outputs": [
    {
     "data": {
      "text/html": [
       "<div>\n",
       "<style scoped>\n",
       "    .dataframe tbody tr th:only-of-type {\n",
       "        vertical-align: middle;\n",
       "    }\n",
       "\n",
       "    .dataframe tbody tr th {\n",
       "        vertical-align: top;\n",
       "    }\n",
       "\n",
       "    .dataframe thead th {\n",
       "        text-align: right;\n",
       "    }\n",
       "</style>\n",
       "<table border=\"1\" class=\"dataframe\">\n",
       "  <thead>\n",
       "    <tr style=\"text-align: right;\">\n",
       "      <th></th>\n",
       "      <th>MinTemp</th>\n",
       "      <th>MaxTemp</th>\n",
       "      <th>Rainfall</th>\n",
       "      <th>Evaporation</th>\n",
       "      <th>Sunshine</th>\n",
       "      <th>WindGustDir</th>\n",
       "      <th>WindGustSpeed</th>\n",
       "      <th>WindDir9am</th>\n",
       "      <th>WindDir3pm</th>\n",
       "      <th>WindSpeed9am</th>\n",
       "      <th>WindSpeed3pm</th>\n",
       "      <th>Humidity9am</th>\n",
       "      <th>Humidity3pm</th>\n",
       "      <th>Pressure9am</th>\n",
       "      <th>Pressure3pm</th>\n",
       "      <th>Cloud9am</th>\n",
       "      <th>Cloud3pm</th>\n",
       "      <th>Temp9am</th>\n",
       "      <th>Temp3pm</th>\n",
       "      <th>RainToday</th>\n",
       "    </tr>\n",
       "  </thead>\n",
       "  <tbody>\n",
       "    <tr>\n",
       "      <th>105774</th>\n",
       "      <td>6.7</td>\n",
       "      <td>18.5</td>\n",
       "      <td>0.0</td>\n",
       "      <td>2.800000</td>\n",
       "      <td>10.200000</td>\n",
       "      <td>1</td>\n",
       "      <td>26.0</td>\n",
       "      <td>1</td>\n",
       "      <td>1</td>\n",
       "      <td>2.0</td>\n",
       "      <td>6.0</td>\n",
       "      <td>57.0</td>\n",
       "      <td>36.0</td>\n",
       "      <td>1029.900000</td>\n",
       "      <td>1026.50000</td>\n",
       "      <td>1.000000</td>\n",
       "      <td>1.000000</td>\n",
       "      <td>12.4</td>\n",
       "      <td>18.1</td>\n",
       "      <td>0</td>\n",
       "    </tr>\n",
       "    <tr>\n",
       "      <th>67873</th>\n",
       "      <td>9.1</td>\n",
       "      <td>17.3</td>\n",
       "      <td>4.2</td>\n",
       "      <td>4.000000</td>\n",
       "      <td>6.000000</td>\n",
       "      <td>1</td>\n",
       "      <td>50.0</td>\n",
       "      <td>1</td>\n",
       "      <td>1</td>\n",
       "      <td>28.0</td>\n",
       "      <td>31.0</td>\n",
       "      <td>64.0</td>\n",
       "      <td>60.0</td>\n",
       "      <td>1015.300000</td>\n",
       "      <td>1015.20000</td>\n",
       "      <td>4.000000</td>\n",
       "      <td>7.000000</td>\n",
       "      <td>11.4</td>\n",
       "      <td>14.5</td>\n",
       "      <td>1</td>\n",
       "    </tr>\n",
       "    <tr>\n",
       "      <th>130861</th>\n",
       "      <td>11.8</td>\n",
       "      <td>18.1</td>\n",
       "      <td>0.0</td>\n",
       "      <td>2.400000</td>\n",
       "      <td>1.800000</td>\n",
       "      <td>1</td>\n",
       "      <td>48.0</td>\n",
       "      <td>0</td>\n",
       "      <td>1</td>\n",
       "      <td>2.0</td>\n",
       "      <td>6.0</td>\n",
       "      <td>81.0</td>\n",
       "      <td>77.0</td>\n",
       "      <td>1022.700000</td>\n",
       "      <td>1020.10000</td>\n",
       "      <td>4.447542</td>\n",
       "      <td>4.509948</td>\n",
       "      <td>13.9</td>\n",
       "      <td>15.7</td>\n",
       "      <td>0</td>\n",
       "    </tr>\n",
       "    <tr>\n",
       "      <th>22096</th>\n",
       "      <td>13.0</td>\n",
       "      <td>18.4</td>\n",
       "      <td>3.4</td>\n",
       "      <td>5.800000</td>\n",
       "      <td>7.500000</td>\n",
       "      <td>1</td>\n",
       "      <td>54.0</td>\n",
       "      <td>1</td>\n",
       "      <td>1</td>\n",
       "      <td>26.0</td>\n",
       "      <td>30.0</td>\n",
       "      <td>74.0</td>\n",
       "      <td>60.0</td>\n",
       "      <td>1011.100000</td>\n",
       "      <td>1009.40000</td>\n",
       "      <td>6.000000</td>\n",
       "      <td>2.000000</td>\n",
       "      <td>17.6</td>\n",
       "      <td>18.1</td>\n",
       "      <td>1</td>\n",
       "    </tr>\n",
       "    <tr>\n",
       "      <th>135805</th>\n",
       "      <td>11.7</td>\n",
       "      <td>14.2</td>\n",
       "      <td>16.8</td>\n",
       "      <td>5.462012</td>\n",
       "      <td>7.611104</td>\n",
       "      <td>1</td>\n",
       "      <td>59.0</td>\n",
       "      <td>1</td>\n",
       "      <td>1</td>\n",
       "      <td>26.0</td>\n",
       "      <td>33.0</td>\n",
       "      <td>80.0</td>\n",
       "      <td>67.0</td>\n",
       "      <td>1017.650074</td>\n",
       "      <td>1015.25604</td>\n",
       "      <td>8.000000</td>\n",
       "      <td>6.000000</td>\n",
       "      <td>12.3</td>\n",
       "      <td>13.7</td>\n",
       "      <td>1</td>\n",
       "    </tr>\n",
       "    <tr>\n",
       "      <th>...</th>\n",
       "      <td>...</td>\n",
       "      <td>...</td>\n",
       "      <td>...</td>\n",
       "      <td>...</td>\n",
       "      <td>...</td>\n",
       "      <td>...</td>\n",
       "      <td>...</td>\n",
       "      <td>...</td>\n",
       "      <td>...</td>\n",
       "      <td>...</td>\n",
       "      <td>...</td>\n",
       "      <td>...</td>\n",
       "      <td>...</td>\n",
       "      <td>...</td>\n",
       "      <td>...</td>\n",
       "      <td>...</td>\n",
       "      <td>...</td>\n",
       "      <td>...</td>\n",
       "      <td>...</td>\n",
       "      <td>...</td>\n",
       "    </tr>\n",
       "    <tr>\n",
       "      <th>38968</th>\n",
       "      <td>14.9</td>\n",
       "      <td>31.4</td>\n",
       "      <td>0.0</td>\n",
       "      <td>8.800000</td>\n",
       "      <td>13.800000</td>\n",
       "      <td>0</td>\n",
       "      <td>33.0</td>\n",
       "      <td>1</td>\n",
       "      <td>1</td>\n",
       "      <td>22.0</td>\n",
       "      <td>9.0</td>\n",
       "      <td>42.0</td>\n",
       "      <td>22.0</td>\n",
       "      <td>1024.500000</td>\n",
       "      <td>1019.80000</td>\n",
       "      <td>0.000000</td>\n",
       "      <td>1.000000</td>\n",
       "      <td>21.0</td>\n",
       "      <td>29.5</td>\n",
       "      <td>0</td>\n",
       "    </tr>\n",
       "    <tr>\n",
       "      <th>66997</th>\n",
       "      <td>15.7</td>\n",
       "      <td>22.1</td>\n",
       "      <td>1.0</td>\n",
       "      <td>9.800000</td>\n",
       "      <td>5.300000</td>\n",
       "      <td>1</td>\n",
       "      <td>52.0</td>\n",
       "      <td>1</td>\n",
       "      <td>1</td>\n",
       "      <td>22.0</td>\n",
       "      <td>24.0</td>\n",
       "      <td>67.0</td>\n",
       "      <td>45.0</td>\n",
       "      <td>1011.700000</td>\n",
       "      <td>1011.30000</td>\n",
       "      <td>8.000000</td>\n",
       "      <td>7.000000</td>\n",
       "      <td>16.7</td>\n",
       "      <td>21.8</td>\n",
       "      <td>0</td>\n",
       "    </tr>\n",
       "    <tr>\n",
       "      <th>21808</th>\n",
       "      <td>17.6</td>\n",
       "      <td>20.7</td>\n",
       "      <td>3.2</td>\n",
       "      <td>5.800000</td>\n",
       "      <td>1.600000</td>\n",
       "      <td>1</td>\n",
       "      <td>50.0</td>\n",
       "      <td>1</td>\n",
       "      <td>1</td>\n",
       "      <td>20.0</td>\n",
       "      <td>33.0</td>\n",
       "      <td>94.0</td>\n",
       "      <td>78.0</td>\n",
       "      <td>1016.200000</td>\n",
       "      <td>1016.10000</td>\n",
       "      <td>8.000000</td>\n",
       "      <td>7.000000</td>\n",
       "      <td>18.4</td>\n",
       "      <td>19.3</td>\n",
       "      <td>1</td>\n",
       "    </tr>\n",
       "    <tr>\n",
       "      <th>86513</th>\n",
       "      <td>7.8</td>\n",
       "      <td>22.5</td>\n",
       "      <td>0.0</td>\n",
       "      <td>4.400000</td>\n",
       "      <td>10.200000</td>\n",
       "      <td>1</td>\n",
       "      <td>20.0</td>\n",
       "      <td>1</td>\n",
       "      <td>1</td>\n",
       "      <td>6.0</td>\n",
       "      <td>9.0</td>\n",
       "      <td>63.0</td>\n",
       "      <td>48.0</td>\n",
       "      <td>1023.500000</td>\n",
       "      <td>1019.20000</td>\n",
       "      <td>1.000000</td>\n",
       "      <td>1.000000</td>\n",
       "      <td>14.5</td>\n",
       "      <td>20.9</td>\n",
       "      <td>0</td>\n",
       "    </tr>\n",
       "    <tr>\n",
       "      <th>127618</th>\n",
       "      <td>19.3</td>\n",
       "      <td>25.1</td>\n",
       "      <td>0.0</td>\n",
       "      <td>5.462012</td>\n",
       "      <td>7.611104</td>\n",
       "      <td>1</td>\n",
       "      <td>43.0</td>\n",
       "      <td>0</td>\n",
       "      <td>1</td>\n",
       "      <td>17.0</td>\n",
       "      <td>24.0</td>\n",
       "      <td>86.0</td>\n",
       "      <td>69.0</td>\n",
       "      <td>1011.300000</td>\n",
       "      <td>1009.90000</td>\n",
       "      <td>4.447542</td>\n",
       "      <td>4.509948</td>\n",
       "      <td>21.2</td>\n",
       "      <td>24.2</td>\n",
       "      <td>0</td>\n",
       "    </tr>\n",
       "  </tbody>\n",
       "</table>\n",
       "<p>20000 rows × 20 columns</p>\n",
       "</div>"
      ],
      "text/plain": [
       "        MinTemp  MaxTemp  Rainfall  Evaporation   Sunshine  WindGustDir  \\\n",
       "105774      6.7     18.5       0.0     2.800000  10.200000            1   \n",
       "67873       9.1     17.3       4.2     4.000000   6.000000            1   \n",
       "130861     11.8     18.1       0.0     2.400000   1.800000            1   \n",
       "22096      13.0     18.4       3.4     5.800000   7.500000            1   \n",
       "135805     11.7     14.2      16.8     5.462012   7.611104            1   \n",
       "...         ...      ...       ...          ...        ...          ...   \n",
       "38968      14.9     31.4       0.0     8.800000  13.800000            0   \n",
       "66997      15.7     22.1       1.0     9.800000   5.300000            1   \n",
       "21808      17.6     20.7       3.2     5.800000   1.600000            1   \n",
       "86513       7.8     22.5       0.0     4.400000  10.200000            1   \n",
       "127618     19.3     25.1       0.0     5.462012   7.611104            1   \n",
       "\n",
       "        WindGustSpeed  WindDir9am  WindDir3pm  WindSpeed9am  WindSpeed3pm  \\\n",
       "105774           26.0           1           1           2.0           6.0   \n",
       "67873            50.0           1           1          28.0          31.0   \n",
       "130861           48.0           0           1           2.0           6.0   \n",
       "22096            54.0           1           1          26.0          30.0   \n",
       "135805           59.0           1           1          26.0          33.0   \n",
       "...               ...         ...         ...           ...           ...   \n",
       "38968            33.0           1           1          22.0           9.0   \n",
       "66997            52.0           1           1          22.0          24.0   \n",
       "21808            50.0           1           1          20.0          33.0   \n",
       "86513            20.0           1           1           6.0           9.0   \n",
       "127618           43.0           0           1          17.0          24.0   \n",
       "\n",
       "        Humidity9am  Humidity3pm  Pressure9am  Pressure3pm  Cloud9am  \\\n",
       "105774         57.0         36.0  1029.900000   1026.50000  1.000000   \n",
       "67873          64.0         60.0  1015.300000   1015.20000  4.000000   \n",
       "130861         81.0         77.0  1022.700000   1020.10000  4.447542   \n",
       "22096          74.0         60.0  1011.100000   1009.40000  6.000000   \n",
       "135805         80.0         67.0  1017.650074   1015.25604  8.000000   \n",
       "...             ...          ...          ...          ...       ...   \n",
       "38968          42.0         22.0  1024.500000   1019.80000  0.000000   \n",
       "66997          67.0         45.0  1011.700000   1011.30000  8.000000   \n",
       "21808          94.0         78.0  1016.200000   1016.10000  8.000000   \n",
       "86513          63.0         48.0  1023.500000   1019.20000  1.000000   \n",
       "127618         86.0         69.0  1011.300000   1009.90000  4.447542   \n",
       "\n",
       "        Cloud3pm  Temp9am  Temp3pm  RainToday  \n",
       "105774  1.000000     12.4     18.1          0  \n",
       "67873   7.000000     11.4     14.5          1  \n",
       "130861  4.509948     13.9     15.7          0  \n",
       "22096   2.000000     17.6     18.1          1  \n",
       "135805  6.000000     12.3     13.7          1  \n",
       "...          ...      ...      ...        ...  \n",
       "38968   1.000000     21.0     29.5          0  \n",
       "66997   7.000000     16.7     21.8          0  \n",
       "21808   7.000000     18.4     19.3          1  \n",
       "86513   1.000000     14.5     20.9          0  \n",
       "127618  4.509948     21.2     24.2          0  \n",
       "\n",
       "[20000 rows x 20 columns]"
      ]
     },
     "execution_count": 131,
     "metadata": {},
     "output_type": "execute_result"
    }
   ],
   "source": [
    "X "
   ]
  },
  {
   "cell_type": "code",
   "execution_count": 132,
   "metadata": {},
   "outputs": [],
   "source": [
    "# X = pd.get_dummies(X, drop_first=True)"
   ]
  },
  {
   "cell_type": "code",
   "execution_count": 133,
   "metadata": {},
   "outputs": [
    {
     "data": {
      "text/html": [
       "<div>\n",
       "<style scoped>\n",
       "    .dataframe tbody tr th:only-of-type {\n",
       "        vertical-align: middle;\n",
       "    }\n",
       "\n",
       "    .dataframe tbody tr th {\n",
       "        vertical-align: top;\n",
       "    }\n",
       "\n",
       "    .dataframe thead th {\n",
       "        text-align: right;\n",
       "    }\n",
       "</style>\n",
       "<table border=\"1\" class=\"dataframe\">\n",
       "  <thead>\n",
       "    <tr style=\"text-align: right;\">\n",
       "      <th></th>\n",
       "      <th>MinTemp</th>\n",
       "      <th>MaxTemp</th>\n",
       "      <th>Rainfall</th>\n",
       "      <th>Evaporation</th>\n",
       "      <th>Sunshine</th>\n",
       "      <th>WindGustDir</th>\n",
       "      <th>WindGustSpeed</th>\n",
       "      <th>WindDir9am</th>\n",
       "      <th>WindDir3pm</th>\n",
       "      <th>WindSpeed9am</th>\n",
       "      <th>WindSpeed3pm</th>\n",
       "      <th>Humidity9am</th>\n",
       "      <th>Humidity3pm</th>\n",
       "      <th>Pressure9am</th>\n",
       "      <th>Pressure3pm</th>\n",
       "      <th>Cloud9am</th>\n",
       "      <th>Cloud3pm</th>\n",
       "      <th>Temp9am</th>\n",
       "      <th>Temp3pm</th>\n",
       "      <th>RainToday</th>\n",
       "    </tr>\n",
       "  </thead>\n",
       "  <tbody>\n",
       "    <tr>\n",
       "      <th>105774</th>\n",
       "      <td>6.7</td>\n",
       "      <td>18.5</td>\n",
       "      <td>0.0</td>\n",
       "      <td>2.800000</td>\n",
       "      <td>10.200000</td>\n",
       "      <td>1</td>\n",
       "      <td>26.0</td>\n",
       "      <td>1</td>\n",
       "      <td>1</td>\n",
       "      <td>2.0</td>\n",
       "      <td>6.0</td>\n",
       "      <td>57.0</td>\n",
       "      <td>36.0</td>\n",
       "      <td>1029.900000</td>\n",
       "      <td>1026.50000</td>\n",
       "      <td>1.000000</td>\n",
       "      <td>1.000000</td>\n",
       "      <td>12.4</td>\n",
       "      <td>18.1</td>\n",
       "      <td>0</td>\n",
       "    </tr>\n",
       "    <tr>\n",
       "      <th>67873</th>\n",
       "      <td>9.1</td>\n",
       "      <td>17.3</td>\n",
       "      <td>4.2</td>\n",
       "      <td>4.000000</td>\n",
       "      <td>6.000000</td>\n",
       "      <td>1</td>\n",
       "      <td>50.0</td>\n",
       "      <td>1</td>\n",
       "      <td>1</td>\n",
       "      <td>28.0</td>\n",
       "      <td>31.0</td>\n",
       "      <td>64.0</td>\n",
       "      <td>60.0</td>\n",
       "      <td>1015.300000</td>\n",
       "      <td>1015.20000</td>\n",
       "      <td>4.000000</td>\n",
       "      <td>7.000000</td>\n",
       "      <td>11.4</td>\n",
       "      <td>14.5</td>\n",
       "      <td>1</td>\n",
       "    </tr>\n",
       "    <tr>\n",
       "      <th>130861</th>\n",
       "      <td>11.8</td>\n",
       "      <td>18.1</td>\n",
       "      <td>0.0</td>\n",
       "      <td>2.400000</td>\n",
       "      <td>1.800000</td>\n",
       "      <td>1</td>\n",
       "      <td>48.0</td>\n",
       "      <td>0</td>\n",
       "      <td>1</td>\n",
       "      <td>2.0</td>\n",
       "      <td>6.0</td>\n",
       "      <td>81.0</td>\n",
       "      <td>77.0</td>\n",
       "      <td>1022.700000</td>\n",
       "      <td>1020.10000</td>\n",
       "      <td>4.447542</td>\n",
       "      <td>4.509948</td>\n",
       "      <td>13.9</td>\n",
       "      <td>15.7</td>\n",
       "      <td>0</td>\n",
       "    </tr>\n",
       "    <tr>\n",
       "      <th>22096</th>\n",
       "      <td>13.0</td>\n",
       "      <td>18.4</td>\n",
       "      <td>3.4</td>\n",
       "      <td>5.800000</td>\n",
       "      <td>7.500000</td>\n",
       "      <td>1</td>\n",
       "      <td>54.0</td>\n",
       "      <td>1</td>\n",
       "      <td>1</td>\n",
       "      <td>26.0</td>\n",
       "      <td>30.0</td>\n",
       "      <td>74.0</td>\n",
       "      <td>60.0</td>\n",
       "      <td>1011.100000</td>\n",
       "      <td>1009.40000</td>\n",
       "      <td>6.000000</td>\n",
       "      <td>2.000000</td>\n",
       "      <td>17.6</td>\n",
       "      <td>18.1</td>\n",
       "      <td>1</td>\n",
       "    </tr>\n",
       "    <tr>\n",
       "      <th>135805</th>\n",
       "      <td>11.7</td>\n",
       "      <td>14.2</td>\n",
       "      <td>16.8</td>\n",
       "      <td>5.462012</td>\n",
       "      <td>7.611104</td>\n",
       "      <td>1</td>\n",
       "      <td>59.0</td>\n",
       "      <td>1</td>\n",
       "      <td>1</td>\n",
       "      <td>26.0</td>\n",
       "      <td>33.0</td>\n",
       "      <td>80.0</td>\n",
       "      <td>67.0</td>\n",
       "      <td>1017.650074</td>\n",
       "      <td>1015.25604</td>\n",
       "      <td>8.000000</td>\n",
       "      <td>6.000000</td>\n",
       "      <td>12.3</td>\n",
       "      <td>13.7</td>\n",
       "      <td>1</td>\n",
       "    </tr>\n",
       "    <tr>\n",
       "      <th>...</th>\n",
       "      <td>...</td>\n",
       "      <td>...</td>\n",
       "      <td>...</td>\n",
       "      <td>...</td>\n",
       "      <td>...</td>\n",
       "      <td>...</td>\n",
       "      <td>...</td>\n",
       "      <td>...</td>\n",
       "      <td>...</td>\n",
       "      <td>...</td>\n",
       "      <td>...</td>\n",
       "      <td>...</td>\n",
       "      <td>...</td>\n",
       "      <td>...</td>\n",
       "      <td>...</td>\n",
       "      <td>...</td>\n",
       "      <td>...</td>\n",
       "      <td>...</td>\n",
       "      <td>...</td>\n",
       "      <td>...</td>\n",
       "    </tr>\n",
       "    <tr>\n",
       "      <th>38968</th>\n",
       "      <td>14.9</td>\n",
       "      <td>31.4</td>\n",
       "      <td>0.0</td>\n",
       "      <td>8.800000</td>\n",
       "      <td>13.800000</td>\n",
       "      <td>0</td>\n",
       "      <td>33.0</td>\n",
       "      <td>1</td>\n",
       "      <td>1</td>\n",
       "      <td>22.0</td>\n",
       "      <td>9.0</td>\n",
       "      <td>42.0</td>\n",
       "      <td>22.0</td>\n",
       "      <td>1024.500000</td>\n",
       "      <td>1019.80000</td>\n",
       "      <td>0.000000</td>\n",
       "      <td>1.000000</td>\n",
       "      <td>21.0</td>\n",
       "      <td>29.5</td>\n",
       "      <td>0</td>\n",
       "    </tr>\n",
       "    <tr>\n",
       "      <th>66997</th>\n",
       "      <td>15.7</td>\n",
       "      <td>22.1</td>\n",
       "      <td>1.0</td>\n",
       "      <td>9.800000</td>\n",
       "      <td>5.300000</td>\n",
       "      <td>1</td>\n",
       "      <td>52.0</td>\n",
       "      <td>1</td>\n",
       "      <td>1</td>\n",
       "      <td>22.0</td>\n",
       "      <td>24.0</td>\n",
       "      <td>67.0</td>\n",
       "      <td>45.0</td>\n",
       "      <td>1011.700000</td>\n",
       "      <td>1011.30000</td>\n",
       "      <td>8.000000</td>\n",
       "      <td>7.000000</td>\n",
       "      <td>16.7</td>\n",
       "      <td>21.8</td>\n",
       "      <td>0</td>\n",
       "    </tr>\n",
       "    <tr>\n",
       "      <th>21808</th>\n",
       "      <td>17.6</td>\n",
       "      <td>20.7</td>\n",
       "      <td>3.2</td>\n",
       "      <td>5.800000</td>\n",
       "      <td>1.600000</td>\n",
       "      <td>1</td>\n",
       "      <td>50.0</td>\n",
       "      <td>1</td>\n",
       "      <td>1</td>\n",
       "      <td>20.0</td>\n",
       "      <td>33.0</td>\n",
       "      <td>94.0</td>\n",
       "      <td>78.0</td>\n",
       "      <td>1016.200000</td>\n",
       "      <td>1016.10000</td>\n",
       "      <td>8.000000</td>\n",
       "      <td>7.000000</td>\n",
       "      <td>18.4</td>\n",
       "      <td>19.3</td>\n",
       "      <td>1</td>\n",
       "    </tr>\n",
       "    <tr>\n",
       "      <th>86513</th>\n",
       "      <td>7.8</td>\n",
       "      <td>22.5</td>\n",
       "      <td>0.0</td>\n",
       "      <td>4.400000</td>\n",
       "      <td>10.200000</td>\n",
       "      <td>1</td>\n",
       "      <td>20.0</td>\n",
       "      <td>1</td>\n",
       "      <td>1</td>\n",
       "      <td>6.0</td>\n",
       "      <td>9.0</td>\n",
       "      <td>63.0</td>\n",
       "      <td>48.0</td>\n",
       "      <td>1023.500000</td>\n",
       "      <td>1019.20000</td>\n",
       "      <td>1.000000</td>\n",
       "      <td>1.000000</td>\n",
       "      <td>14.5</td>\n",
       "      <td>20.9</td>\n",
       "      <td>0</td>\n",
       "    </tr>\n",
       "    <tr>\n",
       "      <th>127618</th>\n",
       "      <td>19.3</td>\n",
       "      <td>25.1</td>\n",
       "      <td>0.0</td>\n",
       "      <td>5.462012</td>\n",
       "      <td>7.611104</td>\n",
       "      <td>1</td>\n",
       "      <td>43.0</td>\n",
       "      <td>0</td>\n",
       "      <td>1</td>\n",
       "      <td>17.0</td>\n",
       "      <td>24.0</td>\n",
       "      <td>86.0</td>\n",
       "      <td>69.0</td>\n",
       "      <td>1011.300000</td>\n",
       "      <td>1009.90000</td>\n",
       "      <td>4.447542</td>\n",
       "      <td>4.509948</td>\n",
       "      <td>21.2</td>\n",
       "      <td>24.2</td>\n",
       "      <td>0</td>\n",
       "    </tr>\n",
       "  </tbody>\n",
       "</table>\n",
       "<p>20000 rows × 20 columns</p>\n",
       "</div>"
      ],
      "text/plain": [
       "        MinTemp  MaxTemp  Rainfall  Evaporation   Sunshine  WindGustDir  \\\n",
       "105774      6.7     18.5       0.0     2.800000  10.200000            1   \n",
       "67873       9.1     17.3       4.2     4.000000   6.000000            1   \n",
       "130861     11.8     18.1       0.0     2.400000   1.800000            1   \n",
       "22096      13.0     18.4       3.4     5.800000   7.500000            1   \n",
       "135805     11.7     14.2      16.8     5.462012   7.611104            1   \n",
       "...         ...      ...       ...          ...        ...          ...   \n",
       "38968      14.9     31.4       0.0     8.800000  13.800000            0   \n",
       "66997      15.7     22.1       1.0     9.800000   5.300000            1   \n",
       "21808      17.6     20.7       3.2     5.800000   1.600000            1   \n",
       "86513       7.8     22.5       0.0     4.400000  10.200000            1   \n",
       "127618     19.3     25.1       0.0     5.462012   7.611104            1   \n",
       "\n",
       "        WindGustSpeed  WindDir9am  WindDir3pm  WindSpeed9am  WindSpeed3pm  \\\n",
       "105774           26.0           1           1           2.0           6.0   \n",
       "67873            50.0           1           1          28.0          31.0   \n",
       "130861           48.0           0           1           2.0           6.0   \n",
       "22096            54.0           1           1          26.0          30.0   \n",
       "135805           59.0           1           1          26.0          33.0   \n",
       "...               ...         ...         ...           ...           ...   \n",
       "38968            33.0           1           1          22.0           9.0   \n",
       "66997            52.0           1           1          22.0          24.0   \n",
       "21808            50.0           1           1          20.0          33.0   \n",
       "86513            20.0           1           1           6.0           9.0   \n",
       "127618           43.0           0           1          17.0          24.0   \n",
       "\n",
       "        Humidity9am  Humidity3pm  Pressure9am  Pressure3pm  Cloud9am  \\\n",
       "105774         57.0         36.0  1029.900000   1026.50000  1.000000   \n",
       "67873          64.0         60.0  1015.300000   1015.20000  4.000000   \n",
       "130861         81.0         77.0  1022.700000   1020.10000  4.447542   \n",
       "22096          74.0         60.0  1011.100000   1009.40000  6.000000   \n",
       "135805         80.0         67.0  1017.650074   1015.25604  8.000000   \n",
       "...             ...          ...          ...          ...       ...   \n",
       "38968          42.0         22.0  1024.500000   1019.80000  0.000000   \n",
       "66997          67.0         45.0  1011.700000   1011.30000  8.000000   \n",
       "21808          94.0         78.0  1016.200000   1016.10000  8.000000   \n",
       "86513          63.0         48.0  1023.500000   1019.20000  1.000000   \n",
       "127618         86.0         69.0  1011.300000   1009.90000  4.447542   \n",
       "\n",
       "        Cloud3pm  Temp9am  Temp3pm  RainToday  \n",
       "105774  1.000000     12.4     18.1          0  \n",
       "67873   7.000000     11.4     14.5          1  \n",
       "130861  4.509948     13.9     15.7          0  \n",
       "22096   2.000000     17.6     18.1          1  \n",
       "135805  6.000000     12.3     13.7          1  \n",
       "...          ...      ...      ...        ...  \n",
       "38968   1.000000     21.0     29.5          0  \n",
       "66997   7.000000     16.7     21.8          0  \n",
       "21808   7.000000     18.4     19.3          1  \n",
       "86513   1.000000     14.5     20.9          0  \n",
       "127618  4.509948     21.2     24.2          0  \n",
       "\n",
       "[20000 rows x 20 columns]"
      ]
     },
     "execution_count": 133,
     "metadata": {},
     "output_type": "execute_result"
    }
   ],
   "source": [
    "X"
   ]
  },
  {
   "cell_type": "code",
   "execution_count": 134,
   "metadata": {},
   "outputs": [],
   "source": [
    "from sklearn.preprocessing import StandardScaler\n",
    "from sklearn.preprocessing import MinMaxScaler"
   ]
  },
  {
   "cell_type": "code",
   "execution_count": 135,
   "metadata": {},
   "outputs": [],
   "source": [
    "scaler = StandardScaler()\n",
    "min_max = MinMaxScaler()"
   ]
  },
  {
   "cell_type": "code",
   "execution_count": 136,
   "metadata": {},
   "outputs": [],
   "source": [
    "X = min_max.fit_transform(X)"
   ]
  },
  {
   "cell_type": "code",
   "execution_count": 137,
   "metadata": {},
   "outputs": [],
   "source": [
    "from sklearn.model_selection import train_test_split"
   ]
  },
  {
   "cell_type": "code",
   "execution_count": 138,
   "metadata": {},
   "outputs": [],
   "source": [
    "X_train, X_test, y_train, y_test = train_test_split(X, y, test_size=0.2, random_state=1234)"
   ]
  },
  {
   "cell_type": "code",
   "execution_count": 139,
   "metadata": {},
   "outputs": [],
   "source": [
    "from sklearn.linear_model import LogisticRegression"
   ]
  },
  {
   "cell_type": "code",
   "execution_count": 140,
   "metadata": {},
   "outputs": [],
   "source": [
    "log_reg = LogisticRegression()"
   ]
  },
  {
   "cell_type": "code",
   "execution_count": 141,
   "metadata": {},
   "outputs": [
    {
     "name": "stdout",
     "output_type": "stream",
     "text": [
      "Accuracy on the training subset: 0.843\n",
      "Accuracy on the test subset: 0.849\n"
     ]
    },
    {
     "name": "stderr",
     "output_type": "stream",
     "text": [
      "C:\\Users\\hp\\Anaconda3\\lib\\site-packages\\sklearn\\linear_model\\_logistic.py:818: ConvergenceWarning: lbfgs failed to converge (status=1):\n",
      "STOP: TOTAL NO. of ITERATIONS REACHED LIMIT.\n",
      "\n",
      "Increase the number of iterations (max_iter) or scale the data as shown in:\n",
      "    https://scikit-learn.org/stable/modules/preprocessing.html\n",
      "Please also refer to the documentation for alternative solver options:\n",
      "    https://scikit-learn.org/stable/modules/linear_model.html#logistic-regression\n",
      "  extra_warning_msg=_LOGISTIC_SOLVER_CONVERGENCE_MSG,\n"
     ]
    }
   ],
   "source": [
    "log_reg.fit(X_train, y_train)\n",
    "print('Accuracy on the training subset: {:.3f}'.format(log_reg.score(X_train,y_train)))\n",
    "print('Accuracy on the test subset: {:.3f}'.format(log_reg.score(X_test,y_test)))"
   ]
  },
  {
   "cell_type": "code",
   "execution_count": 142,
   "metadata": {},
   "outputs": [],
   "source": [
    "from sklearn.neighbors import KNeighborsClassifier"
   ]
  },
  {
   "cell_type": "code",
   "execution_count": 143,
   "metadata": {},
   "outputs": [],
   "source": [
    "knn = KNeighborsClassifier()\n",
    "# knn.fit(X_train, y_train)"
   ]
  },
  {
   "cell_type": "code",
   "execution_count": 144,
   "metadata": {},
   "outputs": [],
   "source": [
    "# print(\"Accuracy of knn n-5, on the training set: {:.3f}\".format(knn.score(X_train,y_train)))\n",
    "# print(\"Accuracy of knn-5, on testing set: {:.3f}\".format(knn.score(X_test,y_test)))"
   ]
  },
  {
   "cell_type": "code",
   "execution_count": 145,
   "metadata": {},
   "outputs": [],
   "source": [
    "# X_train, X_test, y_train, y_test = train_test_split(X, y, test_size=0.2, random_state=1234)\n",
    "\n",
    "\n",
    "# training_accuracy = []\n",
    "# test_accuracy = []\n",
    "\n",
    "# neighbors_settings = range(1,11)\n",
    "\n",
    "# for n_neighbors in neighbors_settings:\n",
    "#     clf = KNeighborsClassifier(n_neighbors=n_neighbors)\n",
    "#     clf.fit(X_train,y_train)\n",
    "#     training_accuracy.append(clf.score(X_train,y_train))\n",
    "#     test_accuracy.append(clf.score(X_test,y_test))\n",
    "\n",
    "# plt.plot(neighbors_settings, training_accuracy, label='Accuracy of the training set')\n",
    "# plt.plot(neighbors_settings, test_accuracy, label='Accuracy of the test set')\n",
    "# plt.ylabel('Accuracy')\n",
    "# plt.xlabel('Number of Neighbors')\n",
    "# plt.legend()"
   ]
  },
  {
   "cell_type": "code",
   "execution_count": 146,
   "metadata": {},
   "outputs": [],
   "source": [
    "pred =log_reg.predict(X_test)"
   ]
  },
  {
   "cell_type": "code",
   "execution_count": 147,
   "metadata": {},
   "outputs": [
    {
     "data": {
      "text/plain": [
       "array([0, 0, 0, ..., 0, 0, 0], dtype=int64)"
      ]
     },
     "execution_count": 147,
     "metadata": {},
     "output_type": "execute_result"
    }
   ],
   "source": [
    "pred"
   ]
  },
  {
   "cell_type": "code",
   "execution_count": 148,
   "metadata": {},
   "outputs": [],
   "source": [
    "from sklearn.metrics import accuracy_score, f1_score, confusion_matrix"
   ]
  },
  {
   "cell_type": "code",
   "execution_count": 149,
   "metadata": {},
   "outputs": [
    {
     "data": {
      "text/plain": [
       "0.5960000000000001"
      ]
     },
     "execution_count": 149,
     "metadata": {},
     "output_type": "execute_result"
    }
   ],
   "source": [
    "f1_score(y_test, pred)"
   ]
  },
  {
   "cell_type": "code",
   "execution_count": 150,
   "metadata": {},
   "outputs": [
    {
     "data": {
      "text/plain": [
       "array([[2947,  167],\n",
       "       [ 439,  447]], dtype=int64)"
      ]
     },
     "execution_count": 150,
     "metadata": {},
     "output_type": "execute_result"
    }
   ],
   "source": [
    "confusion_matrix(y_test, pred)"
   ]
  },
  {
   "cell_type": "code",
   "execution_count": 151,
   "metadata": {},
   "outputs": [],
   "source": [
    "from sklearn.tree import DecisionTreeClassifier\n"
   ]
  },
  {
   "cell_type": "code",
   "execution_count": 152,
   "metadata": {},
   "outputs": [
    {
     "data": {
      "text/plain": [
       "DecisionTreeClassifier()"
      ]
     },
     "execution_count": 152,
     "metadata": {},
     "output_type": "execute_result"
    }
   ],
   "source": [
    "dct = DecisionTreeClassifier()\n",
    "dct.fit(X_train, y_train)"
   ]
  },
  {
   "cell_type": "code",
   "execution_count": 153,
   "metadata": {},
   "outputs": [
    {
     "data": {
      "text/plain": [
       "1.0"
      ]
     },
     "execution_count": 153,
     "metadata": {},
     "output_type": "execute_result"
    }
   ],
   "source": [
    "dct.score(X_train, y_train)"
   ]
  },
  {
   "cell_type": "code",
   "execution_count": 154,
   "metadata": {},
   "outputs": [
    {
     "data": {
      "text/plain": [
       "0.8125"
      ]
     },
     "execution_count": 154,
     "metadata": {},
     "output_type": "execute_result"
    }
   ],
   "source": [
    "dct.score(X_test, y_test)"
   ]
  },
  {
   "cell_type": "code",
   "execution_count": 155,
   "metadata": {},
   "outputs": [],
   "source": [
    "dct_pred = dct.predict(X_test)"
   ]
  },
  {
   "cell_type": "code",
   "execution_count": 156,
   "metadata": {},
   "outputs": [
    {
     "data": {
      "text/plain": [
       "0.5791245791245792"
      ]
     },
     "execution_count": 156,
     "metadata": {},
     "output_type": "execute_result"
    }
   ],
   "source": [
    "f1_score(y_test, dct_pred)"
   ]
  },
  {
   "cell_type": "code",
   "execution_count": 157,
   "metadata": {},
   "outputs": [
    {
     "data": {
      "text/plain": [
       "array([[2734,  380],\n",
       "       [ 370,  516]], dtype=int64)"
      ]
     },
     "execution_count": 157,
     "metadata": {},
     "output_type": "execute_result"
    }
   ],
   "source": [
    "confusion_matrix(y_test, dct_pred)"
   ]
  },
  {
   "cell_type": "code",
   "execution_count": 158,
   "metadata": {},
   "outputs": [],
   "source": [
    "# knn10 = KNeighborsClassifier(n_neighbors=10)\n",
    "# knn10.fit(X_train,y_train)\n"
   ]
  },
  {
   "cell_type": "code",
   "execution_count": 159,
   "metadata": {},
   "outputs": [],
   "source": [
    "# knn10_pred = knn10.predict(X_test)"
   ]
  },
  {
   "cell_type": "code",
   "execution_count": 160,
   "metadata": {},
   "outputs": [],
   "source": [
    "# f1_score(y_test,knn10_pred)"
   ]
  },
  {
   "cell_type": "code",
   "execution_count": 161,
   "metadata": {},
   "outputs": [],
   "source": [
    "# confusion_matrix(y_test,knn10_pred)"
   ]
  },
  {
   "cell_type": "code",
   "execution_count": 162,
   "metadata": {},
   "outputs": [],
   "source": [
    "# def knn_class(X,y,name):\n",
    "#     X_train, X_test, y_train, y_test = train_test_split(X, y, test_size=0.2, random_state=1234)\n",
    "\n",
    "\n",
    "#     training_accuracy = []\n",
    "#     test_accuracy = []\n",
    "\n",
    "#     neighbors_settings = range(1,11)\n",
    "\n",
    "#     for n_neighbors in neighbors_settings:\n",
    "#         clf = KNeighborsClassifier(n_neighbors=n_neighbors)\n",
    "#         clf.fit(X_train,y_train)\n",
    "#         clf_pred = clf.predict(X_test)\n",
    "#         training_accuracy.append(clf.score(X_train,y_train))\n",
    "#         test_accuracy.append(clf.score(X_test,y_test))\n",
    "#         print(\"F1_score with n_neighbors of \" + str(n_neighbors), f1_score(y_test, clf_pred))\n",
    "#         print(\"Confusion matrix with n_neighbors of \" + str(n_neighbors), confusion_matrix(y_test, clf_pred))\n",
    "#     print(name)\n",
    "#     plt.plot(neighbors_settings, training_accuracy, label='Accuracy of the training set')\n",
    "#     plt.plot(neighbors_settings, test_accuracy, label='Accuracy of the test set')\n",
    "#     plt.ylabel('Accuracy')\n",
    "#     plt.xlabel('Number of Neighbors')\n",
    "#     plt.legend()"
   ]
  },
  {
   "cell_type": "code",
   "execution_count": 163,
   "metadata": {},
   "outputs": [],
   "source": [
    "# knn_class(X,y,\"normal sample\")"
   ]
  },
  {
   "cell_type": "code",
   "execution_count": 164,
   "metadata": {},
   "outputs": [],
   "source": [
    "import catboost\n",
    "from xgboost import XGBClassifier"
   ]
  },
  {
   "cell_type": "code",
   "execution_count": 165,
   "metadata": {},
   "outputs": [
    {
     "name": "stdout",
     "output_type": "stream",
     "text": [
      "Learning rate set to 0.033658\n",
      "0:\tlearn: 0.6706965\ttotal: 226ms\tremaining: 3m 46s\n",
      "1:\tlearn: 0.6496777\ttotal: 241ms\tremaining: 2m\n",
      "2:\tlearn: 0.6284042\ttotal: 254ms\tremaining: 1m 24s\n",
      "3:\tlearn: 0.6084390\ttotal: 267ms\tremaining: 1m 6s\n",
      "4:\tlearn: 0.5912377\ttotal: 280ms\tremaining: 55.8s\n",
      "5:\tlearn: 0.5755969\ttotal: 294ms\tremaining: 48.7s\n",
      "6:\tlearn: 0.5607803\ttotal: 307ms\tremaining: 43.5s\n",
      "7:\tlearn: 0.5460500\ttotal: 318ms\tremaining: 39.4s\n",
      "8:\tlearn: 0.5337363\ttotal: 329ms\tremaining: 36.2s\n",
      "9:\tlearn: 0.5220593\ttotal: 341ms\tremaining: 33.7s\n",
      "10:\tlearn: 0.5109169\ttotal: 352ms\tremaining: 31.7s\n",
      "11:\tlearn: 0.4998875\ttotal: 363ms\tremaining: 29.9s\n",
      "12:\tlearn: 0.4908975\ttotal: 374ms\tremaining: 28.4s\n",
      "13:\tlearn: 0.4825175\ttotal: 384ms\tremaining: 27.1s\n",
      "14:\tlearn: 0.4753457\ttotal: 396ms\tremaining: 26s\n",
      "15:\tlearn: 0.4678856\ttotal: 407ms\tremaining: 25s\n",
      "16:\tlearn: 0.4609402\ttotal: 421ms\tremaining: 24.4s\n",
      "17:\tlearn: 0.4538036\ttotal: 435ms\tremaining: 23.7s\n",
      "18:\tlearn: 0.4473318\ttotal: 448ms\tremaining: 23.1s\n",
      "19:\tlearn: 0.4412258\ttotal: 461ms\tremaining: 22.6s\n",
      "20:\tlearn: 0.4346131\ttotal: 475ms\tremaining: 22.1s\n",
      "21:\tlearn: 0.4298676\ttotal: 488ms\tremaining: 21.7s\n",
      "22:\tlearn: 0.4250139\ttotal: 500ms\tremaining: 21.2s\n",
      "23:\tlearn: 0.4206357\ttotal: 511ms\tremaining: 20.8s\n",
      "24:\tlearn: 0.4171755\ttotal: 522ms\tremaining: 20.4s\n",
      "25:\tlearn: 0.4134881\ttotal: 533ms\tremaining: 20s\n",
      "26:\tlearn: 0.4101009\ttotal: 543ms\tremaining: 19.6s\n",
      "27:\tlearn: 0.4064890\ttotal: 554ms\tremaining: 19.2s\n",
      "28:\tlearn: 0.4038505\ttotal: 565ms\tremaining: 18.9s\n",
      "29:\tlearn: 0.4004807\ttotal: 576ms\tremaining: 18.6s\n",
      "30:\tlearn: 0.3979788\ttotal: 587ms\tremaining: 18.4s\n",
      "31:\tlearn: 0.3952542\ttotal: 598ms\tremaining: 18.1s\n",
      "32:\tlearn: 0.3931794\ttotal: 612ms\tremaining: 17.9s\n",
      "33:\tlearn: 0.3910175\ttotal: 625ms\tremaining: 17.8s\n",
      "34:\tlearn: 0.3886813\ttotal: 639ms\tremaining: 17.6s\n",
      "35:\tlearn: 0.3864330\ttotal: 652ms\tremaining: 17.5s\n",
      "36:\tlearn: 0.3846240\ttotal: 665ms\tremaining: 17.3s\n",
      "37:\tlearn: 0.3827401\ttotal: 680ms\tremaining: 17.2s\n",
      "38:\tlearn: 0.3809416\ttotal: 691ms\tremaining: 17s\n",
      "39:\tlearn: 0.3797208\ttotal: 702ms\tremaining: 16.8s\n",
      "40:\tlearn: 0.3778081\ttotal: 713ms\tremaining: 16.7s\n",
      "41:\tlearn: 0.3764436\ttotal: 724ms\tremaining: 16.5s\n",
      "42:\tlearn: 0.3749751\ttotal: 735ms\tremaining: 16.4s\n",
      "43:\tlearn: 0.3735677\ttotal: 747ms\tremaining: 16.2s\n",
      "44:\tlearn: 0.3724058\ttotal: 758ms\tremaining: 16.1s\n",
      "45:\tlearn: 0.3709025\ttotal: 769ms\tremaining: 15.9s\n",
      "46:\tlearn: 0.3698436\ttotal: 780ms\tremaining: 15.8s\n",
      "47:\tlearn: 0.3684482\ttotal: 792ms\tremaining: 15.7s\n",
      "48:\tlearn: 0.3672854\ttotal: 809ms\tremaining: 15.7s\n",
      "49:\tlearn: 0.3661735\ttotal: 822ms\tremaining: 15.6s\n",
      "50:\tlearn: 0.3651615\ttotal: 835ms\tremaining: 15.5s\n",
      "51:\tlearn: 0.3643863\ttotal: 849ms\tremaining: 15.5s\n",
      "52:\tlearn: 0.3635199\ttotal: 862ms\tremaining: 15.4s\n",
      "53:\tlearn: 0.3628704\ttotal: 876ms\tremaining: 15.3s\n",
      "54:\tlearn: 0.3622229\ttotal: 888ms\tremaining: 15.3s\n",
      "55:\tlearn: 0.3613797\ttotal: 899ms\tremaining: 15.2s\n",
      "56:\tlearn: 0.3606476\ttotal: 911ms\tremaining: 15.1s\n",
      "57:\tlearn: 0.3599093\ttotal: 922ms\tremaining: 15s\n",
      "58:\tlearn: 0.3591993\ttotal: 933ms\tremaining: 14.9s\n",
      "59:\tlearn: 0.3586119\ttotal: 944ms\tremaining: 14.8s\n",
      "60:\tlearn: 0.3579512\ttotal: 955ms\tremaining: 14.7s\n",
      "61:\tlearn: 0.3571517\ttotal: 966ms\tremaining: 14.6s\n",
      "62:\tlearn: 0.3565512\ttotal: 977ms\tremaining: 14.5s\n",
      "63:\tlearn: 0.3559632\ttotal: 989ms\tremaining: 14.5s\n",
      "64:\tlearn: 0.3553291\ttotal: 1s\tremaining: 14.4s\n",
      "65:\tlearn: 0.3547139\ttotal: 1.02s\tremaining: 14.4s\n",
      "66:\tlearn: 0.3542349\ttotal: 1.03s\tremaining: 14.4s\n",
      "67:\tlearn: 0.3538552\ttotal: 1.04s\tremaining: 14.3s\n",
      "68:\tlearn: 0.3533998\ttotal: 1.06s\tremaining: 14.3s\n",
      "69:\tlearn: 0.3530088\ttotal: 1.07s\tremaining: 14.2s\n",
      "70:\tlearn: 0.3523215\ttotal: 1.08s\tremaining: 14.2s\n",
      "71:\tlearn: 0.3518243\ttotal: 1.1s\tremaining: 14.1s\n",
      "72:\tlearn: 0.3514311\ttotal: 1.11s\tremaining: 14.1s\n",
      "73:\tlearn: 0.3508490\ttotal: 1.12s\tremaining: 14s\n",
      "74:\tlearn: 0.3503198\ttotal: 1.13s\tremaining: 14s\n",
      "75:\tlearn: 0.3498684\ttotal: 1.14s\tremaining: 13.9s\n",
      "76:\tlearn: 0.3495174\ttotal: 1.15s\tremaining: 13.8s\n",
      "77:\tlearn: 0.3491536\ttotal: 1.16s\tremaining: 13.8s\n",
      "78:\tlearn: 0.3488033\ttotal: 1.17s\tremaining: 13.7s\n",
      "79:\tlearn: 0.3483979\ttotal: 1.19s\tremaining: 13.6s\n",
      "80:\tlearn: 0.3480226\ttotal: 1.2s\tremaining: 13.6s\n",
      "81:\tlearn: 0.3477063\ttotal: 1.22s\tremaining: 13.6s\n",
      "82:\tlearn: 0.3473283\ttotal: 1.23s\tremaining: 13.6s\n",
      "83:\tlearn: 0.3468848\ttotal: 1.24s\tremaining: 13.6s\n",
      "84:\tlearn: 0.3464524\ttotal: 1.26s\tremaining: 13.5s\n",
      "85:\tlearn: 0.3460875\ttotal: 1.27s\tremaining: 13.5s\n",
      "86:\tlearn: 0.3456537\ttotal: 1.28s\tremaining: 13.5s\n",
      "87:\tlearn: 0.3453338\ttotal: 1.29s\tremaining: 13.4s\n",
      "88:\tlearn: 0.3449751\ttotal: 1.3s\tremaining: 13.4s\n",
      "89:\tlearn: 0.3447471\ttotal: 1.32s\tremaining: 13.3s\n",
      "90:\tlearn: 0.3444798\ttotal: 1.33s\tremaining: 13.3s\n",
      "91:\tlearn: 0.3441433\ttotal: 1.34s\tremaining: 13.2s\n",
      "92:\tlearn: 0.3437739\ttotal: 1.35s\tremaining: 13.2s\n",
      "93:\tlearn: 0.3434725\ttotal: 1.36s\tremaining: 13.1s\n",
      "94:\tlearn: 0.3431916\ttotal: 1.37s\tremaining: 13.1s\n",
      "95:\tlearn: 0.3429090\ttotal: 1.38s\tremaining: 13s\n",
      "96:\tlearn: 0.3426777\ttotal: 1.39s\tremaining: 13s\n",
      "97:\tlearn: 0.3423578\ttotal: 1.41s\tremaining: 12.9s\n",
      "98:\tlearn: 0.3420970\ttotal: 1.42s\tremaining: 12.9s\n",
      "99:\tlearn: 0.3417751\ttotal: 1.43s\tremaining: 12.9s\n",
      "100:\tlearn: 0.3415242\ttotal: 1.45s\tremaining: 12.9s\n",
      "101:\tlearn: 0.3412603\ttotal: 1.46s\tremaining: 12.9s\n",
      "102:\tlearn: 0.3409379\ttotal: 1.47s\tremaining: 12.8s\n",
      "103:\tlearn: 0.3407124\ttotal: 1.49s\tremaining: 12.8s\n",
      "104:\tlearn: 0.3404479\ttotal: 1.5s\tremaining: 12.8s\n",
      "105:\tlearn: 0.3402304\ttotal: 1.51s\tremaining: 12.7s\n",
      "106:\tlearn: 0.3399463\ttotal: 1.52s\tremaining: 12.7s\n",
      "107:\tlearn: 0.3396022\ttotal: 1.53s\tremaining: 12.6s\n",
      "108:\tlearn: 0.3393957\ttotal: 1.54s\tremaining: 12.6s\n",
      "109:\tlearn: 0.3392644\ttotal: 1.55s\tremaining: 12.6s\n",
      "110:\tlearn: 0.3390049\ttotal: 1.56s\tremaining: 12.5s\n",
      "111:\tlearn: 0.3388670\ttotal: 1.57s\tremaining: 12.5s\n",
      "112:\tlearn: 0.3386562\ttotal: 1.58s\tremaining: 12.4s\n",
      "113:\tlearn: 0.3383840\ttotal: 1.6s\tremaining: 12.4s\n",
      "114:\tlearn: 0.3381456\ttotal: 1.61s\tremaining: 12.4s\n",
      "115:\tlearn: 0.3379110\ttotal: 1.62s\tremaining: 12.4s\n",
      "116:\tlearn: 0.3377237\ttotal: 1.64s\tremaining: 12.4s\n",
      "117:\tlearn: 0.3374455\ttotal: 1.65s\tremaining: 12.3s\n",
      "118:\tlearn: 0.3372380\ttotal: 1.66s\tremaining: 12.3s\n",
      "119:\tlearn: 0.3369758\ttotal: 1.68s\tremaining: 12.3s\n",
      "120:\tlearn: 0.3368156\ttotal: 1.69s\tremaining: 12.3s\n",
      "121:\tlearn: 0.3366061\ttotal: 1.7s\tremaining: 12.3s\n",
      "122:\tlearn: 0.3364376\ttotal: 1.72s\tremaining: 12.2s\n",
      "123:\tlearn: 0.3363148\ttotal: 1.73s\tremaining: 12.2s\n",
      "124:\tlearn: 0.3360646\ttotal: 1.74s\tremaining: 12.2s\n",
      "125:\tlearn: 0.3358808\ttotal: 1.75s\tremaining: 12.2s\n",
      "126:\tlearn: 0.3356656\ttotal: 1.77s\tremaining: 12.2s\n",
      "127:\tlearn: 0.3355057\ttotal: 1.78s\tremaining: 12.1s\n",
      "128:\tlearn: 0.3352305\ttotal: 1.79s\tremaining: 12.1s\n",
      "129:\tlearn: 0.3350128\ttotal: 1.81s\tremaining: 12.1s\n",
      "130:\tlearn: 0.3348062\ttotal: 1.82s\tremaining: 12.1s\n",
      "131:\tlearn: 0.3345709\ttotal: 1.83s\tremaining: 12s\n",
      "132:\tlearn: 0.3343597\ttotal: 1.84s\tremaining: 12s\n",
      "133:\tlearn: 0.3342292\ttotal: 1.86s\tremaining: 12s\n",
      "134:\tlearn: 0.3341132\ttotal: 1.87s\tremaining: 12s\n",
      "135:\tlearn: 0.3339054\ttotal: 1.88s\tremaining: 11.9s\n",
      "136:\tlearn: 0.3337025\ttotal: 1.89s\tremaining: 11.9s\n",
      "137:\tlearn: 0.3335693\ttotal: 1.9s\tremaining: 11.9s\n",
      "138:\tlearn: 0.3334429\ttotal: 1.91s\tremaining: 11.8s\n",
      "139:\tlearn: 0.3333109\ttotal: 1.92s\tremaining: 11.8s\n",
      "140:\tlearn: 0.3330962\ttotal: 1.93s\tremaining: 11.8s\n",
      "141:\tlearn: 0.3328247\ttotal: 1.94s\tremaining: 11.7s\n",
      "142:\tlearn: 0.3327260\ttotal: 1.95s\tremaining: 11.7s\n",
      "143:\tlearn: 0.3325540\ttotal: 1.97s\tremaining: 11.7s\n",
      "144:\tlearn: 0.3323640\ttotal: 1.98s\tremaining: 11.7s\n",
      "145:\tlearn: 0.3321920\ttotal: 2s\tremaining: 11.7s\n",
      "146:\tlearn: 0.3320068\ttotal: 2.01s\tremaining: 11.7s\n",
      "147:\tlearn: 0.3317960\ttotal: 2.02s\tremaining: 11.7s\n",
      "148:\tlearn: 0.3316736\ttotal: 2.04s\tremaining: 11.6s\n",
      "149:\tlearn: 0.3314589\ttotal: 2.05s\tremaining: 11.6s\n",
      "150:\tlearn: 0.3312712\ttotal: 2.06s\tremaining: 11.6s\n",
      "151:\tlearn: 0.3311667\ttotal: 2.07s\tremaining: 11.5s\n",
      "152:\tlearn: 0.3309410\ttotal: 2.08s\tremaining: 11.5s\n",
      "153:\tlearn: 0.3308124\ttotal: 2.09s\tremaining: 11.5s\n",
      "154:\tlearn: 0.3306134\ttotal: 2.1s\tremaining: 11.5s\n",
      "155:\tlearn: 0.3304695\ttotal: 2.12s\tremaining: 11.5s\n",
      "156:\tlearn: 0.3303484\ttotal: 2.13s\tremaining: 11.4s\n",
      "157:\tlearn: 0.3301665\ttotal: 2.14s\tremaining: 11.4s\n",
      "158:\tlearn: 0.3299612\ttotal: 2.15s\tremaining: 11.4s\n",
      "159:\tlearn: 0.3297165\ttotal: 2.17s\tremaining: 11.4s\n"
     ]
    },
    {
     "name": "stdout",
     "output_type": "stream",
     "text": [
      "160:\tlearn: 0.3294881\ttotal: 2.18s\tremaining: 11.4s\n",
      "161:\tlearn: 0.3293793\ttotal: 2.2s\tremaining: 11.4s\n",
      "162:\tlearn: 0.3292287\ttotal: 2.22s\tremaining: 11.4s\n",
      "163:\tlearn: 0.3290430\ttotal: 2.23s\tremaining: 11.4s\n",
      "164:\tlearn: 0.3288977\ttotal: 2.25s\tremaining: 11.4s\n",
      "165:\tlearn: 0.3287831\ttotal: 2.26s\tremaining: 11.4s\n",
      "166:\tlearn: 0.3285561\ttotal: 2.27s\tremaining: 11.3s\n",
      "167:\tlearn: 0.3283594\ttotal: 2.29s\tremaining: 11.3s\n",
      "168:\tlearn: 0.3281388\ttotal: 2.3s\tremaining: 11.3s\n",
      "169:\tlearn: 0.3279720\ttotal: 2.32s\tremaining: 11.3s\n",
      "170:\tlearn: 0.3278249\ttotal: 2.33s\tremaining: 11.3s\n",
      "171:\tlearn: 0.3276315\ttotal: 2.34s\tremaining: 11.3s\n",
      "172:\tlearn: 0.3274593\ttotal: 2.35s\tremaining: 11.2s\n",
      "173:\tlearn: 0.3272991\ttotal: 2.36s\tremaining: 11.2s\n",
      "174:\tlearn: 0.3271542\ttotal: 2.39s\tremaining: 11.3s\n",
      "175:\tlearn: 0.3269853\ttotal: 2.4s\tremaining: 11.3s\n",
      "176:\tlearn: 0.3268697\ttotal: 2.42s\tremaining: 11.3s\n",
      "177:\tlearn: 0.3267081\ttotal: 2.44s\tremaining: 11.3s\n",
      "178:\tlearn: 0.3265665\ttotal: 2.45s\tremaining: 11.2s\n",
      "179:\tlearn: 0.3264366\ttotal: 2.46s\tremaining: 11.2s\n",
      "180:\tlearn: 0.3262068\ttotal: 2.48s\tremaining: 11.2s\n",
      "181:\tlearn: 0.3260179\ttotal: 2.49s\tremaining: 11.2s\n",
      "182:\tlearn: 0.3259472\ttotal: 2.5s\tremaining: 11.2s\n",
      "183:\tlearn: 0.3258522\ttotal: 2.52s\tremaining: 11.2s\n",
      "184:\tlearn: 0.3257234\ttotal: 2.53s\tremaining: 11.1s\n",
      "185:\tlearn: 0.3255858\ttotal: 2.54s\tremaining: 11.1s\n",
      "186:\tlearn: 0.3254477\ttotal: 2.55s\tremaining: 11.1s\n",
      "187:\tlearn: 0.3253000\ttotal: 2.57s\tremaining: 11.1s\n",
      "188:\tlearn: 0.3251455\ttotal: 2.58s\tremaining: 11.1s\n",
      "189:\tlearn: 0.3249886\ttotal: 2.6s\tremaining: 11.1s\n",
      "190:\tlearn: 0.3248517\ttotal: 2.62s\tremaining: 11.1s\n",
      "191:\tlearn: 0.3246451\ttotal: 2.63s\tremaining: 11.1s\n",
      "192:\tlearn: 0.3245008\ttotal: 2.65s\tremaining: 11.1s\n",
      "193:\tlearn: 0.3243566\ttotal: 2.66s\tremaining: 11.1s\n",
      "194:\tlearn: 0.3241948\ttotal: 2.68s\tremaining: 11s\n",
      "195:\tlearn: 0.3240816\ttotal: 2.69s\tremaining: 11s\n",
      "196:\tlearn: 0.3239521\ttotal: 2.7s\tremaining: 11s\n",
      "197:\tlearn: 0.3238442\ttotal: 2.72s\tremaining: 11s\n",
      "198:\tlearn: 0.3236889\ttotal: 2.73s\tremaining: 11s\n",
      "199:\tlearn: 0.3235967\ttotal: 2.75s\tremaining: 11s\n",
      "200:\tlearn: 0.3235161\ttotal: 2.76s\tremaining: 11s\n",
      "201:\tlearn: 0.3233433\ttotal: 2.77s\tremaining: 11s\n",
      "202:\tlearn: 0.3232300\ttotal: 2.79s\tremaining: 10.9s\n",
      "203:\tlearn: 0.3231232\ttotal: 2.8s\tremaining: 10.9s\n",
      "204:\tlearn: 0.3230026\ttotal: 2.82s\tremaining: 10.9s\n",
      "205:\tlearn: 0.3228718\ttotal: 2.83s\tremaining: 10.9s\n",
      "206:\tlearn: 0.3227357\ttotal: 2.85s\tremaining: 10.9s\n",
      "207:\tlearn: 0.3225579\ttotal: 2.87s\tremaining: 10.9s\n",
      "208:\tlearn: 0.3223941\ttotal: 2.88s\tremaining: 10.9s\n",
      "209:\tlearn: 0.3222749\ttotal: 2.89s\tremaining: 10.9s\n",
      "210:\tlearn: 0.3221788\ttotal: 2.91s\tremaining: 10.9s\n",
      "211:\tlearn: 0.3220276\ttotal: 2.92s\tremaining: 10.9s\n",
      "212:\tlearn: 0.3219112\ttotal: 2.94s\tremaining: 10.9s\n",
      "213:\tlearn: 0.3218194\ttotal: 2.95s\tremaining: 10.8s\n",
      "214:\tlearn: 0.3216467\ttotal: 2.96s\tremaining: 10.8s\n",
      "215:\tlearn: 0.3214475\ttotal: 2.98s\tremaining: 10.8s\n",
      "216:\tlearn: 0.3213609\ttotal: 3s\tremaining: 10.8s\n",
      "217:\tlearn: 0.3211733\ttotal: 3.01s\tremaining: 10.8s\n",
      "218:\tlearn: 0.3210144\ttotal: 3.03s\tremaining: 10.8s\n",
      "219:\tlearn: 0.3209088\ttotal: 3.04s\tremaining: 10.8s\n",
      "220:\tlearn: 0.3207357\ttotal: 3.05s\tremaining: 10.8s\n",
      "221:\tlearn: 0.3205791\ttotal: 3.07s\tremaining: 10.7s\n",
      "222:\tlearn: 0.3203746\ttotal: 3.08s\tremaining: 10.7s\n",
      "223:\tlearn: 0.3201783\ttotal: 3.09s\tremaining: 10.7s\n",
      "224:\tlearn: 0.3199661\ttotal: 3.11s\tremaining: 10.7s\n",
      "225:\tlearn: 0.3198437\ttotal: 3.12s\tremaining: 10.7s\n",
      "226:\tlearn: 0.3197020\ttotal: 3.13s\tremaining: 10.7s\n",
      "227:\tlearn: 0.3196293\ttotal: 3.15s\tremaining: 10.7s\n",
      "228:\tlearn: 0.3194099\ttotal: 3.16s\tremaining: 10.6s\n",
      "229:\tlearn: 0.3192713\ttotal: 3.17s\tremaining: 10.6s\n",
      "230:\tlearn: 0.3191012\ttotal: 3.19s\tremaining: 10.6s\n",
      "231:\tlearn: 0.3189974\ttotal: 3.22s\tremaining: 10.7s\n",
      "232:\tlearn: 0.3188862\ttotal: 3.23s\tremaining: 10.6s\n",
      "233:\tlearn: 0.3187178\ttotal: 3.25s\tremaining: 10.6s\n",
      "234:\tlearn: 0.3186118\ttotal: 3.26s\tremaining: 10.6s\n",
      "235:\tlearn: 0.3184279\ttotal: 3.27s\tremaining: 10.6s\n",
      "236:\tlearn: 0.3183267\ttotal: 3.28s\tremaining: 10.6s\n",
      "237:\tlearn: 0.3181999\ttotal: 3.3s\tremaining: 10.6s\n",
      "238:\tlearn: 0.3180530\ttotal: 3.31s\tremaining: 10.5s\n",
      "239:\tlearn: 0.3179196\ttotal: 3.32s\tremaining: 10.5s\n",
      "240:\tlearn: 0.3178222\ttotal: 3.34s\tremaining: 10.5s\n",
      "241:\tlearn: 0.3176382\ttotal: 3.35s\tremaining: 10.5s\n",
      "242:\tlearn: 0.3175127\ttotal: 3.36s\tremaining: 10.5s\n",
      "243:\tlearn: 0.3174296\ttotal: 3.37s\tremaining: 10.5s\n",
      "244:\tlearn: 0.3173304\ttotal: 3.39s\tremaining: 10.5s\n",
      "245:\tlearn: 0.3171964\ttotal: 3.41s\tremaining: 10.5s\n",
      "246:\tlearn: 0.3170298\ttotal: 3.43s\tremaining: 10.4s\n",
      "247:\tlearn: 0.3168964\ttotal: 3.44s\tremaining: 10.4s\n",
      "248:\tlearn: 0.3168007\ttotal: 3.45s\tremaining: 10.4s\n",
      "249:\tlearn: 0.3166766\ttotal: 3.47s\tremaining: 10.4s\n",
      "250:\tlearn: 0.3164582\ttotal: 3.48s\tremaining: 10.4s\n",
      "251:\tlearn: 0.3163624\ttotal: 3.49s\tremaining: 10.4s\n",
      "252:\tlearn: 0.3162629\ttotal: 3.5s\tremaining: 10.3s\n",
      "253:\tlearn: 0.3160818\ttotal: 3.52s\tremaining: 10.3s\n",
      "254:\tlearn: 0.3159652\ttotal: 3.53s\tremaining: 10.3s\n",
      "255:\tlearn: 0.3158034\ttotal: 3.54s\tremaining: 10.3s\n",
      "256:\tlearn: 0.3157052\ttotal: 3.56s\tremaining: 10.3s\n",
      "257:\tlearn: 0.3155891\ttotal: 3.57s\tremaining: 10.3s\n",
      "258:\tlearn: 0.3155053\ttotal: 3.58s\tremaining: 10.3s\n",
      "259:\tlearn: 0.3152992\ttotal: 3.6s\tremaining: 10.3s\n",
      "260:\tlearn: 0.3151887\ttotal: 3.62s\tremaining: 10.2s\n",
      "261:\tlearn: 0.3150169\ttotal: 3.63s\tremaining: 10.2s\n",
      "262:\tlearn: 0.3148862\ttotal: 3.64s\tremaining: 10.2s\n",
      "263:\tlearn: 0.3147534\ttotal: 3.66s\tremaining: 10.2s\n",
      "264:\tlearn: 0.3145626\ttotal: 3.67s\tremaining: 10.2s\n",
      "265:\tlearn: 0.3144315\ttotal: 3.68s\tremaining: 10.2s\n",
      "266:\tlearn: 0.3143106\ttotal: 3.69s\tremaining: 10.1s\n",
      "267:\tlearn: 0.3142205\ttotal: 3.71s\tremaining: 10.1s\n",
      "268:\tlearn: 0.3141496\ttotal: 3.72s\tremaining: 10.1s\n",
      "269:\tlearn: 0.3140480\ttotal: 3.74s\tremaining: 10.1s\n",
      "270:\tlearn: 0.3139114\ttotal: 3.75s\tremaining: 10.1s\n",
      "271:\tlearn: 0.3137614\ttotal: 3.77s\tremaining: 10.1s\n",
      "272:\tlearn: 0.3136234\ttotal: 3.78s\tremaining: 10.1s\n",
      "273:\tlearn: 0.3135467\ttotal: 3.8s\tremaining: 10.1s\n",
      "274:\tlearn: 0.3134039\ttotal: 3.81s\tremaining: 10s\n",
      "275:\tlearn: 0.3132431\ttotal: 3.82s\tremaining: 10s\n",
      "276:\tlearn: 0.3130571\ttotal: 3.84s\tremaining: 10s\n",
      "277:\tlearn: 0.3128933\ttotal: 3.85s\tremaining: 10s\n",
      "278:\tlearn: 0.3127179\ttotal: 3.86s\tremaining: 9.98s\n",
      "279:\tlearn: 0.3125378\ttotal: 3.88s\tremaining: 9.97s\n",
      "280:\tlearn: 0.3124061\ttotal: 3.89s\tremaining: 9.95s\n",
      "281:\tlearn: 0.3122934\ttotal: 3.9s\tremaining: 9.93s\n",
      "282:\tlearn: 0.3121587\ttotal: 3.92s\tremaining: 9.92s\n",
      "283:\tlearn: 0.3120061\ttotal: 3.93s\tremaining: 9.91s\n",
      "284:\tlearn: 0.3118527\ttotal: 3.94s\tremaining: 9.9s\n",
      "285:\tlearn: 0.3117380\ttotal: 3.96s\tremaining: 9.88s\n",
      "286:\tlearn: 0.3115959\ttotal: 3.97s\tremaining: 9.87s\n",
      "287:\tlearn: 0.3114528\ttotal: 3.98s\tremaining: 9.85s\n",
      "288:\tlearn: 0.3112854\ttotal: 4s\tremaining: 9.83s\n",
      "289:\tlearn: 0.3111739\ttotal: 4.01s\tremaining: 9.82s\n",
      "290:\tlearn: 0.3110186\ttotal: 4.02s\tremaining: 9.8s\n",
      "291:\tlearn: 0.3108726\ttotal: 4.03s\tremaining: 9.78s\n",
      "292:\tlearn: 0.3107353\ttotal: 4.05s\tremaining: 9.77s\n",
      "293:\tlearn: 0.3106312\ttotal: 4.06s\tremaining: 9.75s\n",
      "294:\tlearn: 0.3104320\ttotal: 4.07s\tremaining: 9.73s\n",
      "295:\tlearn: 0.3102710\ttotal: 4.09s\tremaining: 9.73s\n",
      "296:\tlearn: 0.3101473\ttotal: 4.12s\tremaining: 9.74s\n",
      "297:\tlearn: 0.3099623\ttotal: 4.13s\tremaining: 9.73s\n",
      "298:\tlearn: 0.3098076\ttotal: 4.14s\tremaining: 9.72s\n",
      "299:\tlearn: 0.3096874\ttotal: 4.16s\tremaining: 9.7s\n",
      "300:\tlearn: 0.3095200\ttotal: 4.17s\tremaining: 9.69s\n",
      "301:\tlearn: 0.3093762\ttotal: 4.18s\tremaining: 9.67s\n",
      "302:\tlearn: 0.3092216\ttotal: 4.2s\tremaining: 9.66s\n",
      "303:\tlearn: 0.3090375\ttotal: 4.21s\tremaining: 9.64s\n",
      "304:\tlearn: 0.3089306\ttotal: 4.22s\tremaining: 9.62s\n",
      "305:\tlearn: 0.3087750\ttotal: 4.24s\tremaining: 9.61s\n",
      "306:\tlearn: 0.3086419\ttotal: 4.25s\tremaining: 9.59s\n",
      "307:\tlearn: 0.3084955\ttotal: 4.26s\tremaining: 9.58s\n",
      "308:\tlearn: 0.3083014\ttotal: 4.28s\tremaining: 9.56s\n",
      "309:\tlearn: 0.3081584\ttotal: 4.29s\tremaining: 9.56s\n",
      "310:\tlearn: 0.3079645\ttotal: 4.31s\tremaining: 9.55s\n",
      "311:\tlearn: 0.3078526\ttotal: 4.33s\tremaining: 9.54s\n",
      "312:\tlearn: 0.3077195\ttotal: 4.34s\tremaining: 9.53s\n",
      "313:\tlearn: 0.3076077\ttotal: 4.36s\tremaining: 9.52s\n",
      "314:\tlearn: 0.3074279\ttotal: 4.37s\tremaining: 9.5s\n",
      "315:\tlearn: 0.3072879\ttotal: 4.38s\tremaining: 9.48s\n",
      "316:\tlearn: 0.3071507\ttotal: 4.39s\tremaining: 9.47s\n",
      "317:\tlearn: 0.3069813\ttotal: 4.41s\tremaining: 9.45s\n",
      "318:\tlearn: 0.3067207\ttotal: 4.42s\tremaining: 9.44s\n",
      "319:\tlearn: 0.3066047\ttotal: 4.43s\tremaining: 9.42s\n",
      "320:\tlearn: 0.3064809\ttotal: 4.44s\tremaining: 9.4s\n",
      "321:\tlearn: 0.3063244\ttotal: 4.46s\tremaining: 9.38s\n",
      "322:\tlearn: 0.3062006\ttotal: 4.47s\tremaining: 9.37s\n"
     ]
    },
    {
     "name": "stdout",
     "output_type": "stream",
     "text": [
      "323:\tlearn: 0.3060671\ttotal: 4.49s\tremaining: 9.37s\n",
      "324:\tlearn: 0.3058687\ttotal: 4.51s\tremaining: 9.36s\n",
      "325:\tlearn: 0.3057163\ttotal: 4.52s\tremaining: 9.35s\n",
      "326:\tlearn: 0.3055599\ttotal: 4.54s\tremaining: 9.34s\n",
      "327:\tlearn: 0.3054274\ttotal: 4.55s\tremaining: 9.32s\n",
      "328:\tlearn: 0.3052399\ttotal: 4.56s\tremaining: 9.31s\n",
      "329:\tlearn: 0.3051272\ttotal: 4.58s\tremaining: 9.29s\n",
      "330:\tlearn: 0.3049754\ttotal: 4.59s\tremaining: 9.28s\n",
      "331:\tlearn: 0.3048814\ttotal: 4.6s\tremaining: 9.26s\n",
      "332:\tlearn: 0.3046693\ttotal: 4.62s\tremaining: 9.24s\n",
      "333:\tlearn: 0.3045243\ttotal: 4.63s\tremaining: 9.23s\n",
      "334:\tlearn: 0.3043197\ttotal: 4.64s\tremaining: 9.21s\n",
      "335:\tlearn: 0.3042316\ttotal: 4.65s\tremaining: 9.2s\n",
      "336:\tlearn: 0.3041327\ttotal: 4.67s\tremaining: 9.18s\n",
      "337:\tlearn: 0.3040373\ttotal: 4.68s\tremaining: 9.17s\n",
      "338:\tlearn: 0.3039160\ttotal: 4.7s\tremaining: 9.16s\n",
      "339:\tlearn: 0.3037598\ttotal: 4.71s\tremaining: 9.15s\n",
      "340:\tlearn: 0.3035734\ttotal: 4.73s\tremaining: 9.14s\n",
      "341:\tlearn: 0.3034031\ttotal: 4.74s\tremaining: 9.12s\n",
      "342:\tlearn: 0.3032662\ttotal: 4.75s\tremaining: 9.11s\n",
      "343:\tlearn: 0.3031487\ttotal: 4.77s\tremaining: 9.09s\n",
      "344:\tlearn: 0.3030652\ttotal: 4.78s\tremaining: 9.07s\n",
      "345:\tlearn: 0.3029669\ttotal: 4.79s\tremaining: 9.06s\n",
      "346:\tlearn: 0.3027733\ttotal: 4.8s\tremaining: 9.04s\n",
      "347:\tlearn: 0.3026715\ttotal: 4.82s\tremaining: 9.03s\n",
      "348:\tlearn: 0.3025060\ttotal: 4.83s\tremaining: 9.01s\n",
      "349:\tlearn: 0.3024116\ttotal: 4.84s\tremaining: 8.99s\n",
      "350:\tlearn: 0.3022453\ttotal: 4.86s\tremaining: 8.98s\n",
      "351:\tlearn: 0.3021518\ttotal: 4.87s\tremaining: 8.96s\n",
      "352:\tlearn: 0.3019643\ttotal: 4.88s\tremaining: 8.95s\n",
      "353:\tlearn: 0.3017917\ttotal: 4.89s\tremaining: 8.93s\n",
      "354:\tlearn: 0.3016592\ttotal: 4.91s\tremaining: 8.91s\n",
      "355:\tlearn: 0.3015093\ttotal: 4.92s\tremaining: 8.9s\n",
      "356:\tlearn: 0.3013506\ttotal: 4.93s\tremaining: 8.88s\n",
      "357:\tlearn: 0.3011755\ttotal: 4.95s\tremaining: 8.87s\n",
      "358:\tlearn: 0.3010584\ttotal: 4.96s\tremaining: 8.85s\n",
      "359:\tlearn: 0.3008931\ttotal: 4.97s\tremaining: 8.84s\n",
      "360:\tlearn: 0.3007820\ttotal: 4.98s\tremaining: 8.82s\n",
      "361:\tlearn: 0.3005612\ttotal: 5s\tremaining: 8.81s\n",
      "362:\tlearn: 0.3003917\ttotal: 5.01s\tremaining: 8.79s\n",
      "363:\tlearn: 0.3002696\ttotal: 5.02s\tremaining: 8.78s\n",
      "364:\tlearn: 0.3001632\ttotal: 5.04s\tremaining: 8.76s\n",
      "365:\tlearn: 0.3000829\ttotal: 5.05s\tremaining: 8.75s\n",
      "366:\tlearn: 0.2999486\ttotal: 5.07s\tremaining: 8.75s\n",
      "367:\tlearn: 0.2998485\ttotal: 5.09s\tremaining: 8.74s\n",
      "368:\tlearn: 0.2997082\ttotal: 5.1s\tremaining: 8.73s\n",
      "369:\tlearn: 0.2995254\ttotal: 5.12s\tremaining: 8.71s\n",
      "370:\tlearn: 0.2993818\ttotal: 5.13s\tremaining: 8.7s\n",
      "371:\tlearn: 0.2992103\ttotal: 5.14s\tremaining: 8.68s\n",
      "372:\tlearn: 0.2991084\ttotal: 5.16s\tremaining: 8.67s\n",
      "373:\tlearn: 0.2989333\ttotal: 5.17s\tremaining: 8.65s\n",
      "374:\tlearn: 0.2987726\ttotal: 5.18s\tremaining: 8.64s\n",
      "375:\tlearn: 0.2985631\ttotal: 5.19s\tremaining: 8.62s\n",
      "376:\tlearn: 0.2984012\ttotal: 5.21s\tremaining: 8.61s\n",
      "377:\tlearn: 0.2982239\ttotal: 5.22s\tremaining: 8.59s\n",
      "378:\tlearn: 0.2981259\ttotal: 5.23s\tremaining: 8.57s\n",
      "379:\tlearn: 0.2980306\ttotal: 5.25s\tremaining: 8.56s\n",
      "380:\tlearn: 0.2978456\ttotal: 5.26s\tremaining: 8.55s\n",
      "381:\tlearn: 0.2977148\ttotal: 5.28s\tremaining: 8.54s\n",
      "382:\tlearn: 0.2976283\ttotal: 5.29s\tremaining: 8.53s\n",
      "383:\tlearn: 0.2974055\ttotal: 5.31s\tremaining: 8.52s\n",
      "384:\tlearn: 0.2972460\ttotal: 5.32s\tremaining: 8.5s\n",
      "385:\tlearn: 0.2970947\ttotal: 5.34s\tremaining: 8.49s\n",
      "386:\tlearn: 0.2969527\ttotal: 5.35s\tremaining: 8.47s\n",
      "387:\tlearn: 0.2967587\ttotal: 5.36s\tremaining: 8.46s\n",
      "388:\tlearn: 0.2966235\ttotal: 5.37s\tremaining: 8.44s\n",
      "389:\tlearn: 0.2965081\ttotal: 5.39s\tremaining: 8.42s\n",
      "390:\tlearn: 0.2963409\ttotal: 5.4s\tremaining: 8.41s\n",
      "391:\tlearn: 0.2962327\ttotal: 5.41s\tremaining: 8.39s\n",
      "392:\tlearn: 0.2961019\ttotal: 5.42s\tremaining: 8.38s\n",
      "393:\tlearn: 0.2959647\ttotal: 5.44s\tremaining: 8.36s\n",
      "394:\tlearn: 0.2957554\ttotal: 5.45s\tremaining: 8.35s\n",
      "395:\tlearn: 0.2956842\ttotal: 5.46s\tremaining: 8.34s\n",
      "396:\tlearn: 0.2955973\ttotal: 5.48s\tremaining: 8.32s\n",
      "397:\tlearn: 0.2954929\ttotal: 5.5s\tremaining: 8.32s\n",
      "398:\tlearn: 0.2953249\ttotal: 5.51s\tremaining: 8.3s\n",
      "399:\tlearn: 0.2951492\ttotal: 5.52s\tremaining: 8.29s\n",
      "400:\tlearn: 0.2949629\ttotal: 5.54s\tremaining: 8.27s\n",
      "401:\tlearn: 0.2948847\ttotal: 5.55s\tremaining: 8.26s\n",
      "402:\tlearn: 0.2947802\ttotal: 5.57s\tremaining: 8.24s\n",
      "403:\tlearn: 0.2946929\ttotal: 5.58s\tremaining: 8.23s\n",
      "404:\tlearn: 0.2944837\ttotal: 5.59s\tremaining: 8.21s\n",
      "405:\tlearn: 0.2943944\ttotal: 5.6s\tremaining: 8.2s\n",
      "406:\tlearn: 0.2942610\ttotal: 5.62s\tremaining: 8.18s\n",
      "407:\tlearn: 0.2941629\ttotal: 5.63s\tremaining: 8.17s\n",
      "408:\tlearn: 0.2940096\ttotal: 5.64s\tremaining: 8.15s\n",
      "409:\tlearn: 0.2938521\ttotal: 5.65s\tremaining: 8.14s\n",
      "410:\tlearn: 0.2937326\ttotal: 5.67s\tremaining: 8.13s\n",
      "411:\tlearn: 0.2936304\ttotal: 5.69s\tremaining: 8.12s\n",
      "412:\tlearn: 0.2934632\ttotal: 5.7s\tremaining: 8.11s\n",
      "413:\tlearn: 0.2933304\ttotal: 5.72s\tremaining: 8.09s\n",
      "414:\tlearn: 0.2931211\ttotal: 5.73s\tremaining: 8.08s\n",
      "415:\tlearn: 0.2929990\ttotal: 5.74s\tremaining: 8.06s\n",
      "416:\tlearn: 0.2927884\ttotal: 5.76s\tremaining: 8.05s\n",
      "417:\tlearn: 0.2926241\ttotal: 5.77s\tremaining: 8.03s\n",
      "418:\tlearn: 0.2925291\ttotal: 5.78s\tremaining: 8.02s\n",
      "419:\tlearn: 0.2924080\ttotal: 5.79s\tremaining: 8s\n",
      "420:\tlearn: 0.2922688\ttotal: 5.81s\tremaining: 7.99s\n",
      "421:\tlearn: 0.2921187\ttotal: 5.82s\tremaining: 7.97s\n",
      "422:\tlearn: 0.2920005\ttotal: 5.83s\tremaining: 7.96s\n",
      "423:\tlearn: 0.2918844\ttotal: 5.85s\tremaining: 7.94s\n",
      "424:\tlearn: 0.2916916\ttotal: 5.86s\tremaining: 7.93s\n",
      "425:\tlearn: 0.2915434\ttotal: 5.88s\tremaining: 7.92s\n",
      "426:\tlearn: 0.2913680\ttotal: 5.89s\tremaining: 7.91s\n",
      "427:\tlearn: 0.2912436\ttotal: 5.91s\tremaining: 7.9s\n",
      "428:\tlearn: 0.2911700\ttotal: 5.92s\tremaining: 7.88s\n",
      "429:\tlearn: 0.2910721\ttotal: 5.94s\tremaining: 7.87s\n",
      "430:\tlearn: 0.2908874\ttotal: 5.95s\tremaining: 7.86s\n",
      "431:\tlearn: 0.2907132\ttotal: 5.96s\tremaining: 7.84s\n",
      "432:\tlearn: 0.2905983\ttotal: 5.98s\tremaining: 7.83s\n",
      "433:\tlearn: 0.2904991\ttotal: 5.99s\tremaining: 7.81s\n",
      "434:\tlearn: 0.2903287\ttotal: 6s\tremaining: 7.8s\n",
      "435:\tlearn: 0.2901615\ttotal: 6.01s\tremaining: 7.78s\n",
      "436:\tlearn: 0.2900352\ttotal: 6.03s\tremaining: 7.77s\n",
      "437:\tlearn: 0.2899174\ttotal: 6.05s\tremaining: 7.76s\n",
      "438:\tlearn: 0.2897786\ttotal: 6.06s\tremaining: 7.75s\n",
      "439:\tlearn: 0.2896085\ttotal: 6.08s\tremaining: 7.74s\n",
      "440:\tlearn: 0.2894469\ttotal: 6.09s\tremaining: 7.73s\n",
      "441:\tlearn: 0.2893367\ttotal: 6.11s\tremaining: 7.71s\n",
      "442:\tlearn: 0.2891307\ttotal: 6.12s\tremaining: 7.7s\n",
      "443:\tlearn: 0.2890214\ttotal: 6.14s\tremaining: 7.69s\n",
      "444:\tlearn: 0.2888867\ttotal: 6.15s\tremaining: 7.67s\n",
      "445:\tlearn: 0.2888112\ttotal: 6.17s\tremaining: 7.66s\n",
      "446:\tlearn: 0.2886853\ttotal: 6.18s\tremaining: 7.64s\n",
      "447:\tlearn: 0.2885824\ttotal: 6.19s\tremaining: 7.63s\n",
      "448:\tlearn: 0.2884136\ttotal: 6.2s\tremaining: 7.61s\n",
      "449:\tlearn: 0.2881929\ttotal: 6.22s\tremaining: 7.6s\n",
      "450:\tlearn: 0.2880313\ttotal: 6.23s\tremaining: 7.58s\n",
      "451:\tlearn: 0.2879034\ttotal: 6.24s\tremaining: 7.57s\n",
      "452:\tlearn: 0.2877015\ttotal: 6.26s\tremaining: 7.55s\n",
      "453:\tlearn: 0.2875256\ttotal: 6.27s\tremaining: 7.54s\n",
      "454:\tlearn: 0.2873701\ttotal: 6.29s\tremaining: 7.53s\n",
      "455:\tlearn: 0.2872228\ttotal: 6.31s\tremaining: 7.53s\n",
      "456:\tlearn: 0.2870937\ttotal: 6.32s\tremaining: 7.51s\n",
      "457:\tlearn: 0.2869786\ttotal: 6.33s\tremaining: 7.5s\n",
      "458:\tlearn: 0.2867756\ttotal: 6.35s\tremaining: 7.48s\n",
      "459:\tlearn: 0.2866612\ttotal: 6.36s\tremaining: 7.47s\n",
      "460:\tlearn: 0.2864890\ttotal: 6.37s\tremaining: 7.45s\n",
      "461:\tlearn: 0.2863561\ttotal: 6.39s\tremaining: 7.44s\n",
      "462:\tlearn: 0.2862332\ttotal: 6.4s\tremaining: 7.42s\n",
      "463:\tlearn: 0.2860471\ttotal: 6.41s\tremaining: 7.41s\n",
      "464:\tlearn: 0.2859883\ttotal: 6.42s\tremaining: 7.39s\n",
      "465:\tlearn: 0.2859102\ttotal: 6.44s\tremaining: 7.38s\n",
      "466:\tlearn: 0.2857982\ttotal: 6.45s\tremaining: 7.36s\n",
      "467:\tlearn: 0.2857030\ttotal: 6.47s\tremaining: 7.35s\n",
      "468:\tlearn: 0.2856178\ttotal: 6.48s\tremaining: 7.34s\n",
      "469:\tlearn: 0.2854513\ttotal: 6.5s\tremaining: 7.33s\n",
      "470:\tlearn: 0.2853835\ttotal: 6.51s\tremaining: 7.32s\n",
      "471:\tlearn: 0.2853053\ttotal: 6.53s\tremaining: 7.3s\n",
      "472:\tlearn: 0.2851849\ttotal: 6.54s\tremaining: 7.29s\n",
      "473:\tlearn: 0.2849890\ttotal: 6.55s\tremaining: 7.27s\n",
      "474:\tlearn: 0.2849244\ttotal: 6.56s\tremaining: 7.26s\n",
      "475:\tlearn: 0.2847897\ttotal: 6.58s\tremaining: 7.24s\n",
      "476:\tlearn: 0.2847757\ttotal: 6.59s\tremaining: 7.22s\n",
      "477:\tlearn: 0.2846630\ttotal: 6.6s\tremaining: 7.21s\n",
      "478:\tlearn: 0.2845383\ttotal: 6.62s\tremaining: 7.2s\n",
      "479:\tlearn: 0.2843913\ttotal: 6.63s\tremaining: 7.18s\n",
      "480:\tlearn: 0.2842575\ttotal: 6.64s\tremaining: 7.17s\n",
      "481:\tlearn: 0.2841161\ttotal: 6.65s\tremaining: 7.15s\n"
     ]
    },
    {
     "name": "stdout",
     "output_type": "stream",
     "text": [
      "482:\tlearn: 0.2839555\ttotal: 6.67s\tremaining: 7.14s\n",
      "483:\tlearn: 0.2838379\ttotal: 6.69s\tremaining: 7.13s\n",
      "484:\tlearn: 0.2837554\ttotal: 6.7s\tremaining: 7.12s\n",
      "485:\tlearn: 0.2835749\ttotal: 6.72s\tremaining: 7.11s\n",
      "486:\tlearn: 0.2834795\ttotal: 6.74s\tremaining: 7.1s\n",
      "487:\tlearn: 0.2833890\ttotal: 6.75s\tremaining: 7.08s\n",
      "488:\tlearn: 0.2833084\ttotal: 6.76s\tremaining: 7.07s\n",
      "489:\tlearn: 0.2831186\ttotal: 6.78s\tremaining: 7.05s\n",
      "490:\tlearn: 0.2829612\ttotal: 6.79s\tremaining: 7.04s\n",
      "491:\tlearn: 0.2828530\ttotal: 6.8s\tremaining: 7.02s\n",
      "492:\tlearn: 0.2827897\ttotal: 6.81s\tremaining: 7.01s\n",
      "493:\tlearn: 0.2826527\ttotal: 6.83s\tremaining: 6.99s\n",
      "494:\tlearn: 0.2824890\ttotal: 6.84s\tremaining: 6.98s\n",
      "495:\tlearn: 0.2824036\ttotal: 6.85s\tremaining: 6.96s\n",
      "496:\tlearn: 0.2823337\ttotal: 6.87s\tremaining: 6.95s\n",
      "497:\tlearn: 0.2822174\ttotal: 6.88s\tremaining: 6.94s\n",
      "498:\tlearn: 0.2821114\ttotal: 6.9s\tremaining: 6.93s\n",
      "499:\tlearn: 0.2820056\ttotal: 6.91s\tremaining: 6.91s\n",
      "500:\tlearn: 0.2818764\ttotal: 6.93s\tremaining: 6.9s\n",
      "501:\tlearn: 0.2817827\ttotal: 6.94s\tremaining: 6.88s\n",
      "502:\tlearn: 0.2816680\ttotal: 6.95s\tremaining: 6.87s\n",
      "503:\tlearn: 0.2815197\ttotal: 6.96s\tremaining: 6.85s\n",
      "504:\tlearn: 0.2813758\ttotal: 6.98s\tremaining: 6.84s\n",
      "505:\tlearn: 0.2812878\ttotal: 6.99s\tremaining: 6.82s\n",
      "506:\tlearn: 0.2812442\ttotal: 7s\tremaining: 6.81s\n",
      "507:\tlearn: 0.2811825\ttotal: 7.01s\tremaining: 6.79s\n",
      "508:\tlearn: 0.2810300\ttotal: 7.03s\tremaining: 6.78s\n",
      "509:\tlearn: 0.2809000\ttotal: 7.05s\tremaining: 6.77s\n",
      "510:\tlearn: 0.2807495\ttotal: 7.06s\tremaining: 6.76s\n",
      "511:\tlearn: 0.2806427\ttotal: 7.08s\tremaining: 6.75s\n",
      "512:\tlearn: 0.2804781\ttotal: 7.09s\tremaining: 6.74s\n",
      "513:\tlearn: 0.2803587\ttotal: 7.11s\tremaining: 6.72s\n",
      "514:\tlearn: 0.2802563\ttotal: 7.12s\tremaining: 6.71s\n",
      "515:\tlearn: 0.2801422\ttotal: 7.13s\tremaining: 6.69s\n",
      "516:\tlearn: 0.2800115\ttotal: 7.15s\tremaining: 6.68s\n",
      "517:\tlearn: 0.2799048\ttotal: 7.16s\tremaining: 6.66s\n",
      "518:\tlearn: 0.2798340\ttotal: 7.17s\tremaining: 6.65s\n",
      "519:\tlearn: 0.2797065\ttotal: 7.19s\tremaining: 6.63s\n",
      "520:\tlearn: 0.2795749\ttotal: 7.2s\tremaining: 6.62s\n",
      "521:\tlearn: 0.2794160\ttotal: 7.21s\tremaining: 6.61s\n",
      "522:\tlearn: 0.2793511\ttotal: 7.23s\tremaining: 6.59s\n",
      "523:\tlearn: 0.2792159\ttotal: 7.24s\tremaining: 6.58s\n",
      "524:\tlearn: 0.2790625\ttotal: 7.25s\tremaining: 6.56s\n",
      "525:\tlearn: 0.2789201\ttotal: 7.27s\tremaining: 6.55s\n",
      "526:\tlearn: 0.2788013\ttotal: 7.29s\tremaining: 6.54s\n",
      "527:\tlearn: 0.2787289\ttotal: 7.3s\tremaining: 6.53s\n",
      "528:\tlearn: 0.2786524\ttotal: 7.31s\tremaining: 6.51s\n",
      "529:\tlearn: 0.2785536\ttotal: 7.33s\tremaining: 6.5s\n",
      "530:\tlearn: 0.2784751\ttotal: 7.34s\tremaining: 6.48s\n",
      "531:\tlearn: 0.2783072\ttotal: 7.35s\tremaining: 6.47s\n",
      "532:\tlearn: 0.2781865\ttotal: 7.37s\tremaining: 6.45s\n",
      "533:\tlearn: 0.2780768\ttotal: 7.38s\tremaining: 6.44s\n",
      "534:\tlearn: 0.2779666\ttotal: 7.39s\tremaining: 6.42s\n",
      "535:\tlearn: 0.2778794\ttotal: 7.41s\tremaining: 6.41s\n",
      "536:\tlearn: 0.2777839\ttotal: 7.42s\tremaining: 6.4s\n",
      "537:\tlearn: 0.2776785\ttotal: 7.43s\tremaining: 6.38s\n",
      "538:\tlearn: 0.2775917\ttotal: 7.44s\tremaining: 6.37s\n",
      "539:\tlearn: 0.2775494\ttotal: 7.46s\tremaining: 6.36s\n",
      "540:\tlearn: 0.2774931\ttotal: 7.47s\tremaining: 6.34s\n",
      "541:\tlearn: 0.2774179\ttotal: 7.49s\tremaining: 6.33s\n",
      "542:\tlearn: 0.2773237\ttotal: 7.5s\tremaining: 6.31s\n",
      "543:\tlearn: 0.2771898\ttotal: 7.51s\tremaining: 6.3s\n",
      "544:\tlearn: 0.2771148\ttotal: 7.53s\tremaining: 6.28s\n",
      "545:\tlearn: 0.2769454\ttotal: 7.54s\tremaining: 6.27s\n",
      "546:\tlearn: 0.2768039\ttotal: 7.55s\tremaining: 6.25s\n",
      "547:\tlearn: 0.2766618\ttotal: 7.57s\tremaining: 6.24s\n",
      "548:\tlearn: 0.2765733\ttotal: 7.58s\tremaining: 6.22s\n",
      "549:\tlearn: 0.2764089\ttotal: 7.59s\tremaining: 6.21s\n",
      "550:\tlearn: 0.2762690\ttotal: 7.6s\tremaining: 6.2s\n",
      "551:\tlearn: 0.2761555\ttotal: 7.62s\tremaining: 6.18s\n",
      "552:\tlearn: 0.2760317\ttotal: 7.63s\tremaining: 6.17s\n",
      "553:\tlearn: 0.2759015\ttotal: 7.65s\tremaining: 6.16s\n",
      "554:\tlearn: 0.2758343\ttotal: 7.67s\tremaining: 6.15s\n",
      "555:\tlearn: 0.2757093\ttotal: 7.68s\tremaining: 6.13s\n",
      "556:\tlearn: 0.2756407\ttotal: 7.69s\tremaining: 6.12s\n",
      "557:\tlearn: 0.2755355\ttotal: 7.7s\tremaining: 6.1s\n",
      "558:\tlearn: 0.2754283\ttotal: 7.72s\tremaining: 6.09s\n",
      "559:\tlearn: 0.2753572\ttotal: 7.73s\tremaining: 6.07s\n",
      "560:\tlearn: 0.2752769\ttotal: 7.74s\tremaining: 6.06s\n",
      "561:\tlearn: 0.2752387\ttotal: 7.75s\tremaining: 6.04s\n",
      "562:\tlearn: 0.2750819\ttotal: 7.77s\tremaining: 6.03s\n",
      "563:\tlearn: 0.2749672\ttotal: 7.78s\tremaining: 6.01s\n",
      "564:\tlearn: 0.2748244\ttotal: 7.79s\tremaining: 6s\n",
      "565:\tlearn: 0.2747546\ttotal: 7.81s\tremaining: 5.99s\n",
      "566:\tlearn: 0.2745993\ttotal: 7.82s\tremaining: 5.97s\n",
      "567:\tlearn: 0.2744492\ttotal: 7.84s\tremaining: 5.96s\n",
      "568:\tlearn: 0.2743561\ttotal: 7.86s\tremaining: 5.95s\n",
      "569:\tlearn: 0.2741495\ttotal: 7.87s\tremaining: 5.94s\n",
      "570:\tlearn: 0.2739799\ttotal: 7.88s\tremaining: 5.92s\n",
      "571:\tlearn: 0.2738659\ttotal: 7.9s\tremaining: 5.91s\n",
      "572:\tlearn: 0.2737165\ttotal: 7.91s\tremaining: 5.89s\n",
      "573:\tlearn: 0.2736285\ttotal: 7.92s\tremaining: 5.88s\n",
      "574:\tlearn: 0.2734747\ttotal: 7.94s\tremaining: 5.87s\n",
      "575:\tlearn: 0.2733649\ttotal: 7.95s\tremaining: 5.85s\n",
      "576:\tlearn: 0.2732551\ttotal: 7.96s\tremaining: 5.84s\n",
      "577:\tlearn: 0.2731923\ttotal: 7.97s\tremaining: 5.82s\n",
      "578:\tlearn: 0.2730849\ttotal: 7.99s\tremaining: 5.81s\n",
      "579:\tlearn: 0.2730100\ttotal: 8.01s\tremaining: 5.8s\n",
      "580:\tlearn: 0.2728508\ttotal: 8.03s\tremaining: 5.79s\n",
      "581:\tlearn: 0.2727517\ttotal: 8.04s\tremaining: 5.78s\n",
      "582:\tlearn: 0.2725836\ttotal: 8.06s\tremaining: 5.76s\n",
      "583:\tlearn: 0.2724935\ttotal: 8.07s\tremaining: 5.75s\n",
      "584:\tlearn: 0.2723817\ttotal: 8.09s\tremaining: 5.74s\n",
      "585:\tlearn: 0.2722308\ttotal: 8.1s\tremaining: 5.72s\n",
      "586:\tlearn: 0.2721040\ttotal: 8.11s\tremaining: 5.71s\n",
      "587:\tlearn: 0.2720300\ttotal: 8.13s\tremaining: 5.69s\n",
      "588:\tlearn: 0.2719188\ttotal: 8.14s\tremaining: 5.68s\n",
      "589:\tlearn: 0.2717540\ttotal: 8.15s\tremaining: 5.66s\n",
      "590:\tlearn: 0.2716209\ttotal: 8.16s\tremaining: 5.65s\n",
      "591:\tlearn: 0.2714845\ttotal: 8.18s\tremaining: 5.63s\n",
      "592:\tlearn: 0.2713613\ttotal: 8.19s\tremaining: 5.62s\n",
      "593:\tlearn: 0.2712511\ttotal: 8.2s\tremaining: 5.61s\n",
      "594:\tlearn: 0.2711734\ttotal: 8.22s\tremaining: 5.59s\n",
      "595:\tlearn: 0.2710732\ttotal: 8.23s\tremaining: 5.58s\n",
      "596:\tlearn: 0.2709817\ttotal: 8.25s\tremaining: 5.57s\n",
      "597:\tlearn: 0.2709121\ttotal: 8.27s\tremaining: 5.56s\n",
      "598:\tlearn: 0.2707479\ttotal: 8.28s\tremaining: 5.54s\n",
      "599:\tlearn: 0.2706679\ttotal: 8.29s\tremaining: 5.53s\n",
      "600:\tlearn: 0.2705566\ttotal: 8.3s\tremaining: 5.51s\n",
      "601:\tlearn: 0.2704639\ttotal: 8.32s\tremaining: 5.5s\n",
      "602:\tlearn: 0.2703800\ttotal: 8.33s\tremaining: 5.48s\n",
      "603:\tlearn: 0.2702330\ttotal: 8.34s\tremaining: 5.47s\n",
      "604:\tlearn: 0.2700924\ttotal: 8.36s\tremaining: 5.46s\n",
      "605:\tlearn: 0.2699184\ttotal: 8.37s\tremaining: 5.44s\n",
      "606:\tlearn: 0.2698073\ttotal: 8.38s\tremaining: 5.43s\n",
      "607:\tlearn: 0.2696931\ttotal: 8.39s\tremaining: 5.41s\n",
      "608:\tlearn: 0.2695935\ttotal: 8.41s\tremaining: 5.4s\n",
      "609:\tlearn: 0.2695009\ttotal: 8.43s\tremaining: 5.39s\n",
      "610:\tlearn: 0.2694330\ttotal: 8.44s\tremaining: 5.37s\n",
      "611:\tlearn: 0.2693351\ttotal: 8.46s\tremaining: 5.36s\n",
      "612:\tlearn: 0.2693265\ttotal: 8.47s\tremaining: 5.34s\n",
      "613:\tlearn: 0.2692346\ttotal: 8.48s\tremaining: 5.33s\n",
      "614:\tlearn: 0.2691657\ttotal: 8.49s\tremaining: 5.32s\n",
      "615:\tlearn: 0.2690724\ttotal: 8.51s\tremaining: 5.3s\n",
      "616:\tlearn: 0.2688724\ttotal: 8.52s\tremaining: 5.29s\n",
      "617:\tlearn: 0.2687511\ttotal: 8.53s\tremaining: 5.27s\n",
      "618:\tlearn: 0.2686249\ttotal: 8.54s\tremaining: 5.26s\n",
      "619:\tlearn: 0.2685408\ttotal: 8.56s\tremaining: 5.24s\n",
      "620:\tlearn: 0.2684566\ttotal: 8.57s\tremaining: 5.23s\n",
      "621:\tlearn: 0.2683706\ttotal: 8.58s\tremaining: 5.22s\n",
      "622:\tlearn: 0.2682638\ttotal: 8.6s\tremaining: 5.2s\n",
      "623:\tlearn: 0.2682122\ttotal: 8.61s\tremaining: 5.19s\n",
      "624:\tlearn: 0.2680874\ttotal: 8.63s\tremaining: 5.17s\n",
      "625:\tlearn: 0.2680233\ttotal: 8.64s\tremaining: 5.16s\n",
      "626:\tlearn: 0.2678786\ttotal: 8.66s\tremaining: 5.15s\n",
      "627:\tlearn: 0.2678432\ttotal: 8.67s\tremaining: 5.14s\n",
      "628:\tlearn: 0.2677314\ttotal: 8.69s\tremaining: 5.12s\n",
      "629:\tlearn: 0.2676581\ttotal: 8.7s\tremaining: 5.11s\n",
      "630:\tlearn: 0.2676002\ttotal: 8.71s\tremaining: 5.09s\n",
      "631:\tlearn: 0.2674705\ttotal: 8.72s\tremaining: 5.08s\n",
      "632:\tlearn: 0.2674017\ttotal: 8.73s\tremaining: 5.06s\n",
      "633:\tlearn: 0.2673369\ttotal: 8.75s\tremaining: 5.05s\n",
      "634:\tlearn: 0.2672313\ttotal: 8.76s\tremaining: 5.04s\n",
      "635:\tlearn: 0.2672000\ttotal: 8.77s\tremaining: 5.02s\n",
      "636:\tlearn: 0.2670964\ttotal: 8.79s\tremaining: 5.01s\n",
      "637:\tlearn: 0.2669564\ttotal: 8.8s\tremaining: 4.99s\n",
      "638:\tlearn: 0.2668527\ttotal: 8.81s\tremaining: 4.98s\n",
      "639:\tlearn: 0.2667508\ttotal: 8.83s\tremaining: 4.96s\n",
      "640:\tlearn: 0.2666308\ttotal: 8.84s\tremaining: 4.95s\n",
      "641:\tlearn: 0.2665368\ttotal: 8.86s\tremaining: 4.94s\n",
      "642:\tlearn: 0.2664358\ttotal: 8.88s\tremaining: 4.93s\n",
      "643:\tlearn: 0.2662794\ttotal: 8.89s\tremaining: 4.91s\n",
      "644:\tlearn: 0.2661858\ttotal: 8.9s\tremaining: 4.9s\n",
      "645:\tlearn: 0.2660508\ttotal: 8.91s\tremaining: 4.88s\n",
      "646:\tlearn: 0.2659686\ttotal: 8.93s\tremaining: 4.87s\n",
      "647:\tlearn: 0.2658133\ttotal: 8.94s\tremaining: 4.86s\n",
      "648:\tlearn: 0.2657718\ttotal: 8.95s\tremaining: 4.84s\n",
      "649:\tlearn: 0.2657018\ttotal: 8.96s\tremaining: 4.83s\n",
      "650:\tlearn: 0.2656191\ttotal: 8.98s\tremaining: 4.81s\n",
      "651:\tlearn: 0.2654634\ttotal: 9s\tremaining: 4.8s\n",
      "652:\tlearn: 0.2653836\ttotal: 9.01s\tremaining: 4.79s\n"
     ]
    },
    {
     "name": "stdout",
     "output_type": "stream",
     "text": [
      "653:\tlearn: 0.2653164\ttotal: 9.03s\tremaining: 4.78s\n",
      "654:\tlearn: 0.2651794\ttotal: 9.05s\tremaining: 4.76s\n",
      "655:\tlearn: 0.2649973\ttotal: 9.06s\tremaining: 4.75s\n",
      "656:\tlearn: 0.2649519\ttotal: 9.08s\tremaining: 4.74s\n",
      "657:\tlearn: 0.2648102\ttotal: 9.09s\tremaining: 4.72s\n",
      "658:\tlearn: 0.2646673\ttotal: 9.11s\tremaining: 4.71s\n",
      "659:\tlearn: 0.2645877\ttotal: 9.12s\tremaining: 4.7s\n",
      "660:\tlearn: 0.2645441\ttotal: 9.13s\tremaining: 4.68s\n",
      "661:\tlearn: 0.2644166\ttotal: 9.14s\tremaining: 4.67s\n",
      "662:\tlearn: 0.2643489\ttotal: 9.15s\tremaining: 4.65s\n",
      "663:\tlearn: 0.2642127\ttotal: 9.17s\tremaining: 4.64s\n",
      "664:\tlearn: 0.2640568\ttotal: 9.18s\tremaining: 4.63s\n",
      "665:\tlearn: 0.2639291\ttotal: 9.19s\tremaining: 4.61s\n",
      "666:\tlearn: 0.2639110\ttotal: 9.21s\tremaining: 4.6s\n",
      "667:\tlearn: 0.2637367\ttotal: 9.22s\tremaining: 4.58s\n",
      "668:\tlearn: 0.2635990\ttotal: 9.24s\tremaining: 4.57s\n",
      "669:\tlearn: 0.2634996\ttotal: 9.25s\tremaining: 4.56s\n",
      "670:\tlearn: 0.2633404\ttotal: 9.27s\tremaining: 4.54s\n",
      "671:\tlearn: 0.2632629\ttotal: 9.28s\tremaining: 4.53s\n",
      "672:\tlearn: 0.2631683\ttotal: 9.29s\tremaining: 4.51s\n",
      "673:\tlearn: 0.2631212\ttotal: 9.31s\tremaining: 4.5s\n",
      "674:\tlearn: 0.2630113\ttotal: 9.32s\tremaining: 4.49s\n",
      "675:\tlearn: 0.2629500\ttotal: 9.33s\tremaining: 4.47s\n",
      "676:\tlearn: 0.2628238\ttotal: 9.34s\tremaining: 4.46s\n",
      "677:\tlearn: 0.2627834\ttotal: 9.36s\tremaining: 4.44s\n",
      "678:\tlearn: 0.2626396\ttotal: 9.37s\tremaining: 4.43s\n",
      "679:\tlearn: 0.2625447\ttotal: 9.38s\tremaining: 4.42s\n",
      "680:\tlearn: 0.2623861\ttotal: 9.39s\tremaining: 4.4s\n",
      "681:\tlearn: 0.2622722\ttotal: 9.41s\tremaining: 4.39s\n",
      "682:\tlearn: 0.2621477\ttotal: 9.43s\tremaining: 4.37s\n",
      "683:\tlearn: 0.2620329\ttotal: 9.44s\tremaining: 4.36s\n",
      "684:\tlearn: 0.2619046\ttotal: 9.46s\tremaining: 4.35s\n",
      "685:\tlearn: 0.2619013\ttotal: 9.47s\tremaining: 4.33s\n",
      "686:\tlearn: 0.2617973\ttotal: 9.48s\tremaining: 4.32s\n",
      "687:\tlearn: 0.2616561\ttotal: 9.49s\tremaining: 4.31s\n",
      "688:\tlearn: 0.2615871\ttotal: 9.51s\tremaining: 4.29s\n",
      "689:\tlearn: 0.2614611\ttotal: 9.52s\tremaining: 4.28s\n",
      "690:\tlearn: 0.2613190\ttotal: 9.53s\tremaining: 4.26s\n",
      "691:\tlearn: 0.2612329\ttotal: 9.55s\tremaining: 4.25s\n",
      "692:\tlearn: 0.2610476\ttotal: 9.56s\tremaining: 4.24s\n",
      "693:\tlearn: 0.2609500\ttotal: 9.57s\tremaining: 4.22s\n",
      "694:\tlearn: 0.2608122\ttotal: 9.59s\tremaining: 4.21s\n",
      "695:\tlearn: 0.2606694\ttotal: 9.6s\tremaining: 4.19s\n",
      "696:\tlearn: 0.2605842\ttotal: 9.62s\tremaining: 4.18s\n",
      "697:\tlearn: 0.2604421\ttotal: 9.63s\tremaining: 4.17s\n",
      "698:\tlearn: 0.2603569\ttotal: 9.65s\tremaining: 4.15s\n",
      "699:\tlearn: 0.2602893\ttotal: 9.66s\tremaining: 4.14s\n",
      "700:\tlearn: 0.2601225\ttotal: 9.67s\tremaining: 4.13s\n",
      "701:\tlearn: 0.2600298\ttotal: 9.69s\tremaining: 4.11s\n",
      "702:\tlearn: 0.2598798\ttotal: 9.7s\tremaining: 4.1s\n",
      "703:\tlearn: 0.2597689\ttotal: 9.71s\tremaining: 4.08s\n",
      "704:\tlearn: 0.2596277\ttotal: 9.73s\tremaining: 4.07s\n",
      "705:\tlearn: 0.2595352\ttotal: 9.74s\tremaining: 4.06s\n",
      "706:\tlearn: 0.2594753\ttotal: 9.75s\tremaining: 4.04s\n",
      "707:\tlearn: 0.2594438\ttotal: 9.77s\tremaining: 4.03s\n",
      "708:\tlearn: 0.2593718\ttotal: 9.78s\tremaining: 4.01s\n",
      "709:\tlearn: 0.2592314\ttotal: 9.79s\tremaining: 4s\n",
      "710:\tlearn: 0.2591619\ttotal: 9.81s\tremaining: 3.99s\n",
      "711:\tlearn: 0.2590964\ttotal: 9.82s\tremaining: 3.97s\n",
      "712:\tlearn: 0.2589463\ttotal: 9.84s\tremaining: 3.96s\n",
      "713:\tlearn: 0.2588595\ttotal: 9.85s\tremaining: 3.95s\n",
      "714:\tlearn: 0.2587523\ttotal: 9.87s\tremaining: 3.93s\n",
      "715:\tlearn: 0.2585975\ttotal: 9.88s\tremaining: 3.92s\n",
      "716:\tlearn: 0.2585605\ttotal: 9.89s\tremaining: 3.9s\n",
      "717:\tlearn: 0.2585083\ttotal: 9.9s\tremaining: 3.89s\n",
      "718:\tlearn: 0.2583586\ttotal: 9.92s\tremaining: 3.88s\n",
      "719:\tlearn: 0.2582916\ttotal: 9.93s\tremaining: 3.86s\n",
      "720:\tlearn: 0.2581998\ttotal: 9.94s\tremaining: 3.85s\n",
      "721:\tlearn: 0.2581327\ttotal: 9.96s\tremaining: 3.83s\n",
      "722:\tlearn: 0.2580179\ttotal: 9.97s\tremaining: 3.82s\n",
      "723:\tlearn: 0.2579408\ttotal: 9.98s\tremaining: 3.81s\n",
      "724:\tlearn: 0.2578693\ttotal: 10s\tremaining: 3.79s\n",
      "725:\tlearn: 0.2578009\ttotal: 10s\tremaining: 3.78s\n",
      "726:\tlearn: 0.2576493\ttotal: 10s\tremaining: 3.77s\n",
      "727:\tlearn: 0.2575002\ttotal: 10.1s\tremaining: 3.75s\n",
      "728:\tlearn: 0.2573746\ttotal: 10.1s\tremaining: 3.74s\n",
      "729:\tlearn: 0.2572970\ttotal: 10.1s\tremaining: 3.73s\n",
      "730:\tlearn: 0.2572167\ttotal: 10.1s\tremaining: 3.71s\n",
      "731:\tlearn: 0.2570494\ttotal: 10.1s\tremaining: 3.7s\n",
      "732:\tlearn: 0.2569043\ttotal: 10.1s\tremaining: 3.69s\n",
      "733:\tlearn: 0.2567911\ttotal: 10.1s\tremaining: 3.67s\n",
      "734:\tlearn: 0.2567268\ttotal: 10.1s\tremaining: 3.66s\n",
      "735:\tlearn: 0.2566505\ttotal: 10.2s\tremaining: 3.64s\n",
      "736:\tlearn: 0.2565413\ttotal: 10.2s\tremaining: 3.63s\n",
      "737:\tlearn: 0.2564231\ttotal: 10.2s\tremaining: 3.62s\n",
      "738:\tlearn: 0.2562420\ttotal: 10.2s\tremaining: 3.6s\n",
      "739:\tlearn: 0.2561664\ttotal: 10.2s\tremaining: 3.59s\n",
      "740:\tlearn: 0.2560637\ttotal: 10.2s\tremaining: 3.58s\n",
      "741:\tlearn: 0.2559979\ttotal: 10.2s\tremaining: 3.56s\n",
      "742:\tlearn: 0.2558626\ttotal: 10.3s\tremaining: 3.55s\n",
      "743:\tlearn: 0.2557378\ttotal: 10.3s\tremaining: 3.53s\n",
      "744:\tlearn: 0.2555807\ttotal: 10.3s\tremaining: 3.52s\n",
      "745:\tlearn: 0.2555160\ttotal: 10.3s\tremaining: 3.51s\n",
      "746:\tlearn: 0.2553872\ttotal: 10.3s\tremaining: 3.49s\n",
      "747:\tlearn: 0.2552430\ttotal: 10.3s\tremaining: 3.48s\n",
      "748:\tlearn: 0.2551774\ttotal: 10.3s\tremaining: 3.46s\n",
      "749:\tlearn: 0.2550619\ttotal: 10.3s\tremaining: 3.45s\n",
      "750:\tlearn: 0.2549779\ttotal: 10.4s\tremaining: 3.44s\n",
      "751:\tlearn: 0.2548633\ttotal: 10.4s\tremaining: 3.42s\n",
      "752:\tlearn: 0.2547489\ttotal: 10.4s\tremaining: 3.41s\n",
      "753:\tlearn: 0.2546584\ttotal: 10.4s\tremaining: 3.39s\n",
      "754:\tlearn: 0.2545805\ttotal: 10.4s\tremaining: 3.38s\n",
      "755:\tlearn: 0.2545443\ttotal: 10.4s\tremaining: 3.37s\n",
      "756:\tlearn: 0.2544903\ttotal: 10.4s\tremaining: 3.35s\n",
      "757:\tlearn: 0.2544007\ttotal: 10.5s\tremaining: 3.34s\n",
      "758:\tlearn: 0.2542569\ttotal: 10.5s\tremaining: 3.33s\n",
      "759:\tlearn: 0.2541693\ttotal: 10.5s\tremaining: 3.31s\n",
      "760:\tlearn: 0.2539769\ttotal: 10.5s\tremaining: 3.3s\n",
      "761:\tlearn: 0.2538870\ttotal: 10.5s\tremaining: 3.28s\n",
      "762:\tlearn: 0.2537938\ttotal: 10.5s\tremaining: 3.27s\n",
      "763:\tlearn: 0.2537353\ttotal: 10.5s\tremaining: 3.25s\n",
      "764:\tlearn: 0.2535833\ttotal: 10.6s\tremaining: 3.24s\n",
      "765:\tlearn: 0.2534887\ttotal: 10.6s\tremaining: 3.23s\n",
      "766:\tlearn: 0.2534147\ttotal: 10.6s\tremaining: 3.21s\n",
      "767:\tlearn: 0.2533836\ttotal: 10.6s\tremaining: 3.2s\n",
      "768:\tlearn: 0.2533136\ttotal: 10.6s\tremaining: 3.19s\n",
      "769:\tlearn: 0.2532348\ttotal: 10.6s\tremaining: 3.17s\n",
      "770:\tlearn: 0.2530912\ttotal: 10.6s\tremaining: 3.16s\n",
      "771:\tlearn: 0.2529686\ttotal: 10.7s\tremaining: 3.15s\n",
      "772:\tlearn: 0.2528133\ttotal: 10.7s\tremaining: 3.13s\n",
      "773:\tlearn: 0.2527594\ttotal: 10.7s\tremaining: 3.12s\n",
      "774:\tlearn: 0.2527014\ttotal: 10.7s\tremaining: 3.1s\n",
      "775:\tlearn: 0.2526271\ttotal: 10.7s\tremaining: 3.09s\n",
      "776:\tlearn: 0.2525566\ttotal: 10.7s\tremaining: 3.08s\n",
      "777:\tlearn: 0.2524331\ttotal: 10.7s\tremaining: 3.06s\n",
      "778:\tlearn: 0.2523012\ttotal: 10.7s\tremaining: 3.05s\n",
      "779:\tlearn: 0.2521760\ttotal: 10.8s\tremaining: 3.03s\n",
      "780:\tlearn: 0.2520413\ttotal: 10.8s\tremaining: 3.02s\n",
      "781:\tlearn: 0.2519580\ttotal: 10.8s\tremaining: 3.01s\n",
      "782:\tlearn: 0.2518772\ttotal: 10.8s\tremaining: 2.99s\n",
      "783:\tlearn: 0.2517695\ttotal: 10.8s\tremaining: 2.98s\n",
      "784:\tlearn: 0.2515615\ttotal: 10.8s\tremaining: 2.97s\n",
      "785:\tlearn: 0.2514562\ttotal: 10.8s\tremaining: 2.95s\n",
      "786:\tlearn: 0.2513174\ttotal: 10.9s\tremaining: 2.94s\n",
      "787:\tlearn: 0.2512097\ttotal: 10.9s\tremaining: 2.93s\n",
      "788:\tlearn: 0.2511519\ttotal: 10.9s\tremaining: 2.91s\n",
      "789:\tlearn: 0.2510319\ttotal: 10.9s\tremaining: 2.9s\n",
      "790:\tlearn: 0.2509233\ttotal: 10.9s\tremaining: 2.88s\n",
      "791:\tlearn: 0.2508494\ttotal: 10.9s\tremaining: 2.87s\n",
      "792:\tlearn: 0.2507553\ttotal: 10.9s\tremaining: 2.85s\n",
      "793:\tlearn: 0.2506504\ttotal: 11s\tremaining: 2.84s\n",
      "794:\tlearn: 0.2505673\ttotal: 11s\tremaining: 2.83s\n",
      "795:\tlearn: 0.2504770\ttotal: 11s\tremaining: 2.81s\n",
      "796:\tlearn: 0.2503870\ttotal: 11s\tremaining: 2.8s\n",
      "797:\tlearn: 0.2502070\ttotal: 11s\tremaining: 2.79s\n",
      "798:\tlearn: 0.2500977\ttotal: 11s\tremaining: 2.78s\n",
      "799:\tlearn: 0.2499603\ttotal: 11.1s\tremaining: 2.76s\n",
      "800:\tlearn: 0.2498993\ttotal: 11.1s\tremaining: 2.75s\n",
      "801:\tlearn: 0.2497519\ttotal: 11.1s\tremaining: 2.73s\n",
      "802:\tlearn: 0.2496667\ttotal: 11.1s\tremaining: 2.72s\n",
      "803:\tlearn: 0.2496096\ttotal: 11.1s\tremaining: 2.71s\n",
      "804:\tlearn: 0.2495198\ttotal: 11.1s\tremaining: 2.69s\n",
      "805:\tlearn: 0.2494878\ttotal: 11.1s\tremaining: 2.68s\n",
      "806:\tlearn: 0.2494073\ttotal: 11.1s\tremaining: 2.66s\n",
      "807:\tlearn: 0.2492677\ttotal: 11.2s\tremaining: 2.65s\n",
      "808:\tlearn: 0.2491726\ttotal: 11.2s\tremaining: 2.64s\n",
      "809:\tlearn: 0.2490851\ttotal: 11.2s\tremaining: 2.62s\n",
      "810:\tlearn: 0.2489601\ttotal: 11.2s\tremaining: 2.61s\n",
      "811:\tlearn: 0.2488695\ttotal: 11.2s\tremaining: 2.59s\n"
     ]
    },
    {
     "name": "stdout",
     "output_type": "stream",
     "text": [
      "812:\tlearn: 0.2488226\ttotal: 11.2s\tremaining: 2.58s\n",
      "813:\tlearn: 0.2487090\ttotal: 11.2s\tremaining: 2.57s\n",
      "814:\tlearn: 0.2486401\ttotal: 11.3s\tremaining: 2.55s\n",
      "815:\tlearn: 0.2485676\ttotal: 11.3s\tremaining: 2.54s\n",
      "816:\tlearn: 0.2484423\ttotal: 11.3s\tremaining: 2.53s\n",
      "817:\tlearn: 0.2483379\ttotal: 11.3s\tremaining: 2.51s\n",
      "818:\tlearn: 0.2482123\ttotal: 11.3s\tremaining: 2.5s\n",
      "819:\tlearn: 0.2480705\ttotal: 11.3s\tremaining: 2.48s\n",
      "820:\tlearn: 0.2480043\ttotal: 11.3s\tremaining: 2.47s\n",
      "821:\tlearn: 0.2479346\ttotal: 11.3s\tremaining: 2.46s\n",
      "822:\tlearn: 0.2478326\ttotal: 11.4s\tremaining: 2.44s\n",
      "823:\tlearn: 0.2477096\ttotal: 11.4s\tremaining: 2.43s\n",
      "824:\tlearn: 0.2475638\ttotal: 11.4s\tremaining: 2.42s\n",
      "825:\tlearn: 0.2474622\ttotal: 11.4s\tremaining: 2.4s\n",
      "826:\tlearn: 0.2473975\ttotal: 11.4s\tremaining: 2.39s\n",
      "827:\tlearn: 0.2473471\ttotal: 11.4s\tremaining: 2.38s\n",
      "828:\tlearn: 0.2473090\ttotal: 11.4s\tremaining: 2.36s\n",
      "829:\tlearn: 0.2471799\ttotal: 11.5s\tremaining: 2.35s\n",
      "830:\tlearn: 0.2470891\ttotal: 11.5s\tremaining: 2.33s\n",
      "831:\tlearn: 0.2469851\ttotal: 11.5s\tremaining: 2.32s\n",
      "832:\tlearn: 0.2468321\ttotal: 11.5s\tremaining: 2.31s\n",
      "833:\tlearn: 0.2467008\ttotal: 11.5s\tremaining: 2.29s\n",
      "834:\tlearn: 0.2466193\ttotal: 11.5s\tremaining: 2.28s\n",
      "835:\tlearn: 0.2465219\ttotal: 11.5s\tremaining: 2.26s\n",
      "836:\tlearn: 0.2464445\ttotal: 11.6s\tremaining: 2.25s\n",
      "837:\tlearn: 0.2463476\ttotal: 11.6s\tremaining: 2.24s\n",
      "838:\tlearn: 0.2462086\ttotal: 11.6s\tremaining: 2.22s\n",
      "839:\tlearn: 0.2461033\ttotal: 11.6s\tremaining: 2.21s\n",
      "840:\tlearn: 0.2460034\ttotal: 11.6s\tremaining: 2.2s\n",
      "841:\tlearn: 0.2459646\ttotal: 11.6s\tremaining: 2.18s\n",
      "842:\tlearn: 0.2459137\ttotal: 11.6s\tremaining: 2.17s\n",
      "843:\tlearn: 0.2458137\ttotal: 11.7s\tremaining: 2.15s\n",
      "844:\tlearn: 0.2457556\ttotal: 11.7s\tremaining: 2.14s\n",
      "845:\tlearn: 0.2456548\ttotal: 11.7s\tremaining: 2.13s\n",
      "846:\tlearn: 0.2455799\ttotal: 11.7s\tremaining: 2.11s\n",
      "847:\tlearn: 0.2453727\ttotal: 11.7s\tremaining: 2.1s\n",
      "848:\tlearn: 0.2453044\ttotal: 11.7s\tremaining: 2.08s\n",
      "849:\tlearn: 0.2451548\ttotal: 11.7s\tremaining: 2.07s\n",
      "850:\tlearn: 0.2450397\ttotal: 11.7s\tremaining: 2.06s\n",
      "851:\tlearn: 0.2449890\ttotal: 11.8s\tremaining: 2.04s\n",
      "852:\tlearn: 0.2448289\ttotal: 11.8s\tremaining: 2.03s\n",
      "853:\tlearn: 0.2447675\ttotal: 11.8s\tremaining: 2.02s\n",
      "854:\tlearn: 0.2446360\ttotal: 11.8s\tremaining: 2s\n",
      "855:\tlearn: 0.2445731\ttotal: 11.8s\tremaining: 1.99s\n",
      "856:\tlearn: 0.2445054\ttotal: 11.9s\tremaining: 1.98s\n",
      "857:\tlearn: 0.2444296\ttotal: 11.9s\tremaining: 1.97s\n",
      "858:\tlearn: 0.2443509\ttotal: 11.9s\tremaining: 1.95s\n",
      "859:\tlearn: 0.2442831\ttotal: 11.9s\tremaining: 1.94s\n",
      "860:\tlearn: 0.2442090\ttotal: 11.9s\tremaining: 1.92s\n",
      "861:\tlearn: 0.2441382\ttotal: 11.9s\tremaining: 1.91s\n",
      "862:\tlearn: 0.2441124\ttotal: 11.9s\tremaining: 1.9s\n",
      "863:\tlearn: 0.2440640\ttotal: 12s\tremaining: 1.88s\n",
      "864:\tlearn: 0.2440281\ttotal: 12s\tremaining: 1.87s\n",
      "865:\tlearn: 0.2439422\ttotal: 12s\tremaining: 1.86s\n",
      "866:\tlearn: 0.2438598\ttotal: 12s\tremaining: 1.84s\n",
      "867:\tlearn: 0.2437767\ttotal: 12s\tremaining: 1.83s\n",
      "868:\tlearn: 0.2436910\ttotal: 12s\tremaining: 1.81s\n",
      "869:\tlearn: 0.2436233\ttotal: 12.1s\tremaining: 1.8s\n",
      "870:\tlearn: 0.2435076\ttotal: 12.1s\tremaining: 1.79s\n",
      "871:\tlearn: 0.2434148\ttotal: 12.1s\tremaining: 1.77s\n",
      "872:\tlearn: 0.2433270\ttotal: 12.1s\tremaining: 1.76s\n",
      "873:\tlearn: 0.2432449\ttotal: 12.1s\tremaining: 1.75s\n",
      "874:\tlearn: 0.2431078\ttotal: 12.1s\tremaining: 1.73s\n",
      "875:\tlearn: 0.2430631\ttotal: 12.1s\tremaining: 1.72s\n",
      "876:\tlearn: 0.2429977\ttotal: 12.2s\tremaining: 1.7s\n",
      "877:\tlearn: 0.2429605\ttotal: 12.2s\tremaining: 1.69s\n",
      "878:\tlearn: 0.2428508\ttotal: 12.2s\tremaining: 1.68s\n",
      "879:\tlearn: 0.2427547\ttotal: 12.2s\tremaining: 1.66s\n",
      "880:\tlearn: 0.2427039\ttotal: 12.2s\tremaining: 1.65s\n",
      "881:\tlearn: 0.2426080\ttotal: 12.2s\tremaining: 1.64s\n",
      "882:\tlearn: 0.2425475\ttotal: 12.2s\tremaining: 1.62s\n",
      "883:\tlearn: 0.2424872\ttotal: 12.3s\tremaining: 1.61s\n",
      "884:\tlearn: 0.2423044\ttotal: 12.3s\tremaining: 1.59s\n",
      "885:\tlearn: 0.2422407\ttotal: 12.3s\tremaining: 1.58s\n",
      "886:\tlearn: 0.2421430\ttotal: 12.3s\tremaining: 1.57s\n",
      "887:\tlearn: 0.2420715\ttotal: 12.3s\tremaining: 1.55s\n",
      "888:\tlearn: 0.2419903\ttotal: 12.3s\tremaining: 1.54s\n",
      "889:\tlearn: 0.2418703\ttotal: 12.3s\tremaining: 1.52s\n",
      "890:\tlearn: 0.2417351\ttotal: 12.3s\tremaining: 1.51s\n",
      "891:\tlearn: 0.2416093\ttotal: 12.4s\tremaining: 1.5s\n",
      "892:\tlearn: 0.2415593\ttotal: 12.4s\tremaining: 1.48s\n",
      "893:\tlearn: 0.2415101\ttotal: 12.4s\tremaining: 1.47s\n",
      "894:\tlearn: 0.2414640\ttotal: 12.4s\tremaining: 1.46s\n",
      "895:\tlearn: 0.2414024\ttotal: 12.4s\tremaining: 1.44s\n",
      "896:\tlearn: 0.2412892\ttotal: 12.4s\tremaining: 1.43s\n",
      "897:\tlearn: 0.2412200\ttotal: 12.5s\tremaining: 1.41s\n",
      "898:\tlearn: 0.2411524\ttotal: 12.5s\tremaining: 1.4s\n",
      "899:\tlearn: 0.2411175\ttotal: 12.5s\tremaining: 1.39s\n",
      "900:\tlearn: 0.2411050\ttotal: 12.5s\tremaining: 1.37s\n",
      "901:\tlearn: 0.2410341\ttotal: 12.5s\tremaining: 1.36s\n",
      "902:\tlearn: 0.2409951\ttotal: 12.5s\tremaining: 1.34s\n",
      "903:\tlearn: 0.2409254\ttotal: 12.5s\tremaining: 1.33s\n",
      "904:\tlearn: 0.2409111\ttotal: 12.5s\tremaining: 1.32s\n",
      "905:\tlearn: 0.2408612\ttotal: 12.6s\tremaining: 1.3s\n",
      "906:\tlearn: 0.2407803\ttotal: 12.6s\tremaining: 1.29s\n",
      "907:\tlearn: 0.2407071\ttotal: 12.6s\tremaining: 1.27s\n",
      "908:\tlearn: 0.2406983\ttotal: 12.6s\tremaining: 1.26s\n",
      "909:\tlearn: 0.2406162\ttotal: 12.6s\tremaining: 1.25s\n",
      "910:\tlearn: 0.2405006\ttotal: 12.6s\tremaining: 1.23s\n",
      "911:\tlearn: 0.2404240\ttotal: 12.6s\tremaining: 1.22s\n",
      "912:\tlearn: 0.2403594\ttotal: 12.7s\tremaining: 1.21s\n",
      "913:\tlearn: 0.2402918\ttotal: 12.7s\tremaining: 1.19s\n",
      "914:\tlearn: 0.2401616\ttotal: 12.7s\tremaining: 1.18s\n",
      "915:\tlearn: 0.2400749\ttotal: 12.7s\tremaining: 1.16s\n",
      "916:\tlearn: 0.2400144\ttotal: 12.7s\tremaining: 1.15s\n",
      "917:\tlearn: 0.2399239\ttotal: 12.7s\tremaining: 1.14s\n",
      "918:\tlearn: 0.2398472\ttotal: 12.7s\tremaining: 1.12s\n",
      "919:\tlearn: 0.2398046\ttotal: 12.8s\tremaining: 1.11s\n",
      "920:\tlearn: 0.2397297\ttotal: 12.8s\tremaining: 1.09s\n",
      "921:\tlearn: 0.2396039\ttotal: 12.8s\tremaining: 1.08s\n",
      "922:\tlearn: 0.2395248\ttotal: 12.8s\tremaining: 1.07s\n",
      "923:\tlearn: 0.2394161\ttotal: 12.8s\tremaining: 1.05s\n",
      "924:\tlearn: 0.2393255\ttotal: 12.8s\tremaining: 1.04s\n",
      "925:\tlearn: 0.2391614\ttotal: 12.8s\tremaining: 1.03s\n",
      "926:\tlearn: 0.2391024\ttotal: 12.9s\tremaining: 1.01s\n",
      "927:\tlearn: 0.2390144\ttotal: 12.9s\tremaining: 999ms\n",
      "928:\tlearn: 0.2389747\ttotal: 12.9s\tremaining: 985ms\n",
      "929:\tlearn: 0.2389170\ttotal: 12.9s\tremaining: 971ms\n",
      "930:\tlearn: 0.2388456\ttotal: 12.9s\tremaining: 957ms\n",
      "931:\tlearn: 0.2387147\ttotal: 12.9s\tremaining: 943ms\n",
      "932:\tlearn: 0.2385731\ttotal: 12.9s\tremaining: 929ms\n",
      "933:\tlearn: 0.2384587\ttotal: 13s\tremaining: 915ms\n",
      "934:\tlearn: 0.2383891\ttotal: 13s\tremaining: 901ms\n",
      "935:\tlearn: 0.2383213\ttotal: 13s\tremaining: 888ms\n",
      "936:\tlearn: 0.2383132\ttotal: 13s\tremaining: 874ms\n",
      "937:\tlearn: 0.2382179\ttotal: 13s\tremaining: 860ms\n",
      "938:\tlearn: 0.2381348\ttotal: 13s\tremaining: 847ms\n",
      "939:\tlearn: 0.2380773\ttotal: 13.1s\tremaining: 833ms\n",
      "940:\tlearn: 0.2379678\ttotal: 13.1s\tremaining: 820ms\n",
      "941:\tlearn: 0.2378978\ttotal: 13.1s\tremaining: 806ms\n",
      "942:\tlearn: 0.2378115\ttotal: 13.1s\tremaining: 793ms\n",
      "943:\tlearn: 0.2377054\ttotal: 13.1s\tremaining: 779ms\n",
      "944:\tlearn: 0.2376538\ttotal: 13.2s\tremaining: 766ms\n",
      "945:\tlearn: 0.2374898\ttotal: 13.2s\tremaining: 752ms\n",
      "946:\tlearn: 0.2373440\ttotal: 13.2s\tremaining: 738ms\n",
      "947:\tlearn: 0.2372412\ttotal: 13.2s\tremaining: 725ms\n",
      "948:\tlearn: 0.2371196\ttotal: 13.2s\tremaining: 711ms\n",
      "949:\tlearn: 0.2371119\ttotal: 13.3s\tremaining: 697ms\n",
      "950:\tlearn: 0.2370517\ttotal: 13.3s\tremaining: 684ms\n",
      "951:\tlearn: 0.2370085\ttotal: 13.3s\tremaining: 670ms\n",
      "952:\tlearn: 0.2369245\ttotal: 13.3s\tremaining: 657ms\n",
      "953:\tlearn: 0.2368854\ttotal: 13.3s\tremaining: 643ms\n",
      "954:\tlearn: 0.2368371\ttotal: 13.4s\tremaining: 629ms\n",
      "955:\tlearn: 0.2367666\ttotal: 13.4s\tremaining: 615ms\n",
      "956:\tlearn: 0.2366481\ttotal: 13.4s\tremaining: 602ms\n",
      "957:\tlearn: 0.2365883\ttotal: 13.4s\tremaining: 588ms\n",
      "958:\tlearn: 0.2365449\ttotal: 13.4s\tremaining: 574ms\n",
      "959:\tlearn: 0.2364811\ttotal: 13.4s\tremaining: 560ms\n",
      "960:\tlearn: 0.2363388\ttotal: 13.5s\tremaining: 547ms\n",
      "961:\tlearn: 0.2362480\ttotal: 13.5s\tremaining: 534ms\n",
      "962:\tlearn: 0.2361805\ttotal: 13.6s\tremaining: 521ms\n",
      "963:\tlearn: 0.2361067\ttotal: 13.6s\tremaining: 507ms\n",
      "964:\tlearn: 0.2360204\ttotal: 13.6s\tremaining: 493ms\n",
      "965:\tlearn: 0.2359384\ttotal: 13.6s\tremaining: 479ms\n",
      "966:\tlearn: 0.2358374\ttotal: 13.6s\tremaining: 466ms\n",
      "967:\tlearn: 0.2357277\ttotal: 13.7s\tremaining: 452ms\n",
      "968:\tlearn: 0.2356847\ttotal: 13.7s\tremaining: 438ms\n",
      "969:\tlearn: 0.2356029\ttotal: 13.7s\tremaining: 424ms\n",
      "970:\tlearn: 0.2355218\ttotal: 13.7s\tremaining: 411ms\n",
      "971:\tlearn: 0.2353823\ttotal: 13.8s\tremaining: 397ms\n",
      "972:\tlearn: 0.2352790\ttotal: 13.8s\tremaining: 383ms\n",
      "973:\tlearn: 0.2352039\ttotal: 13.8s\tremaining: 369ms\n",
      "974:\tlearn: 0.2351762\ttotal: 13.8s\tremaining: 355ms\n",
      "975:\tlearn: 0.2350810\ttotal: 13.9s\tremaining: 341ms\n",
      "976:\tlearn: 0.2350705\ttotal: 13.9s\tremaining: 327ms\n",
      "977:\tlearn: 0.2350237\ttotal: 13.9s\tremaining: 313ms\n"
     ]
    },
    {
     "name": "stdout",
     "output_type": "stream",
     "text": [
      "978:\tlearn: 0.2349365\ttotal: 14s\tremaining: 299ms\n",
      "979:\tlearn: 0.2348698\ttotal: 14s\tremaining: 286ms\n",
      "980:\tlearn: 0.2347992\ttotal: 14s\tremaining: 272ms\n",
      "981:\tlearn: 0.2347521\ttotal: 14.1s\tremaining: 258ms\n",
      "982:\tlearn: 0.2347494\ttotal: 14.1s\tremaining: 243ms\n",
      "983:\tlearn: 0.2346178\ttotal: 14.1s\tremaining: 229ms\n",
      "984:\tlearn: 0.2345201\ttotal: 14.1s\tremaining: 215ms\n",
      "985:\tlearn: 0.2344160\ttotal: 14.1s\tremaining: 201ms\n",
      "986:\tlearn: 0.2343836\ttotal: 14.2s\tremaining: 187ms\n",
      "987:\tlearn: 0.2343264\ttotal: 14.2s\tremaining: 173ms\n",
      "988:\tlearn: 0.2342559\ttotal: 14.2s\tremaining: 158ms\n",
      "989:\tlearn: 0.2342490\ttotal: 14.3s\tremaining: 144ms\n",
      "990:\tlearn: 0.2341309\ttotal: 14.3s\tremaining: 130ms\n",
      "991:\tlearn: 0.2340801\ttotal: 14.3s\tremaining: 115ms\n",
      "992:\tlearn: 0.2339767\ttotal: 14.3s\tremaining: 101ms\n",
      "993:\tlearn: 0.2339570\ttotal: 14.3s\tremaining: 86.6ms\n",
      "994:\tlearn: 0.2339150\ttotal: 14.4s\tremaining: 72.2ms\n",
      "995:\tlearn: 0.2338148\ttotal: 14.4s\tremaining: 57.9ms\n",
      "996:\tlearn: 0.2337410\ttotal: 14.4s\tremaining: 43.4ms\n",
      "997:\tlearn: 0.2336864\ttotal: 14.5s\tremaining: 29ms\n",
      "998:\tlearn: 0.2336104\ttotal: 14.5s\tremaining: 14.5ms\n",
      "999:\tlearn: 0.2335247\ttotal: 14.5s\tremaining: 0us\n"
     ]
    }
   ],
   "source": [
    "cb = catboost.CatBoostClassifier()\n",
    "cb.fit(X_train,y_train)\n",
    "cb_pred = cb.predict(X_test)"
   ]
  },
  {
   "cell_type": "code",
   "execution_count": 166,
   "metadata": {},
   "outputs": [
    {
     "name": "stdout",
     "output_type": "stream",
     "text": [
      "0.6335978835978836\n",
      "[[2967  147]\n",
      " [ 407  479]]\n"
     ]
    }
   ],
   "source": [
    "print(f1_score(y_test, cb_pred))\n",
    "print(confusion_matrix(y_test, cb_pred))"
   ]
  },
  {
   "cell_type": "code",
   "execution_count": 167,
   "metadata": {},
   "outputs": [
    {
     "name": "stderr",
     "output_type": "stream",
     "text": [
      "C:\\Users\\hp\\Anaconda3\\lib\\site-packages\\xgboost\\sklearn.py:1146: UserWarning: The use of label encoder in XGBClassifier is deprecated and will be removed in a future release. To remove this warning, do the following: 1) Pass option use_label_encoder=False when constructing XGBClassifier object; and 2) Encode your labels (y) as integers starting with 0, i.e. 0, 1, 2, ..., [num_class - 1].\n",
      "  warnings.warn(label_encoder_deprecation_msg, UserWarning)\n"
     ]
    },
    {
     "name": "stdout",
     "output_type": "stream",
     "text": [
      "[14:02:14] WARNING: C:/Users/Administrator/workspace/xgboost-win64_release_1.4.0/src/learner.cc:1095: Starting in XGBoost 1.3.0, the default evaluation metric used with the objective 'binary:logistic' was changed from 'error' to 'logloss'. Explicitly set eval_metric if you'd like to restore the old behavior.\n"
     ]
    },
    {
     "data": {
      "text/plain": [
       "array([0, 0, 0, ..., 0, 0, 0], dtype=int64)"
      ]
     },
     "execution_count": 167,
     "metadata": {},
     "output_type": "execute_result"
    }
   ],
   "source": [
    "xgb = XGBClassifier()\n",
    "xgb.fit(X_train, y_train)\n",
    "xgb_pred = xgb.predict(X_test)\n",
    "xgb_pred"
   ]
  },
  {
   "cell_type": "code",
   "execution_count": 168,
   "metadata": {},
   "outputs": [
    {
     "name": "stdout",
     "output_type": "stream",
     "text": [
      "0.6393337604099936\n",
      "[[2938  176]\n",
      " [ 387  499]]\n"
     ]
    }
   ],
   "source": [
    "print(f1_score(y_test, xgb_pred))\n",
    "print(confusion_matrix(y_test, xgb_pred))"
   ]
  },
  {
   "cell_type": "code",
   "execution_count": 169,
   "metadata": {},
   "outputs": [
    {
     "name": "stderr",
     "output_type": "stream",
     "text": [
      "C:\\Users\\hp\\Anaconda3\\lib\\site-packages\\dask\\dataframe\\utils.py:13: FutureWarning: pandas.util.testing is deprecated. Use the functions in the public API at pandas.testing instead.\n",
      "  import pandas.util.testing as tm\n",
      "C:\\Users\\hp\\Anaconda3\\lib\\site-packages\\distributed\\utils.py:134: RuntimeWarning: Couldn't detect a suitable IP address for reaching '8.8.8.8', defaulting to '127.0.0.1': [WinError 10051] A socket operation was attempted to an unreachable network\n",
      "  % (host, default, e), RuntimeWarning)\n"
     ]
    }
   ],
   "source": [
    "import lightgbm as lgb"
   ]
  },
  {
   "cell_type": "code",
   "execution_count": 170,
   "metadata": {},
   "outputs": [
    {
     "name": "stdout",
     "output_type": "stream",
     "text": [
      "[20]\ttraining's binary_logloss: 0.339008\tvalid_0's binary_logloss: 0.358951\n",
      "[40]\ttraining's binary_logloss: 0.301463\tvalid_0's binary_logloss: 0.341788\n",
      "[60]\ttraining's binary_logloss: 0.280337\tvalid_0's binary_logloss: 0.336453\n",
      "[80]\ttraining's binary_logloss: 0.264575\tvalid_0's binary_logloss: 0.333683\n",
      "[100]\ttraining's binary_logloss: 0.250077\tvalid_0's binary_logloss: 0.330908\n"
     ]
    },
    {
     "data": {
      "text/plain": [
       "LGBMClassifier(learning_rate=0.09, max_depth=-5, random_state=1234)"
      ]
     },
     "execution_count": 170,
     "metadata": {},
     "output_type": "execute_result"
    }
   ],
   "source": [
    "model = lgb.LGBMClassifier(learning_rate=0.09, max_depth=-5, random_state=1234)\n",
    "model.fit(X_train, y_train,eval_set=[(X_test, y_test), (X_train, y_train)], \n",
    "         verbose=20, eval_metric = 'logloss')"
   ]
  },
  {
   "cell_type": "code",
   "execution_count": 171,
   "metadata": {},
   "outputs": [
    {
     "name": "stdout",
     "output_type": "stream",
     "text": [
      "Training accuracy 0.8995\n",
      "Testing accuracy 0.8558\n"
     ]
    }
   ],
   "source": [
    "print('Training accuracy {:.4f}'.format(model.score(X_train, y_train)))\n",
    "print('Testing accuracy {:.4f}'.format(model.score(X_test, y_test)))"
   ]
  },
  {
   "cell_type": "code",
   "execution_count": 172,
   "metadata": {},
   "outputs": [
    {
     "data": {
      "text/plain": [
       "<matplotlib.axes._subplots.AxesSubplot at 0x20b7e3c86a0>"
      ]
     },
     "execution_count": 172,
     "metadata": {},
     "output_type": "execute_result"
    },
    {
     "data": {
      "image/png": "[encoded data removed]",
      "text/plain": [
       "<Figure size 432x288 with 1 Axes>"
      ]
     },
     "metadata": {
      "needs_background": "light"
     },
     "output_type": "display_data"
    }
   ],
   "source": [
    "lgb.plot_importance(model)"
   ]
  },
  {
   "cell_type": "code",
   "execution_count": 173,
   "metadata": {},
   "outputs": [
    {
     "data": {
      "text/plain": [
       "array([0, 0, 0, ..., 0, 0, 0], dtype=int64)"
      ]
     },
     "execution_count": 173,
     "metadata": {},
     "output_type": "execute_result"
    }
   ],
   "source": [
    "lgbm_pred = model.predict(X_test)\n",
    "lgbm_pred"
   ]
  },
  {
   "cell_type": "code",
   "execution_count": 174,
   "metadata": {},
   "outputs": [
    {
     "name": "stdout",
     "output_type": "stream",
     "text": [
      "0.6335978835978836\n",
      "[[2943  171]\n",
      " [ 406  480]]\n"
     ]
    }
   ],
   "source": [
    "print(f1_score(y_test, cb_pred))\n",
    "print(confusion_matrix(y_test, lgbm_pred))"
   ]
  },
  {
   "cell_type": "code",
   "execution_count": 175,
   "metadata": {},
   "outputs": [],
   "source": [
    "from sklearn.ensemble import RandomForestClassifier"
   ]
  },
  {
   "cell_type": "code",
   "execution_count": 176,
   "metadata": {},
   "outputs": [
    {
     "data": {
      "text/plain": [
       "array([0, 0, 0, ..., 0, 0, 0], dtype=int64)"
      ]
     },
     "execution_count": 176,
     "metadata": {},
     "output_type": "execute_result"
    }
   ],
   "source": [
    "rfc = RandomForestClassifier()\n",
    "rfc.fit(X_train, y_train)\n",
    "rfc_pred = rfc.predict(X_test)\n",
    "rfc_pred"
   ]
  },
  {
   "cell_type": "code",
   "execution_count": 177,
   "metadata": {},
   "outputs": [
    {
     "name": "stdout",
     "output_type": "stream",
     "text": [
      "0.86725\n",
      "0.6513460275771504\n",
      "[[2973  141]\n",
      " [ 390  496]]\n"
     ]
    }
   ],
   "source": [
    "print(accuracy_score(y_test, rfc_pred))\n",
    "print(f1_score(y_test, rfc_pred))\n",
    "print(confusion_matrix(y_test, rfc_pred))"
   ]
  },
  {
   "cell_type": "markdown",
   "metadata": {},
   "source": [
    "## Undersampling technique"
   ]
  },
  {
   "cell_type": "code",
   "execution_count": 178,
   "metadata": {},
   "outputs": [
    {
     "data": {
      "text/plain": [
       "0    109581\n",
       "1     31200\n",
       "Name: RainTomorrow, dtype: int64"
      ]
     },
     "execution_count": 178,
     "metadata": {},
     "output_type": "execute_result"
    }
   ],
   "source": [
    "data.RainTomorrow.value_counts()"
   ]
  },
  {
   "cell_type": "code",
   "execution_count": 179,
   "metadata": {},
   "outputs": [],
   "source": [
    "count_0 , count_1 =data.RainTomorrow.value_counts()"
   ]
  },
  {
   "cell_type": "code",
   "execution_count": 180,
   "metadata": {},
   "outputs": [
    {
     "data": {
      "text/plain": [
       "109581"
      ]
     },
     "execution_count": 180,
     "metadata": {},
     "output_type": "execute_result"
    }
   ],
   "source": [
    "count_0"
   ]
  },
  {
   "cell_type": "code",
   "execution_count": 181,
   "metadata": {},
   "outputs": [],
   "source": [
    "df_class_0 = data[data['RainTomorrow'] == 0]\n",
    "df_class_1 = data[data[\"RainTomorrow\"] == 1]"
   ]
  },
  {
   "cell_type": "code",
   "execution_count": 182,
   "metadata": {},
   "outputs": [
    {
     "data": {
      "text/plain": [
       "(109581, 21)"
      ]
     },
     "execution_count": 182,
     "metadata": {},
     "output_type": "execute_result"
    }
   ],
   "source": [
    "df_class_0.shape"
   ]
  },
  {
   "cell_type": "code",
   "execution_count": 183,
   "metadata": {},
   "outputs": [
    {
     "data": {
      "text/plain": [
       "(31200, 21)"
      ]
     },
     "execution_count": 183,
     "metadata": {},
     "output_type": "execute_result"
    }
   ],
   "source": [
    "df_class_1.shape"
   ]
  },
  {
   "cell_type": "code",
   "execution_count": 184,
   "metadata": {},
   "outputs": [],
   "source": [
    "df_class_0_under = df_class_0.sample(count_1)"
   ]
  },
  {
   "cell_type": "code",
   "execution_count": 185,
   "metadata": {},
   "outputs": [
    {
     "data": {
      "text/plain": [
       "(31200, 21)"
      ]
     },
     "execution_count": 185,
     "metadata": {},
     "output_type": "execute_result"
    }
   ],
   "source": [
    "df_class_0_under.shape"
   ]
  },
  {
   "cell_type": "code",
   "execution_count": 186,
   "metadata": {},
   "outputs": [],
   "source": [
    "df_test_under = pd.concat([df_class_0_under, df_class_1], axis=0)"
   ]
  },
  {
   "cell_type": "code",
   "execution_count": 187,
   "metadata": {},
   "outputs": [
    {
     "data": {
      "text/html": [
       "<div>\n",
       "<style scoped>\n",
       "    .dataframe tbody tr th:only-of-type {\n",
       "        vertical-align: middle;\n",
       "    }\n",
       "\n",
       "    .dataframe tbody tr th {\n",
       "        vertical-align: top;\n",
       "    }\n",
       "\n",
       "    .dataframe thead th {\n",
       "        text-align: right;\n",
       "    }\n",
       "</style>\n",
       "<table border=\"1\" class=\"dataframe\">\n",
       "  <thead>\n",
       "    <tr style=\"text-align: right;\">\n",
       "      <th></th>\n",
       "      <th>MinTemp</th>\n",
       "      <th>MaxTemp</th>\n",
       "      <th>Rainfall</th>\n",
       "      <th>Evaporation</th>\n",
       "      <th>Sunshine</th>\n",
       "      <th>WindGustDir</th>\n",
       "      <th>WindGustSpeed</th>\n",
       "      <th>WindDir9am</th>\n",
       "      <th>WindDir3pm</th>\n",
       "      <th>WindSpeed9am</th>\n",
       "      <th>...</th>\n",
       "      <th>Humidity9am</th>\n",
       "      <th>Humidity3pm</th>\n",
       "      <th>Pressure9am</th>\n",
       "      <th>Pressure3pm</th>\n",
       "      <th>Cloud9am</th>\n",
       "      <th>Cloud3pm</th>\n",
       "      <th>Temp9am</th>\n",
       "      <th>Temp3pm</th>\n",
       "      <th>RainToday</th>\n",
       "      <th>RainTomorrow</th>\n",
       "    </tr>\n",
       "  </thead>\n",
       "  <tbody>\n",
       "    <tr>\n",
       "      <th>30676</th>\n",
       "      <td>8.2</td>\n",
       "      <td>19.8</td>\n",
       "      <td>1.2</td>\n",
       "      <td>0.800000</td>\n",
       "      <td>8.600000</td>\n",
       "      <td>1</td>\n",
       "      <td>40.034913</td>\n",
       "      <td>1</td>\n",
       "      <td>1</td>\n",
       "      <td>15.0</td>\n",
       "      <td>...</td>\n",
       "      <td>79.0</td>\n",
       "      <td>40.0</td>\n",
       "      <td>1013.1</td>\n",
       "      <td>1010.6</td>\n",
       "      <td>1.000000</td>\n",
       "      <td>3.000000</td>\n",
       "      <td>10.2</td>\n",
       "      <td>18.4</td>\n",
       "      <td>1</td>\n",
       "      <td>0</td>\n",
       "    </tr>\n",
       "    <tr>\n",
       "      <th>108240</th>\n",
       "      <td>8.4</td>\n",
       "      <td>21.8</td>\n",
       "      <td>0.0</td>\n",
       "      <td>4.600000</td>\n",
       "      <td>7.611104</td>\n",
       "      <td>1</td>\n",
       "      <td>46.000000</td>\n",
       "      <td>1</td>\n",
       "      <td>1</td>\n",
       "      <td>19.0</td>\n",
       "      <td>...</td>\n",
       "      <td>53.0</td>\n",
       "      <td>21.0</td>\n",
       "      <td>1021.7</td>\n",
       "      <td>1016.9</td>\n",
       "      <td>7.000000</td>\n",
       "      <td>4.509948</td>\n",
       "      <td>11.5</td>\n",
       "      <td>21.4</td>\n",
       "      <td>0</td>\n",
       "      <td>0</td>\n",
       "    </tr>\n",
       "    <tr>\n",
       "      <th>12035</th>\n",
       "      <td>11.9</td>\n",
       "      <td>20.9</td>\n",
       "      <td>0.0</td>\n",
       "      <td>5.462012</td>\n",
       "      <td>7.611104</td>\n",
       "      <td>1</td>\n",
       "      <td>30.000000</td>\n",
       "      <td>1</td>\n",
       "      <td>1</td>\n",
       "      <td>15.0</td>\n",
       "      <td>...</td>\n",
       "      <td>56.0</td>\n",
       "      <td>52.0</td>\n",
       "      <td>1020.8</td>\n",
       "      <td>1018.8</td>\n",
       "      <td>4.447542</td>\n",
       "      <td>4.509948</td>\n",
       "      <td>17.8</td>\n",
       "      <td>20.2</td>\n",
       "      <td>0</td>\n",
       "      <td>0</td>\n",
       "    </tr>\n",
       "    <tr>\n",
       "      <th>51455</th>\n",
       "      <td>8.4</td>\n",
       "      <td>22.3</td>\n",
       "      <td>0.0</td>\n",
       "      <td>5.462012</td>\n",
       "      <td>7.611104</td>\n",
       "      <td>0</td>\n",
       "      <td>35.000000</td>\n",
       "      <td>1</td>\n",
       "      <td>0</td>\n",
       "      <td>4.0</td>\n",
       "      <td>...</td>\n",
       "      <td>56.0</td>\n",
       "      <td>34.0</td>\n",
       "      <td>1025.2</td>\n",
       "      <td>1020.0</td>\n",
       "      <td>4.447542</td>\n",
       "      <td>4.509948</td>\n",
       "      <td>11.4</td>\n",
       "      <td>20.9</td>\n",
       "      <td>0</td>\n",
       "      <td>0</td>\n",
       "    </tr>\n",
       "    <tr>\n",
       "      <th>7493</th>\n",
       "      <td>20.7</td>\n",
       "      <td>32.4</td>\n",
       "      <td>0.0</td>\n",
       "      <td>4.600000</td>\n",
       "      <td>7.611104</td>\n",
       "      <td>1</td>\n",
       "      <td>31.000000</td>\n",
       "      <td>1</td>\n",
       "      <td>1</td>\n",
       "      <td>20.0</td>\n",
       "      <td>...</td>\n",
       "      <td>33.0</td>\n",
       "      <td>24.0</td>\n",
       "      <td>1010.8</td>\n",
       "      <td>1009.4</td>\n",
       "      <td>1.000000</td>\n",
       "      <td>4.000000</td>\n",
       "      <td>22.5</td>\n",
       "      <td>31.1</td>\n",
       "      <td>0</td>\n",
       "      <td>0</td>\n",
       "    </tr>\n",
       "    <tr>\n",
       "      <th>...</th>\n",
       "      <td>...</td>\n",
       "      <td>...</td>\n",
       "      <td>...</td>\n",
       "      <td>...</td>\n",
       "      <td>...</td>\n",
       "      <td>...</td>\n",
       "      <td>...</td>\n",
       "      <td>...</td>\n",
       "      <td>...</td>\n",
       "      <td>...</td>\n",
       "      <td>...</td>\n",
       "      <td>...</td>\n",
       "      <td>...</td>\n",
       "      <td>...</td>\n",
       "      <td>...</td>\n",
       "      <td>...</td>\n",
       "      <td>...</td>\n",
       "      <td>...</td>\n",
       "      <td>...</td>\n",
       "      <td>...</td>\n",
       "      <td>...</td>\n",
       "    </tr>\n",
       "    <tr>\n",
       "      <th>145324</th>\n",
       "      <td>24.8</td>\n",
       "      <td>39.8</td>\n",
       "      <td>0.4</td>\n",
       "      <td>5.462012</td>\n",
       "      <td>7.611104</td>\n",
       "      <td>1</td>\n",
       "      <td>65.000000</td>\n",
       "      <td>0</td>\n",
       "      <td>1</td>\n",
       "      <td>15.0</td>\n",
       "      <td>...</td>\n",
       "      <td>38.0</td>\n",
       "      <td>24.0</td>\n",
       "      <td>1007.0</td>\n",
       "      <td>1003.6</td>\n",
       "      <td>4.447542</td>\n",
       "      <td>4.509948</td>\n",
       "      <td>31.5</td>\n",
       "      <td>36.6</td>\n",
       "      <td>0</td>\n",
       "      <td>1</td>\n",
       "    </tr>\n",
       "    <tr>\n",
       "      <th>145390</th>\n",
       "      <td>19.3</td>\n",
       "      <td>24.4</td>\n",
       "      <td>0.0</td>\n",
       "      <td>5.462012</td>\n",
       "      <td>7.611104</td>\n",
       "      <td>1</td>\n",
       "      <td>35.000000</td>\n",
       "      <td>1</td>\n",
       "      <td>1</td>\n",
       "      <td>7.0</td>\n",
       "      <td>...</td>\n",
       "      <td>28.0</td>\n",
       "      <td>91.0</td>\n",
       "      <td>1015.9</td>\n",
       "      <td>1013.9</td>\n",
       "      <td>8.000000</td>\n",
       "      <td>8.000000</td>\n",
       "      <td>21.3</td>\n",
       "      <td>18.5</td>\n",
       "      <td>0</td>\n",
       "      <td>1</td>\n",
       "    </tr>\n",
       "    <tr>\n",
       "      <th>145391</th>\n",
       "      <td>15.2</td>\n",
       "      <td>21.5</td>\n",
       "      <td>6.8</td>\n",
       "      <td>5.462012</td>\n",
       "      <td>7.611104</td>\n",
       "      <td>1</td>\n",
       "      <td>30.000000</td>\n",
       "      <td>1</td>\n",
       "      <td>1</td>\n",
       "      <td>19.0</td>\n",
       "      <td>...</td>\n",
       "      <td>65.0</td>\n",
       "      <td>65.0</td>\n",
       "      <td>1016.9</td>\n",
       "      <td>1015.3</td>\n",
       "      <td>3.000000</td>\n",
       "      <td>8.000000</td>\n",
       "      <td>19.0</td>\n",
       "      <td>21.2</td>\n",
       "      <td>1</td>\n",
       "      <td>1</td>\n",
       "    </tr>\n",
       "    <tr>\n",
       "      <th>145392</th>\n",
       "      <td>17.7</td>\n",
       "      <td>26.9</td>\n",
       "      <td>12.6</td>\n",
       "      <td>5.462012</td>\n",
       "      <td>7.611104</td>\n",
       "      <td>1</td>\n",
       "      <td>35.000000</td>\n",
       "      <td>0</td>\n",
       "      <td>1</td>\n",
       "      <td>15.0</td>\n",
       "      <td>...</td>\n",
       "      <td>93.0</td>\n",
       "      <td>59.0</td>\n",
       "      <td>1018.1</td>\n",
       "      <td>1014.7</td>\n",
       "      <td>7.000000</td>\n",
       "      <td>8.000000</td>\n",
       "      <td>19.0</td>\n",
       "      <td>26.0</td>\n",
       "      <td>1</td>\n",
       "      <td>1</td>\n",
       "    </tr>\n",
       "    <tr>\n",
       "      <th>145393</th>\n",
       "      <td>18.6</td>\n",
       "      <td>28.6</td>\n",
       "      <td>34.6</td>\n",
       "      <td>5.462012</td>\n",
       "      <td>7.611104</td>\n",
       "      <td>0</td>\n",
       "      <td>46.000000</td>\n",
       "      <td>0</td>\n",
       "      <td>0</td>\n",
       "      <td>4.0</td>\n",
       "      <td>...</td>\n",
       "      <td>100.0</td>\n",
       "      <td>56.0</td>\n",
       "      <td>1020.0</td>\n",
       "      <td>1015.8</td>\n",
       "      <td>8.000000</td>\n",
       "      <td>5.000000</td>\n",
       "      <td>19.8</td>\n",
       "      <td>26.9</td>\n",
       "      <td>1</td>\n",
       "      <td>1</td>\n",
       "    </tr>\n",
       "  </tbody>\n",
       "</table>\n",
       "<p>62400 rows × 21 columns</p>\n",
       "</div>"
      ],
      "text/plain": [
       "        MinTemp  MaxTemp  Rainfall  Evaporation  Sunshine  WindGustDir  \\\n",
       "30676       8.2     19.8       1.2     0.800000  8.600000            1   \n",
       "108240      8.4     21.8       0.0     4.600000  7.611104            1   \n",
       "12035      11.9     20.9       0.0     5.462012  7.611104            1   \n",
       "51455       8.4     22.3       0.0     5.462012  7.611104            0   \n",
       "7493       20.7     32.4       0.0     4.600000  7.611104            1   \n",
       "...         ...      ...       ...          ...       ...          ...   \n",
       "145324     24.8     39.8       0.4     5.462012  7.611104            1   \n",
       "145390     19.3     24.4       0.0     5.462012  7.611104            1   \n",
       "145391     15.2     21.5       6.8     5.462012  7.611104            1   \n",
       "145392     17.7     26.9      12.6     5.462012  7.611104            1   \n",
       "145393     18.6     28.6      34.6     5.462012  7.611104            0   \n",
       "\n",
       "        WindGustSpeed  WindDir9am  WindDir3pm  WindSpeed9am  ...  Humidity9am  \\\n",
       "30676       40.034913           1           1          15.0  ...         79.0   \n",
       "108240      46.000000           1           1          19.0  ...         53.0   \n",
       "12035       30.000000           1           1          15.0  ...         56.0   \n",
       "51455       35.000000           1           0           4.0  ...         56.0   \n",
       "7493        31.000000           1           1          20.0  ...         33.0   \n",
       "...               ...         ...         ...           ...  ...          ...   \n",
       "145324      65.000000           0           1          15.0  ...         38.0   \n",
       "145390      35.000000           1           1           7.0  ...         28.0   \n",
       "145391      30.000000           1           1          19.0  ...         65.0   \n",
       "145392      35.000000           0           1          15.0  ...         93.0   \n",
       "145393      46.000000           0           0           4.0  ...        100.0   \n",
       "\n",
       "        Humidity3pm  Pressure9am  Pressure3pm  Cloud9am  Cloud3pm  Temp9am  \\\n",
       "30676          40.0       1013.1       1010.6  1.000000  3.000000     10.2   \n",
       "108240         21.0       1021.7       1016.9  7.000000  4.509948     11.5   \n",
       "12035          52.0       1020.8       1018.8  4.447542  4.509948     17.8   \n",
       "51455          34.0       1025.2       1020.0  4.447542  4.509948     11.4   \n",
       "7493           24.0       1010.8       1009.4  1.000000  4.000000     22.5   \n",
       "...             ...          ...          ...       ...       ...      ...   \n",
       "145324         24.0       1007.0       1003.6  4.447542  4.509948     31.5   \n",
       "145390         91.0       1015.9       1013.9  8.000000  8.000000     21.3   \n",
       "145391         65.0       1016.9       1015.3  3.000000  8.000000     19.0   \n",
       "145392         59.0       1018.1       1014.7  7.000000  8.000000     19.0   \n",
       "145393         56.0       1020.0       1015.8  8.000000  5.000000     19.8   \n",
       "\n",
       "        Temp3pm  RainToday  RainTomorrow  \n",
       "30676      18.4          1             0  \n",
       "108240     21.4          0             0  \n",
       "12035      20.2          0             0  \n",
       "51455      20.9          0             0  \n",
       "7493       31.1          0             0  \n",
       "...         ...        ...           ...  \n",
       "145324     36.6          0             1  \n",
       "145390     18.5          0             1  \n",
       "145391     21.2          1             1  \n",
       "145392     26.0          1             1  \n",
       "145393     26.9          1             1  \n",
       "\n",
       "[62400 rows x 21 columns]"
      ]
     },
     "execution_count": 187,
     "metadata": {},
     "output_type": "execute_result"
    }
   ],
   "source": [
    "df_test_under"
   ]
  },
  {
   "cell_type": "code",
   "execution_count": 188,
   "metadata": {},
   "outputs": [
    {
     "name": "stdout",
     "output_type": "stream",
     "text": [
      "Random under sampling \n",
      "1    31200\n",
      "0    31200\n",
      "Name: RainTomorrow, dtype: int64\n"
     ]
    }
   ],
   "source": [
    "print('Random under sampling ')\n",
    "print(df_test_under.RainTomorrow.value_counts())"
   ]
  },
  {
   "cell_type": "code",
   "execution_count": 189,
   "metadata": {},
   "outputs": [],
   "source": [
    "X = df_test_under.drop(\"RainTomorrow\", axis=1)"
   ]
  },
  {
   "cell_type": "code",
   "execution_count": 190,
   "metadata": {},
   "outputs": [],
   "source": [
    "y =df_test_under.RainTomorrow"
   ]
  },
  {
   "cell_type": "code",
   "execution_count": 191,
   "metadata": {},
   "outputs": [],
   "source": [
    "X_train, X_test, y_train, y_test = train_test_split(X, y, test_size=0.2, random_state=1234)"
   ]
  },
  {
   "cell_type": "code",
   "execution_count": 192,
   "metadata": {},
   "outputs": [],
   "source": [
    "under_log = LogisticRegression(C=100)"
   ]
  },
  {
   "cell_type": "code",
   "execution_count": 193,
   "metadata": {},
   "outputs": [
    {
     "name": "stderr",
     "output_type": "stream",
     "text": [
      "C:\\Users\\hp\\Anaconda3\\lib\\site-packages\\sklearn\\linear_model\\_logistic.py:818: ConvergenceWarning: lbfgs failed to converge (status=1):\n",
      "STOP: TOTAL NO. of ITERATIONS REACHED LIMIT.\n",
      "\n",
      "Increase the number of iterations (max_iter) or scale the data as shown in:\n",
      "    https://scikit-learn.org/stable/modules/preprocessing.html\n",
      "Please also refer to the documentation for alternative solver options:\n",
      "    https://scikit-learn.org/stable/modules/linear_model.html#logistic-regression\n",
      "  extra_warning_msg=_LOGISTIC_SOLVER_CONVERGENCE_MSG,\n"
     ]
    },
    {
     "data": {
      "text/plain": [
       "LogisticRegression(C=100)"
      ]
     },
     "execution_count": 193,
     "metadata": {},
     "output_type": "execute_result"
    }
   ],
   "source": [
    "under_log.fit(X_train, y_train)"
   ]
  },
  {
   "cell_type": "code",
   "execution_count": 194,
   "metadata": {},
   "outputs": [
    {
     "name": "stdout",
     "output_type": "stream",
     "text": [
      "0.7779847756410256\n",
      "0.7696314102564102\n"
     ]
    }
   ],
   "source": [
    "print(under_log.score(X_train,y_train))\n",
    "print(under_log.score(X_test, y_test))"
   ]
  },
  {
   "cell_type": "code",
   "execution_count": 195,
   "metadata": {},
   "outputs": [],
   "source": [
    "under_log_pred = under_log.predict(X_test)"
   ]
  },
  {
   "cell_type": "code",
   "execution_count": 196,
   "metadata": {},
   "outputs": [
    {
     "data": {
      "text/plain": [
       "0.7679393009928163"
      ]
     },
     "execution_count": 196,
     "metadata": {},
     "output_type": "execute_result"
    }
   ],
   "source": [
    "f1_score(y_test, under_log_pred)"
   ]
  },
  {
   "cell_type": "code",
   "execution_count": 197,
   "metadata": {},
   "outputs": [
    {
     "data": {
      "text/plain": [
       "array([[4848, 1328],\n",
       "       [1547, 4757]], dtype=int64)"
      ]
     },
     "execution_count": 197,
     "metadata": {},
     "output_type": "execute_result"
    }
   ],
   "source": [
    "confusion_matrix(y_test, under_log_pred)"
   ]
  },
  {
   "cell_type": "code",
   "execution_count": 198,
   "metadata": {},
   "outputs": [
    {
     "data": {
      "text/plain": [
       "DecisionTreeClassifier()"
      ]
     },
     "execution_count": 198,
     "metadata": {},
     "output_type": "execute_result"
    }
   ],
   "source": [
    "under_dct = DecisionTreeClassifier()\n",
    "under_dct.fit(X_train, y_train)"
   ]
  },
  {
   "cell_type": "code",
   "execution_count": 199,
   "metadata": {},
   "outputs": [
    {
     "name": "stdout",
     "output_type": "stream",
     "text": [
      "0.9999799679487179\n",
      "0.7141826923076923\n"
     ]
    }
   ],
   "source": [
    "print(under_dct.score(X_train,y_train))\n",
    "print(under_dct.score(X_test, y_test))"
   ]
  },
  {
   "cell_type": "code",
   "execution_count": 200,
   "metadata": {},
   "outputs": [],
   "source": [
    "under_dct_pred = under_dct.predict(X_test)"
   ]
  },
  {
   "cell_type": "code",
   "execution_count": 201,
   "metadata": {},
   "outputs": [
    {
     "data": {
      "text/plain": [
       "0.71539136679167"
      ]
     },
     "execution_count": 201,
     "metadata": {},
     "output_type": "execute_result"
    }
   ],
   "source": [
    "f1_score(y_test, under_dct_pred)\n"
   ]
  },
  {
   "cell_type": "code",
   "execution_count": 202,
   "metadata": {},
   "outputs": [
    {
     "data": {
      "text/plain": [
       "array([[4430, 1746],\n",
       "       [1821, 4483]], dtype=int64)"
      ]
     },
     "execution_count": 202,
     "metadata": {},
     "output_type": "execute_result"
    }
   ],
   "source": [
    "confusion_matrix(y_test, under_dct_pred)"
   ]
  },
  {
   "cell_type": "code",
   "execution_count": 203,
   "metadata": {},
   "outputs": [],
   "source": [
    "# knn_class(X,y,\"Under sample\")"
   ]
  },
  {
   "cell_type": "code",
   "execution_count": 204,
   "metadata": {},
   "outputs": [
    {
     "name": "stdout",
     "output_type": "stream",
     "text": [
      "[20]\ttraining's binary_logloss: 0.461505\tvalid_0's binary_logloss: 0.475269\n",
      "[40]\ttraining's binary_logloss: 0.427551\tvalid_0's binary_logloss: 0.449608\n",
      "[60]\ttraining's binary_logloss: 0.413125\tvalid_0's binary_logloss: 0.442529\n",
      "[80]\ttraining's binary_logloss: 0.403214\tvalid_0's binary_logloss: 0.439725\n",
      "[100]\ttraining's binary_logloss: 0.395523\tvalid_0's binary_logloss: 0.438281\n"
     ]
    },
    {
     "data": {
      "text/plain": [
       "LGBMClassifier(learning_rate=0.09, max_depth=-5, random_state=1234)"
      ]
     },
     "execution_count": 204,
     "metadata": {},
     "output_type": "execute_result"
    }
   ],
   "source": [
    "model = lgb.LGBMClassifier(learning_rate=0.09, max_depth=-5, random_state=1234)\n",
    "model.fit(X_train, y_train,eval_set=[(X_test, y_test), (X_train, y_train)], \n",
    "         verbose=20, eval_metric = 'logloss')"
   ]
  },
  {
   "cell_type": "code",
   "execution_count": 205,
   "metadata": {},
   "outputs": [
    {
     "name": "stdout",
     "output_type": "stream",
     "text": [
      "Training accuracy 0.8189\n",
      "Testing accuracy 0.7923\n"
     ]
    }
   ],
   "source": [
    "print('Training accuracy {:.4f}'.format(model.score(X_train, y_train)))\n",
    "print('Testing accuracy {:.4f}'.format(model.score(X_test, y_test)))"
   ]
  },
  {
   "cell_type": "code",
   "execution_count": 206,
   "metadata": {},
   "outputs": [
    {
     "data": {
      "text/plain": [
       "<matplotlib.axes._subplots.AxesSubplot at 0x20b7f764470>"
      ]
     },
     "execution_count": 206,
     "metadata": {},
     "output_type": "execute_result"
    },
    {
     "data": {
      "image/png": "[encoded data removed]",
      "text/plain": [
       "<Figure size 432x288 with 1 Axes>"
      ]
     },
     "metadata": {
      "needs_background": "light"
     },
     "output_type": "display_data"
    }
   ],
   "source": [
    "lgb.plot_importance(model)"
   ]
  },
  {
   "cell_type": "code",
   "execution_count": 207,
   "metadata": {},
   "outputs": [
    {
     "data": {
      "text/plain": [
       "array([0, 0, 0, ..., 1, 0, 1], dtype=int64)"
      ]
     },
     "execution_count": 207,
     "metadata": {},
     "output_type": "execute_result"
    }
   ],
   "source": [
    "lgbm_pred = model.predict(X_test)\n",
    "lgbm_pred"
   ]
  },
  {
   "cell_type": "code",
   "execution_count": 208,
   "metadata": {},
   "outputs": [
    {
     "name": "stdout",
     "output_type": "stream",
     "text": [
      "0.793400286944046\n",
      "[[4911 1265]\n",
      " [1327 4977]]\n"
     ]
    }
   ],
   "source": [
    "print(f1_score(y_test,lgbm_pred))\n",
    "print(confusion_matrix(y_test, lgbm_pred))"
   ]
  },
  {
   "cell_type": "code",
   "execution_count": 209,
   "metadata": {},
   "outputs": [
    {
     "name": "stderr",
     "output_type": "stream",
     "text": [
      "C:\\Users\\hp\\Anaconda3\\lib\\site-packages\\xgboost\\sklearn.py:1146: UserWarning: The use of label encoder in XGBClassifier is deprecated and will be removed in a future release. To remove this warning, do the following: 1) Pass option use_label_encoder=False when constructing XGBClassifier object; and 2) Encode your labels (y) as integers starting with 0, i.e. 0, 1, 2, ..., [num_class - 1].\n",
      "  warnings.warn(label_encoder_deprecation_msg, UserWarning)\n"
     ]
    },
    {
     "name": "stdout",
     "output_type": "stream",
     "text": [
      "[14:02:34] WARNING: C:/Users/Administrator/workspace/xgboost-win64_release_1.4.0/src/learner.cc:1095: Starting in XGBoost 1.3.0, the default evaluation metric used with the objective 'binary:logistic' was changed from 'error' to 'logloss'. Explicitly set eval_metric if you'd like to restore the old behavior.\n"
     ]
    },
    {
     "data": {
      "text/plain": [
       "array([0, 0, 0, ..., 1, 0, 1], dtype=int64)"
      ]
     },
     "execution_count": 209,
     "metadata": {},
     "output_type": "execute_result"
    }
   ],
   "source": [
    "xgb = XGBClassifier()\n",
    "xgb.fit(X_train, y_train)\n",
    "xgb_pred = xgb.predict(X_test)\n",
    "xgb_pred"
   ]
  },
  {
   "cell_type": "code",
   "execution_count": 210,
   "metadata": {},
   "outputs": [
    {
     "data": {
      "text/plain": [
       "0.7917467948717949"
      ]
     },
     "execution_count": 210,
     "metadata": {},
     "output_type": "execute_result"
    }
   ],
   "source": [
    "accuracy_score(y_test, xgb_pred)"
   ]
  },
  {
   "cell_type": "code",
   "execution_count": 211,
   "metadata": {},
   "outputs": [
    {
     "name": "stdout",
     "output_type": "stream",
     "text": [
      "0.7923623871534713\n",
      "[[4922 1254]\n",
      " [1345 4959]]\n"
     ]
    }
   ],
   "source": [
    "print(f1_score(y_test, xgb_pred))\n",
    "print(confusion_matrix(y_test, xgb_pred))"
   ]
  },
  {
   "cell_type": "code",
   "execution_count": 212,
   "metadata": {},
   "outputs": [
    {
     "name": "stdout",
     "output_type": "stream",
     "text": [
      "Learning rate set to 0.054714\n",
      "0:\tlearn: 0.6697299\ttotal: 33.6ms\tremaining: 33.5s\n",
      "1:\tlearn: 0.6497427\ttotal: 53.9ms\tremaining: 26.9s\n",
      "2:\tlearn: 0.6309180\ttotal: 73.9ms\tremaining: 24.6s\n",
      "3:\tlearn: 0.6141393\ttotal: 93.9ms\tremaining: 23.4s\n",
      "4:\tlearn: 0.6003843\ttotal: 114ms\tremaining: 22.6s\n",
      "5:\tlearn: 0.5872769\ttotal: 134ms\tremaining: 22.1s\n",
      "6:\tlearn: 0.5743829\ttotal: 154ms\tremaining: 21.8s\n",
      "7:\tlearn: 0.5637883\ttotal: 172ms\tremaining: 21.4s\n",
      "8:\tlearn: 0.5531489\ttotal: 198ms\tremaining: 21.8s\n",
      "9:\tlearn: 0.5440916\ttotal: 223ms\tremaining: 22.1s\n",
      "10:\tlearn: 0.5360519\ttotal: 247ms\tremaining: 22.2s\n",
      "11:\tlearn: 0.5291474\ttotal: 278ms\tremaining: 22.9s\n",
      "12:\tlearn: 0.5229940\ttotal: 299ms\tremaining: 22.7s\n",
      "13:\tlearn: 0.5169800\ttotal: 318ms\tremaining: 22.4s\n",
      "14:\tlearn: 0.5114019\ttotal: 338ms\tremaining: 22.2s\n",
      "15:\tlearn: 0.5066581\ttotal: 359ms\tremaining: 22.1s\n",
      "16:\tlearn: 0.5026926\ttotal: 379ms\tremaining: 21.9s\n",
      "17:\tlearn: 0.4988799\ttotal: 404ms\tremaining: 22.1s\n",
      "18:\tlearn: 0.4952274\ttotal: 429ms\tremaining: 22.1s\n",
      "19:\tlearn: 0.4915520\ttotal: 456ms\tremaining: 22.3s\n",
      "20:\tlearn: 0.4886005\ttotal: 477ms\tremaining: 22.2s\n",
      "21:\tlearn: 0.4854700\ttotal: 497ms\tremaining: 22.1s\n",
      "22:\tlearn: 0.4832183\ttotal: 516ms\tremaining: 21.9s\n",
      "23:\tlearn: 0.4807670\ttotal: 537ms\tremaining: 21.8s\n",
      "24:\tlearn: 0.4785159\ttotal: 556ms\tremaining: 21.7s\n",
      "25:\tlearn: 0.4763144\ttotal: 576ms\tremaining: 21.6s\n",
      "26:\tlearn: 0.4748696\ttotal: 595ms\tremaining: 21.4s\n",
      "27:\tlearn: 0.4731020\ttotal: 620ms\tremaining: 21.5s\n",
      "28:\tlearn: 0.4718012\ttotal: 645ms\tremaining: 21.6s\n",
      "29:\tlearn: 0.4704072\ttotal: 672ms\tremaining: 21.7s\n",
      "30:\tlearn: 0.4688288\ttotal: 694ms\tremaining: 21.7s\n",
      "31:\tlearn: 0.4672573\ttotal: 714ms\tremaining: 21.6s\n",
      "32:\tlearn: 0.4661247\ttotal: 734ms\tremaining: 21.5s\n",
      "33:\tlearn: 0.4651331\ttotal: 754ms\tremaining: 21.4s\n",
      "34:\tlearn: 0.4640821\ttotal: 775ms\tremaining: 21.4s\n",
      "35:\tlearn: 0.4630700\ttotal: 794ms\tremaining: 21.3s\n",
      "36:\tlearn: 0.4622043\ttotal: 813ms\tremaining: 21.2s\n",
      "37:\tlearn: 0.4614498\ttotal: 837ms\tremaining: 21.2s\n",
      "38:\tlearn: 0.4604767\ttotal: 861ms\tremaining: 21.2s\n",
      "39:\tlearn: 0.4598277\ttotal: 890ms\tremaining: 21.4s\n",
      "40:\tlearn: 0.4590759\ttotal: 911ms\tremaining: 21.3s\n",
      "41:\tlearn: 0.4584135\ttotal: 931ms\tremaining: 21.2s\n",
      "42:\tlearn: 0.4574647\ttotal: 951ms\tremaining: 21.2s\n",
      "43:\tlearn: 0.4566485\ttotal: 969ms\tremaining: 21.1s\n",
      "44:\tlearn: 0.4558755\ttotal: 988ms\tremaining: 21s\n",
      "45:\tlearn: 0.4552349\ttotal: 1.01s\tremaining: 20.9s\n",
      "46:\tlearn: 0.4547082\ttotal: 1.03s\tremaining: 20.8s\n",
      "47:\tlearn: 0.4541596\ttotal: 1.05s\tremaining: 20.8s\n",
      "48:\tlearn: 0.4536444\ttotal: 1.07s\tremaining: 20.9s\n",
      "49:\tlearn: 0.4532461\ttotal: 1.1s\tremaining: 20.9s\n",
      "50:\tlearn: 0.4527786\ttotal: 1.12s\tremaining: 20.8s\n",
      "51:\tlearn: 0.4522287\ttotal: 1.14s\tremaining: 20.8s\n",
      "52:\tlearn: 0.4517533\ttotal: 1.16s\tremaining: 20.7s\n",
      "53:\tlearn: 0.4511982\ttotal: 1.18s\tremaining: 20.6s\n",
      "54:\tlearn: 0.4508927\ttotal: 1.2s\tremaining: 20.6s\n",
      "55:\tlearn: 0.4504627\ttotal: 1.22s\tremaining: 20.5s\n",
      "56:\tlearn: 0.4500245\ttotal: 1.24s\tremaining: 20.4s\n",
      "57:\tlearn: 0.4496605\ttotal: 1.26s\tremaining: 20.5s\n",
      "58:\tlearn: 0.4493456\ttotal: 1.29s\tremaining: 20.6s\n",
      "59:\tlearn: 0.4489580\ttotal: 1.31s\tremaining: 20.6s\n",
      "60:\tlearn: 0.4486322\ttotal: 1.33s\tremaining: 20.5s\n",
      "61:\tlearn: 0.4482636\ttotal: 1.35s\tremaining: 20.5s\n",
      "62:\tlearn: 0.4478791\ttotal: 1.37s\tremaining: 20.4s\n",
      "63:\tlearn: 0.4474893\ttotal: 1.39s\tremaining: 20.4s\n",
      "64:\tlearn: 0.4471204\ttotal: 1.41s\tremaining: 20.3s\n",
      "65:\tlearn: 0.4468070\ttotal: 1.43s\tremaining: 20.2s\n",
      "66:\tlearn: 0.4465936\ttotal: 1.45s\tremaining: 20.2s\n",
      "67:\tlearn: 0.4463339\ttotal: 1.47s\tremaining: 20.2s\n",
      "68:\tlearn: 0.4460040\ttotal: 1.5s\tremaining: 20.2s\n",
      "69:\tlearn: 0.4456959\ttotal: 1.52s\tremaining: 20.2s\n",
      "70:\tlearn: 0.4454162\ttotal: 1.54s\tremaining: 20.2s\n",
      "71:\tlearn: 0.4450858\ttotal: 1.56s\tremaining: 20.1s\n",
      "72:\tlearn: 0.4448493\ttotal: 1.58s\tremaining: 20.1s\n",
      "73:\tlearn: 0.4445327\ttotal: 1.6s\tremaining: 20s\n",
      "74:\tlearn: 0.4443089\ttotal: 1.62s\tremaining: 20s\n",
      "75:\tlearn: 0.4440435\ttotal: 1.64s\tremaining: 19.9s\n",
      "76:\tlearn: 0.4437526\ttotal: 1.66s\tremaining: 19.9s\n",
      "77:\tlearn: 0.4434301\ttotal: 1.68s\tremaining: 19.9s\n",
      "78:\tlearn: 0.4432383\ttotal: 1.71s\tremaining: 19.9s\n",
      "79:\tlearn: 0.4429048\ttotal: 1.73s\tremaining: 19.9s\n",
      "80:\tlearn: 0.4426037\ttotal: 1.75s\tremaining: 19.9s\n",
      "81:\tlearn: 0.4423727\ttotal: 1.77s\tremaining: 19.8s\n",
      "82:\tlearn: 0.4421471\ttotal: 1.79s\tremaining: 19.8s\n",
      "83:\tlearn: 0.4419155\ttotal: 1.81s\tremaining: 19.7s\n",
      "84:\tlearn: 0.4415611\ttotal: 1.83s\tremaining: 19.7s\n",
      "85:\tlearn: 0.4412956\ttotal: 1.85s\tremaining: 19.6s\n",
      "86:\tlearn: 0.4410593\ttotal: 1.87s\tremaining: 19.6s\n",
      "87:\tlearn: 0.4407826\ttotal: 1.89s\tremaining: 19.6s\n",
      "88:\tlearn: 0.4404915\ttotal: 1.92s\tremaining: 19.6s\n",
      "89:\tlearn: 0.4402418\ttotal: 1.94s\tremaining: 19.7s\n",
      "90:\tlearn: 0.4400960\ttotal: 1.96s\tremaining: 19.6s\n",
      "91:\tlearn: 0.4399027\ttotal: 1.98s\tremaining: 19.6s\n",
      "92:\tlearn: 0.4395900\ttotal: 2s\tremaining: 19.5s\n",
      "93:\tlearn: 0.4394289\ttotal: 2.02s\tremaining: 19.5s\n",
      "94:\tlearn: 0.4391965\ttotal: 2.04s\tremaining: 19.5s\n",
      "95:\tlearn: 0.4390022\ttotal: 2.06s\tremaining: 19.4s\n",
      "96:\tlearn: 0.4387914\ttotal: 2.08s\tremaining: 19.4s\n",
      "97:\tlearn: 0.4385970\ttotal: 2.1s\tremaining: 19.4s\n",
      "98:\tlearn: 0.4383044\ttotal: 2.13s\tremaining: 19.4s\n",
      "99:\tlearn: 0.4380630\ttotal: 2.15s\tremaining: 19.4s\n",
      "100:\tlearn: 0.4378821\ttotal: 2.17s\tremaining: 19.4s\n",
      "101:\tlearn: 0.4377360\ttotal: 2.19s\tremaining: 19.3s\n",
      "102:\tlearn: 0.4375642\ttotal: 2.21s\tremaining: 19.3s\n",
      "103:\tlearn: 0.4373128\ttotal: 2.23s\tremaining: 19.2s\n",
      "104:\tlearn: 0.4371741\ttotal: 2.25s\tremaining: 19.2s\n",
      "105:\tlearn: 0.4370369\ttotal: 2.27s\tremaining: 19.1s\n",
      "106:\tlearn: 0.4368140\ttotal: 2.29s\tremaining: 19.1s\n",
      "107:\tlearn: 0.4366154\ttotal: 2.32s\tremaining: 19.2s\n",
      "108:\tlearn: 0.4364605\ttotal: 2.35s\tremaining: 19.2s\n",
      "109:\tlearn: 0.4363510\ttotal: 2.37s\tremaining: 19.2s\n",
      "110:\tlearn: 0.4361594\ttotal: 2.39s\tremaining: 19.2s\n",
      "111:\tlearn: 0.4360231\ttotal: 2.42s\tremaining: 19.2s\n",
      "112:\tlearn: 0.4358295\ttotal: 2.44s\tremaining: 19.2s\n",
      "113:\tlearn: 0.4356150\ttotal: 2.47s\tremaining: 19.2s\n",
      "114:\tlearn: 0.4353083\ttotal: 2.49s\tremaining: 19.2s\n",
      "115:\tlearn: 0.4351544\ttotal: 2.51s\tremaining: 19.1s\n",
      "116:\tlearn: 0.4349915\ttotal: 2.54s\tremaining: 19.2s\n",
      "117:\tlearn: 0.4348116\ttotal: 2.56s\tremaining: 19.1s\n",
      "118:\tlearn: 0.4346210\ttotal: 2.58s\tremaining: 19.1s\n",
      "119:\tlearn: 0.4345184\ttotal: 2.6s\tremaining: 19.1s\n",
      "120:\tlearn: 0.4343271\ttotal: 2.62s\tremaining: 19s\n",
      "121:\tlearn: 0.4341425\ttotal: 2.64s\tremaining: 19s\n",
      "122:\tlearn: 0.4340224\ttotal: 2.66s\tremaining: 19s\n",
      "123:\tlearn: 0.4338923\ttotal: 2.68s\tremaining: 18.9s\n",
      "124:\tlearn: 0.4337404\ttotal: 2.7s\tremaining: 18.9s\n",
      "125:\tlearn: 0.4335669\ttotal: 2.72s\tremaining: 18.9s\n",
      "126:\tlearn: 0.4333759\ttotal: 2.74s\tremaining: 18.9s\n",
      "127:\tlearn: 0.4332121\ttotal: 2.77s\tremaining: 18.9s\n",
      "128:\tlearn: 0.4330039\ttotal: 2.79s\tremaining: 18.8s\n",
      "129:\tlearn: 0.4328717\ttotal: 2.81s\tremaining: 18.8s\n",
      "130:\tlearn: 0.4327228\ttotal: 2.83s\tremaining: 18.8s\n",
      "131:\tlearn: 0.4325612\ttotal: 2.86s\tremaining: 18.8s\n",
      "132:\tlearn: 0.4323853\ttotal: 2.89s\tremaining: 18.8s\n",
      "133:\tlearn: 0.4322187\ttotal: 2.92s\tremaining: 18.8s\n",
      "134:\tlearn: 0.4320990\ttotal: 2.94s\tremaining: 18.8s\n",
      "135:\tlearn: 0.4319749\ttotal: 2.97s\tremaining: 18.9s\n",
      "136:\tlearn: 0.4318061\ttotal: 3s\tremaining: 18.9s\n",
      "137:\tlearn: 0.4316247\ttotal: 3.03s\tremaining: 18.9s\n",
      "138:\tlearn: 0.4314350\ttotal: 3.05s\tremaining: 18.9s\n",
      "139:\tlearn: 0.4313401\ttotal: 3.08s\tremaining: 18.9s\n",
      "140:\tlearn: 0.4310942\ttotal: 3.1s\tremaining: 18.9s\n",
      "141:\tlearn: 0.4309481\ttotal: 3.13s\tremaining: 18.9s\n",
      "142:\tlearn: 0.4308187\ttotal: 3.15s\tremaining: 18.9s\n",
      "143:\tlearn: 0.4306245\ttotal: 3.18s\tremaining: 18.9s\n",
      "144:\tlearn: 0.4304635\ttotal: 3.22s\tremaining: 19s\n",
      "145:\tlearn: 0.4303110\ttotal: 3.26s\tremaining: 19.1s\n",
      "146:\tlearn: 0.4302172\ttotal: 3.29s\tremaining: 19.1s\n",
      "147:\tlearn: 0.4301170\ttotal: 3.33s\tremaining: 19.1s\n",
      "148:\tlearn: 0.4299143\ttotal: 3.35s\tremaining: 19.1s\n",
      "149:\tlearn: 0.4297905\ttotal: 3.38s\tremaining: 19.1s\n",
      "150:\tlearn: 0.4296463\ttotal: 3.4s\tremaining: 19.1s\n",
      "151:\tlearn: 0.4295075\ttotal: 3.43s\tremaining: 19.1s\n",
      "152:\tlearn: 0.4293061\ttotal: 3.45s\tremaining: 19.1s\n",
      "153:\tlearn: 0.4291608\ttotal: 3.49s\tremaining: 19.2s\n",
      "154:\tlearn: 0.4290254\ttotal: 3.54s\tremaining: 19.3s\n",
      "155:\tlearn: 0.4288739\ttotal: 3.6s\tremaining: 19.5s\n",
      "156:\tlearn: 0.4287058\ttotal: 3.63s\tremaining: 19.5s\n",
      "157:\tlearn: 0.4286419\ttotal: 3.66s\tremaining: 19.5s\n",
      "158:\tlearn: 0.4285065\ttotal: 3.69s\tremaining: 19.5s\n",
      "159:\tlearn: 0.4283240\ttotal: 3.72s\tremaining: 19.5s\n",
      "160:\tlearn: 0.4281922\ttotal: 3.75s\tremaining: 19.5s\n",
      "161:\tlearn: 0.4280802\ttotal: 3.78s\tremaining: 19.5s\n",
      "162:\tlearn: 0.4279833\ttotal: 3.81s\tremaining: 19.5s\n",
      "163:\tlearn: 0.4278321\ttotal: 3.84s\tremaining: 19.6s\n",
      "164:\tlearn: 0.4277187\ttotal: 3.86s\tremaining: 19.6s\n",
      "165:\tlearn: 0.4275481\ttotal: 3.89s\tremaining: 19.5s\n"
     ]
    },
    {
     "name": "stdout",
     "output_type": "stream",
     "text": [
      "166:\tlearn: 0.4273722\ttotal: 3.92s\tremaining: 19.5s\n",
      "167:\tlearn: 0.4272718\ttotal: 3.95s\tremaining: 19.6s\n",
      "168:\tlearn: 0.4271094\ttotal: 3.98s\tremaining: 19.6s\n",
      "169:\tlearn: 0.4269698\ttotal: 4.01s\tremaining: 19.6s\n",
      "170:\tlearn: 0.4268583\ttotal: 4.04s\tremaining: 19.6s\n",
      "171:\tlearn: 0.4267743\ttotal: 4.07s\tremaining: 19.6s\n",
      "172:\tlearn: 0.4266536\ttotal: 4.1s\tremaining: 19.6s\n",
      "173:\tlearn: 0.4265772\ttotal: 4.13s\tremaining: 19.6s\n",
      "174:\tlearn: 0.4264552\ttotal: 4.17s\tremaining: 19.7s\n",
      "175:\tlearn: 0.4262958\ttotal: 4.2s\tremaining: 19.7s\n",
      "176:\tlearn: 0.4261649\ttotal: 4.23s\tremaining: 19.7s\n",
      "177:\tlearn: 0.4259948\ttotal: 4.27s\tremaining: 19.7s\n",
      "178:\tlearn: 0.4259170\ttotal: 4.3s\tremaining: 19.7s\n",
      "179:\tlearn: 0.4258400\ttotal: 4.33s\tremaining: 19.7s\n",
      "180:\tlearn: 0.4257134\ttotal: 4.37s\tremaining: 19.8s\n",
      "181:\tlearn: 0.4255392\ttotal: 4.4s\tremaining: 19.8s\n",
      "182:\tlearn: 0.4254085\ttotal: 4.42s\tremaining: 19.7s\n",
      "183:\tlearn: 0.4252368\ttotal: 4.45s\tremaining: 19.7s\n",
      "184:\tlearn: 0.4250983\ttotal: 4.47s\tremaining: 19.7s\n",
      "185:\tlearn: 0.4249274\ttotal: 4.5s\tremaining: 19.7s\n",
      "186:\tlearn: 0.4247952\ttotal: 4.52s\tremaining: 19.7s\n",
      "187:\tlearn: 0.4246587\ttotal: 4.54s\tremaining: 19.6s\n",
      "188:\tlearn: 0.4245663\ttotal: 4.57s\tremaining: 19.6s\n",
      "189:\tlearn: 0.4243949\ttotal: 4.6s\tremaining: 19.6s\n",
      "190:\tlearn: 0.4241773\ttotal: 4.63s\tremaining: 19.6s\n",
      "191:\tlearn: 0.4239847\ttotal: 4.66s\tremaining: 19.6s\n",
      "192:\tlearn: 0.4239191\ttotal: 4.68s\tremaining: 19.6s\n",
      "193:\tlearn: 0.4237732\ttotal: 4.7s\tremaining: 19.5s\n",
      "194:\tlearn: 0.4236131\ttotal: 4.73s\tremaining: 19.5s\n",
      "195:\tlearn: 0.4235309\ttotal: 4.75s\tremaining: 19.5s\n",
      "196:\tlearn: 0.4233845\ttotal: 4.78s\tremaining: 19.5s\n",
      "197:\tlearn: 0.4232716\ttotal: 4.81s\tremaining: 19.5s\n",
      "198:\tlearn: 0.4231458\ttotal: 4.84s\tremaining: 19.5s\n",
      "199:\tlearn: 0.4229543\ttotal: 4.87s\tremaining: 19.5s\n",
      "200:\tlearn: 0.4227982\ttotal: 4.89s\tremaining: 19.4s\n",
      "201:\tlearn: 0.4226893\ttotal: 4.91s\tremaining: 19.4s\n",
      "202:\tlearn: 0.4225356\ttotal: 4.93s\tremaining: 19.4s\n",
      "203:\tlearn: 0.4224026\ttotal: 4.95s\tremaining: 19.3s\n",
      "204:\tlearn: 0.4223020\ttotal: 4.97s\tremaining: 19.3s\n",
      "205:\tlearn: 0.4222048\ttotal: 4.99s\tremaining: 19.2s\n",
      "206:\tlearn: 0.4220814\ttotal: 5.01s\tremaining: 19.2s\n",
      "207:\tlearn: 0.4219983\ttotal: 5.03s\tremaining: 19.2s\n",
      "208:\tlearn: 0.4218894\ttotal: 5.06s\tremaining: 19.1s\n",
      "209:\tlearn: 0.4217515\ttotal: 5.08s\tremaining: 19.1s\n",
      "210:\tlearn: 0.4216160\ttotal: 5.1s\tremaining: 19.1s\n",
      "211:\tlearn: 0.4214641\ttotal: 5.12s\tremaining: 19s\n",
      "212:\tlearn: 0.4213418\ttotal: 5.13s\tremaining: 19s\n",
      "213:\tlearn: 0.4211524\ttotal: 5.16s\tremaining: 18.9s\n",
      "214:\tlearn: 0.4209712\ttotal: 5.17s\tremaining: 18.9s\n",
      "215:\tlearn: 0.4208772\ttotal: 5.19s\tremaining: 18.9s\n",
      "216:\tlearn: 0.4206897\ttotal: 5.21s\tremaining: 18.8s\n",
      "217:\tlearn: 0.4204842\ttotal: 5.23s\tremaining: 18.8s\n",
      "218:\tlearn: 0.4203251\ttotal: 5.26s\tremaining: 18.8s\n",
      "219:\tlearn: 0.4201425\ttotal: 5.29s\tremaining: 18.8s\n",
      "220:\tlearn: 0.4199941\ttotal: 5.31s\tremaining: 18.7s\n",
      "221:\tlearn: 0.4198529\ttotal: 5.33s\tremaining: 18.7s\n",
      "222:\tlearn: 0.4197115\ttotal: 5.35s\tremaining: 18.6s\n",
      "223:\tlearn: 0.4195752\ttotal: 5.37s\tremaining: 18.6s\n",
      "224:\tlearn: 0.4194409\ttotal: 5.39s\tremaining: 18.6s\n",
      "225:\tlearn: 0.4192617\ttotal: 5.41s\tremaining: 18.5s\n",
      "226:\tlearn: 0.4191462\ttotal: 5.43s\tremaining: 18.5s\n",
      "227:\tlearn: 0.4190158\ttotal: 5.45s\tremaining: 18.4s\n",
      "228:\tlearn: 0.4188966\ttotal: 5.47s\tremaining: 18.4s\n",
      "229:\tlearn: 0.4187688\ttotal: 5.49s\tremaining: 18.4s\n",
      "230:\tlearn: 0.4185924\ttotal: 5.51s\tremaining: 18.4s\n",
      "231:\tlearn: 0.4184821\ttotal: 5.53s\tremaining: 18.3s\n",
      "232:\tlearn: 0.4183062\ttotal: 5.55s\tremaining: 18.3s\n",
      "233:\tlearn: 0.4181819\ttotal: 5.57s\tremaining: 18.2s\n",
      "234:\tlearn: 0.4180888\ttotal: 5.59s\tremaining: 18.2s\n",
      "235:\tlearn: 0.4179536\ttotal: 5.61s\tremaining: 18.2s\n",
      "236:\tlearn: 0.4178033\ttotal: 5.63s\tremaining: 18.1s\n",
      "237:\tlearn: 0.4176717\ttotal: 5.65s\tremaining: 18.1s\n",
      "238:\tlearn: 0.4175763\ttotal: 5.67s\tremaining: 18.1s\n",
      "239:\tlearn: 0.4174890\ttotal: 5.7s\tremaining: 18s\n",
      "240:\tlearn: 0.4173392\ttotal: 5.71s\tremaining: 18s\n",
      "241:\tlearn: 0.4171411\ttotal: 5.74s\tremaining: 18s\n",
      "242:\tlearn: 0.4169826\ttotal: 5.75s\tremaining: 17.9s\n",
      "243:\tlearn: 0.4168303\ttotal: 5.77s\tremaining: 17.9s\n",
      "244:\tlearn: 0.4166694\ttotal: 5.8s\tremaining: 17.9s\n",
      "245:\tlearn: 0.4165380\ttotal: 5.82s\tremaining: 17.8s\n",
      "246:\tlearn: 0.4163908\ttotal: 5.84s\tremaining: 17.8s\n",
      "247:\tlearn: 0.4162458\ttotal: 5.86s\tremaining: 17.8s\n",
      "248:\tlearn: 0.4161246\ttotal: 5.88s\tremaining: 17.7s\n",
      "249:\tlearn: 0.4159737\ttotal: 5.91s\tremaining: 17.7s\n",
      "250:\tlearn: 0.4158597\ttotal: 5.92s\tremaining: 17.7s\n",
      "251:\tlearn: 0.4156901\ttotal: 5.94s\tremaining: 17.6s\n",
      "252:\tlearn: 0.4155883\ttotal: 5.96s\tremaining: 17.6s\n",
      "253:\tlearn: 0.4154489\ttotal: 5.98s\tremaining: 17.6s\n",
      "254:\tlearn: 0.4153239\ttotal: 6s\tremaining: 17.5s\n",
      "255:\tlearn: 0.4151814\ttotal: 6.02s\tremaining: 17.5s\n",
      "256:\tlearn: 0.4150797\ttotal: 6.04s\tremaining: 17.5s\n",
      "257:\tlearn: 0.4149190\ttotal: 6.06s\tremaining: 17.4s\n",
      "258:\tlearn: 0.4147932\ttotal: 6.08s\tremaining: 17.4s\n",
      "259:\tlearn: 0.4146683\ttotal: 6.11s\tremaining: 17.4s\n",
      "260:\tlearn: 0.4145472\ttotal: 6.13s\tremaining: 17.4s\n",
      "261:\tlearn: 0.4144517\ttotal: 6.15s\tremaining: 17.3s\n",
      "262:\tlearn: 0.4142991\ttotal: 6.17s\tremaining: 17.3s\n",
      "263:\tlearn: 0.4141484\ttotal: 6.2s\tremaining: 17.3s\n",
      "264:\tlearn: 0.4140179\ttotal: 6.22s\tremaining: 17.3s\n",
      "265:\tlearn: 0.4139123\ttotal: 6.24s\tremaining: 17.2s\n",
      "266:\tlearn: 0.4137483\ttotal: 6.27s\tremaining: 17.2s\n",
      "267:\tlearn: 0.4136125\ttotal: 6.3s\tremaining: 17.2s\n",
      "268:\tlearn: 0.4134876\ttotal: 6.32s\tremaining: 17.2s\n",
      "269:\tlearn: 0.4133265\ttotal: 6.35s\tremaining: 17.2s\n",
      "270:\tlearn: 0.4132446\ttotal: 6.37s\tremaining: 17.1s\n",
      "271:\tlearn: 0.4130452\ttotal: 6.39s\tremaining: 17.1s\n",
      "272:\tlearn: 0.4128957\ttotal: 6.41s\tremaining: 17.1s\n",
      "273:\tlearn: 0.4127831\ttotal: 6.42s\tremaining: 17s\n",
      "274:\tlearn: 0.4126600\ttotal: 6.45s\tremaining: 17s\n",
      "275:\tlearn: 0.4125175\ttotal: 6.46s\tremaining: 17s\n",
      "276:\tlearn: 0.4123969\ttotal: 6.48s\tremaining: 16.9s\n",
      "277:\tlearn: 0.4122695\ttotal: 6.5s\tremaining: 16.9s\n",
      "278:\tlearn: 0.4121727\ttotal: 6.53s\tremaining: 16.9s\n",
      "279:\tlearn: 0.4120595\ttotal: 6.55s\tremaining: 16.8s\n",
      "280:\tlearn: 0.4118972\ttotal: 6.57s\tremaining: 16.8s\n",
      "281:\tlearn: 0.4117974\ttotal: 6.59s\tremaining: 16.8s\n",
      "282:\tlearn: 0.4116614\ttotal: 6.61s\tremaining: 16.7s\n",
      "283:\tlearn: 0.4115329\ttotal: 6.63s\tremaining: 16.7s\n",
      "284:\tlearn: 0.4114589\ttotal: 6.65s\tremaining: 16.7s\n",
      "285:\tlearn: 0.4113255\ttotal: 6.67s\tremaining: 16.6s\n",
      "286:\tlearn: 0.4112087\ttotal: 6.68s\tremaining: 16.6s\n",
      "287:\tlearn: 0.4110692\ttotal: 6.7s\tremaining: 16.6s\n",
      "288:\tlearn: 0.4109527\ttotal: 6.72s\tremaining: 16.5s\n",
      "289:\tlearn: 0.4108563\ttotal: 6.75s\tremaining: 16.5s\n",
      "290:\tlearn: 0.4107699\ttotal: 6.77s\tremaining: 16.5s\n",
      "291:\tlearn: 0.4105632\ttotal: 6.79s\tremaining: 16.5s\n",
      "292:\tlearn: 0.4104534\ttotal: 6.81s\tremaining: 16.4s\n",
      "293:\tlearn: 0.4103101\ttotal: 6.83s\tremaining: 16.4s\n",
      "294:\tlearn: 0.4101775\ttotal: 6.85s\tremaining: 16.4s\n",
      "295:\tlearn: 0.4100249\ttotal: 6.87s\tremaining: 16.3s\n",
      "296:\tlearn: 0.4099521\ttotal: 6.89s\tremaining: 16.3s\n",
      "297:\tlearn: 0.4098405\ttotal: 6.91s\tremaining: 16.3s\n",
      "298:\tlearn: 0.4097337\ttotal: 6.92s\tremaining: 16.2s\n",
      "299:\tlearn: 0.4096485\ttotal: 6.94s\tremaining: 16.2s\n",
      "300:\tlearn: 0.4095365\ttotal: 6.97s\tremaining: 16.2s\n",
      "301:\tlearn: 0.4094033\ttotal: 6.99s\tremaining: 16.2s\n",
      "302:\tlearn: 0.4092921\ttotal: 7.01s\tremaining: 16.1s\n",
      "303:\tlearn: 0.4091828\ttotal: 7.03s\tremaining: 16.1s\n",
      "304:\tlearn: 0.4090774\ttotal: 7.05s\tremaining: 16.1s\n",
      "305:\tlearn: 0.4089819\ttotal: 7.07s\tremaining: 16s\n",
      "306:\tlearn: 0.4089002\ttotal: 7.09s\tremaining: 16s\n",
      "307:\tlearn: 0.4088055\ttotal: 7.11s\tremaining: 16s\n",
      "308:\tlearn: 0.4087055\ttotal: 7.13s\tremaining: 15.9s\n",
      "309:\tlearn: 0.4085950\ttotal: 7.15s\tremaining: 15.9s\n",
      "310:\tlearn: 0.4084621\ttotal: 7.17s\tremaining: 15.9s\n",
      "311:\tlearn: 0.4083414\ttotal: 7.2s\tremaining: 15.9s\n",
      "312:\tlearn: 0.4082361\ttotal: 7.22s\tremaining: 15.8s\n",
      "313:\tlearn: 0.4081863\ttotal: 7.23s\tremaining: 15.8s\n",
      "314:\tlearn: 0.4081267\ttotal: 7.25s\tremaining: 15.8s\n",
      "315:\tlearn: 0.4080023\ttotal: 7.28s\tremaining: 15.7s\n",
      "316:\tlearn: 0.4078943\ttotal: 7.3s\tremaining: 15.7s\n",
      "317:\tlearn: 0.4078095\ttotal: 7.34s\tremaining: 15.7s\n",
      "318:\tlearn: 0.4076801\ttotal: 7.36s\tremaining: 15.7s\n",
      "319:\tlearn: 0.4076031\ttotal: 7.4s\tremaining: 15.7s\n",
      "320:\tlearn: 0.4075319\ttotal: 7.43s\tremaining: 15.7s\n",
      "321:\tlearn: 0.4074170\ttotal: 7.46s\tremaining: 15.7s\n",
      "322:\tlearn: 0.4072931\ttotal: 7.49s\tremaining: 15.7s\n",
      "323:\tlearn: 0.4071855\ttotal: 7.51s\tremaining: 15.7s\n",
      "324:\tlearn: 0.4070758\ttotal: 7.54s\tremaining: 15.7s\n",
      "325:\tlearn: 0.4070051\ttotal: 7.57s\tremaining: 15.6s\n",
      "326:\tlearn: 0.4068637\ttotal: 7.59s\tremaining: 15.6s\n"
     ]
    },
    {
     "name": "stdout",
     "output_type": "stream",
     "text": [
      "327:\tlearn: 0.4067294\ttotal: 7.63s\tremaining: 15.6s\n",
      "328:\tlearn: 0.4066458\ttotal: 7.66s\tremaining: 15.6s\n",
      "329:\tlearn: 0.4064965\ttotal: 7.69s\tremaining: 15.6s\n",
      "330:\tlearn: 0.4064003\ttotal: 7.71s\tremaining: 15.6s\n",
      "331:\tlearn: 0.4062951\ttotal: 7.74s\tremaining: 15.6s\n",
      "332:\tlearn: 0.4061928\ttotal: 7.77s\tremaining: 15.6s\n",
      "333:\tlearn: 0.4061254\ttotal: 7.79s\tremaining: 15.5s\n",
      "334:\tlearn: 0.4060238\ttotal: 7.82s\tremaining: 15.5s\n",
      "335:\tlearn: 0.4058826\ttotal: 7.85s\tremaining: 15.5s\n",
      "336:\tlearn: 0.4057837\ttotal: 7.89s\tremaining: 15.5s\n",
      "337:\tlearn: 0.4056447\ttotal: 7.91s\tremaining: 15.5s\n",
      "338:\tlearn: 0.4055438\ttotal: 7.94s\tremaining: 15.5s\n",
      "339:\tlearn: 0.4054545\ttotal: 7.96s\tremaining: 15.5s\n",
      "340:\tlearn: 0.4053290\ttotal: 7.99s\tremaining: 15.4s\n",
      "341:\tlearn: 0.4052313\ttotal: 8.02s\tremaining: 15.4s\n",
      "342:\tlearn: 0.4051468\ttotal: 8.04s\tremaining: 15.4s\n",
      "343:\tlearn: 0.4050545\ttotal: 8.07s\tremaining: 15.4s\n",
      "344:\tlearn: 0.4049424\ttotal: 8.11s\tremaining: 15.4s\n",
      "345:\tlearn: 0.4048579\ttotal: 8.13s\tremaining: 15.4s\n",
      "346:\tlearn: 0.4047571\ttotal: 8.16s\tremaining: 15.4s\n",
      "347:\tlearn: 0.4046407\ttotal: 8.19s\tremaining: 15.3s\n",
      "348:\tlearn: 0.4045087\ttotal: 8.21s\tremaining: 15.3s\n",
      "349:\tlearn: 0.4044070\ttotal: 8.24s\tremaining: 15.3s\n",
      "350:\tlearn: 0.4042855\ttotal: 8.26s\tremaining: 15.3s\n",
      "351:\tlearn: 0.4041760\ttotal: 8.3s\tremaining: 15.3s\n",
      "352:\tlearn: 0.4040318\ttotal: 8.34s\tremaining: 15.3s\n",
      "353:\tlearn: 0.4039935\ttotal: 8.36s\tremaining: 15.3s\n",
      "354:\tlearn: 0.4039097\ttotal: 8.39s\tremaining: 15.2s\n",
      "355:\tlearn: 0.4038024\ttotal: 8.41s\tremaining: 15.2s\n",
      "356:\tlearn: 0.4037074\ttotal: 8.44s\tremaining: 15.2s\n",
      "357:\tlearn: 0.4036019\ttotal: 8.47s\tremaining: 15.2s\n",
      "358:\tlearn: 0.4034875\ttotal: 8.49s\tremaining: 15.2s\n",
      "359:\tlearn: 0.4033826\ttotal: 8.53s\tremaining: 15.2s\n",
      "360:\tlearn: 0.4032583\ttotal: 8.56s\tremaining: 15.2s\n",
      "361:\tlearn: 0.4031562\ttotal: 8.59s\tremaining: 15.1s\n",
      "362:\tlearn: 0.4030662\ttotal: 8.62s\tremaining: 15.1s\n",
      "363:\tlearn: 0.4029404\ttotal: 8.64s\tremaining: 15.1s\n",
      "364:\tlearn: 0.4028372\ttotal: 8.67s\tremaining: 15.1s\n",
      "365:\tlearn: 0.4027832\ttotal: 8.69s\tremaining: 15.1s\n",
      "366:\tlearn: 0.4026785\ttotal: 8.72s\tremaining: 15s\n",
      "367:\tlearn: 0.4025570\ttotal: 8.75s\tremaining: 15s\n",
      "368:\tlearn: 0.4024426\ttotal: 8.78s\tremaining: 15s\n",
      "369:\tlearn: 0.4023622\ttotal: 8.81s\tremaining: 15s\n",
      "370:\tlearn: 0.4022867\ttotal: 8.83s\tremaining: 15s\n",
      "371:\tlearn: 0.4021571\ttotal: 8.86s\tremaining: 15s\n",
      "372:\tlearn: 0.4020239\ttotal: 8.89s\tremaining: 14.9s\n",
      "373:\tlearn: 0.4018898\ttotal: 8.92s\tremaining: 14.9s\n",
      "374:\tlearn: 0.4017705\ttotal: 8.95s\tremaining: 14.9s\n",
      "375:\tlearn: 0.4017424\ttotal: 8.98s\tremaining: 14.9s\n",
      "376:\tlearn: 0.4016283\ttotal: 9.01s\tremaining: 14.9s\n",
      "377:\tlearn: 0.4015084\ttotal: 9.04s\tremaining: 14.9s\n",
      "378:\tlearn: 0.4014386\ttotal: 9.06s\tremaining: 14.8s\n",
      "379:\tlearn: 0.4012920\ttotal: 9.09s\tremaining: 14.8s\n",
      "380:\tlearn: 0.4012275\ttotal: 9.11s\tremaining: 14.8s\n",
      "381:\tlearn: 0.4011255\ttotal: 9.14s\tremaining: 14.8s\n",
      "382:\tlearn: 0.4009845\ttotal: 9.17s\tremaining: 14.8s\n",
      "383:\tlearn: 0.4008753\ttotal: 9.2s\tremaining: 14.8s\n",
      "384:\tlearn: 0.4007879\ttotal: 9.23s\tremaining: 14.7s\n",
      "385:\tlearn: 0.4006843\ttotal: 9.26s\tremaining: 14.7s\n",
      "386:\tlearn: 0.4005569\ttotal: 9.29s\tremaining: 14.7s\n",
      "387:\tlearn: 0.4004853\ttotal: 9.31s\tremaining: 14.7s\n",
      "388:\tlearn: 0.4004066\ttotal: 9.35s\tremaining: 14.7s\n",
      "389:\tlearn: 0.4003238\ttotal: 9.37s\tremaining: 14.7s\n",
      "390:\tlearn: 0.4002418\ttotal: 9.4s\tremaining: 14.6s\n",
      "391:\tlearn: 0.4001526\ttotal: 9.43s\tremaining: 14.6s\n",
      "392:\tlearn: 0.4000555\ttotal: 9.46s\tremaining: 14.6s\n",
      "393:\tlearn: 0.4000074\ttotal: 9.49s\tremaining: 14.6s\n",
      "394:\tlearn: 0.3999405\ttotal: 9.52s\tremaining: 14.6s\n",
      "395:\tlearn: 0.3998028\ttotal: 9.55s\tremaining: 14.6s\n",
      "396:\tlearn: 0.3997337\ttotal: 9.58s\tremaining: 14.5s\n",
      "397:\tlearn: 0.3996297\ttotal: 9.61s\tremaining: 14.5s\n",
      "398:\tlearn: 0.3995095\ttotal: 9.64s\tremaining: 14.5s\n",
      "399:\tlearn: 0.3994028\ttotal: 9.67s\tremaining: 14.5s\n",
      "400:\tlearn: 0.3992849\ttotal: 9.71s\tremaining: 14.5s\n",
      "401:\tlearn: 0.3991736\ttotal: 9.73s\tremaining: 14.5s\n",
      "402:\tlearn: 0.3991033\ttotal: 9.76s\tremaining: 14.5s\n",
      "403:\tlearn: 0.3990589\ttotal: 9.78s\tremaining: 14.4s\n",
      "404:\tlearn: 0.3989272\ttotal: 9.81s\tremaining: 14.4s\n",
      "405:\tlearn: 0.3988530\ttotal: 9.83s\tremaining: 14.4s\n",
      "406:\tlearn: 0.3987140\ttotal: 9.86s\tremaining: 14.4s\n",
      "407:\tlearn: 0.3986479\ttotal: 9.89s\tremaining: 14.4s\n",
      "408:\tlearn: 0.3985195\ttotal: 9.93s\tremaining: 14.3s\n",
      "409:\tlearn: 0.3984570\ttotal: 9.95s\tremaining: 14.3s\n",
      "410:\tlearn: 0.3983866\ttotal: 9.98s\tremaining: 14.3s\n",
      "411:\tlearn: 0.3982502\ttotal: 10s\tremaining: 14.3s\n",
      "412:\tlearn: 0.3982229\ttotal: 10s\tremaining: 14.3s\n",
      "413:\tlearn: 0.3981467\ttotal: 10.1s\tremaining: 14.2s\n",
      "414:\tlearn: 0.3980605\ttotal: 10.1s\tremaining: 14.2s\n",
      "415:\tlearn: 0.3979917\ttotal: 10.1s\tremaining: 14.2s\n",
      "416:\tlearn: 0.3979013\ttotal: 10.2s\tremaining: 14.2s\n",
      "417:\tlearn: 0.3977654\ttotal: 10.2s\tremaining: 14.2s\n",
      "418:\tlearn: 0.3976622\ttotal: 10.2s\tremaining: 14.2s\n",
      "419:\tlearn: 0.3975694\ttotal: 10.2s\tremaining: 14.1s\n",
      "420:\tlearn: 0.3974628\ttotal: 10.3s\tremaining: 14.1s\n",
      "421:\tlearn: 0.3973614\ttotal: 10.3s\tremaining: 14.1s\n",
      "422:\tlearn: 0.3973078\ttotal: 10.3s\tremaining: 14.1s\n",
      "423:\tlearn: 0.3972143\ttotal: 10.3s\tremaining: 14.1s\n",
      "424:\tlearn: 0.3970762\ttotal: 10.4s\tremaining: 14s\n",
      "425:\tlearn: 0.3970158\ttotal: 10.4s\tremaining: 14s\n",
      "426:\tlearn: 0.3969274\ttotal: 10.4s\tremaining: 14s\n",
      "427:\tlearn: 0.3967822\ttotal: 10.5s\tremaining: 14s\n",
      "428:\tlearn: 0.3967050\ttotal: 10.5s\tremaining: 14s\n",
      "429:\tlearn: 0.3966205\ttotal: 10.5s\tremaining: 13.9s\n",
      "430:\tlearn: 0.3965568\ttotal: 10.5s\tremaining: 13.9s\n",
      "431:\tlearn: 0.3964779\ttotal: 10.6s\tremaining: 13.9s\n",
      "432:\tlearn: 0.3963721\ttotal: 10.6s\tremaining: 13.9s\n",
      "433:\tlearn: 0.3962960\ttotal: 10.6s\tremaining: 13.9s\n",
      "434:\tlearn: 0.3962047\ttotal: 10.7s\tremaining: 13.8s\n",
      "435:\tlearn: 0.3961306\ttotal: 10.7s\tremaining: 13.8s\n",
      "436:\tlearn: 0.3960277\ttotal: 10.7s\tremaining: 13.8s\n",
      "437:\tlearn: 0.3959751\ttotal: 10.7s\tremaining: 13.8s\n",
      "438:\tlearn: 0.3958967\ttotal: 10.8s\tremaining: 13.8s\n",
      "439:\tlearn: 0.3958505\ttotal: 10.8s\tremaining: 13.7s\n",
      "440:\tlearn: 0.3957857\ttotal: 10.8s\tremaining: 13.7s\n",
      "441:\tlearn: 0.3956955\ttotal: 10.9s\tremaining: 13.7s\n",
      "442:\tlearn: 0.3956144\ttotal: 10.9s\tremaining: 13.7s\n",
      "443:\tlearn: 0.3955213\ttotal: 10.9s\tremaining: 13.7s\n",
      "444:\tlearn: 0.3954494\ttotal: 10.9s\tremaining: 13.6s\n",
      "445:\tlearn: 0.3953596\ttotal: 11s\tremaining: 13.6s\n",
      "446:\tlearn: 0.3952961\ttotal: 11s\tremaining: 13.6s\n",
      "447:\tlearn: 0.3951974\ttotal: 11s\tremaining: 13.6s\n",
      "448:\tlearn: 0.3951455\ttotal: 11.1s\tremaining: 13.6s\n",
      "449:\tlearn: 0.3950022\ttotal: 11.1s\tremaining: 13.6s\n",
      "450:\tlearn: 0.3948996\ttotal: 11.1s\tremaining: 13.5s\n",
      "451:\tlearn: 0.3947786\ttotal: 11.1s\tremaining: 13.5s\n",
      "452:\tlearn: 0.3946947\ttotal: 11.2s\tremaining: 13.5s\n",
      "453:\tlearn: 0.3945919\ttotal: 11.2s\tremaining: 13.5s\n",
      "454:\tlearn: 0.3945348\ttotal: 11.2s\tremaining: 13.4s\n",
      "455:\tlearn: 0.3944140\ttotal: 11.3s\tremaining: 13.4s\n",
      "456:\tlearn: 0.3943518\ttotal: 11.3s\tremaining: 13.4s\n",
      "457:\tlearn: 0.3942237\ttotal: 11.3s\tremaining: 13.4s\n",
      "458:\tlearn: 0.3941891\ttotal: 11.3s\tremaining: 13.4s\n",
      "459:\tlearn: 0.3941198\ttotal: 11.4s\tremaining: 13.4s\n",
      "460:\tlearn: 0.3940397\ttotal: 11.4s\tremaining: 13.3s\n",
      "461:\tlearn: 0.3939765\ttotal: 11.4s\tremaining: 13.3s\n",
      "462:\tlearn: 0.3938797\ttotal: 11.5s\tremaining: 13.3s\n",
      "463:\tlearn: 0.3937717\ttotal: 11.5s\tremaining: 13.3s\n",
      "464:\tlearn: 0.3937112\ttotal: 11.5s\tremaining: 13.3s\n",
      "465:\tlearn: 0.3936195\ttotal: 11.5s\tremaining: 13.2s\n",
      "466:\tlearn: 0.3935379\ttotal: 11.6s\tremaining: 13.2s\n",
      "467:\tlearn: 0.3934309\ttotal: 11.6s\tremaining: 13.2s\n",
      "468:\tlearn: 0.3933219\ttotal: 11.6s\tremaining: 13.2s\n",
      "469:\tlearn: 0.3932575\ttotal: 11.7s\tremaining: 13.1s\n",
      "470:\tlearn: 0.3931676\ttotal: 11.7s\tremaining: 13.1s\n",
      "471:\tlearn: 0.3931028\ttotal: 11.7s\tremaining: 13.1s\n",
      "472:\tlearn: 0.3930385\ttotal: 11.7s\tremaining: 13.1s\n",
      "473:\tlearn: 0.3929456\ttotal: 11.8s\tremaining: 13.1s\n",
      "474:\tlearn: 0.3928347\ttotal: 11.8s\tremaining: 13s\n",
      "475:\tlearn: 0.3927305\ttotal: 11.8s\tremaining: 13s\n",
      "476:\tlearn: 0.3926446\ttotal: 11.9s\tremaining: 13s\n",
      "477:\tlearn: 0.3925722\ttotal: 11.9s\tremaining: 13s\n",
      "478:\tlearn: 0.3924589\ttotal: 11.9s\tremaining: 13s\n",
      "479:\tlearn: 0.3924225\ttotal: 11.9s\tremaining: 12.9s\n",
      "480:\tlearn: 0.3923030\ttotal: 12s\tremaining: 12.9s\n",
      "481:\tlearn: 0.3922366\ttotal: 12s\tremaining: 12.9s\n",
      "482:\tlearn: 0.3921799\ttotal: 12s\tremaining: 12.9s\n",
      "483:\tlearn: 0.3921123\ttotal: 12.1s\tremaining: 12.8s\n",
      "484:\tlearn: 0.3920006\ttotal: 12.1s\tremaining: 12.8s\n",
      "485:\tlearn: 0.3919275\ttotal: 12.1s\tremaining: 12.8s\n"
     ]
    },
    {
     "name": "stdout",
     "output_type": "stream",
     "text": [
      "486:\tlearn: 0.3918268\ttotal: 12.1s\tremaining: 12.8s\n",
      "487:\tlearn: 0.3917421\ttotal: 12.2s\tremaining: 12.8s\n",
      "488:\tlearn: 0.3916193\ttotal: 12.2s\tremaining: 12.7s\n",
      "489:\tlearn: 0.3914838\ttotal: 12.2s\tremaining: 12.7s\n",
      "490:\tlearn: 0.3913920\ttotal: 12.3s\tremaining: 12.7s\n",
      "491:\tlearn: 0.3913141\ttotal: 12.3s\tremaining: 12.7s\n",
      "492:\tlearn: 0.3912264\ttotal: 12.3s\tremaining: 12.7s\n",
      "493:\tlearn: 0.3911602\ttotal: 12.3s\tremaining: 12.6s\n",
      "494:\tlearn: 0.3910913\ttotal: 12.4s\tremaining: 12.6s\n",
      "495:\tlearn: 0.3910261\ttotal: 12.4s\tremaining: 12.6s\n",
      "496:\tlearn: 0.3909460\ttotal: 12.4s\tremaining: 12.6s\n",
      "497:\tlearn: 0.3908637\ttotal: 12.5s\tremaining: 12.6s\n",
      "498:\tlearn: 0.3907957\ttotal: 12.5s\tremaining: 12.5s\n",
      "499:\tlearn: 0.3907035\ttotal: 12.5s\tremaining: 12.5s\n",
      "500:\tlearn: 0.3906206\ttotal: 12.5s\tremaining: 12.5s\n",
      "501:\tlearn: 0.3905870\ttotal: 12.6s\tremaining: 12.5s\n",
      "502:\tlearn: 0.3905183\ttotal: 12.6s\tremaining: 12.4s\n",
      "503:\tlearn: 0.3904039\ttotal: 12.6s\tremaining: 12.4s\n",
      "504:\tlearn: 0.3903442\ttotal: 12.7s\tremaining: 12.4s\n",
      "505:\tlearn: 0.3902790\ttotal: 12.7s\tremaining: 12.4s\n",
      "506:\tlearn: 0.3902356\ttotal: 12.7s\tremaining: 12.4s\n",
      "507:\tlearn: 0.3901815\ttotal: 12.7s\tremaining: 12.3s\n",
      "508:\tlearn: 0.3901122\ttotal: 12.8s\tremaining: 12.3s\n",
      "509:\tlearn: 0.3900474\ttotal: 12.8s\tremaining: 12.3s\n",
      "510:\tlearn: 0.3899663\ttotal: 12.8s\tremaining: 12.3s\n",
      "511:\tlearn: 0.3898860\ttotal: 12.8s\tremaining: 12.2s\n",
      "512:\tlearn: 0.3898015\ttotal: 12.9s\tremaining: 12.2s\n",
      "513:\tlearn: 0.3897304\ttotal: 12.9s\tremaining: 12.2s\n",
      "514:\tlearn: 0.3896289\ttotal: 12.9s\tremaining: 12.2s\n",
      "515:\tlearn: 0.3895685\ttotal: 12.9s\tremaining: 12.1s\n",
      "516:\tlearn: 0.3894759\ttotal: 13s\tremaining: 12.1s\n",
      "517:\tlearn: 0.3893861\ttotal: 13s\tremaining: 12.1s\n",
      "518:\tlearn: 0.3892910\ttotal: 13s\tremaining: 12.1s\n",
      "519:\tlearn: 0.3891829\ttotal: 13.1s\tremaining: 12.1s\n",
      "520:\tlearn: 0.3891256\ttotal: 13.1s\tremaining: 12s\n",
      "521:\tlearn: 0.3890589\ttotal: 13.1s\tremaining: 12s\n",
      "522:\tlearn: 0.3889476\ttotal: 13.2s\tremaining: 12s\n",
      "523:\tlearn: 0.3888510\ttotal: 13.2s\tremaining: 12s\n",
      "524:\tlearn: 0.3887709\ttotal: 13.2s\tremaining: 11.9s\n",
      "525:\tlearn: 0.3887649\ttotal: 13.2s\tremaining: 11.9s\n",
      "526:\tlearn: 0.3886807\ttotal: 13.3s\tremaining: 11.9s\n",
      "527:\tlearn: 0.3885894\ttotal: 13.3s\tremaining: 11.9s\n",
      "528:\tlearn: 0.3885026\ttotal: 13.3s\tremaining: 11.9s\n",
      "529:\tlearn: 0.3884108\ttotal: 13.3s\tremaining: 11.8s\n",
      "530:\tlearn: 0.3883798\ttotal: 13.4s\tremaining: 11.8s\n",
      "531:\tlearn: 0.3883094\ttotal: 13.4s\tremaining: 11.8s\n",
      "532:\tlearn: 0.3882510\ttotal: 13.4s\tremaining: 11.8s\n",
      "533:\tlearn: 0.3881258\ttotal: 13.5s\tremaining: 11.7s\n",
      "534:\tlearn: 0.3880453\ttotal: 13.5s\tremaining: 11.7s\n",
      "535:\tlearn: 0.3879515\ttotal: 13.5s\tremaining: 11.7s\n",
      "536:\tlearn: 0.3878193\ttotal: 13.5s\tremaining: 11.7s\n",
      "537:\tlearn: 0.3877682\ttotal: 13.6s\tremaining: 11.7s\n",
      "538:\tlearn: 0.3877212\ttotal: 13.6s\tremaining: 11.6s\n",
      "539:\tlearn: 0.3876217\ttotal: 13.6s\tremaining: 11.6s\n",
      "540:\tlearn: 0.3875638\ttotal: 13.6s\tremaining: 11.6s\n",
      "541:\tlearn: 0.3874609\ttotal: 13.7s\tremaining: 11.6s\n",
      "542:\tlearn: 0.3873554\ttotal: 13.7s\tremaining: 11.5s\n",
      "543:\tlearn: 0.3872759\ttotal: 13.7s\tremaining: 11.5s\n",
      "544:\tlearn: 0.3872202\ttotal: 13.8s\tremaining: 11.5s\n",
      "545:\tlearn: 0.3871266\ttotal: 13.8s\tremaining: 11.5s\n",
      "546:\tlearn: 0.3870237\ttotal: 13.8s\tremaining: 11.4s\n",
      "547:\tlearn: 0.3869372\ttotal: 13.9s\tremaining: 11.4s\n",
      "548:\tlearn: 0.3868462\ttotal: 13.9s\tremaining: 11.4s\n",
      "549:\tlearn: 0.3867370\ttotal: 13.9s\tremaining: 11.4s\n",
      "550:\tlearn: 0.3866609\ttotal: 13.9s\tremaining: 11.4s\n",
      "551:\tlearn: 0.3866060\ttotal: 14s\tremaining: 11.3s\n",
      "552:\tlearn: 0.3865347\ttotal: 14s\tremaining: 11.3s\n",
      "553:\tlearn: 0.3864317\ttotal: 14s\tremaining: 11.3s\n",
      "554:\tlearn: 0.3863355\ttotal: 14s\tremaining: 11.3s\n",
      "555:\tlearn: 0.3862824\ttotal: 14.1s\tremaining: 11.2s\n",
      "556:\tlearn: 0.3862156\ttotal: 14.1s\tremaining: 11.2s\n",
      "557:\tlearn: 0.3861529\ttotal: 14.1s\tremaining: 11.2s\n",
      "558:\tlearn: 0.3860754\ttotal: 14.2s\tremaining: 11.2s\n",
      "559:\tlearn: 0.3860174\ttotal: 14.2s\tremaining: 11.1s\n",
      "560:\tlearn: 0.3859188\ttotal: 14.2s\tremaining: 11.1s\n",
      "561:\tlearn: 0.3858675\ttotal: 14.2s\tremaining: 11.1s\n",
      "562:\tlearn: 0.3857870\ttotal: 14.3s\tremaining: 11.1s\n",
      "563:\tlearn: 0.3857245\ttotal: 14.3s\tremaining: 11.1s\n",
      "564:\tlearn: 0.3856228\ttotal: 14.3s\tremaining: 11s\n",
      "565:\tlearn: 0.3855620\ttotal: 14.3s\tremaining: 11s\n",
      "566:\tlearn: 0.3854950\ttotal: 14.4s\tremaining: 11s\n",
      "567:\tlearn: 0.3854444\ttotal: 14.4s\tremaining: 11s\n",
      "568:\tlearn: 0.3853445\ttotal: 14.4s\tremaining: 10.9s\n",
      "569:\tlearn: 0.3853065\ttotal: 14.5s\tremaining: 10.9s\n",
      "570:\tlearn: 0.3852148\ttotal: 14.5s\tremaining: 10.9s\n",
      "571:\tlearn: 0.3851305\ttotal: 14.5s\tremaining: 10.9s\n",
      "572:\tlearn: 0.3850160\ttotal: 14.6s\tremaining: 10.8s\n",
      "573:\tlearn: 0.3849608\ttotal: 14.6s\tremaining: 10.8s\n",
      "574:\tlearn: 0.3848576\ttotal: 14.6s\tremaining: 10.8s\n",
      "575:\tlearn: 0.3847846\ttotal: 14.7s\tremaining: 10.8s\n",
      "576:\tlearn: 0.3846686\ttotal: 14.7s\tremaining: 10.8s\n",
      "577:\tlearn: 0.3846038\ttotal: 14.7s\tremaining: 10.7s\n",
      "578:\tlearn: 0.3845302\ttotal: 14.7s\tremaining: 10.7s\n",
      "579:\tlearn: 0.3844698\ttotal: 14.8s\tremaining: 10.7s\n",
      "580:\tlearn: 0.3843332\ttotal: 14.8s\tremaining: 10.7s\n",
      "581:\tlearn: 0.3842444\ttotal: 14.8s\tremaining: 10.6s\n",
      "582:\tlearn: 0.3841512\ttotal: 14.8s\tremaining: 10.6s\n",
      "583:\tlearn: 0.3840804\ttotal: 14.9s\tremaining: 10.6s\n",
      "584:\tlearn: 0.3840031\ttotal: 14.9s\tremaining: 10.6s\n",
      "585:\tlearn: 0.3839529\ttotal: 14.9s\tremaining: 10.5s\n",
      "586:\tlearn: 0.3838963\ttotal: 15s\tremaining: 10.5s\n",
      "587:\tlearn: 0.3838193\ttotal: 15s\tremaining: 10.5s\n",
      "588:\tlearn: 0.3837785\ttotal: 15s\tremaining: 10.5s\n",
      "589:\tlearn: 0.3836840\ttotal: 15s\tremaining: 10.5s\n",
      "590:\tlearn: 0.3836350\ttotal: 15.1s\tremaining: 10.4s\n",
      "591:\tlearn: 0.3835403\ttotal: 15.1s\tremaining: 10.4s\n",
      "592:\tlearn: 0.3834569\ttotal: 15.1s\tremaining: 10.4s\n",
      "593:\tlearn: 0.3833342\ttotal: 15.2s\tremaining: 10.4s\n",
      "594:\tlearn: 0.3832741\ttotal: 15.2s\tremaining: 10.3s\n",
      "595:\tlearn: 0.3831982\ttotal: 15.2s\tremaining: 10.3s\n",
      "596:\tlearn: 0.3831081\ttotal: 15.2s\tremaining: 10.3s\n",
      "597:\tlearn: 0.3830642\ttotal: 15.3s\tremaining: 10.3s\n",
      "598:\tlearn: 0.3829997\ttotal: 15.3s\tremaining: 10.2s\n",
      "599:\tlearn: 0.3828666\ttotal: 15.3s\tremaining: 10.2s\n",
      "600:\tlearn: 0.3827972\ttotal: 15.4s\tremaining: 10.2s\n",
      "601:\tlearn: 0.3827204\ttotal: 15.4s\tremaining: 10.2s\n",
      "602:\tlearn: 0.3826327\ttotal: 15.4s\tremaining: 10.1s\n",
      "603:\tlearn: 0.3825343\ttotal: 15.4s\tremaining: 10.1s\n",
      "604:\tlearn: 0.3824531\ttotal: 15.5s\tremaining: 10.1s\n",
      "605:\tlearn: 0.3823957\ttotal: 15.5s\tremaining: 10.1s\n",
      "606:\tlearn: 0.3823144\ttotal: 15.5s\tremaining: 10.1s\n",
      "607:\tlearn: 0.3822385\ttotal: 15.6s\tremaining: 10s\n",
      "608:\tlearn: 0.3821506\ttotal: 15.6s\tremaining: 10s\n",
      "609:\tlearn: 0.3820870\ttotal: 15.6s\tremaining: 9.98s\n",
      "610:\tlearn: 0.3820260\ttotal: 15.6s\tremaining: 9.96s\n",
      "611:\tlearn: 0.3819812\ttotal: 15.7s\tremaining: 9.93s\n",
      "612:\tlearn: 0.3818714\ttotal: 15.7s\tremaining: 9.91s\n",
      "613:\tlearn: 0.3818174\ttotal: 15.7s\tremaining: 9.89s\n",
      "614:\tlearn: 0.3817739\ttotal: 15.8s\tremaining: 9.87s\n",
      "615:\tlearn: 0.3817100\ttotal: 15.8s\tremaining: 9.84s\n",
      "616:\tlearn: 0.3816311\ttotal: 15.8s\tremaining: 9.82s\n",
      "617:\tlearn: 0.3815447\ttotal: 15.8s\tremaining: 9.79s\n",
      "618:\tlearn: 0.3815057\ttotal: 15.9s\tremaining: 9.77s\n",
      "619:\tlearn: 0.3814240\ttotal: 15.9s\tremaining: 9.74s\n",
      "620:\tlearn: 0.3813727\ttotal: 15.9s\tremaining: 9.71s\n",
      "621:\tlearn: 0.3812562\ttotal: 16s\tremaining: 9.69s\n",
      "622:\tlearn: 0.3811823\ttotal: 16s\tremaining: 9.67s\n",
      "623:\tlearn: 0.3810819\ttotal: 16s\tremaining: 9.65s\n",
      "624:\tlearn: 0.3809480\ttotal: 16s\tremaining: 9.62s\n",
      "625:\tlearn: 0.3808734\ttotal: 16.1s\tremaining: 9.6s\n",
      "626:\tlearn: 0.3808026\ttotal: 16.1s\tremaining: 9.57s\n",
      "627:\tlearn: 0.3807183\ttotal: 16.1s\tremaining: 9.55s\n",
      "628:\tlearn: 0.3806383\ttotal: 16.1s\tremaining: 9.52s\n",
      "629:\tlearn: 0.3805837\ttotal: 16.2s\tremaining: 9.5s\n",
      "630:\tlearn: 0.3805047\ttotal: 16.2s\tremaining: 9.48s\n",
      "631:\tlearn: 0.3803753\ttotal: 16.2s\tremaining: 9.46s\n",
      "632:\tlearn: 0.3802774\ttotal: 16.3s\tremaining: 9.43s\n",
      "633:\tlearn: 0.3801600\ttotal: 16.3s\tremaining: 9.41s\n",
      "634:\tlearn: 0.3800945\ttotal: 16.3s\tremaining: 9.38s\n",
      "635:\tlearn: 0.3800336\ttotal: 16.3s\tremaining: 9.36s\n",
      "636:\tlearn: 0.3799511\ttotal: 16.4s\tremaining: 9.34s\n",
      "637:\tlearn: 0.3798919\ttotal: 16.4s\tremaining: 9.32s\n",
      "638:\tlearn: 0.3798841\ttotal: 16.4s\tremaining: 9.29s\n",
      "639:\tlearn: 0.3798470\ttotal: 16.5s\tremaining: 9.27s\n",
      "640:\tlearn: 0.3797669\ttotal: 16.5s\tremaining: 9.24s\n",
      "641:\tlearn: 0.3796739\ttotal: 16.5s\tremaining: 9.22s\n",
      "642:\tlearn: 0.3796147\ttotal: 16.6s\tremaining: 9.19s\n",
      "643:\tlearn: 0.3795696\ttotal: 16.6s\tremaining: 9.16s\n",
      "644:\tlearn: 0.3794486\ttotal: 16.6s\tremaining: 9.14s\n",
      "645:\tlearn: 0.3793744\ttotal: 16.6s\tremaining: 9.12s\n",
      "646:\tlearn: 0.3792777\ttotal: 16.7s\tremaining: 9.1s\n",
      "647:\tlearn: 0.3791954\ttotal: 16.7s\tremaining: 9.07s\n",
      "648:\tlearn: 0.3791263\ttotal: 16.7s\tremaining: 9.04s\n",
      "649:\tlearn: 0.3790780\ttotal: 16.7s\tremaining: 9.02s\n",
      "650:\tlearn: 0.3790484\ttotal: 16.8s\tremaining: 8.99s\n",
      "651:\tlearn: 0.3789334\ttotal: 16.8s\tremaining: 8.97s\n"
     ]
    },
    {
     "name": "stdout",
     "output_type": "stream",
     "text": [
      "652:\tlearn: 0.3788718\ttotal: 16.8s\tremaining: 8.95s\n",
      "653:\tlearn: 0.3788016\ttotal: 16.9s\tremaining: 8.92s\n",
      "654:\tlearn: 0.3787195\ttotal: 16.9s\tremaining: 8.9s\n",
      "655:\tlearn: 0.3786783\ttotal: 16.9s\tremaining: 8.87s\n",
      "656:\tlearn: 0.3786053\ttotal: 16.9s\tremaining: 8.85s\n",
      "657:\tlearn: 0.3785396\ttotal: 17s\tremaining: 8.82s\n",
      "658:\tlearn: 0.3784820\ttotal: 17s\tremaining: 8.79s\n",
      "659:\tlearn: 0.3783893\ttotal: 17s\tremaining: 8.77s\n",
      "660:\tlearn: 0.3783615\ttotal: 17.1s\tremaining: 8.75s\n",
      "661:\tlearn: 0.3783116\ttotal: 17.1s\tremaining: 8.72s\n",
      "662:\tlearn: 0.3782383\ttotal: 17.1s\tremaining: 8.7s\n",
      "663:\tlearn: 0.3781849\ttotal: 17.1s\tremaining: 8.67s\n",
      "664:\tlearn: 0.3781353\ttotal: 17.2s\tremaining: 8.65s\n",
      "665:\tlearn: 0.3780292\ttotal: 17.2s\tremaining: 8.62s\n",
      "666:\tlearn: 0.3779593\ttotal: 17.2s\tremaining: 8.6s\n",
      "667:\tlearn: 0.3778940\ttotal: 17.2s\tremaining: 8.57s\n",
      "668:\tlearn: 0.3777957\ttotal: 17.3s\tremaining: 8.54s\n",
      "669:\tlearn: 0.3777403\ttotal: 17.3s\tremaining: 8.52s\n",
      "670:\tlearn: 0.3777115\ttotal: 17.3s\tremaining: 8.5s\n",
      "671:\tlearn: 0.3776469\ttotal: 17.4s\tremaining: 8.48s\n",
      "672:\tlearn: 0.3775731\ttotal: 17.4s\tremaining: 8.46s\n",
      "673:\tlearn: 0.3775113\ttotal: 17.4s\tremaining: 8.44s\n",
      "674:\tlearn: 0.3774609\ttotal: 17.5s\tremaining: 8.41s\n",
      "675:\tlearn: 0.3773845\ttotal: 17.5s\tremaining: 8.39s\n",
      "676:\tlearn: 0.3772960\ttotal: 17.5s\tremaining: 8.37s\n",
      "677:\tlearn: 0.3772466\ttotal: 17.6s\tremaining: 8.34s\n",
      "678:\tlearn: 0.3772031\ttotal: 17.6s\tremaining: 8.32s\n",
      "679:\tlearn: 0.3771572\ttotal: 17.6s\tremaining: 8.29s\n",
      "680:\tlearn: 0.3771012\ttotal: 17.6s\tremaining: 8.27s\n",
      "681:\tlearn: 0.3769909\ttotal: 17.7s\tremaining: 8.24s\n",
      "682:\tlearn: 0.3769403\ttotal: 17.7s\tremaining: 8.21s\n",
      "683:\tlearn: 0.3768923\ttotal: 17.7s\tremaining: 8.19s\n",
      "684:\tlearn: 0.3768179\ttotal: 17.8s\tremaining: 8.17s\n",
      "685:\tlearn: 0.3767343\ttotal: 17.8s\tremaining: 8.14s\n",
      "686:\tlearn: 0.3766986\ttotal: 17.8s\tremaining: 8.12s\n",
      "687:\tlearn: 0.3766237\ttotal: 17.8s\tremaining: 8.09s\n",
      "688:\tlearn: 0.3765616\ttotal: 17.9s\tremaining: 8.06s\n",
      "689:\tlearn: 0.3765092\ttotal: 17.9s\tremaining: 8.04s\n",
      "690:\tlearn: 0.3764319\ttotal: 17.9s\tremaining: 8.01s\n",
      "691:\tlearn: 0.3763357\ttotal: 17.9s\tremaining: 7.99s\n",
      "692:\tlearn: 0.3762492\ttotal: 18s\tremaining: 7.97s\n",
      "693:\tlearn: 0.3761977\ttotal: 18s\tremaining: 7.94s\n",
      "694:\tlearn: 0.3761129\ttotal: 18s\tremaining: 7.92s\n",
      "695:\tlearn: 0.3760159\ttotal: 18.1s\tremaining: 7.89s\n",
      "696:\tlearn: 0.3759637\ttotal: 18.1s\tremaining: 7.86s\n",
      "697:\tlearn: 0.3758575\ttotal: 18.1s\tremaining: 7.84s\n",
      "698:\tlearn: 0.3757862\ttotal: 18.1s\tremaining: 7.81s\n",
      "699:\tlearn: 0.3757284\ttotal: 18.2s\tremaining: 7.79s\n",
      "700:\tlearn: 0.3756750\ttotal: 18.2s\tremaining: 7.76s\n",
      "701:\tlearn: 0.3755774\ttotal: 18.2s\tremaining: 7.74s\n",
      "702:\tlearn: 0.3755199\ttotal: 18.3s\tremaining: 7.71s\n",
      "703:\tlearn: 0.3754581\ttotal: 18.3s\tremaining: 7.69s\n",
      "704:\tlearn: 0.3754268\ttotal: 18.3s\tremaining: 7.66s\n",
      "705:\tlearn: 0.3753565\ttotal: 18.3s\tremaining: 7.63s\n",
      "706:\tlearn: 0.3753087\ttotal: 18.4s\tremaining: 7.61s\n",
      "707:\tlearn: 0.3752251\ttotal: 18.4s\tremaining: 7.59s\n",
      "708:\tlearn: 0.3751474\ttotal: 18.4s\tremaining: 7.57s\n",
      "709:\tlearn: 0.3750544\ttotal: 18.5s\tremaining: 7.54s\n",
      "710:\tlearn: 0.3749829\ttotal: 18.5s\tremaining: 7.51s\n",
      "711:\tlearn: 0.3748903\ttotal: 18.5s\tremaining: 7.49s\n",
      "712:\tlearn: 0.3748392\ttotal: 18.6s\tremaining: 7.47s\n",
      "713:\tlearn: 0.3747532\ttotal: 18.6s\tremaining: 7.45s\n",
      "714:\tlearn: 0.3747012\ttotal: 18.6s\tremaining: 7.43s\n",
      "715:\tlearn: 0.3746559\ttotal: 18.7s\tremaining: 7.41s\n",
      "716:\tlearn: 0.3746208\ttotal: 18.7s\tremaining: 7.39s\n",
      "717:\tlearn: 0.3745573\ttotal: 18.8s\tremaining: 7.37s\n",
      "718:\tlearn: 0.3744844\ttotal: 18.8s\tremaining: 7.34s\n",
      "719:\tlearn: 0.3744504\ttotal: 18.8s\tremaining: 7.32s\n",
      "720:\tlearn: 0.3743675\ttotal: 18.9s\tremaining: 7.3s\n",
      "721:\tlearn: 0.3743491\ttotal: 18.9s\tremaining: 7.28s\n",
      "722:\tlearn: 0.3742874\ttotal: 18.9s\tremaining: 7.26s\n",
      "723:\tlearn: 0.3742001\ttotal: 19s\tremaining: 7.24s\n",
      "724:\tlearn: 0.3741129\ttotal: 19s\tremaining: 7.21s\n",
      "725:\tlearn: 0.3740153\ttotal: 19.1s\tremaining: 7.19s\n",
      "726:\tlearn: 0.3739338\ttotal: 19.1s\tremaining: 7.17s\n",
      "727:\tlearn: 0.3738466\ttotal: 19.1s\tremaining: 7.15s\n",
      "728:\tlearn: 0.3737375\ttotal: 19.2s\tremaining: 7.13s\n",
      "729:\tlearn: 0.3736459\ttotal: 19.2s\tremaining: 7.11s\n",
      "730:\tlearn: 0.3735851\ttotal: 19.3s\tremaining: 7.09s\n",
      "731:\tlearn: 0.3735022\ttotal: 19.3s\tremaining: 7.07s\n",
      "732:\tlearn: 0.3733977\ttotal: 19.4s\tremaining: 7.05s\n",
      "733:\tlearn: 0.3733350\ttotal: 19.4s\tremaining: 7.04s\n",
      "734:\tlearn: 0.3732575\ttotal: 19.5s\tremaining: 7.02s\n",
      "735:\tlearn: 0.3732050\ttotal: 19.5s\tremaining: 7s\n",
      "736:\tlearn: 0.3731361\ttotal: 19.5s\tremaining: 6.97s\n",
      "737:\tlearn: 0.3730883\ttotal: 19.6s\tremaining: 6.95s\n",
      "738:\tlearn: 0.3730444\ttotal: 19.6s\tremaining: 6.93s\n",
      "739:\tlearn: 0.3729702\ttotal: 19.7s\tremaining: 6.91s\n",
      "740:\tlearn: 0.3728961\ttotal: 19.7s\tremaining: 6.88s\n",
      "741:\tlearn: 0.3728093\ttotal: 19.7s\tremaining: 6.86s\n",
      "742:\tlearn: 0.3727231\ttotal: 19.8s\tremaining: 6.84s\n",
      "743:\tlearn: 0.3726468\ttotal: 19.8s\tremaining: 6.81s\n",
      "744:\tlearn: 0.3725765\ttotal: 19.9s\tremaining: 6.8s\n",
      "745:\tlearn: 0.3725332\ttotal: 19.9s\tremaining: 6.78s\n",
      "746:\tlearn: 0.3724764\ttotal: 20s\tremaining: 6.76s\n",
      "747:\tlearn: 0.3723833\ttotal: 20s\tremaining: 6.74s\n",
      "748:\tlearn: 0.3723244\ttotal: 20s\tremaining: 6.72s\n",
      "749:\tlearn: 0.3722565\ttotal: 20.1s\tremaining: 6.71s\n",
      "750:\tlearn: 0.3721851\ttotal: 20.2s\tremaining: 6.68s\n",
      "751:\tlearn: 0.3720775\ttotal: 20.2s\tremaining: 6.66s\n",
      "752:\tlearn: 0.3720151\ttotal: 20.2s\tremaining: 6.64s\n",
      "753:\tlearn: 0.3719502\ttotal: 20.3s\tremaining: 6.62s\n",
      "754:\tlearn: 0.3718750\ttotal: 20.3s\tremaining: 6.6s\n",
      "755:\tlearn: 0.3717863\ttotal: 20.4s\tremaining: 6.58s\n",
      "756:\tlearn: 0.3717088\ttotal: 20.4s\tremaining: 6.56s\n",
      "757:\tlearn: 0.3716500\ttotal: 20.5s\tremaining: 6.54s\n",
      "758:\tlearn: 0.3715855\ttotal: 20.5s\tremaining: 6.52s\n",
      "759:\tlearn: 0.3715178\ttotal: 20.6s\tremaining: 6.5s\n",
      "760:\tlearn: 0.3714800\ttotal: 20.6s\tremaining: 6.48s\n",
      "761:\tlearn: 0.3713935\ttotal: 20.7s\tremaining: 6.46s\n",
      "762:\tlearn: 0.3713243\ttotal: 20.7s\tremaining: 6.43s\n",
      "763:\tlearn: 0.3712569\ttotal: 20.8s\tremaining: 6.41s\n",
      "764:\tlearn: 0.3712120\ttotal: 20.8s\tremaining: 6.39s\n",
      "765:\tlearn: 0.3711317\ttotal: 20.9s\tremaining: 6.37s\n",
      "766:\tlearn: 0.3710366\ttotal: 20.9s\tremaining: 6.35s\n",
      "767:\tlearn: 0.3709373\ttotal: 20.9s\tremaining: 6.33s\n",
      "768:\tlearn: 0.3708396\ttotal: 21s\tremaining: 6.3s\n",
      "769:\tlearn: 0.3707547\ttotal: 21s\tremaining: 6.28s\n",
      "770:\tlearn: 0.3706398\ttotal: 21.1s\tremaining: 6.26s\n",
      "771:\tlearn: 0.3705302\ttotal: 21.1s\tremaining: 6.25s\n",
      "772:\tlearn: 0.3704832\ttotal: 21.2s\tremaining: 6.22s\n",
      "773:\tlearn: 0.3704345\ttotal: 21.2s\tremaining: 6.2s\n",
      "774:\tlearn: 0.3703614\ttotal: 21.3s\tremaining: 6.18s\n",
      "775:\tlearn: 0.3702990\ttotal: 21.3s\tremaining: 6.16s\n",
      "776:\tlearn: 0.3702520\ttotal: 21.4s\tremaining: 6.13s\n",
      "777:\tlearn: 0.3701603\ttotal: 21.4s\tremaining: 6.11s\n",
      "778:\tlearn: 0.3700756\ttotal: 21.4s\tremaining: 6.08s\n",
      "779:\tlearn: 0.3700181\ttotal: 21.5s\tremaining: 6.06s\n",
      "780:\tlearn: 0.3699582\ttotal: 21.5s\tremaining: 6.04s\n",
      "781:\tlearn: 0.3698804\ttotal: 21.6s\tremaining: 6.01s\n",
      "782:\tlearn: 0.3698101\ttotal: 21.6s\tremaining: 5.99s\n",
      "783:\tlearn: 0.3697605\ttotal: 21.6s\tremaining: 5.96s\n",
      "784:\tlearn: 0.3696708\ttotal: 21.7s\tremaining: 5.94s\n",
      "785:\tlearn: 0.3695931\ttotal: 21.7s\tremaining: 5.91s\n",
      "786:\tlearn: 0.3695149\ttotal: 21.8s\tremaining: 5.89s\n",
      "787:\tlearn: 0.3694400\ttotal: 21.8s\tremaining: 5.86s\n",
      "788:\tlearn: 0.3693710\ttotal: 21.8s\tremaining: 5.84s\n",
      "789:\tlearn: 0.3692805\ttotal: 21.9s\tremaining: 5.81s\n",
      "790:\tlearn: 0.3692542\ttotal: 21.9s\tremaining: 5.78s\n",
      "791:\tlearn: 0.3691547\ttotal: 21.9s\tremaining: 5.76s\n",
      "792:\tlearn: 0.3690786\ttotal: 22s\tremaining: 5.74s\n",
      "793:\tlearn: 0.3690224\ttotal: 22s\tremaining: 5.71s\n",
      "794:\tlearn: 0.3689811\ttotal: 22s\tremaining: 5.68s\n",
      "795:\tlearn: 0.3688633\ttotal: 22.1s\tremaining: 5.66s\n",
      "796:\tlearn: 0.3688229\ttotal: 22.1s\tremaining: 5.63s\n",
      "797:\tlearn: 0.3687428\ttotal: 22.1s\tremaining: 5.61s\n",
      "798:\tlearn: 0.3686844\ttotal: 22.2s\tremaining: 5.58s\n",
      "799:\tlearn: 0.3685901\ttotal: 22.2s\tremaining: 5.56s\n",
      "800:\tlearn: 0.3685389\ttotal: 22.3s\tremaining: 5.53s\n",
      "801:\tlearn: 0.3685060\ttotal: 22.3s\tremaining: 5.5s\n",
      "802:\tlearn: 0.3684672\ttotal: 22.3s\tremaining: 5.48s\n",
      "803:\tlearn: 0.3684079\ttotal: 22.4s\tremaining: 5.45s\n",
      "804:\tlearn: 0.3683533\ttotal: 22.4s\tremaining: 5.43s\n",
      "805:\tlearn: 0.3683085\ttotal: 22.4s\tremaining: 5.4s\n",
      "806:\tlearn: 0.3682353\ttotal: 22.5s\tremaining: 5.38s\n",
      "807:\tlearn: 0.3681746\ttotal: 22.5s\tremaining: 5.35s\n",
      "808:\tlearn: 0.3681191\ttotal: 22.6s\tremaining: 5.33s\n",
      "809:\tlearn: 0.3680439\ttotal: 22.6s\tremaining: 5.3s\n",
      "810:\tlearn: 0.3680124\ttotal: 22.6s\tremaining: 5.28s\n",
      "811:\tlearn: 0.3679191\ttotal: 22.7s\tremaining: 5.25s\n",
      "812:\tlearn: 0.3678678\ttotal: 22.7s\tremaining: 5.22s\n",
      "813:\tlearn: 0.3678175\ttotal: 22.7s\tremaining: 5.2s\n",
      "814:\tlearn: 0.3677414\ttotal: 22.8s\tremaining: 5.17s\n",
      "815:\tlearn: 0.3676976\ttotal: 22.8s\tremaining: 5.14s\n"
     ]
    },
    {
     "name": "stdout",
     "output_type": "stream",
     "text": [
      "816:\tlearn: 0.3675839\ttotal: 22.9s\tremaining: 5.12s\n",
      "817:\tlearn: 0.3675318\ttotal: 22.9s\tremaining: 5.09s\n",
      "818:\tlearn: 0.3674616\ttotal: 22.9s\tremaining: 5.07s\n",
      "819:\tlearn: 0.3674034\ttotal: 23s\tremaining: 5.04s\n",
      "820:\tlearn: 0.3673058\ttotal: 23s\tremaining: 5.01s\n",
      "821:\tlearn: 0.3672567\ttotal: 23s\tremaining: 4.99s\n",
      "822:\tlearn: 0.3672016\ttotal: 23.1s\tremaining: 4.96s\n",
      "823:\tlearn: 0.3671454\ttotal: 23.1s\tremaining: 4.93s\n",
      "824:\tlearn: 0.3670994\ttotal: 23.1s\tremaining: 4.91s\n",
      "825:\tlearn: 0.3670372\ttotal: 23.2s\tremaining: 4.88s\n",
      "826:\tlearn: 0.3669884\ttotal: 23.2s\tremaining: 4.86s\n",
      "827:\tlearn: 0.3668788\ttotal: 23.2s\tremaining: 4.83s\n",
      "828:\tlearn: 0.3668073\ttotal: 23.3s\tremaining: 4.8s\n",
      "829:\tlearn: 0.3667271\ttotal: 23.3s\tremaining: 4.78s\n",
      "830:\tlearn: 0.3666575\ttotal: 23.4s\tremaining: 4.75s\n",
      "831:\tlearn: 0.3665946\ttotal: 23.4s\tremaining: 4.72s\n",
      "832:\tlearn: 0.3665204\ttotal: 23.4s\tremaining: 4.7s\n",
      "833:\tlearn: 0.3664640\ttotal: 23.5s\tremaining: 4.67s\n",
      "834:\tlearn: 0.3664089\ttotal: 23.5s\tremaining: 4.64s\n",
      "835:\tlearn: 0.3663224\ttotal: 23.6s\tremaining: 4.62s\n",
      "836:\tlearn: 0.3662413\ttotal: 23.6s\tremaining: 4.59s\n",
      "837:\tlearn: 0.3661510\ttotal: 23.6s\tremaining: 4.57s\n",
      "838:\tlearn: 0.3660987\ttotal: 23.7s\tremaining: 4.54s\n",
      "839:\tlearn: 0.3660311\ttotal: 23.7s\tremaining: 4.51s\n",
      "840:\tlearn: 0.3659686\ttotal: 23.7s\tremaining: 4.48s\n",
      "841:\tlearn: 0.3659239\ttotal: 23.8s\tremaining: 4.46s\n",
      "842:\tlearn: 0.3658711\ttotal: 23.8s\tremaining: 4.43s\n",
      "843:\tlearn: 0.3658200\ttotal: 23.8s\tremaining: 4.41s\n",
      "844:\tlearn: 0.3657647\ttotal: 23.9s\tremaining: 4.38s\n",
      "845:\tlearn: 0.3656823\ttotal: 23.9s\tremaining: 4.35s\n",
      "846:\tlearn: 0.3656511\ttotal: 23.9s\tremaining: 4.32s\n",
      "847:\tlearn: 0.3655617\ttotal: 24s\tremaining: 4.29s\n",
      "848:\tlearn: 0.3654880\ttotal: 24s\tremaining: 4.27s\n",
      "849:\tlearn: 0.3654444\ttotal: 24s\tremaining: 4.24s\n",
      "850:\tlearn: 0.3653989\ttotal: 24.1s\tremaining: 4.21s\n",
      "851:\tlearn: 0.3653473\ttotal: 24.1s\tremaining: 4.19s\n",
      "852:\tlearn: 0.3653049\ttotal: 24.1s\tremaining: 4.16s\n",
      "853:\tlearn: 0.3652434\ttotal: 24.2s\tremaining: 4.13s\n",
      "854:\tlearn: 0.3651719\ttotal: 24.2s\tremaining: 4.11s\n",
      "855:\tlearn: 0.3650988\ttotal: 24.3s\tremaining: 4.08s\n",
      "856:\tlearn: 0.3650346\ttotal: 24.3s\tremaining: 4.05s\n",
      "857:\tlearn: 0.3649939\ttotal: 24.3s\tremaining: 4.03s\n",
      "858:\tlearn: 0.3649423\ttotal: 24.4s\tremaining: 4s\n",
      "859:\tlearn: 0.3648746\ttotal: 24.4s\tremaining: 3.97s\n",
      "860:\tlearn: 0.3648064\ttotal: 24.4s\tremaining: 3.94s\n",
      "861:\tlearn: 0.3647477\ttotal: 24.5s\tremaining: 3.92s\n",
      "862:\tlearn: 0.3646978\ttotal: 24.5s\tremaining: 3.89s\n",
      "863:\tlearn: 0.3646374\ttotal: 24.6s\tremaining: 3.86s\n",
      "864:\tlearn: 0.3645941\ttotal: 24.6s\tremaining: 3.84s\n",
      "865:\tlearn: 0.3645436\ttotal: 24.6s\tremaining: 3.81s\n",
      "866:\tlearn: 0.3645185\ttotal: 24.6s\tremaining: 3.78s\n",
      "867:\tlearn: 0.3644735\ttotal: 24.7s\tremaining: 3.75s\n",
      "868:\tlearn: 0.3644309\ttotal: 24.7s\tremaining: 3.73s\n",
      "869:\tlearn: 0.3643743\ttotal: 24.8s\tremaining: 3.7s\n",
      "870:\tlearn: 0.3643275\ttotal: 24.8s\tremaining: 3.67s\n",
      "871:\tlearn: 0.3642860\ttotal: 24.8s\tremaining: 3.64s\n",
      "872:\tlearn: 0.3642154\ttotal: 24.9s\tremaining: 3.62s\n",
      "873:\tlearn: 0.3641608\ttotal: 24.9s\tremaining: 3.59s\n",
      "874:\tlearn: 0.3641100\ttotal: 24.9s\tremaining: 3.56s\n",
      "875:\tlearn: 0.3640214\ttotal: 25s\tremaining: 3.53s\n",
      "876:\tlearn: 0.3639621\ttotal: 25s\tremaining: 3.5s\n",
      "877:\tlearn: 0.3638833\ttotal: 25s\tremaining: 3.48s\n",
      "878:\tlearn: 0.3638180\ttotal: 25.1s\tremaining: 3.45s\n",
      "879:\tlearn: 0.3637555\ttotal: 25.1s\tremaining: 3.42s\n",
      "880:\tlearn: 0.3636712\ttotal: 25.1s\tremaining: 3.4s\n",
      "881:\tlearn: 0.3636179\ttotal: 25.2s\tremaining: 3.37s\n",
      "882:\tlearn: 0.3635782\ttotal: 25.2s\tremaining: 3.34s\n",
      "883:\tlearn: 0.3635022\ttotal: 25.2s\tremaining: 3.31s\n",
      "884:\tlearn: 0.3634568\ttotal: 25.3s\tremaining: 3.28s\n",
      "885:\tlearn: 0.3633678\ttotal: 25.3s\tremaining: 3.26s\n",
      "886:\tlearn: 0.3632911\ttotal: 25.4s\tremaining: 3.23s\n",
      "887:\tlearn: 0.3632413\ttotal: 25.4s\tremaining: 3.2s\n",
      "888:\tlearn: 0.3632197\ttotal: 25.4s\tremaining: 3.17s\n",
      "889:\tlearn: 0.3631534\ttotal: 25.5s\tremaining: 3.15s\n",
      "890:\tlearn: 0.3630731\ttotal: 25.5s\tremaining: 3.12s\n",
      "891:\tlearn: 0.3629846\ttotal: 25.6s\tremaining: 3.09s\n",
      "892:\tlearn: 0.3629033\ttotal: 25.6s\tremaining: 3.07s\n",
      "893:\tlearn: 0.3628517\ttotal: 25.6s\tremaining: 3.04s\n",
      "894:\tlearn: 0.3627920\ttotal: 25.7s\tremaining: 3.01s\n",
      "895:\tlearn: 0.3627538\ttotal: 25.7s\tremaining: 2.98s\n",
      "896:\tlearn: 0.3626852\ttotal: 25.7s\tremaining: 2.95s\n",
      "897:\tlearn: 0.3626557\ttotal: 25.7s\tremaining: 2.92s\n",
      "898:\tlearn: 0.3626112\ttotal: 25.8s\tremaining: 2.9s\n",
      "899:\tlearn: 0.3625673\ttotal: 25.8s\tremaining: 2.87s\n",
      "900:\tlearn: 0.3625213\ttotal: 25.9s\tremaining: 2.84s\n",
      "901:\tlearn: 0.3625006\ttotal: 25.9s\tremaining: 2.81s\n",
      "902:\tlearn: 0.3624418\ttotal: 25.9s\tremaining: 2.78s\n",
      "903:\tlearn: 0.3623880\ttotal: 26s\tremaining: 2.76s\n",
      "904:\tlearn: 0.3623495\ttotal: 26s\tremaining: 2.73s\n",
      "905:\tlearn: 0.3622975\ttotal: 26s\tremaining: 2.7s\n",
      "906:\tlearn: 0.3622142\ttotal: 26.1s\tremaining: 2.67s\n",
      "907:\tlearn: 0.3621308\ttotal: 26.1s\tremaining: 2.65s\n",
      "908:\tlearn: 0.3620635\ttotal: 26.1s\tremaining: 2.62s\n",
      "909:\tlearn: 0.3620108\ttotal: 26.2s\tremaining: 2.59s\n",
      "910:\tlearn: 0.3619492\ttotal: 26.2s\tremaining: 2.56s\n",
      "911:\tlearn: 0.3619091\ttotal: 26.3s\tremaining: 2.53s\n",
      "912:\tlearn: 0.3618592\ttotal: 26.3s\tremaining: 2.5s\n",
      "913:\tlearn: 0.3617766\ttotal: 26.3s\tremaining: 2.48s\n",
      "914:\tlearn: 0.3617152\ttotal: 26.4s\tremaining: 2.45s\n",
      "915:\tlearn: 0.3616704\ttotal: 26.4s\tremaining: 2.42s\n",
      "916:\tlearn: 0.3616002\ttotal: 26.4s\tremaining: 2.39s\n",
      "917:\tlearn: 0.3615339\ttotal: 26.5s\tremaining: 2.36s\n",
      "918:\tlearn: 0.3614651\ttotal: 26.5s\tremaining: 2.34s\n",
      "919:\tlearn: 0.3613903\ttotal: 26.6s\tremaining: 2.31s\n",
      "920:\tlearn: 0.3613423\ttotal: 26.6s\tremaining: 2.28s\n",
      "921:\tlearn: 0.3612588\ttotal: 26.6s\tremaining: 2.25s\n",
      "922:\tlearn: 0.3611856\ttotal: 26.7s\tremaining: 2.22s\n",
      "923:\tlearn: 0.3610776\ttotal: 26.7s\tremaining: 2.19s\n",
      "924:\tlearn: 0.3610187\ttotal: 26.7s\tremaining: 2.17s\n",
      "925:\tlearn: 0.3609727\ttotal: 26.8s\tremaining: 2.14s\n",
      "926:\tlearn: 0.3609076\ttotal: 26.8s\tremaining: 2.11s\n",
      "927:\tlearn: 0.3608492\ttotal: 26.8s\tremaining: 2.08s\n",
      "928:\tlearn: 0.3607711\ttotal: 26.9s\tremaining: 2.05s\n",
      "929:\tlearn: 0.3607331\ttotal: 26.9s\tremaining: 2.02s\n",
      "930:\tlearn: 0.3606782\ttotal: 26.9s\tremaining: 2s\n",
      "931:\tlearn: 0.3606185\ttotal: 27s\tremaining: 1.97s\n",
      "932:\tlearn: 0.3606030\ttotal: 27s\tremaining: 1.94s\n",
      "933:\tlearn: 0.3605144\ttotal: 27.1s\tremaining: 1.91s\n",
      "934:\tlearn: 0.3604429\ttotal: 27.1s\tremaining: 1.88s\n",
      "935:\tlearn: 0.3603838\ttotal: 27.1s\tremaining: 1.85s\n",
      "936:\tlearn: 0.3603170\ttotal: 27.2s\tremaining: 1.82s\n",
      "937:\tlearn: 0.3602250\ttotal: 27.2s\tremaining: 1.8s\n",
      "938:\tlearn: 0.3601522\ttotal: 27.2s\tremaining: 1.77s\n",
      "939:\tlearn: 0.3601088\ttotal: 27.3s\tremaining: 1.74s\n",
      "940:\tlearn: 0.3600717\ttotal: 27.3s\tremaining: 1.71s\n",
      "941:\tlearn: 0.3600280\ttotal: 27.3s\tremaining: 1.68s\n",
      "942:\tlearn: 0.3599865\ttotal: 27.4s\tremaining: 1.65s\n",
      "943:\tlearn: 0.3599393\ttotal: 27.4s\tremaining: 1.63s\n",
      "944:\tlearn: 0.3598842\ttotal: 27.4s\tremaining: 1.6s\n",
      "945:\tlearn: 0.3598371\ttotal: 27.5s\tremaining: 1.57s\n",
      "946:\tlearn: 0.3597500\ttotal: 27.5s\tremaining: 1.54s\n",
      "947:\tlearn: 0.3597122\ttotal: 27.6s\tremaining: 1.51s\n",
      "948:\tlearn: 0.3597106\ttotal: 27.6s\tremaining: 1.48s\n",
      "949:\tlearn: 0.3596872\ttotal: 27.6s\tremaining: 1.45s\n",
      "950:\tlearn: 0.3596410\ttotal: 27.7s\tremaining: 1.42s\n",
      "951:\tlearn: 0.3595796\ttotal: 27.7s\tremaining: 1.4s\n",
      "952:\tlearn: 0.3595136\ttotal: 27.7s\tremaining: 1.37s\n",
      "953:\tlearn: 0.3594437\ttotal: 27.8s\tremaining: 1.34s\n",
      "954:\tlearn: 0.3593835\ttotal: 27.8s\tremaining: 1.31s\n",
      "955:\tlearn: 0.3593251\ttotal: 27.8s\tremaining: 1.28s\n",
      "956:\tlearn: 0.3592558\ttotal: 27.9s\tremaining: 1.25s\n",
      "957:\tlearn: 0.3592057\ttotal: 27.9s\tremaining: 1.22s\n",
      "958:\tlearn: 0.3591135\ttotal: 27.9s\tremaining: 1.19s\n",
      "959:\tlearn: 0.3590472\ttotal: 28s\tremaining: 1.17s\n",
      "960:\tlearn: 0.3590063\ttotal: 28s\tremaining: 1.14s\n",
      "961:\tlearn: 0.3589294\ttotal: 28s\tremaining: 1.11s\n",
      "962:\tlearn: 0.3588331\ttotal: 28.1s\tremaining: 1.08s\n",
      "963:\tlearn: 0.3587694\ttotal: 28.1s\tremaining: 1.05s\n",
      "964:\tlearn: 0.3587142\ttotal: 28.2s\tremaining: 1.02s\n",
      "965:\tlearn: 0.3586531\ttotal: 28.2s\tremaining: 993ms\n",
      "966:\tlearn: 0.3585874\ttotal: 28.2s\tremaining: 964ms\n",
      "967:\tlearn: 0.3585107\ttotal: 28.3s\tremaining: 935ms\n",
      "968:\tlearn: 0.3584547\ttotal: 28.3s\tremaining: 905ms\n",
      "969:\tlearn: 0.3583707\ttotal: 28.3s\tremaining: 877ms\n",
      "970:\tlearn: 0.3583168\ttotal: 28.4s\tremaining: 848ms\n",
      "971:\tlearn: 0.3582456\ttotal: 28.4s\tremaining: 819ms\n",
      "972:\tlearn: 0.3581800\ttotal: 28.5s\tremaining: 790ms\n",
      "973:\tlearn: 0.3580935\ttotal: 28.5s\tremaining: 760ms\n",
      "974:\tlearn: 0.3580281\ttotal: 28.5s\tremaining: 731ms\n"
     ]
    },
    {
     "name": "stdout",
     "output_type": "stream",
     "text": [
      "975:\tlearn: 0.3579802\ttotal: 28.6s\tremaining: 702ms\n",
      "976:\tlearn: 0.3578987\ttotal: 28.6s\tremaining: 674ms\n",
      "977:\tlearn: 0.3578136\ttotal: 28.7s\tremaining: 645ms\n",
      "978:\tlearn: 0.3577855\ttotal: 28.7s\tremaining: 615ms\n",
      "979:\tlearn: 0.3576990\ttotal: 28.7s\tremaining: 586ms\n",
      "980:\tlearn: 0.3576478\ttotal: 28.8s\tremaining: 557ms\n",
      "981:\tlearn: 0.3576243\ttotal: 28.8s\tremaining: 528ms\n",
      "982:\tlearn: 0.3576040\ttotal: 28.8s\tremaining: 499ms\n",
      "983:\tlearn: 0.3575468\ttotal: 28.9s\tremaining: 469ms\n",
      "984:\tlearn: 0.3574869\ttotal: 28.9s\tremaining: 440ms\n",
      "985:\tlearn: 0.3574348\ttotal: 28.9s\tremaining: 411ms\n",
      "986:\tlearn: 0.3573932\ttotal: 29s\tremaining: 381ms\n",
      "987:\tlearn: 0.3573251\ttotal: 29s\tremaining: 352ms\n",
      "988:\tlearn: 0.3572682\ttotal: 29s\tremaining: 323ms\n",
      "989:\tlearn: 0.3571936\ttotal: 29.1s\tremaining: 294ms\n",
      "990:\tlearn: 0.3571281\ttotal: 29.1s\tremaining: 264ms\n",
      "991:\tlearn: 0.3570731\ttotal: 29.1s\tremaining: 235ms\n",
      "992:\tlearn: 0.3569983\ttotal: 29.2s\tremaining: 206ms\n",
      "993:\tlearn: 0.3569308\ttotal: 29.2s\tremaining: 176ms\n",
      "994:\tlearn: 0.3568884\ttotal: 29.3s\tremaining: 147ms\n",
      "995:\tlearn: 0.3568309\ttotal: 29.3s\tremaining: 118ms\n",
      "996:\tlearn: 0.3567817\ttotal: 29.3s\tremaining: 88.2ms\n",
      "997:\tlearn: 0.3567470\ttotal: 29.4s\tremaining: 58.8ms\n",
      "998:\tlearn: 0.3566975\ttotal: 29.4s\tremaining: 29.4ms\n",
      "999:\tlearn: 0.3566272\ttotal: 29.4s\tremaining: 0us\n"
     ]
    }
   ],
   "source": [
    "cb = catboost.CatBoostClassifier()\n",
    "cb.fit(X_train,y_train)\n",
    "cb_pred = cb.predict(X_test)"
   ]
  },
  {
   "cell_type": "code",
   "execution_count": 213,
   "metadata": {},
   "outputs": [
    {
     "name": "stdout",
     "output_type": "stream",
     "text": [
      "0.7967948717948717\n",
      "0.7971849008317338\n",
      "[[4960 1216]\n",
      " [1320 4984]]\n"
     ]
    }
   ],
   "source": [
    "print(accuracy_score(y_test, cb_pred))\n",
    "print(f1_score(y_test, cb_pred))\n",
    "print(confusion_matrix(y_test, cb_pred))"
   ]
  },
  {
   "cell_type": "code",
   "execution_count": 214,
   "metadata": {},
   "outputs": [
    {
     "data": {
      "text/plain": [
       "array([0, 0, 0, ..., 1, 0, 1], dtype=int64)"
      ]
     },
     "execution_count": 214,
     "metadata": {},
     "output_type": "execute_result"
    }
   ],
   "source": [
    "rfc = RandomForestClassifier()\n",
    "rfc.fit(X_train, y_train)\n",
    "rfc_pred = rfc.predict(X_test)\n",
    "rfc_pred"
   ]
  },
  {
   "cell_type": "code",
   "execution_count": 215,
   "metadata": {},
   "outputs": [
    {
     "name": "stdout",
     "output_type": "stream",
     "text": [
      "0.7892628205128205\n",
      "0.7901037509976057\n",
      "[[4900 1276]\n",
      " [1354 4950]]\n"
     ]
    }
   ],
   "source": [
    "print(accuracy_score(y_test, rfc_pred))\n",
    "print(f1_score(y_test, rfc_pred))\n",
    "print(confusion_matrix(y_test, rfc_pred))"
   ]
  },
  {
   "cell_type": "markdown",
   "metadata": {},
   "source": [
    "## Oversampling technique"
   ]
  },
  {
   "cell_type": "code",
   "execution_count": 216,
   "metadata": {},
   "outputs": [
    {
     "name": "stdout",
     "output_type": "stream",
     "text": [
      "109581 31200\n"
     ]
    }
   ],
   "source": [
    "print(count_0, count_1)"
   ]
  },
  {
   "cell_type": "code",
   "execution_count": 217,
   "metadata": {},
   "outputs": [],
   "source": [
    "df_class_1_over = df_class_1.sample(count_0, replace=True)"
   ]
  },
  {
   "cell_type": "code",
   "execution_count": 218,
   "metadata": {},
   "outputs": [
    {
     "data": {
      "text/plain": [
       "(109581, 21)"
      ]
     },
     "execution_count": 218,
     "metadata": {},
     "output_type": "execute_result"
    }
   ],
   "source": [
    "df_class_1_over.shape"
   ]
  },
  {
   "cell_type": "code",
   "execution_count": 219,
   "metadata": {},
   "outputs": [
    {
     "data": {
      "text/plain": [
       "(219162, 21)"
      ]
     },
     "execution_count": 219,
     "metadata": {},
     "output_type": "execute_result"
    }
   ],
   "source": [
    "df_test_over = pd.concat([df_class_0,df_class_1_over], axis=0)\n",
    "df_test_over.shape"
   ]
  },
  {
   "cell_type": "code",
   "execution_count": 220,
   "metadata": {},
   "outputs": [
    {
     "name": "stdout",
     "output_type": "stream",
     "text": [
      "Random Over sampling:\n",
      "1    109581\n",
      "0    109581\n",
      "Name: RainTomorrow, dtype: int64\n"
     ]
    }
   ],
   "source": [
    "print(\"Random Over sampling:\")\n",
    "print(df_test_over.RainTomorrow.value_counts())"
   ]
  },
  {
   "cell_type": "code",
   "execution_count": 221,
   "metadata": {},
   "outputs": [
    {
     "data": {
      "text/plain": [
       "0         0\n",
       "1         0\n",
       "2         0\n",
       "3         0\n",
       "4         0\n",
       "         ..\n",
       "88110     1\n",
       "4425      1\n",
       "75839     1\n",
       "127059    1\n",
       "113552    1\n",
       "Name: RainTomorrow, Length: 219162, dtype: int64"
      ]
     },
     "execution_count": 221,
     "metadata": {},
     "output_type": "execute_result"
    }
   ],
   "source": [
    "X = df_test_over.drop(\"RainTomorrow\", axis=1)\n",
    "y = df_test_over.RainTomorrow\n",
    "y"
   ]
  },
  {
   "cell_type": "code",
   "execution_count": 222,
   "metadata": {},
   "outputs": [],
   "source": [
    "X = scaler.fit_transform(X)"
   ]
  },
  {
   "cell_type": "code",
   "execution_count": 223,
   "metadata": {},
   "outputs": [
    {
     "data": {
      "text/plain": [
       "array([[ 0.13268195,  0.05756936, -0.28119732, ...,  0.00228755,\n",
       "         0.14192356, -0.67083617],\n",
       "       [-0.8068462 ,  0.36683893, -0.3355184 , ...,  0.04879162,\n",
       "         0.50513705, -0.67083617],\n",
       "       [ 0.05438794,  0.45118518, -0.3355184 , ...,  0.63784313,\n",
       "         0.34532312, -0.67083617],\n",
       "       ...,\n",
       "       [-0.822505  , -1.32008603, -0.10012704, ..., -0.92779379,\n",
       "        -1.28187331,  1.49067692],\n",
       "       [-1.10436344, -0.85618167,  1.85543193, ..., -0.78828159,\n",
       "        -0.86054566,  1.49067692],\n",
       "       [-0.77552859, -0.74372   , -0.19066218, ..., -0.6797721 ,\n",
       "        -0.67167465,  1.49067692]])"
      ]
     },
     "execution_count": 223,
     "metadata": {},
     "output_type": "execute_result"
    }
   ],
   "source": [
    "X"
   ]
  },
  {
   "cell_type": "code",
   "execution_count": 224,
   "metadata": {},
   "outputs": [],
   "source": [
    "X_train, X_test, y_train, y_test = train_test_split(X, y, test_size=0.2, random_state=1234)"
   ]
  },
  {
   "cell_type": "code",
   "execution_count": 225,
   "metadata": {},
   "outputs": [
    {
     "data": {
      "text/plain": [
       "LogisticRegression(C=100)"
      ]
     },
     "execution_count": 225,
     "metadata": {},
     "output_type": "execute_result"
    }
   ],
   "source": [
    "over_log = LogisticRegression(C=100)\n",
    "over_log.fit(X_train, y_train)"
   ]
  },
  {
   "cell_type": "code",
   "execution_count": 226,
   "metadata": {},
   "outputs": [
    {
     "name": "stdout",
     "output_type": "stream",
     "text": [
      "0.7829509094331228\n",
      "0.7808500444870303\n"
     ]
    }
   ],
   "source": [
    "print(over_log.score(X_train,y_train))\n",
    "print(over_log.score(X_test, y_test))"
   ]
  },
  {
   "cell_type": "code",
   "execution_count": 227,
   "metadata": {},
   "outputs": [],
   "source": [
    "over_log_pred = over_log.predict(X_test)"
   ]
  },
  {
   "cell_type": "code",
   "execution_count": 228,
   "metadata": {},
   "outputs": [
    {
     "data": {
      "text/plain": [
       "0.7771333116792725"
      ]
     },
     "execution_count": 228,
     "metadata": {},
     "output_type": "execute_result"
    }
   ],
   "source": [
    "f1_score(y_test, over_log_pred)"
   ]
  },
  {
   "cell_type": "code",
   "execution_count": 229,
   "metadata": {},
   "outputs": [
    {
     "data": {
      "text/plain": [
       "array([[17479,  4494],\n",
       "       [ 5112, 16748]], dtype=int64)"
      ]
     },
     "execution_count": 229,
     "metadata": {},
     "output_type": "execute_result"
    }
   ],
   "source": [
    "confusion_matrix(y_test,over_log_pred)"
   ]
  },
  {
   "cell_type": "code",
   "execution_count": 230,
   "metadata": {},
   "outputs": [],
   "source": [
    "# knn_class(X,y, \"Over Sample\")"
   ]
  },
  {
   "cell_type": "code",
   "execution_count": 231,
   "metadata": {},
   "outputs": [
    {
     "name": "stdout",
     "output_type": "stream",
     "text": [
      "[20]\ttraining's binary_logloss: 0.465945\tvalid_0's binary_logloss: 0.470164\n",
      "[40]\ttraining's binary_logloss: 0.433717\tvalid_0's binary_logloss: 0.440341\n",
      "[60]\ttraining's binary_logloss: 0.42024\tvalid_0's binary_logloss: 0.429104\n",
      "[80]\ttraining's binary_logloss: 0.411387\tvalid_0's binary_logloss: 0.422056\n",
      "[100]\ttraining's binary_logloss: 0.40495\tvalid_0's binary_logloss: 0.4174\n"
     ]
    },
    {
     "data": {
      "text/plain": [
       "LGBMClassifier(learning_rate=0.09, max_depth=-5, random_state=1234)"
      ]
     },
     "execution_count": 231,
     "metadata": {},
     "output_type": "execute_result"
    }
   ],
   "source": [
    "model = lgb.LGBMClassifier(learning_rate=0.09, max_depth=-5, random_state=1234)\n",
    "model.fit(X_train, y_train,eval_set=[(X_test, y_test), (X_train, y_train)], \n",
    "         verbose=20, eval_metric = 'logloss')"
   ]
  },
  {
   "cell_type": "code",
   "execution_count": 232,
   "metadata": {},
   "outputs": [
    {
     "name": "stdout",
     "output_type": "stream",
     "text": [
      "Training accuracy 0.8109\n",
      "Testing accuracy 0.8033\n"
     ]
    }
   ],
   "source": [
    "print('Training accuracy {:.4f}'.format(model.score(X_train, y_train)))\n",
    "print('Testing accuracy {:.4f}'.format(model.score(X_test, y_test)))"
   ]
  },
  {
   "cell_type": "code",
   "execution_count": 233,
   "metadata": {},
   "outputs": [
    {
     "data": {
      "text/plain": [
       "<matplotlib.axes._subplots.AxesSubplot at 0x20b7e5b7cf8>"
      ]
     },
     "execution_count": 233,
     "metadata": {},
     "output_type": "execute_result"
    },
    {
     "data": {
      "image/png": "[encoded data removed]",
      "text/plain": [
       "<Figure size 432x288 with 1 Axes>"
      ]
     },
     "metadata": {
      "needs_background": "light"
     },
     "output_type": "display_data"
    }
   ],
   "source": [
    "lgb.plot_importance(model)"
   ]
  },
  {
   "cell_type": "code",
   "execution_count": 234,
   "metadata": {},
   "outputs": [
    {
     "data": {
      "text/plain": [
       "array([1, 1, 0, ..., 1, 1, 1], dtype=int64)"
      ]
     },
     "execution_count": 234,
     "metadata": {},
     "output_type": "execute_result"
    }
   ],
   "source": [
    "lgbm_pred = model.predict(X_test)\n",
    "lgbm_pred"
   ]
  },
  {
   "cell_type": "code",
   "execution_count": 235,
   "metadata": {},
   "outputs": [
    {
     "name": "stdout",
     "output_type": "stream",
     "text": [
      "0.803195617438941\n",
      "[[17617  4356]\n",
      " [ 4266 17594]]\n"
     ]
    }
   ],
   "source": [
    "print(f1_score(y_test,lgbm_pred))\n",
    "print(confusion_matrix(y_test, lgbm_pred))"
   ]
  },
  {
   "cell_type": "code",
   "execution_count": 236,
   "metadata": {},
   "outputs": [
    {
     "name": "stderr",
     "output_type": "stream",
     "text": [
      "C:\\Users\\hp\\Anaconda3\\lib\\site-packages\\xgboost\\sklearn.py:1146: UserWarning: The use of label encoder in XGBClassifier is deprecated and will be removed in a future release. To remove this warning, do the following: 1) Pass option use_label_encoder=False when constructing XGBClassifier object; and 2) Encode your labels (y) as integers starting with 0, i.e. 0, 1, 2, ..., [num_class - 1].\n",
      "  warnings.warn(label_encoder_deprecation_msg, UserWarning)\n"
     ]
    },
    {
     "name": "stdout",
     "output_type": "stream",
     "text": [
      "[14:03:39] WARNING: C:/Users/Administrator/workspace/xgboost-win64_release_1.4.0/src/learner.cc:1095: Starting in XGBoost 1.3.0, the default evaluation metric used with the objective 'binary:logistic' was changed from 'error' to 'logloss'. Explicitly set eval_metric if you'd like to restore the old behavior.\n"
     ]
    },
    {
     "data": {
      "text/plain": [
       "array([1, 1, 0, ..., 1, 1, 0], dtype=int64)"
      ]
     },
     "execution_count": 236,
     "metadata": {},
     "output_type": "execute_result"
    }
   ],
   "source": [
    "xgb = XGBClassifier()\n",
    "xgb.fit(X_train, y_train)\n",
    "xgb_pred = xgb.predict(X_test)\n",
    "xgb_pred"
   ]
  },
  {
   "cell_type": "code",
   "execution_count": 237,
   "metadata": {},
   "outputs": [
    {
     "name": "stdout",
     "output_type": "stream",
     "text": [
      "0.8278237857322109\n",
      "0.8284421813552774\n",
      "[[18064  3909]\n",
      " [ 3638 18222]]\n"
     ]
    }
   ],
   "source": [
    "print(accuracy_score(y_test, xgb_pred))\n",
    "print(f1_score(y_test, xgb_pred))\n",
    "print(confusion_matrix(y_test, xgb_pred))"
   ]
  },
  {
   "cell_type": "code",
   "execution_count": 238,
   "metadata": {},
   "outputs": [
    {
     "name": "stdout",
     "output_type": "stream",
     "text": [
      "Learning rate set to 0.093553\n",
      "0:\tlearn: 0.6537252\ttotal: 83.7ms\tremaining: 1m 23s\n",
      "1:\tlearn: 0.6220999\ttotal: 150ms\tremaining: 1m 14s\n",
      "2:\tlearn: 0.5957316\ttotal: 249ms\tremaining: 1m 22s\n",
      "3:\tlearn: 0.5721088\ttotal: 339ms\tremaining: 1m 24s\n",
      "4:\tlearn: 0.5545243\ttotal: 410ms\tremaining: 1m 21s\n",
      "5:\tlearn: 0.5397557\ttotal: 486ms\tremaining: 1m 20s\n",
      "6:\tlearn: 0.5281815\ttotal: 585ms\tremaining: 1m 22s\n",
      "7:\tlearn: 0.5176513\ttotal: 655ms\tremaining: 1m 21s\n",
      "8:\tlearn: 0.5089107\ttotal: 736ms\tremaining: 1m 21s\n",
      "9:\tlearn: 0.5009955\ttotal: 816ms\tremaining: 1m 20s\n",
      "10:\tlearn: 0.4951346\ttotal: 886ms\tremaining: 1m 19s\n",
      "11:\tlearn: 0.4902438\ttotal: 958ms\tremaining: 1m 18s\n",
      "12:\tlearn: 0.4855873\ttotal: 1.04s\tremaining: 1m 18s\n",
      "13:\tlearn: 0.4814911\ttotal: 1.11s\tremaining: 1m 18s\n",
      "14:\tlearn: 0.4783194\ttotal: 1.18s\tremaining: 1m 17s\n",
      "15:\tlearn: 0.4748552\ttotal: 1.27s\tremaining: 1m 18s\n",
      "16:\tlearn: 0.4725592\ttotal: 1.34s\tremaining: 1m 17s\n",
      "17:\tlearn: 0.4701098\ttotal: 1.41s\tremaining: 1m 17s\n",
      "18:\tlearn: 0.4682980\ttotal: 1.5s\tremaining: 1m 17s\n",
      "19:\tlearn: 0.4662265\ttotal: 1.58s\tremaining: 1m 17s\n",
      "20:\tlearn: 0.4644080\ttotal: 1.65s\tremaining: 1m 16s\n",
      "21:\tlearn: 0.4628374\ttotal: 1.74s\tremaining: 1m 17s\n",
      "22:\tlearn: 0.4616049\ttotal: 1.8s\tremaining: 1m 16s\n",
      "23:\tlearn: 0.4603689\ttotal: 1.88s\tremaining: 1m 16s\n",
      "24:\tlearn: 0.4592801\ttotal: 1.97s\tremaining: 1m 16s\n",
      "25:\tlearn: 0.4582005\ttotal: 2.03s\tremaining: 1m 16s\n",
      "26:\tlearn: 0.4572970\ttotal: 2.1s\tremaining: 1m 15s\n",
      "27:\tlearn: 0.4561000\ttotal: 2.19s\tremaining: 1m 16s\n",
      "28:\tlearn: 0.4552607\ttotal: 2.26s\tremaining: 1m 15s\n",
      "29:\tlearn: 0.4545474\ttotal: 2.33s\tremaining: 1m 15s\n",
      "30:\tlearn: 0.4538594\ttotal: 2.41s\tremaining: 1m 15s\n",
      "31:\tlearn: 0.4531443\ttotal: 2.48s\tremaining: 1m 15s\n",
      "32:\tlearn: 0.4524265\ttotal: 2.56s\tremaining: 1m 15s\n",
      "33:\tlearn: 0.4516782\ttotal: 2.65s\tremaining: 1m 15s\n",
      "34:\tlearn: 0.4508976\ttotal: 2.72s\tremaining: 1m 15s\n",
      "35:\tlearn: 0.4503107\ttotal: 2.8s\tremaining: 1m 15s\n",
      "36:\tlearn: 0.4496975\ttotal: 2.9s\tremaining: 1m 15s\n",
      "37:\tlearn: 0.4491325\ttotal: 2.99s\tremaining: 1m 15s\n",
      "38:\tlearn: 0.4486289\ttotal: 3.1s\tremaining: 1m 16s\n",
      "39:\tlearn: 0.4480207\ttotal: 3.19s\tremaining: 1m 16s\n",
      "40:\tlearn: 0.4475149\ttotal: 3.28s\tremaining: 1m 16s\n",
      "41:\tlearn: 0.4468265\ttotal: 3.38s\tremaining: 1m 17s\n",
      "42:\tlearn: 0.4463981\ttotal: 3.47s\tremaining: 1m 17s\n",
      "43:\tlearn: 0.4460070\ttotal: 3.56s\tremaining: 1m 17s\n",
      "44:\tlearn: 0.4456233\ttotal: 3.68s\tremaining: 1m 18s\n",
      "45:\tlearn: 0.4450873\ttotal: 3.75s\tremaining: 1m 17s\n",
      "46:\tlearn: 0.4445709\ttotal: 3.82s\tremaining: 1m 17s\n",
      "47:\tlearn: 0.4440451\ttotal: 3.89s\tremaining: 1m 17s\n",
      "48:\tlearn: 0.4435783\ttotal: 3.98s\tremaining: 1m 17s\n",
      "49:\tlearn: 0.4431565\ttotal: 4.05s\tremaining: 1m 16s\n",
      "50:\tlearn: 0.4427474\ttotal: 4.11s\tremaining: 1m 16s\n",
      "51:\tlearn: 0.4423686\ttotal: 4.2s\tremaining: 1m 16s\n",
      "52:\tlearn: 0.4420306\ttotal: 4.27s\tremaining: 1m 16s\n",
      "53:\tlearn: 0.4416775\ttotal: 4.34s\tremaining: 1m 16s\n",
      "54:\tlearn: 0.4412682\ttotal: 4.43s\tremaining: 1m 16s\n",
      "55:\tlearn: 0.4410281\ttotal: 4.49s\tremaining: 1m 15s\n",
      "56:\tlearn: 0.4407816\ttotal: 4.57s\tremaining: 1m 15s\n",
      "57:\tlearn: 0.4405052\ttotal: 4.66s\tremaining: 1m 15s\n",
      "58:\tlearn: 0.4401855\ttotal: 4.72s\tremaining: 1m 15s\n",
      "59:\tlearn: 0.4399259\ttotal: 4.79s\tremaining: 1m 14s\n",
      "60:\tlearn: 0.4394993\ttotal: 4.88s\tremaining: 1m 15s\n",
      "61:\tlearn: 0.4391961\ttotal: 4.95s\tremaining: 1m 14s\n",
      "62:\tlearn: 0.4388226\ttotal: 5.03s\tremaining: 1m 14s\n",
      "63:\tlearn: 0.4385488\ttotal: 5.11s\tremaining: 1m 14s\n",
      "64:\tlearn: 0.4382373\ttotal: 5.18s\tremaining: 1m 14s\n",
      "65:\tlearn: 0.4379514\ttotal: 5.25s\tremaining: 1m 14s\n",
      "66:\tlearn: 0.4377410\ttotal: 5.33s\tremaining: 1m 14s\n",
      "67:\tlearn: 0.4375459\ttotal: 5.4s\tremaining: 1m 14s\n",
      "68:\tlearn: 0.4372821\ttotal: 5.47s\tremaining: 1m 13s\n",
      "69:\tlearn: 0.4369272\ttotal: 5.57s\tremaining: 1m 13s\n",
      "70:\tlearn: 0.4366586\ttotal: 5.64s\tremaining: 1m 13s\n",
      "71:\tlearn: 0.4365131\ttotal: 5.72s\tremaining: 1m 13s\n",
      "72:\tlearn: 0.4363113\ttotal: 5.8s\tremaining: 1m 13s\n",
      "73:\tlearn: 0.4360576\ttotal: 5.87s\tremaining: 1m 13s\n",
      "74:\tlearn: 0.4357601\ttotal: 5.94s\tremaining: 1m 13s\n",
      "75:\tlearn: 0.4355573\ttotal: 6.03s\tremaining: 1m 13s\n",
      "76:\tlearn: 0.4351542\ttotal: 6.1s\tremaining: 1m 13s\n",
      "77:\tlearn: 0.4348853\ttotal: 6.18s\tremaining: 1m 13s\n",
      "78:\tlearn: 0.4345637\ttotal: 6.26s\tremaining: 1m 12s\n",
      "79:\tlearn: 0.4342965\ttotal: 6.33s\tremaining: 1m 12s\n",
      "80:\tlearn: 0.4341109\ttotal: 6.42s\tremaining: 1m 12s\n",
      "81:\tlearn: 0.4338866\ttotal: 6.5s\tremaining: 1m 12s\n",
      "82:\tlearn: 0.4336313\ttotal: 6.57s\tremaining: 1m 12s\n",
      "83:\tlearn: 0.4333664\ttotal: 6.64s\tremaining: 1m 12s\n",
      "84:\tlearn: 0.4329907\ttotal: 6.74s\tremaining: 1m 12s\n",
      "85:\tlearn: 0.4328166\ttotal: 6.8s\tremaining: 1m 12s\n",
      "86:\tlearn: 0.4326608\ttotal: 6.87s\tremaining: 1m 12s\n",
      "87:\tlearn: 0.4323123\ttotal: 6.96s\tremaining: 1m 12s\n",
      "88:\tlearn: 0.4320725\ttotal: 7.02s\tremaining: 1m 11s\n",
      "89:\tlearn: 0.4319129\ttotal: 7.09s\tremaining: 1m 11s\n",
      "90:\tlearn: 0.4316164\ttotal: 7.19s\tremaining: 1m 11s\n",
      "91:\tlearn: 0.4313601\ttotal: 7.25s\tremaining: 1m 11s\n",
      "92:\tlearn: 0.4310956\ttotal: 7.33s\tremaining: 1m 11s\n",
      "93:\tlearn: 0.4309449\ttotal: 7.41s\tremaining: 1m 11s\n",
      "94:\tlearn: 0.4306937\ttotal: 7.48s\tremaining: 1m 11s\n",
      "95:\tlearn: 0.4304554\ttotal: 7.55s\tremaining: 1m 11s\n",
      "96:\tlearn: 0.4302536\ttotal: 7.64s\tremaining: 1m 11s\n",
      "97:\tlearn: 0.4300030\ttotal: 7.72s\tremaining: 1m 11s\n",
      "98:\tlearn: 0.4297720\ttotal: 7.82s\tremaining: 1m 11s\n",
      "99:\tlearn: 0.4295120\ttotal: 7.92s\tremaining: 1m 11s\n",
      "100:\tlearn: 0.4291739\ttotal: 8.02s\tremaining: 1m 11s\n",
      "101:\tlearn: 0.4288801\ttotal: 8.12s\tremaining: 1m 11s\n",
      "102:\tlearn: 0.4286950\ttotal: 8.19s\tremaining: 1m 11s\n",
      "103:\tlearn: 0.4284900\ttotal: 8.26s\tremaining: 1m 11s\n",
      "104:\tlearn: 0.4282400\ttotal: 8.33s\tremaining: 1m 10s\n",
      "105:\tlearn: 0.4279975\ttotal: 8.42s\tremaining: 1m 11s\n",
      "106:\tlearn: 0.4277907\ttotal: 8.49s\tremaining: 1m 10s\n",
      "107:\tlearn: 0.4276554\ttotal: 8.57s\tremaining: 1m 10s\n",
      "108:\tlearn: 0.4274151\ttotal: 8.66s\tremaining: 1m 10s\n",
      "109:\tlearn: 0.4271582\ttotal: 8.76s\tremaining: 1m 10s\n",
      "110:\tlearn: 0.4269623\ttotal: 8.85s\tremaining: 1m 10s\n",
      "111:\tlearn: 0.4268564\ttotal: 8.91s\tremaining: 1m 10s\n",
      "112:\tlearn: 0.4266087\ttotal: 8.98s\tremaining: 1m 10s\n",
      "113:\tlearn: 0.4263792\ttotal: 9.05s\tremaining: 1m 10s\n",
      "114:\tlearn: 0.4261582\ttotal: 9.14s\tremaining: 1m 10s\n",
      "115:\tlearn: 0.4260020\ttotal: 9.21s\tremaining: 1m 10s\n",
      "116:\tlearn: 0.4257728\ttotal: 9.28s\tremaining: 1m 10s\n",
      "117:\tlearn: 0.4256273\ttotal: 9.35s\tremaining: 1m 9s\n",
      "118:\tlearn: 0.4254265\ttotal: 9.44s\tremaining: 1m 9s\n",
      "119:\tlearn: 0.4252362\ttotal: 9.51s\tremaining: 1m 9s\n",
      "120:\tlearn: 0.4250178\ttotal: 9.57s\tremaining: 1m 9s\n",
      "121:\tlearn: 0.4249071\ttotal: 9.63s\tremaining: 1m 9s\n",
      "122:\tlearn: 0.4246928\ttotal: 9.72s\tremaining: 1m 9s\n",
      "123:\tlearn: 0.4244951\ttotal: 9.79s\tremaining: 1m 9s\n",
      "124:\tlearn: 0.4243514\ttotal: 9.86s\tremaining: 1m 9s\n",
      "125:\tlearn: 0.4240822\ttotal: 9.93s\tremaining: 1m 8s\n",
      "126:\tlearn: 0.4239075\ttotal: 10s\tremaining: 1m 8s\n",
      "127:\tlearn: 0.4236746\ttotal: 10.1s\tremaining: 1m 8s\n",
      "128:\tlearn: 0.4234781\ttotal: 10.2s\tremaining: 1m 8s\n",
      "129:\tlearn: 0.4232718\ttotal: 10.2s\tremaining: 1m 8s\n",
      "130:\tlearn: 0.4231187\ttotal: 10.3s\tremaining: 1m 8s\n",
      "131:\tlearn: 0.4228927\ttotal: 10.4s\tremaining: 1m 8s\n",
      "132:\tlearn: 0.4226627\ttotal: 10.4s\tremaining: 1m 8s\n",
      "133:\tlearn: 0.4225131\ttotal: 10.5s\tremaining: 1m 7s\n",
      "134:\tlearn: 0.4223808\ttotal: 10.6s\tremaining: 1m 7s\n",
      "135:\tlearn: 0.4222036\ttotal: 10.7s\tremaining: 1m 7s\n",
      "136:\tlearn: 0.4220249\ttotal: 10.7s\tremaining: 1m 7s\n",
      "137:\tlearn: 0.4219032\ttotal: 10.8s\tremaining: 1m 7s\n",
      "138:\tlearn: 0.4217390\ttotal: 10.9s\tremaining: 1m 7s\n",
      "139:\tlearn: 0.4215860\ttotal: 10.9s\tremaining: 1m 7s\n",
      "140:\tlearn: 0.4213169\ttotal: 11s\tremaining: 1m 7s\n",
      "141:\tlearn: 0.4210414\ttotal: 11.1s\tremaining: 1m 6s\n",
      "142:\tlearn: 0.4208583\ttotal: 11.2s\tremaining: 1m 6s\n",
      "143:\tlearn: 0.4206581\ttotal: 11.2s\tremaining: 1m 6s\n",
      "144:\tlearn: 0.4204735\ttotal: 11.3s\tremaining: 1m 6s\n",
      "145:\tlearn: 0.4202209\ttotal: 11.4s\tremaining: 1m 6s\n",
      "146:\tlearn: 0.4200299\ttotal: 11.5s\tremaining: 1m 6s\n",
      "147:\tlearn: 0.4198441\ttotal: 11.5s\tremaining: 1m 6s\n",
      "148:\tlearn: 0.4196889\ttotal: 11.6s\tremaining: 1m 6s\n",
      "149:\tlearn: 0.4195462\ttotal: 11.7s\tremaining: 1m 6s\n",
      "150:\tlearn: 0.4194241\ttotal: 11.7s\tremaining: 1m 6s\n",
      "151:\tlearn: 0.4192620\ttotal: 11.8s\tremaining: 1m 5s\n",
      "152:\tlearn: 0.4190866\ttotal: 11.9s\tremaining: 1m 5s\n",
      "153:\tlearn: 0.4189472\ttotal: 12s\tremaining: 1m 5s\n",
      "154:\tlearn: 0.4187469\ttotal: 12s\tremaining: 1m 5s\n",
      "155:\tlearn: 0.4185384\ttotal: 12.1s\tremaining: 1m 5s\n",
      "156:\tlearn: 0.4183423\ttotal: 12.2s\tremaining: 1m 5s\n",
      "157:\tlearn: 0.4181464\ttotal: 12.3s\tremaining: 1m 5s\n",
      "158:\tlearn: 0.4179763\ttotal: 12.3s\tremaining: 1m 5s\n"
     ]
    },
    {
     "name": "stdout",
     "output_type": "stream",
     "text": [
      "159:\tlearn: 0.4178037\ttotal: 12.4s\tremaining: 1m 5s\n",
      "160:\tlearn: 0.4176836\ttotal: 12.5s\tremaining: 1m 5s\n",
      "161:\tlearn: 0.4174761\ttotal: 12.6s\tremaining: 1m 4s\n",
      "162:\tlearn: 0.4172725\ttotal: 12.6s\tremaining: 1m 4s\n",
      "163:\tlearn: 0.4171030\ttotal: 12.7s\tremaining: 1m 4s\n",
      "164:\tlearn: 0.4169661\ttotal: 12.8s\tremaining: 1m 4s\n",
      "165:\tlearn: 0.4168255\ttotal: 12.8s\tremaining: 1m 4s\n",
      "166:\tlearn: 0.4166868\ttotal: 12.9s\tremaining: 1m 4s\n",
      "167:\tlearn: 0.4165111\ttotal: 13s\tremaining: 1m 4s\n",
      "168:\tlearn: 0.4163106\ttotal: 13.1s\tremaining: 1m 4s\n",
      "169:\tlearn: 0.4161804\ttotal: 13.1s\tremaining: 1m 4s\n",
      "170:\tlearn: 0.4159913\ttotal: 13.2s\tremaining: 1m 4s\n",
      "171:\tlearn: 0.4158322\ttotal: 13.3s\tremaining: 1m 3s\n",
      "172:\tlearn: 0.4156855\ttotal: 13.4s\tremaining: 1m 3s\n",
      "173:\tlearn: 0.4155007\ttotal: 13.5s\tremaining: 1m 3s\n",
      "174:\tlearn: 0.4153399\ttotal: 13.6s\tremaining: 1m 3s\n",
      "175:\tlearn: 0.4152056\ttotal: 13.6s\tremaining: 1m 3s\n",
      "176:\tlearn: 0.4150636\ttotal: 13.7s\tremaining: 1m 3s\n",
      "177:\tlearn: 0.4149144\ttotal: 13.8s\tremaining: 1m 3s\n",
      "178:\tlearn: 0.4147419\ttotal: 13.9s\tremaining: 1m 3s\n",
      "179:\tlearn: 0.4145628\ttotal: 14s\tremaining: 1m 3s\n",
      "180:\tlearn: 0.4143733\ttotal: 14.1s\tremaining: 1m 3s\n",
      "181:\tlearn: 0.4142411\ttotal: 14.2s\tremaining: 1m 3s\n",
      "182:\tlearn: 0.4140727\ttotal: 14.3s\tremaining: 1m 3s\n",
      "183:\tlearn: 0.4139311\ttotal: 14.4s\tremaining: 1m 3s\n",
      "184:\tlearn: 0.4137995\ttotal: 14.5s\tremaining: 1m 3s\n",
      "185:\tlearn: 0.4135934\ttotal: 14.6s\tremaining: 1m 3s\n",
      "186:\tlearn: 0.4134336\ttotal: 14.7s\tremaining: 1m 3s\n",
      "187:\tlearn: 0.4132715\ttotal: 14.8s\tremaining: 1m 3s\n",
      "188:\tlearn: 0.4131320\ttotal: 14.8s\tremaining: 1m 3s\n",
      "189:\tlearn: 0.4130023\ttotal: 14.9s\tremaining: 1m 3s\n",
      "190:\tlearn: 0.4128842\ttotal: 15s\tremaining: 1m 3s\n",
      "191:\tlearn: 0.4127334\ttotal: 15.1s\tremaining: 1m 3s\n",
      "192:\tlearn: 0.4126005\ttotal: 15.2s\tremaining: 1m 3s\n",
      "193:\tlearn: 0.4123907\ttotal: 15.3s\tremaining: 1m 3s\n",
      "194:\tlearn: 0.4122211\ttotal: 15.4s\tremaining: 1m 3s\n",
      "195:\tlearn: 0.4120566\ttotal: 15.4s\tremaining: 1m 3s\n",
      "196:\tlearn: 0.4119020\ttotal: 15.5s\tremaining: 1m 3s\n",
      "197:\tlearn: 0.4117439\ttotal: 15.6s\tremaining: 1m 3s\n",
      "198:\tlearn: 0.4116281\ttotal: 15.7s\tremaining: 1m 3s\n",
      "199:\tlearn: 0.4114897\ttotal: 15.8s\tremaining: 1m 3s\n",
      "200:\tlearn: 0.4113018\ttotal: 15.9s\tremaining: 1m 3s\n",
      "201:\tlearn: 0.4111186\ttotal: 16s\tremaining: 1m 3s\n",
      "202:\tlearn: 0.4109881\ttotal: 16.1s\tremaining: 1m 3s\n",
      "203:\tlearn: 0.4108304\ttotal: 16.2s\tremaining: 1m 3s\n",
      "204:\tlearn: 0.4106143\ttotal: 16.3s\tremaining: 1m 3s\n",
      "205:\tlearn: 0.4104960\ttotal: 16.4s\tremaining: 1m 3s\n",
      "206:\tlearn: 0.4103575\ttotal: 16.4s\tremaining: 1m 2s\n",
      "207:\tlearn: 0.4102049\ttotal: 16.5s\tremaining: 1m 2s\n",
      "208:\tlearn: 0.4100389\ttotal: 16.6s\tremaining: 1m 2s\n",
      "209:\tlearn: 0.4098715\ttotal: 16.6s\tremaining: 1m 2s\n",
      "210:\tlearn: 0.4097341\ttotal: 16.7s\tremaining: 1m 2s\n",
      "211:\tlearn: 0.4096060\ttotal: 16.8s\tremaining: 1m 2s\n",
      "212:\tlearn: 0.4094532\ttotal: 16.9s\tremaining: 1m 2s\n",
      "213:\tlearn: 0.4093047\ttotal: 16.9s\tremaining: 1m 2s\n",
      "214:\tlearn: 0.4091357\ttotal: 17s\tremaining: 1m 2s\n",
      "215:\tlearn: 0.4089702\ttotal: 17.1s\tremaining: 1m 2s\n",
      "216:\tlearn: 0.4088247\ttotal: 17.2s\tremaining: 1m 1s\n",
      "217:\tlearn: 0.4086838\ttotal: 17.2s\tremaining: 1m 1s\n",
      "218:\tlearn: 0.4084892\ttotal: 17.3s\tremaining: 1m 1s\n",
      "219:\tlearn: 0.4083450\ttotal: 17.4s\tremaining: 1m 1s\n",
      "220:\tlearn: 0.4081857\ttotal: 17.5s\tremaining: 1m 1s\n",
      "221:\tlearn: 0.4080954\ttotal: 17.5s\tremaining: 1m 1s\n",
      "222:\tlearn: 0.4079787\ttotal: 17.6s\tremaining: 1m 1s\n",
      "223:\tlearn: 0.4078459\ttotal: 17.7s\tremaining: 1m 1s\n",
      "224:\tlearn: 0.4077728\ttotal: 17.7s\tremaining: 1m 1s\n",
      "225:\tlearn: 0.4076463\ttotal: 17.8s\tremaining: 1m\n",
      "226:\tlearn: 0.4075063\ttotal: 17.9s\tremaining: 1m\n",
      "227:\tlearn: 0.4073516\ttotal: 18s\tremaining: 1m\n",
      "228:\tlearn: 0.4072044\ttotal: 18s\tremaining: 1m\n",
      "229:\tlearn: 0.4070845\ttotal: 18.1s\tremaining: 1m\n",
      "230:\tlearn: 0.4069930\ttotal: 18.2s\tremaining: 1m\n",
      "231:\tlearn: 0.4068536\ttotal: 18.3s\tremaining: 1m\n",
      "232:\tlearn: 0.4066700\ttotal: 18.3s\tremaining: 1m\n",
      "233:\tlearn: 0.4065112\ttotal: 18.4s\tremaining: 1m\n",
      "234:\tlearn: 0.4063717\ttotal: 18.5s\tremaining: 1m\n",
      "235:\tlearn: 0.4062255\ttotal: 18.5s\tremaining: 1m\n",
      "236:\tlearn: 0.4061217\ttotal: 18.6s\tremaining: 59.9s\n",
      "237:\tlearn: 0.4059746\ttotal: 18.7s\tremaining: 59.8s\n",
      "238:\tlearn: 0.4058663\ttotal: 18.7s\tremaining: 59.7s\n",
      "239:\tlearn: 0.4057100\ttotal: 18.8s\tremaining: 59.6s\n",
      "240:\tlearn: 0.4055547\ttotal: 18.9s\tremaining: 59.5s\n",
      "241:\tlearn: 0.4054418\ttotal: 19s\tremaining: 59.4s\n",
      "242:\tlearn: 0.4053450\ttotal: 19s\tremaining: 59.3s\n",
      "243:\tlearn: 0.4052248\ttotal: 19.1s\tremaining: 59.2s\n",
      "244:\tlearn: 0.4051478\ttotal: 19.2s\tremaining: 59.1s\n",
      "245:\tlearn: 0.4050057\ttotal: 19.3s\tremaining: 59s\n",
      "246:\tlearn: 0.4048599\ttotal: 19.3s\tremaining: 58.9s\n",
      "247:\tlearn: 0.4047170\ttotal: 19.4s\tremaining: 58.8s\n",
      "248:\tlearn: 0.4045967\ttotal: 19.5s\tremaining: 58.7s\n",
      "249:\tlearn: 0.4044759\ttotal: 19.5s\tremaining: 58.6s\n",
      "250:\tlearn: 0.4043878\ttotal: 19.6s\tremaining: 58.5s\n",
      "251:\tlearn: 0.4042772\ttotal: 19.7s\tremaining: 58.4s\n",
      "252:\tlearn: 0.4041208\ttotal: 19.7s\tremaining: 58.3s\n",
      "253:\tlearn: 0.4039926\ttotal: 19.8s\tremaining: 58.2s\n",
      "254:\tlearn: 0.4038388\ttotal: 19.9s\tremaining: 58.1s\n",
      "255:\tlearn: 0.4037491\ttotal: 19.9s\tremaining: 58s\n",
      "256:\tlearn: 0.4036350\ttotal: 20s\tremaining: 57.9s\n",
      "257:\tlearn: 0.4034994\ttotal: 20.1s\tremaining: 57.8s\n",
      "258:\tlearn: 0.4034136\ttotal: 20.2s\tremaining: 57.7s\n",
      "259:\tlearn: 0.4032956\ttotal: 20.3s\tremaining: 57.6s\n",
      "260:\tlearn: 0.4031530\ttotal: 20.3s\tremaining: 57.6s\n",
      "261:\tlearn: 0.4030314\ttotal: 20.4s\tremaining: 57.5s\n",
      "262:\tlearn: 0.4029309\ttotal: 20.5s\tremaining: 57.4s\n",
      "263:\tlearn: 0.4028108\ttotal: 20.5s\tremaining: 57.3s\n",
      "264:\tlearn: 0.4026638\ttotal: 20.6s\tremaining: 57.1s\n",
      "265:\tlearn: 0.4024814\ttotal: 20.7s\tremaining: 57s\n",
      "266:\tlearn: 0.4023286\ttotal: 20.7s\tremaining: 56.9s\n",
      "267:\tlearn: 0.4021523\ttotal: 20.8s\tremaining: 56.7s\n",
      "268:\tlearn: 0.4020338\ttotal: 20.8s\tremaining: 56.6s\n",
      "269:\tlearn: 0.4019098\ttotal: 20.9s\tremaining: 56.4s\n",
      "270:\tlearn: 0.4018408\ttotal: 20.9s\tremaining: 56.3s\n",
      "271:\tlearn: 0.4017295\ttotal: 21s\tremaining: 56.1s\n",
      "272:\tlearn: 0.4015964\ttotal: 21s\tremaining: 56s\n",
      "273:\tlearn: 0.4015077\ttotal: 21.1s\tremaining: 55.9s\n",
      "274:\tlearn: 0.4013663\ttotal: 21.1s\tremaining: 55.7s\n",
      "275:\tlearn: 0.4012568\ttotal: 21.2s\tremaining: 55.5s\n",
      "276:\tlearn: 0.4010912\ttotal: 21.2s\tremaining: 55.4s\n",
      "277:\tlearn: 0.4009537\ttotal: 21.3s\tremaining: 55.3s\n",
      "278:\tlearn: 0.4008703\ttotal: 21.3s\tremaining: 55.1s\n",
      "279:\tlearn: 0.4007359\ttotal: 21.4s\tremaining: 55s\n",
      "280:\tlearn: 0.4006082\ttotal: 21.4s\tremaining: 54.9s\n",
      "281:\tlearn: 0.4004880\ttotal: 21.5s\tremaining: 54.7s\n",
      "282:\tlearn: 0.4003467\ttotal: 21.6s\tremaining: 54.6s\n",
      "283:\tlearn: 0.4002104\ttotal: 21.6s\tremaining: 54.5s\n",
      "284:\tlearn: 0.4000852\ttotal: 21.6s\tremaining: 54.3s\n",
      "285:\tlearn: 0.3999547\ttotal: 21.7s\tremaining: 54.2s\n",
      "286:\tlearn: 0.3998255\ttotal: 21.8s\tremaining: 54.1s\n",
      "287:\tlearn: 0.3996888\ttotal: 21.8s\tremaining: 53.9s\n",
      "288:\tlearn: 0.3995703\ttotal: 21.9s\tremaining: 53.8s\n",
      "289:\tlearn: 0.3994865\ttotal: 21.9s\tremaining: 53.6s\n",
      "290:\tlearn: 0.3993224\ttotal: 22s\tremaining: 53.5s\n",
      "291:\tlearn: 0.3992306\ttotal: 22s\tremaining: 53.4s\n",
      "292:\tlearn: 0.3990613\ttotal: 22.1s\tremaining: 53.3s\n",
      "293:\tlearn: 0.3989360\ttotal: 22.1s\tremaining: 53.1s\n",
      "294:\tlearn: 0.3988313\ttotal: 22.2s\tremaining: 53s\n",
      "295:\tlearn: 0.3987014\ttotal: 22.2s\tremaining: 52.9s\n",
      "296:\tlearn: 0.3986191\ttotal: 22.3s\tremaining: 52.8s\n",
      "297:\tlearn: 0.3985265\ttotal: 22.3s\tremaining: 52.6s\n",
      "298:\tlearn: 0.3984055\ttotal: 22.4s\tremaining: 52.5s\n",
      "299:\tlearn: 0.3983034\ttotal: 22.4s\tremaining: 52.4s\n",
      "300:\tlearn: 0.3981678\ttotal: 22.5s\tremaining: 52.2s\n",
      "301:\tlearn: 0.3980109\ttotal: 22.6s\tremaining: 52.1s\n",
      "302:\tlearn: 0.3978964\ttotal: 22.6s\tremaining: 52s\n",
      "303:\tlearn: 0.3977719\ttotal: 22.7s\tremaining: 51.9s\n",
      "304:\tlearn: 0.3976292\ttotal: 22.7s\tremaining: 51.7s\n",
      "305:\tlearn: 0.3975342\ttotal: 22.8s\tremaining: 51.6s\n",
      "306:\tlearn: 0.3974153\ttotal: 22.8s\tremaining: 51.5s\n",
      "307:\tlearn: 0.3972624\ttotal: 22.9s\tremaining: 51.4s\n",
      "308:\tlearn: 0.3971313\ttotal: 22.9s\tremaining: 51.3s\n",
      "309:\tlearn: 0.3970191\ttotal: 23s\tremaining: 51.1s\n",
      "310:\tlearn: 0.3969149\ttotal: 23s\tremaining: 51s\n",
      "311:\tlearn: 0.3968076\ttotal: 23.1s\tremaining: 50.9s\n",
      "312:\tlearn: 0.3967015\ttotal: 23.1s\tremaining: 50.8s\n",
      "313:\tlearn: 0.3966317\ttotal: 23.2s\tremaining: 50.7s\n",
      "314:\tlearn: 0.3965565\ttotal: 23.2s\tremaining: 50.5s\n",
      "315:\tlearn: 0.3964940\ttotal: 23.3s\tremaining: 50.4s\n",
      "316:\tlearn: 0.3964007\ttotal: 23.3s\tremaining: 50.3s\n",
      "317:\tlearn: 0.3962853\ttotal: 23.4s\tremaining: 50.2s\n",
      "318:\tlearn: 0.3961739\ttotal: 23.4s\tremaining: 50.1s\n",
      "319:\tlearn: 0.3960520\ttotal: 23.5s\tremaining: 49.9s\n",
      "320:\tlearn: 0.3959756\ttotal: 23.6s\tremaining: 49.8s\n"
     ]
    },
    {
     "name": "stdout",
     "output_type": "stream",
     "text": [
      "321:\tlearn: 0.3958508\ttotal: 23.6s\tremaining: 49.7s\n",
      "322:\tlearn: 0.3956966\ttotal: 23.7s\tremaining: 49.6s\n",
      "323:\tlearn: 0.3955862\ttotal: 23.7s\tremaining: 49.5s\n",
      "324:\tlearn: 0.3954676\ttotal: 23.8s\tremaining: 49.4s\n",
      "325:\tlearn: 0.3953318\ttotal: 23.8s\tremaining: 49.2s\n",
      "326:\tlearn: 0.3952235\ttotal: 23.9s\tremaining: 49.1s\n",
      "327:\tlearn: 0.3951008\ttotal: 23.9s\tremaining: 49s\n",
      "328:\tlearn: 0.3950379\ttotal: 24s\tremaining: 48.9s\n",
      "329:\tlearn: 0.3948859\ttotal: 24s\tremaining: 48.8s\n",
      "330:\tlearn: 0.3947695\ttotal: 24.1s\tremaining: 48.7s\n",
      "331:\tlearn: 0.3946927\ttotal: 24.1s\tremaining: 48.6s\n",
      "332:\tlearn: 0.3946070\ttotal: 24.2s\tremaining: 48.4s\n",
      "333:\tlearn: 0.3945187\ttotal: 24.2s\tremaining: 48.3s\n",
      "334:\tlearn: 0.3944196\ttotal: 24.3s\tremaining: 48.2s\n",
      "335:\tlearn: 0.3942700\ttotal: 24.4s\tremaining: 48.1s\n",
      "336:\tlearn: 0.3941766\ttotal: 24.4s\tremaining: 48s\n",
      "337:\tlearn: 0.3940753\ttotal: 24.4s\tremaining: 47.9s\n",
      "338:\tlearn: 0.3939771\ttotal: 24.5s\tremaining: 47.8s\n",
      "339:\tlearn: 0.3938430\ttotal: 24.6s\tremaining: 47.7s\n",
      "340:\tlearn: 0.3937354\ttotal: 24.6s\tremaining: 47.6s\n",
      "341:\tlearn: 0.3936236\ttotal: 24.7s\tremaining: 47.5s\n",
      "342:\tlearn: 0.3935224\ttotal: 24.7s\tremaining: 47.3s\n",
      "343:\tlearn: 0.3934126\ttotal: 24.8s\tremaining: 47.2s\n",
      "344:\tlearn: 0.3932973\ttotal: 24.8s\tremaining: 47.1s\n",
      "345:\tlearn: 0.3932128\ttotal: 24.9s\tremaining: 47s\n",
      "346:\tlearn: 0.3930963\ttotal: 24.9s\tremaining: 46.9s\n",
      "347:\tlearn: 0.3929802\ttotal: 25s\tremaining: 46.8s\n",
      "348:\tlearn: 0.3928845\ttotal: 25s\tremaining: 46.7s\n",
      "349:\tlearn: 0.3927272\ttotal: 25.1s\tremaining: 46.5s\n",
      "350:\tlearn: 0.3926194\ttotal: 25.1s\tremaining: 46.4s\n",
      "351:\tlearn: 0.3925315\ttotal: 25.2s\tremaining: 46.3s\n",
      "352:\tlearn: 0.3924428\ttotal: 25.2s\tremaining: 46.2s\n",
      "353:\tlearn: 0.3923580\ttotal: 25.3s\tremaining: 46.1s\n",
      "354:\tlearn: 0.3922225\ttotal: 25.3s\tremaining: 46s\n",
      "355:\tlearn: 0.3920796\ttotal: 25.4s\tremaining: 45.9s\n",
      "356:\tlearn: 0.3919758\ttotal: 25.4s\tremaining: 45.8s\n",
      "357:\tlearn: 0.3919147\ttotal: 25.5s\tremaining: 45.7s\n",
      "358:\tlearn: 0.3918273\ttotal: 25.5s\tremaining: 45.6s\n",
      "359:\tlearn: 0.3917478\ttotal: 25.6s\tremaining: 45.5s\n",
      "360:\tlearn: 0.3916585\ttotal: 25.6s\tremaining: 45.4s\n",
      "361:\tlearn: 0.3915497\ttotal: 25.7s\tremaining: 45.3s\n",
      "362:\tlearn: 0.3914845\ttotal: 25.7s\tremaining: 45.1s\n",
      "363:\tlearn: 0.3914134\ttotal: 25.8s\tremaining: 45s\n",
      "364:\tlearn: 0.3912455\ttotal: 25.8s\tremaining: 44.9s\n",
      "365:\tlearn: 0.3911493\ttotal: 25.9s\tremaining: 44.8s\n",
      "366:\tlearn: 0.3909993\ttotal: 25.9s\tremaining: 44.7s\n",
      "367:\tlearn: 0.3908991\ttotal: 26s\tremaining: 44.6s\n",
      "368:\tlearn: 0.3908026\ttotal: 26s\tremaining: 44.5s\n",
      "369:\tlearn: 0.3907118\ttotal: 26.1s\tremaining: 44.4s\n",
      "370:\tlearn: 0.3906349\ttotal: 26.1s\tremaining: 44.3s\n",
      "371:\tlearn: 0.3905271\ttotal: 26.2s\tremaining: 44.2s\n",
      "372:\tlearn: 0.3904365\ttotal: 26.2s\tremaining: 44.1s\n",
      "373:\tlearn: 0.3903007\ttotal: 26.3s\tremaining: 44s\n",
      "374:\tlearn: 0.3902136\ttotal: 26.4s\tremaining: 43.9s\n",
      "375:\tlearn: 0.3901178\ttotal: 26.4s\tremaining: 43.8s\n",
      "376:\tlearn: 0.3899973\ttotal: 26.5s\tremaining: 43.7s\n",
      "377:\tlearn: 0.3898899\ttotal: 26.5s\tremaining: 43.6s\n",
      "378:\tlearn: 0.3897938\ttotal: 26.6s\tremaining: 43.5s\n",
      "379:\tlearn: 0.3896778\ttotal: 26.6s\tremaining: 43.4s\n",
      "380:\tlearn: 0.3896210\ttotal: 26.7s\tremaining: 43.3s\n",
      "381:\tlearn: 0.3895245\ttotal: 26.7s\tremaining: 43.2s\n",
      "382:\tlearn: 0.3894537\ttotal: 26.8s\tremaining: 43.1s\n",
      "383:\tlearn: 0.3893686\ttotal: 26.8s\tremaining: 43s\n",
      "384:\tlearn: 0.3892993\ttotal: 26.9s\tremaining: 42.9s\n",
      "385:\tlearn: 0.3891914\ttotal: 26.9s\tremaining: 42.8s\n",
      "386:\tlearn: 0.3890667\ttotal: 27s\tremaining: 42.7s\n",
      "387:\tlearn: 0.3890024\ttotal: 27s\tremaining: 42.6s\n",
      "388:\tlearn: 0.3888896\ttotal: 27.1s\tremaining: 42.5s\n",
      "389:\tlearn: 0.3887784\ttotal: 27.1s\tremaining: 42.4s\n",
      "390:\tlearn: 0.3887001\ttotal: 27.2s\tremaining: 42.3s\n",
      "391:\tlearn: 0.3885814\ttotal: 27.2s\tremaining: 42.2s\n",
      "392:\tlearn: 0.3884379\ttotal: 27.3s\tremaining: 42.1s\n",
      "393:\tlearn: 0.3883176\ttotal: 27.3s\tremaining: 42s\n",
      "394:\tlearn: 0.3882483\ttotal: 27.4s\tremaining: 42s\n",
      "395:\tlearn: 0.3881674\ttotal: 27.4s\tremaining: 41.9s\n",
      "396:\tlearn: 0.3880687\ttotal: 27.5s\tremaining: 41.8s\n",
      "397:\tlearn: 0.3879551\ttotal: 27.5s\tremaining: 41.7s\n",
      "398:\tlearn: 0.3878343\ttotal: 27.6s\tremaining: 41.5s\n",
      "399:\tlearn: 0.3877641\ttotal: 27.6s\tremaining: 41.5s\n",
      "400:\tlearn: 0.3877140\ttotal: 27.7s\tremaining: 41.4s\n",
      "401:\tlearn: 0.3875675\ttotal: 27.7s\tremaining: 41.3s\n",
      "402:\tlearn: 0.3875089\ttotal: 27.8s\tremaining: 41.2s\n",
      "403:\tlearn: 0.3874091\ttotal: 27.8s\tremaining: 41.1s\n",
      "404:\tlearn: 0.3873241\ttotal: 27.9s\tremaining: 41s\n",
      "405:\tlearn: 0.3871996\ttotal: 27.9s\tremaining: 40.9s\n",
      "406:\tlearn: 0.3871222\ttotal: 28s\tremaining: 40.8s\n",
      "407:\tlearn: 0.3870370\ttotal: 28s\tremaining: 40.7s\n",
      "408:\tlearn: 0.3869201\ttotal: 28.1s\tremaining: 40.6s\n",
      "409:\tlearn: 0.3867643\ttotal: 28.2s\tremaining: 40.5s\n",
      "410:\tlearn: 0.3866879\ttotal: 28.2s\tremaining: 40.4s\n",
      "411:\tlearn: 0.3866153\ttotal: 28.3s\tremaining: 40.3s\n",
      "412:\tlearn: 0.3865126\ttotal: 28.3s\tremaining: 40.2s\n",
      "413:\tlearn: 0.3863856\ttotal: 28.4s\tremaining: 40.1s\n",
      "414:\tlearn: 0.3863267\ttotal: 28.4s\tremaining: 40.1s\n",
      "415:\tlearn: 0.3862277\ttotal: 28.5s\tremaining: 40s\n",
      "416:\tlearn: 0.3860996\ttotal: 28.5s\tremaining: 39.9s\n",
      "417:\tlearn: 0.3860179\ttotal: 28.6s\tremaining: 39.8s\n",
      "418:\tlearn: 0.3859634\ttotal: 28.6s\tremaining: 39.7s\n",
      "419:\tlearn: 0.3859049\ttotal: 28.7s\tremaining: 39.6s\n",
      "420:\tlearn: 0.3858134\ttotal: 28.7s\tremaining: 39.5s\n",
      "421:\tlearn: 0.3857362\ttotal: 28.8s\tremaining: 39.4s\n",
      "422:\tlearn: 0.3856316\ttotal: 28.8s\tremaining: 39.3s\n",
      "423:\tlearn: 0.3855013\ttotal: 28.9s\tremaining: 39.3s\n",
      "424:\tlearn: 0.3854113\ttotal: 28.9s\tremaining: 39.2s\n",
      "425:\tlearn: 0.3853335\ttotal: 29s\tremaining: 39.1s\n",
      "426:\tlearn: 0.3852242\ttotal: 29s\tremaining: 39s\n",
      "427:\tlearn: 0.3851479\ttotal: 29.1s\tremaining: 38.9s\n",
      "428:\tlearn: 0.3850742\ttotal: 29.2s\tremaining: 38.8s\n",
      "429:\tlearn: 0.3849691\ttotal: 29.2s\tremaining: 38.8s\n",
      "430:\tlearn: 0.3848779\ttotal: 29.3s\tremaining: 38.7s\n",
      "431:\tlearn: 0.3847974\ttotal: 29.4s\tremaining: 38.6s\n",
      "432:\tlearn: 0.3846819\ttotal: 29.4s\tremaining: 38.5s\n",
      "433:\tlearn: 0.3846053\ttotal: 29.5s\tremaining: 38.5s\n",
      "434:\tlearn: 0.3845455\ttotal: 29.6s\tremaining: 38.4s\n",
      "435:\tlearn: 0.3844753\ttotal: 29.7s\tremaining: 38.4s\n",
      "436:\tlearn: 0.3844051\ttotal: 29.8s\tremaining: 38.4s\n",
      "437:\tlearn: 0.3842739\ttotal: 29.9s\tremaining: 38.3s\n",
      "438:\tlearn: 0.3841698\ttotal: 30s\tremaining: 38.3s\n",
      "439:\tlearn: 0.3840896\ttotal: 30.1s\tremaining: 38.3s\n",
      "440:\tlearn: 0.3839718\ttotal: 30.2s\tremaining: 38.2s\n",
      "441:\tlearn: 0.3838923\ttotal: 30.3s\tremaining: 38.2s\n",
      "442:\tlearn: 0.3837666\ttotal: 30.4s\tremaining: 38.2s\n",
      "443:\tlearn: 0.3836859\ttotal: 30.4s\tremaining: 38.1s\n",
      "444:\tlearn: 0.3835982\ttotal: 30.5s\tremaining: 38.1s\n",
      "445:\tlearn: 0.3835054\ttotal: 30.6s\tremaining: 38s\n",
      "446:\tlearn: 0.3834222\ttotal: 30.7s\tremaining: 38s\n",
      "447:\tlearn: 0.3833418\ttotal: 30.8s\tremaining: 37.9s\n",
      "448:\tlearn: 0.3832588\ttotal: 30.9s\tremaining: 37.9s\n",
      "449:\tlearn: 0.3831620\ttotal: 31s\tremaining: 37.8s\n",
      "450:\tlearn: 0.3830945\ttotal: 31.1s\tremaining: 37.8s\n",
      "451:\tlearn: 0.3829971\ttotal: 31.1s\tremaining: 37.8s\n",
      "452:\tlearn: 0.3829335\ttotal: 31.2s\tremaining: 37.7s\n",
      "453:\tlearn: 0.3828110\ttotal: 31.3s\tremaining: 37.7s\n",
      "454:\tlearn: 0.3827129\ttotal: 31.4s\tremaining: 37.6s\n",
      "455:\tlearn: 0.3826903\ttotal: 31.5s\tremaining: 37.6s\n",
      "456:\tlearn: 0.3826167\ttotal: 31.6s\tremaining: 37.5s\n",
      "457:\tlearn: 0.3825376\ttotal: 31.7s\tremaining: 37.5s\n",
      "458:\tlearn: 0.3824704\ttotal: 31.8s\tremaining: 37.4s\n",
      "459:\tlearn: 0.3823737\ttotal: 31.9s\tremaining: 37.4s\n",
      "460:\tlearn: 0.3822760\ttotal: 32s\tremaining: 37.4s\n",
      "461:\tlearn: 0.3821540\ttotal: 32s\tremaining: 37.3s\n",
      "462:\tlearn: 0.3820514\ttotal: 32.1s\tremaining: 37.2s\n",
      "463:\tlearn: 0.3819610\ttotal: 32.2s\tremaining: 37.2s\n",
      "464:\tlearn: 0.3818948\ttotal: 32.3s\tremaining: 37.1s\n",
      "465:\tlearn: 0.3818012\ttotal: 32.3s\tremaining: 37s\n",
      "466:\tlearn: 0.3817077\ttotal: 32.4s\tremaining: 37s\n",
      "467:\tlearn: 0.3816082\ttotal: 32.5s\tremaining: 36.9s\n",
      "468:\tlearn: 0.3814939\ttotal: 32.6s\tremaining: 36.9s\n",
      "469:\tlearn: 0.3814381\ttotal: 32.6s\tremaining: 36.8s\n",
      "470:\tlearn: 0.3813294\ttotal: 32.7s\tremaining: 36.7s\n",
      "471:\tlearn: 0.3812219\ttotal: 32.8s\tremaining: 36.6s\n",
      "472:\tlearn: 0.3811326\ttotal: 32.8s\tremaining: 36.6s\n",
      "473:\tlearn: 0.3810370\ttotal: 32.9s\tremaining: 36.5s\n",
      "474:\tlearn: 0.3809420\ttotal: 33s\tremaining: 36.4s\n",
      "475:\tlearn: 0.3808424\ttotal: 33s\tremaining: 36.4s\n",
      "476:\tlearn: 0.3807144\ttotal: 33.1s\tremaining: 36.3s\n",
      "477:\tlearn: 0.3806230\ttotal: 33.2s\tremaining: 36.3s\n",
      "478:\tlearn: 0.3805144\ttotal: 33.3s\tremaining: 36.2s\n",
      "479:\tlearn: 0.3803833\ttotal: 33.3s\tremaining: 36.1s\n",
      "480:\tlearn: 0.3802696\ttotal: 33.4s\tremaining: 36.1s\n",
      "481:\tlearn: 0.3801874\ttotal: 33.5s\tremaining: 36s\n",
      "482:\tlearn: 0.3800836\ttotal: 33.6s\tremaining: 35.9s\n"
     ]
    },
    {
     "name": "stdout",
     "output_type": "stream",
     "text": [
      "483:\tlearn: 0.3799820\ttotal: 33.7s\tremaining: 35.9s\n",
      "484:\tlearn: 0.3798951\ttotal: 33.7s\tremaining: 35.8s\n",
      "485:\tlearn: 0.3798228\ttotal: 33.8s\tremaining: 35.7s\n",
      "486:\tlearn: 0.3797522\ttotal: 33.8s\tremaining: 35.6s\n",
      "487:\tlearn: 0.3796600\ttotal: 33.9s\tremaining: 35.6s\n",
      "488:\tlearn: 0.3795871\ttotal: 34s\tremaining: 35.5s\n",
      "489:\tlearn: 0.3795087\ttotal: 34.1s\tremaining: 35.5s\n",
      "490:\tlearn: 0.3794443\ttotal: 34.1s\tremaining: 35.4s\n",
      "491:\tlearn: 0.3793515\ttotal: 34.2s\tremaining: 35.3s\n",
      "492:\tlearn: 0.3792884\ttotal: 34.3s\tremaining: 35.2s\n",
      "493:\tlearn: 0.3792204\ttotal: 34.3s\tremaining: 35.2s\n",
      "494:\tlearn: 0.3791712\ttotal: 34.4s\tremaining: 35.1s\n",
      "495:\tlearn: 0.3790448\ttotal: 34.5s\tremaining: 35.1s\n",
      "496:\tlearn: 0.3789598\ttotal: 34.6s\tremaining: 35s\n",
      "497:\tlearn: 0.3788346\ttotal: 34.6s\tremaining: 34.9s\n",
      "498:\tlearn: 0.3787503\ttotal: 34.7s\tremaining: 34.9s\n",
      "499:\tlearn: 0.3786680\ttotal: 34.8s\tremaining: 34.8s\n",
      "500:\tlearn: 0.3785554\ttotal: 34.9s\tremaining: 34.7s\n",
      "501:\tlearn: 0.3784904\ttotal: 34.9s\tremaining: 34.7s\n",
      "502:\tlearn: 0.3784196\ttotal: 35s\tremaining: 34.6s\n",
      "503:\tlearn: 0.3783536\ttotal: 35.1s\tremaining: 34.5s\n",
      "504:\tlearn: 0.3782561\ttotal: 35.1s\tremaining: 34.4s\n",
      "505:\tlearn: 0.3781800\ttotal: 35.2s\tremaining: 34.4s\n",
      "506:\tlearn: 0.3780498\ttotal: 35.3s\tremaining: 34.3s\n",
      "507:\tlearn: 0.3779934\ttotal: 35.4s\tremaining: 34.2s\n",
      "508:\tlearn: 0.3778911\ttotal: 35.4s\tremaining: 34.2s\n",
      "509:\tlearn: 0.3778166\ttotal: 35.5s\tremaining: 34.1s\n",
      "510:\tlearn: 0.3777629\ttotal: 35.6s\tremaining: 34s\n",
      "511:\tlearn: 0.3776753\ttotal: 35.6s\tremaining: 34s\n",
      "512:\tlearn: 0.3775443\ttotal: 35.7s\tremaining: 33.9s\n",
      "513:\tlearn: 0.3774652\ttotal: 35.8s\tremaining: 33.8s\n",
      "514:\tlearn: 0.3773748\ttotal: 35.8s\tremaining: 33.8s\n",
      "515:\tlearn: 0.3773218\ttotal: 35.9s\tremaining: 33.7s\n",
      "516:\tlearn: 0.3772536\ttotal: 36s\tremaining: 33.6s\n",
      "517:\tlearn: 0.3771852\ttotal: 36.1s\tremaining: 33.6s\n",
      "518:\tlearn: 0.3770935\ttotal: 36.1s\tremaining: 33.5s\n",
      "519:\tlearn: 0.3769990\ttotal: 36.2s\tremaining: 33.4s\n",
      "520:\tlearn: 0.3769418\ttotal: 36.3s\tremaining: 33.3s\n",
      "521:\tlearn: 0.3768705\ttotal: 36.3s\tremaining: 33.3s\n",
      "522:\tlearn: 0.3767958\ttotal: 36.4s\tremaining: 33.2s\n",
      "523:\tlearn: 0.3767129\ttotal: 36.5s\tremaining: 33.1s\n",
      "524:\tlearn: 0.3766372\ttotal: 36.5s\tremaining: 33.1s\n",
      "525:\tlearn: 0.3765329\ttotal: 36.6s\tremaining: 33s\n",
      "526:\tlearn: 0.3764691\ttotal: 36.7s\tremaining: 32.9s\n",
      "527:\tlearn: 0.3764053\ttotal: 36.8s\tremaining: 32.9s\n",
      "528:\tlearn: 0.3763172\ttotal: 36.8s\tremaining: 32.8s\n",
      "529:\tlearn: 0.3762221\ttotal: 36.9s\tremaining: 32.7s\n",
      "530:\tlearn: 0.3761174\ttotal: 37s\tremaining: 32.7s\n",
      "531:\tlearn: 0.3760402\ttotal: 37.1s\tremaining: 32.6s\n",
      "532:\tlearn: 0.3759411\ttotal: 37.1s\tremaining: 32.5s\n",
      "533:\tlearn: 0.3758276\ttotal: 37.2s\tremaining: 32.5s\n",
      "534:\tlearn: 0.3757067\ttotal: 37.3s\tremaining: 32.4s\n",
      "535:\tlearn: 0.3755973\ttotal: 37.4s\tremaining: 32.3s\n",
      "536:\tlearn: 0.3755091\ttotal: 37.5s\tremaining: 32.3s\n",
      "537:\tlearn: 0.3754362\ttotal: 37.5s\tremaining: 32.2s\n",
      "538:\tlearn: 0.3753560\ttotal: 37.6s\tremaining: 32.2s\n",
      "539:\tlearn: 0.3752664\ttotal: 37.7s\tremaining: 32.1s\n",
      "540:\tlearn: 0.3752173\ttotal: 37.8s\tremaining: 32.1s\n",
      "541:\tlearn: 0.3751255\ttotal: 37.9s\tremaining: 32s\n",
      "542:\tlearn: 0.3750309\ttotal: 38s\tremaining: 32s\n",
      "543:\tlearn: 0.3749644\ttotal: 38.1s\tremaining: 31.9s\n",
      "544:\tlearn: 0.3749015\ttotal: 38.2s\tremaining: 31.9s\n",
      "545:\tlearn: 0.3748210\ttotal: 38.3s\tremaining: 31.8s\n",
      "546:\tlearn: 0.3747615\ttotal: 38.4s\tremaining: 31.8s\n",
      "547:\tlearn: 0.3747269\ttotal: 38.4s\tremaining: 31.7s\n",
      "548:\tlearn: 0.3746537\ttotal: 38.5s\tremaining: 31.7s\n",
      "549:\tlearn: 0.3745673\ttotal: 38.6s\tremaining: 31.6s\n",
      "550:\tlearn: 0.3744984\ttotal: 38.7s\tremaining: 31.6s\n",
      "551:\tlearn: 0.3744119\ttotal: 38.8s\tremaining: 31.5s\n",
      "552:\tlearn: 0.3743585\ttotal: 38.9s\tremaining: 31.4s\n",
      "553:\tlearn: 0.3742523\ttotal: 38.9s\tremaining: 31.3s\n",
      "554:\tlearn: 0.3741689\ttotal: 39s\tremaining: 31.3s\n",
      "555:\tlearn: 0.3740589\ttotal: 39.1s\tremaining: 31.2s\n",
      "556:\tlearn: 0.3739516\ttotal: 39.2s\tremaining: 31.1s\n",
      "557:\tlearn: 0.3738747\ttotal: 39.2s\tremaining: 31.1s\n",
      "558:\tlearn: 0.3738285\ttotal: 39.3s\tremaining: 31s\n",
      "559:\tlearn: 0.3737448\ttotal: 39.4s\tremaining: 30.9s\n",
      "560:\tlearn: 0.3736779\ttotal: 39.4s\tremaining: 30.9s\n",
      "561:\tlearn: 0.3735932\ttotal: 39.5s\tremaining: 30.8s\n",
      "562:\tlearn: 0.3735164\ttotal: 39.6s\tremaining: 30.7s\n",
      "563:\tlearn: 0.3734496\ttotal: 39.7s\tremaining: 30.7s\n",
      "564:\tlearn: 0.3733452\ttotal: 39.7s\tremaining: 30.6s\n",
      "565:\tlearn: 0.3732819\ttotal: 39.8s\tremaining: 30.5s\n",
      "566:\tlearn: 0.3731752\ttotal: 39.9s\tremaining: 30.5s\n",
      "567:\tlearn: 0.3731195\ttotal: 39.9s\tremaining: 30.4s\n",
      "568:\tlearn: 0.3730657\ttotal: 40s\tremaining: 30.3s\n",
      "569:\tlearn: 0.3730068\ttotal: 40.1s\tremaining: 30.2s\n",
      "570:\tlearn: 0.3729149\ttotal: 40.2s\tremaining: 30.2s\n",
      "571:\tlearn: 0.3728334\ttotal: 40.2s\tremaining: 30.1s\n",
      "572:\tlearn: 0.3727509\ttotal: 40.3s\tremaining: 30s\n",
      "573:\tlearn: 0.3726991\ttotal: 40.4s\tremaining: 30s\n",
      "574:\tlearn: 0.3725832\ttotal: 40.4s\tremaining: 29.9s\n",
      "575:\tlearn: 0.3724971\ttotal: 40.5s\tremaining: 29.8s\n",
      "576:\tlearn: 0.3723799\ttotal: 40.6s\tremaining: 29.8s\n",
      "577:\tlearn: 0.3722659\ttotal: 40.7s\tremaining: 29.7s\n",
      "578:\tlearn: 0.3721895\ttotal: 40.8s\tremaining: 29.6s\n",
      "579:\tlearn: 0.3720877\ttotal: 40.8s\tremaining: 29.6s\n",
      "580:\tlearn: 0.3720128\ttotal: 40.9s\tremaining: 29.5s\n",
      "581:\tlearn: 0.3719067\ttotal: 41s\tremaining: 29.4s\n",
      "582:\tlearn: 0.3718386\ttotal: 41.1s\tremaining: 29.4s\n",
      "583:\tlearn: 0.3717794\ttotal: 41.1s\tremaining: 29.3s\n",
      "584:\tlearn: 0.3716717\ttotal: 41.2s\tremaining: 29.2s\n",
      "585:\tlearn: 0.3715963\ttotal: 41.3s\tremaining: 29.2s\n",
      "586:\tlearn: 0.3715210\ttotal: 41.4s\tremaining: 29.1s\n",
      "587:\tlearn: 0.3714538\ttotal: 41.4s\tremaining: 29s\n",
      "588:\tlearn: 0.3713539\ttotal: 41.5s\tremaining: 29s\n",
      "589:\tlearn: 0.3712907\ttotal: 41.6s\tremaining: 28.9s\n",
      "590:\tlearn: 0.3712060\ttotal: 41.6s\tremaining: 28.8s\n",
      "591:\tlearn: 0.3711195\ttotal: 41.7s\tremaining: 28.8s\n",
      "592:\tlearn: 0.3710301\ttotal: 41.8s\tremaining: 28.7s\n",
      "593:\tlearn: 0.3709120\ttotal: 41.9s\tremaining: 28.6s\n",
      "594:\tlearn: 0.3708179\ttotal: 42s\tremaining: 28.6s\n",
      "595:\tlearn: 0.3707562\ttotal: 42s\tremaining: 28.5s\n",
      "596:\tlearn: 0.3706800\ttotal: 42.1s\tremaining: 28.4s\n",
      "597:\tlearn: 0.3705997\ttotal: 42.2s\tremaining: 28.3s\n",
      "598:\tlearn: 0.3705081\ttotal: 42.2s\tremaining: 28.3s\n",
      "599:\tlearn: 0.3704337\ttotal: 42.3s\tremaining: 28.2s\n",
      "600:\tlearn: 0.3703473\ttotal: 42.4s\tremaining: 28.1s\n",
      "601:\tlearn: 0.3703040\ttotal: 42.4s\tremaining: 28.1s\n",
      "602:\tlearn: 0.3702241\ttotal: 42.5s\tremaining: 28s\n",
      "603:\tlearn: 0.3701445\ttotal: 42.6s\tremaining: 27.9s\n",
      "604:\tlearn: 0.3700768\ttotal: 42.7s\tremaining: 27.9s\n",
      "605:\tlearn: 0.3699997\ttotal: 42.7s\tremaining: 27.8s\n",
      "606:\tlearn: 0.3699282\ttotal: 42.8s\tremaining: 27.7s\n",
      "607:\tlearn: 0.3698769\ttotal: 42.9s\tremaining: 27.6s\n",
      "608:\tlearn: 0.3698168\ttotal: 42.9s\tremaining: 27.6s\n",
      "609:\tlearn: 0.3697580\ttotal: 43s\tremaining: 27.5s\n",
      "610:\tlearn: 0.3696615\ttotal: 43.1s\tremaining: 27.4s\n",
      "611:\tlearn: 0.3695939\ttotal: 43.2s\tremaining: 27.4s\n",
      "612:\tlearn: 0.3694854\ttotal: 43.2s\tremaining: 27.3s\n",
      "613:\tlearn: 0.3693963\ttotal: 43.3s\tremaining: 27.2s\n",
      "614:\tlearn: 0.3692940\ttotal: 43.4s\tremaining: 27.2s\n",
      "615:\tlearn: 0.3691912\ttotal: 43.5s\tremaining: 27.1s\n",
      "616:\tlearn: 0.3691161\ttotal: 43.5s\tremaining: 27s\n",
      "617:\tlearn: 0.3690449\ttotal: 43.6s\tremaining: 27s\n",
      "618:\tlearn: 0.3689621\ttotal: 43.7s\tremaining: 26.9s\n",
      "619:\tlearn: 0.3688854\ttotal: 43.8s\tremaining: 26.8s\n",
      "620:\tlearn: 0.3687983\ttotal: 43.8s\tremaining: 26.7s\n",
      "621:\tlearn: 0.3687370\ttotal: 43.9s\tremaining: 26.7s\n",
      "622:\tlearn: 0.3686496\ttotal: 44s\tremaining: 26.6s\n",
      "623:\tlearn: 0.3685690\ttotal: 44s\tremaining: 26.5s\n",
      "624:\tlearn: 0.3684777\ttotal: 44.1s\tremaining: 26.5s\n",
      "625:\tlearn: 0.3684107\ttotal: 44.2s\tremaining: 26.4s\n",
      "626:\tlearn: 0.3683143\ttotal: 44.3s\tremaining: 26.3s\n",
      "627:\tlearn: 0.3682147\ttotal: 44.3s\tremaining: 26.3s\n",
      "628:\tlearn: 0.3681555\ttotal: 44.4s\tremaining: 26.2s\n",
      "629:\tlearn: 0.3680920\ttotal: 44.5s\tremaining: 26.1s\n",
      "630:\tlearn: 0.3679770\ttotal: 44.6s\tremaining: 26.1s\n",
      "631:\tlearn: 0.3679265\ttotal: 44.6s\tremaining: 26s\n",
      "632:\tlearn: 0.3678465\ttotal: 44.7s\tremaining: 25.9s\n",
      "633:\tlearn: 0.3677516\ttotal: 44.8s\tremaining: 25.9s\n",
      "634:\tlearn: 0.3676658\ttotal: 44.8s\tremaining: 25.8s\n",
      "635:\tlearn: 0.3675910\ttotal: 44.9s\tremaining: 25.7s\n",
      "636:\tlearn: 0.3675290\ttotal: 45s\tremaining: 25.6s\n",
      "637:\tlearn: 0.3674584\ttotal: 45.1s\tremaining: 25.6s\n",
      "638:\tlearn: 0.3674041\ttotal: 45.2s\tremaining: 25.5s\n",
      "639:\tlearn: 0.3673480\ttotal: 45.3s\tremaining: 25.5s\n",
      "640:\tlearn: 0.3672779\ttotal: 45.4s\tremaining: 25.4s\n",
      "641:\tlearn: 0.3671815\ttotal: 45.5s\tremaining: 25.3s\n"
     ]
    },
    {
     "name": "stdout",
     "output_type": "stream",
     "text": [
      "642:\tlearn: 0.3671343\ttotal: 45.6s\tremaining: 25.3s\n",
      "643:\tlearn: 0.3670659\ttotal: 45.6s\tremaining: 25.2s\n",
      "644:\tlearn: 0.3669983\ttotal: 45.7s\tremaining: 25.2s\n",
      "645:\tlearn: 0.3668762\ttotal: 45.8s\tremaining: 25.1s\n",
      "646:\tlearn: 0.3668034\ttotal: 45.9s\tremaining: 25.1s\n",
      "647:\tlearn: 0.3667479\ttotal: 46s\tremaining: 25s\n",
      "648:\tlearn: 0.3666414\ttotal: 46.1s\tremaining: 24.9s\n",
      "649:\tlearn: 0.3665401\ttotal: 46.2s\tremaining: 24.9s\n",
      "650:\tlearn: 0.3664864\ttotal: 46.3s\tremaining: 24.8s\n",
      "651:\tlearn: 0.3663913\ttotal: 46.4s\tremaining: 24.8s\n",
      "652:\tlearn: 0.3663020\ttotal: 46.5s\tremaining: 24.7s\n",
      "653:\tlearn: 0.3662120\ttotal: 46.5s\tremaining: 24.6s\n",
      "654:\tlearn: 0.3661593\ttotal: 46.6s\tremaining: 24.6s\n",
      "655:\tlearn: 0.3660847\ttotal: 46.7s\tremaining: 24.5s\n",
      "656:\tlearn: 0.3660288\ttotal: 46.8s\tremaining: 24.4s\n",
      "657:\tlearn: 0.3659501\ttotal: 46.9s\tremaining: 24.4s\n",
      "658:\tlearn: 0.3658655\ttotal: 47s\tremaining: 24.3s\n",
      "659:\tlearn: 0.3657462\ttotal: 47.1s\tremaining: 24.3s\n",
      "660:\tlearn: 0.3656806\ttotal: 47.2s\tremaining: 24.2s\n",
      "661:\tlearn: 0.3656070\ttotal: 47.3s\tremaining: 24.1s\n",
      "662:\tlearn: 0.3655171\ttotal: 47.3s\tremaining: 24.1s\n",
      "663:\tlearn: 0.3654450\ttotal: 47.4s\tremaining: 24s\n",
      "664:\tlearn: 0.3653855\ttotal: 47.5s\tremaining: 23.9s\n",
      "665:\tlearn: 0.3653013\ttotal: 47.6s\tremaining: 23.9s\n",
      "666:\tlearn: 0.3652298\ttotal: 47.7s\tremaining: 23.8s\n",
      "667:\tlearn: 0.3651281\ttotal: 47.8s\tremaining: 23.8s\n",
      "668:\tlearn: 0.3650268\ttotal: 47.9s\tremaining: 23.7s\n",
      "669:\tlearn: 0.3649834\ttotal: 48s\tremaining: 23.6s\n",
      "670:\tlearn: 0.3649250\ttotal: 48.1s\tremaining: 23.6s\n",
      "671:\tlearn: 0.3648509\ttotal: 48.1s\tremaining: 23.5s\n",
      "672:\tlearn: 0.3647925\ttotal: 48.2s\tremaining: 23.4s\n",
      "673:\tlearn: 0.3647127\ttotal: 48.3s\tremaining: 23.3s\n",
      "674:\tlearn: 0.3646611\ttotal: 48.3s\tremaining: 23.3s\n",
      "675:\tlearn: 0.3645745\ttotal: 48.4s\tremaining: 23.2s\n",
      "676:\tlearn: 0.3644632\ttotal: 48.5s\tremaining: 23.1s\n",
      "677:\tlearn: 0.3643996\ttotal: 48.6s\tremaining: 23.1s\n",
      "678:\tlearn: 0.3643372\ttotal: 48.6s\tremaining: 23s\n",
      "679:\tlearn: 0.3642167\ttotal: 48.7s\tremaining: 22.9s\n",
      "680:\tlearn: 0.3641403\ttotal: 48.8s\tremaining: 22.9s\n",
      "681:\tlearn: 0.3640654\ttotal: 48.8s\tremaining: 22.8s\n",
      "682:\tlearn: 0.3639637\ttotal: 48.9s\tremaining: 22.7s\n",
      "683:\tlearn: 0.3638753\ttotal: 49s\tremaining: 22.6s\n",
      "684:\tlearn: 0.3637990\ttotal: 49.1s\tremaining: 22.6s\n",
      "685:\tlearn: 0.3637203\ttotal: 49.1s\tremaining: 22.5s\n",
      "686:\tlearn: 0.3636652\ttotal: 49.2s\tremaining: 22.4s\n",
      "687:\tlearn: 0.3636243\ttotal: 49.3s\tremaining: 22.3s\n",
      "688:\tlearn: 0.3635483\ttotal: 49.4s\tremaining: 22.3s\n",
      "689:\tlearn: 0.3634850\ttotal: 49.4s\tremaining: 22.2s\n",
      "690:\tlearn: 0.3634114\ttotal: 49.5s\tremaining: 22.1s\n",
      "691:\tlearn: 0.3633200\ttotal: 49.5s\tremaining: 22.1s\n",
      "692:\tlearn: 0.3632466\ttotal: 49.6s\tremaining: 22s\n",
      "693:\tlearn: 0.3631829\ttotal: 49.7s\tremaining: 21.9s\n",
      "694:\tlearn: 0.3631236\ttotal: 49.8s\tremaining: 21.8s\n",
      "695:\tlearn: 0.3630590\ttotal: 49.8s\tremaining: 21.8s\n",
      "696:\tlearn: 0.3629972\ttotal: 49.9s\tremaining: 21.7s\n",
      "697:\tlearn: 0.3629271\ttotal: 50s\tremaining: 21.6s\n",
      "698:\tlearn: 0.3628534\ttotal: 50s\tremaining: 21.6s\n",
      "699:\tlearn: 0.3627648\ttotal: 50.1s\tremaining: 21.5s\n",
      "700:\tlearn: 0.3626547\ttotal: 50.2s\tremaining: 21.4s\n",
      "701:\tlearn: 0.3625771\ttotal: 50.3s\tremaining: 21.3s\n",
      "702:\tlearn: 0.3625050\ttotal: 50.3s\tremaining: 21.3s\n",
      "703:\tlearn: 0.3624562\ttotal: 50.4s\tremaining: 21.2s\n",
      "704:\tlearn: 0.3624043\ttotal: 50.5s\tremaining: 21.1s\n",
      "705:\tlearn: 0.3623410\ttotal: 50.5s\tremaining: 21s\n",
      "706:\tlearn: 0.3622645\ttotal: 50.6s\tremaining: 21s\n",
      "707:\tlearn: 0.3622012\ttotal: 50.7s\tremaining: 20.9s\n",
      "708:\tlearn: 0.3621298\ttotal: 50.8s\tremaining: 20.8s\n",
      "709:\tlearn: 0.3620343\ttotal: 50.8s\tremaining: 20.8s\n",
      "710:\tlearn: 0.3619512\ttotal: 50.9s\tremaining: 20.7s\n",
      "711:\tlearn: 0.3618865\ttotal: 51s\tremaining: 20.6s\n",
      "712:\tlearn: 0.3618332\ttotal: 51.1s\tremaining: 20.6s\n",
      "713:\tlearn: 0.3617808\ttotal: 51.1s\tremaining: 20.5s\n",
      "714:\tlearn: 0.3616885\ttotal: 51.2s\tremaining: 20.4s\n",
      "715:\tlearn: 0.3615964\ttotal: 51.3s\tremaining: 20.3s\n",
      "716:\tlearn: 0.3615128\ttotal: 51.4s\tremaining: 20.3s\n",
      "717:\tlearn: 0.3614315\ttotal: 51.4s\tremaining: 20.2s\n",
      "718:\tlearn: 0.3613773\ttotal: 51.5s\tremaining: 20.1s\n",
      "719:\tlearn: 0.3613086\ttotal: 51.6s\tremaining: 20.1s\n",
      "720:\tlearn: 0.3612390\ttotal: 51.6s\tremaining: 20s\n",
      "721:\tlearn: 0.3611503\ttotal: 51.7s\tremaining: 19.9s\n",
      "722:\tlearn: 0.3610734\ttotal: 51.8s\tremaining: 19.8s\n",
      "723:\tlearn: 0.3610032\ttotal: 51.9s\tremaining: 19.8s\n",
      "724:\tlearn: 0.3609127\ttotal: 51.9s\tremaining: 19.7s\n",
      "725:\tlearn: 0.3608300\ttotal: 52s\tremaining: 19.6s\n",
      "726:\tlearn: 0.3607624\ttotal: 52.1s\tremaining: 19.6s\n",
      "727:\tlearn: 0.3606849\ttotal: 52.1s\tremaining: 19.5s\n",
      "728:\tlearn: 0.3606565\ttotal: 52.2s\tremaining: 19.4s\n",
      "729:\tlearn: 0.3605942\ttotal: 52.3s\tremaining: 19.3s\n",
      "730:\tlearn: 0.3605057\ttotal: 52.4s\tremaining: 19.3s\n",
      "731:\tlearn: 0.3604278\ttotal: 52.4s\tremaining: 19.2s\n",
      "732:\tlearn: 0.3603546\ttotal: 52.5s\tremaining: 19.1s\n",
      "733:\tlearn: 0.3602487\ttotal: 52.6s\tremaining: 19s\n",
      "734:\tlearn: 0.3601795\ttotal: 52.6s\tremaining: 19s\n",
      "735:\tlearn: 0.3601137\ttotal: 52.7s\tremaining: 18.9s\n",
      "736:\tlearn: 0.3600383\ttotal: 52.8s\tremaining: 18.8s\n",
      "737:\tlearn: 0.3599609\ttotal: 52.9s\tremaining: 18.8s\n",
      "738:\tlearn: 0.3598956\ttotal: 52.9s\tremaining: 18.7s\n",
      "739:\tlearn: 0.3597821\ttotal: 53s\tremaining: 18.6s\n",
      "740:\tlearn: 0.3597109\ttotal: 53.1s\tremaining: 18.6s\n",
      "741:\tlearn: 0.3596475\ttotal: 53.2s\tremaining: 18.5s\n",
      "742:\tlearn: 0.3596071\ttotal: 53.3s\tremaining: 18.4s\n",
      "743:\tlearn: 0.3595293\ttotal: 53.4s\tremaining: 18.4s\n",
      "744:\tlearn: 0.3594757\ttotal: 53.4s\tremaining: 18.3s\n",
      "745:\tlearn: 0.3593881\ttotal: 53.5s\tremaining: 18.2s\n",
      "746:\tlearn: 0.3593555\ttotal: 53.6s\tremaining: 18.2s\n",
      "747:\tlearn: 0.3592799\ttotal: 53.7s\tremaining: 18.1s\n",
      "748:\tlearn: 0.3591901\ttotal: 53.8s\tremaining: 18s\n",
      "749:\tlearn: 0.3590997\ttotal: 54s\tremaining: 18s\n",
      "750:\tlearn: 0.3590562\ttotal: 54s\tremaining: 17.9s\n",
      "751:\tlearn: 0.3589793\ttotal: 54.2s\tremaining: 17.9s\n",
      "752:\tlearn: 0.3588986\ttotal: 54.3s\tremaining: 17.8s\n",
      "753:\tlearn: 0.3588324\ttotal: 54.4s\tremaining: 17.7s\n",
      "754:\tlearn: 0.3587717\ttotal: 54.5s\tremaining: 17.7s\n",
      "755:\tlearn: 0.3587285\ttotal: 54.6s\tremaining: 17.6s\n",
      "756:\tlearn: 0.3586487\ttotal: 54.6s\tremaining: 17.5s\n",
      "757:\tlearn: 0.3586091\ttotal: 54.7s\tremaining: 17.5s\n",
      "758:\tlearn: 0.3585317\ttotal: 54.8s\tremaining: 17.4s\n",
      "759:\tlearn: 0.3584608\ttotal: 55s\tremaining: 17.4s\n",
      "760:\tlearn: 0.3584126\ttotal: 55s\tremaining: 17.3s\n",
      "761:\tlearn: 0.3583701\ttotal: 55.1s\tremaining: 17.2s\n",
      "762:\tlearn: 0.3582980\ttotal: 55.2s\tremaining: 17.2s\n",
      "763:\tlearn: 0.3582401\ttotal: 55.3s\tremaining: 17.1s\n",
      "764:\tlearn: 0.3581777\ttotal: 55.4s\tremaining: 17s\n",
      "765:\tlearn: 0.3581180\ttotal: 55.5s\tremaining: 17s\n",
      "766:\tlearn: 0.3580486\ttotal: 55.6s\tremaining: 16.9s\n",
      "767:\tlearn: 0.3579737\ttotal: 55.7s\tremaining: 16.8s\n",
      "768:\tlearn: 0.3579078\ttotal: 55.8s\tremaining: 16.8s\n",
      "769:\tlearn: 0.3578026\ttotal: 55.9s\tremaining: 16.7s\n",
      "770:\tlearn: 0.3577095\ttotal: 56s\tremaining: 16.6s\n",
      "771:\tlearn: 0.3576400\ttotal: 56.1s\tremaining: 16.6s\n",
      "772:\tlearn: 0.3575563\ttotal: 56.2s\tremaining: 16.5s\n",
      "773:\tlearn: 0.3575090\ttotal: 56.3s\tremaining: 16.4s\n",
      "774:\tlearn: 0.3574536\ttotal: 56.4s\tremaining: 16.4s\n",
      "775:\tlearn: 0.3573305\ttotal: 56.4s\tremaining: 16.3s\n",
      "776:\tlearn: 0.3572585\ttotal: 56.5s\tremaining: 16.2s\n",
      "777:\tlearn: 0.3571903\ttotal: 56.6s\tremaining: 16.2s\n",
      "778:\tlearn: 0.3571326\ttotal: 56.7s\tremaining: 16.1s\n",
      "779:\tlearn: 0.3570512\ttotal: 56.8s\tremaining: 16s\n",
      "780:\tlearn: 0.3569567\ttotal: 56.9s\tremaining: 16s\n",
      "781:\tlearn: 0.3568909\ttotal: 57s\tremaining: 15.9s\n",
      "782:\tlearn: 0.3568232\ttotal: 57.1s\tremaining: 15.8s\n",
      "783:\tlearn: 0.3567539\ttotal: 57.2s\tremaining: 15.8s\n",
      "784:\tlearn: 0.3566991\ttotal: 57.3s\tremaining: 15.7s\n",
      "785:\tlearn: 0.3566299\ttotal: 57.4s\tremaining: 15.6s\n",
      "786:\tlearn: 0.3565459\ttotal: 57.5s\tremaining: 15.6s\n",
      "787:\tlearn: 0.3564677\ttotal: 57.6s\tremaining: 15.5s\n",
      "788:\tlearn: 0.3564035\ttotal: 57.7s\tremaining: 15.4s\n",
      "789:\tlearn: 0.3563514\ttotal: 57.8s\tremaining: 15.4s\n",
      "790:\tlearn: 0.3562923\ttotal: 57.8s\tremaining: 15.3s\n",
      "791:\tlearn: 0.3561853\ttotal: 57.9s\tremaining: 15.2s\n",
      "792:\tlearn: 0.3561246\ttotal: 58.1s\tremaining: 15.2s\n",
      "793:\tlearn: 0.3560587\ttotal: 58.1s\tremaining: 15.1s\n",
      "794:\tlearn: 0.3559836\ttotal: 58.2s\tremaining: 15s\n",
      "795:\tlearn: 0.3559306\ttotal: 58.3s\tremaining: 14.9s\n",
      "796:\tlearn: 0.3558129\ttotal: 58.4s\tremaining: 14.9s\n",
      "797:\tlearn: 0.3557467\ttotal: 58.5s\tremaining: 14.8s\n",
      "798:\tlearn: 0.3556440\ttotal: 58.6s\tremaining: 14.7s\n",
      "799:\tlearn: 0.3555750\ttotal: 58.7s\tremaining: 14.7s\n",
      "800:\tlearn: 0.3554979\ttotal: 58.8s\tremaining: 14.6s\n"
     ]
    },
    {
     "name": "stdout",
     "output_type": "stream",
     "text": [
      "801:\tlearn: 0.3554485\ttotal: 58.9s\tremaining: 14.5s\n",
      "802:\tlearn: 0.3553603\ttotal: 59s\tremaining: 14.5s\n",
      "803:\tlearn: 0.3552517\ttotal: 59.1s\tremaining: 14.4s\n",
      "804:\tlearn: 0.3552202\ttotal: 59.2s\tremaining: 14.3s\n",
      "805:\tlearn: 0.3551329\ttotal: 59.2s\tremaining: 14.3s\n",
      "806:\tlearn: 0.3550378\ttotal: 59.3s\tremaining: 14.2s\n",
      "807:\tlearn: 0.3549950\ttotal: 59.4s\tremaining: 14.1s\n",
      "808:\tlearn: 0.3549140\ttotal: 59.5s\tremaining: 14.1s\n",
      "809:\tlearn: 0.3548306\ttotal: 59.6s\tremaining: 14s\n",
      "810:\tlearn: 0.3547385\ttotal: 59.7s\tremaining: 13.9s\n",
      "811:\tlearn: 0.3546775\ttotal: 59.8s\tremaining: 13.8s\n",
      "812:\tlearn: 0.3546408\ttotal: 59.9s\tremaining: 13.8s\n",
      "813:\tlearn: 0.3545685\ttotal: 60s\tremaining: 13.7s\n",
      "814:\tlearn: 0.3545096\ttotal: 1m\tremaining: 13.6s\n",
      "815:\tlearn: 0.3544556\ttotal: 1m\tremaining: 13.6s\n",
      "816:\tlearn: 0.3543823\ttotal: 1m\tremaining: 13.5s\n",
      "817:\tlearn: 0.3543134\ttotal: 1m\tremaining: 13.4s\n",
      "818:\tlearn: 0.3542364\ttotal: 1m\tremaining: 13.4s\n",
      "819:\tlearn: 0.3541594\ttotal: 1m\tremaining: 13.3s\n",
      "820:\tlearn: 0.3541044\ttotal: 1m\tremaining: 13.2s\n",
      "821:\tlearn: 0.3540291\ttotal: 1m\tremaining: 13.1s\n",
      "822:\tlearn: 0.3539817\ttotal: 1m\tremaining: 13.1s\n",
      "823:\tlearn: 0.3539116\ttotal: 1m\tremaining: 13s\n",
      "824:\tlearn: 0.3538433\ttotal: 1m 1s\tremaining: 12.9s\n",
      "825:\tlearn: 0.3537956\ttotal: 1m 1s\tremaining: 12.9s\n",
      "826:\tlearn: 0.3537187\ttotal: 1m 1s\tremaining: 12.8s\n",
      "827:\tlearn: 0.3536359\ttotal: 1m 1s\tremaining: 12.8s\n",
      "828:\tlearn: 0.3535678\ttotal: 1m 1s\tremaining: 12.7s\n",
      "829:\tlearn: 0.3534988\ttotal: 1m 1s\tremaining: 12.6s\n",
      "830:\tlearn: 0.3534124\ttotal: 1m 1s\tremaining: 12.6s\n",
      "831:\tlearn: 0.3533563\ttotal: 1m 1s\tremaining: 12.5s\n",
      "832:\tlearn: 0.3532696\ttotal: 1m 2s\tremaining: 12.4s\n",
      "833:\tlearn: 0.3531863\ttotal: 1m 2s\tremaining: 12.4s\n",
      "834:\tlearn: 0.3531429\ttotal: 1m 2s\tremaining: 12.3s\n",
      "835:\tlearn: 0.3530941\ttotal: 1m 2s\tremaining: 12.2s\n",
      "836:\tlearn: 0.3530549\ttotal: 1m 2s\tremaining: 12.2s\n",
      "837:\tlearn: 0.3529814\ttotal: 1m 2s\tremaining: 12.1s\n",
      "838:\tlearn: 0.3529118\ttotal: 1m 2s\tremaining: 12s\n",
      "839:\tlearn: 0.3528468\ttotal: 1m 2s\tremaining: 12s\n",
      "840:\tlearn: 0.3527792\ttotal: 1m 2s\tremaining: 11.9s\n",
      "841:\tlearn: 0.3527156\ttotal: 1m 3s\tremaining: 11.8s\n",
      "842:\tlearn: 0.3526403\ttotal: 1m 3s\tremaining: 11.8s\n",
      "843:\tlearn: 0.3525813\ttotal: 1m 3s\tremaining: 11.7s\n",
      "844:\tlearn: 0.3524904\ttotal: 1m 3s\tremaining: 11.6s\n",
      "845:\tlearn: 0.3524356\ttotal: 1m 3s\tremaining: 11.6s\n",
      "846:\tlearn: 0.3523416\ttotal: 1m 3s\tremaining: 11.5s\n",
      "847:\tlearn: 0.3523062\ttotal: 1m 3s\tremaining: 11.4s\n",
      "848:\tlearn: 0.3522362\ttotal: 1m 3s\tremaining: 11.4s\n",
      "849:\tlearn: 0.3521513\ttotal: 1m 4s\tremaining: 11.3s\n",
      "850:\tlearn: 0.3520492\ttotal: 1m 4s\tremaining: 11.2s\n",
      "851:\tlearn: 0.3519917\ttotal: 1m 4s\tremaining: 11.2s\n",
      "852:\tlearn: 0.3519274\ttotal: 1m 4s\tremaining: 11.1s\n",
      "853:\tlearn: 0.3518717\ttotal: 1m 4s\tremaining: 11s\n",
      "854:\tlearn: 0.3518212\ttotal: 1m 4s\tremaining: 10.9s\n",
      "855:\tlearn: 0.3517400\ttotal: 1m 4s\tremaining: 10.9s\n",
      "856:\tlearn: 0.3516552\ttotal: 1m 4s\tremaining: 10.8s\n",
      "857:\tlearn: 0.3515700\ttotal: 1m 4s\tremaining: 10.7s\n",
      "858:\tlearn: 0.3514989\ttotal: 1m 4s\tremaining: 10.6s\n",
      "859:\tlearn: 0.3514091\ttotal: 1m 4s\tremaining: 10.6s\n",
      "860:\tlearn: 0.3513300\ttotal: 1m 5s\tremaining: 10.5s\n",
      "861:\tlearn: 0.3512387\ttotal: 1m 5s\tremaining: 10.4s\n",
      "862:\tlearn: 0.3511795\ttotal: 1m 5s\tremaining: 10.4s\n",
      "863:\tlearn: 0.3511283\ttotal: 1m 5s\tremaining: 10.3s\n",
      "864:\tlearn: 0.3510605\ttotal: 1m 5s\tremaining: 10.2s\n",
      "865:\tlearn: 0.3510122\ttotal: 1m 5s\tremaining: 10.1s\n",
      "866:\tlearn: 0.3509310\ttotal: 1m 5s\tremaining: 10.1s\n",
      "867:\tlearn: 0.3508657\ttotal: 1m 5s\tremaining: 10s\n",
      "868:\tlearn: 0.3508031\ttotal: 1m 5s\tremaining: 9.93s\n",
      "869:\tlearn: 0.3507466\ttotal: 1m 5s\tremaining: 9.85s\n",
      "870:\tlearn: 0.3506940\ttotal: 1m 6s\tremaining: 9.78s\n",
      "871:\tlearn: 0.3506500\ttotal: 1m 6s\tremaining: 9.7s\n",
      "872:\tlearn: 0.3506153\ttotal: 1m 6s\tremaining: 9.63s\n",
      "873:\tlearn: 0.3505433\ttotal: 1m 6s\tremaining: 9.56s\n",
      "874:\tlearn: 0.3504740\ttotal: 1m 6s\tremaining: 9.48s\n",
      "875:\tlearn: 0.3504195\ttotal: 1m 6s\tremaining: 9.41s\n",
      "876:\tlearn: 0.3503530\ttotal: 1m 6s\tremaining: 9.34s\n",
      "877:\tlearn: 0.3502764\ttotal: 1m 6s\tremaining: 9.26s\n",
      "878:\tlearn: 0.3502216\ttotal: 1m 6s\tremaining: 9.19s\n",
      "879:\tlearn: 0.3501510\ttotal: 1m 6s\tremaining: 9.12s\n",
      "880:\tlearn: 0.3500898\ttotal: 1m 6s\tremaining: 9.04s\n",
      "881:\tlearn: 0.3500302\ttotal: 1m 7s\tremaining: 8.97s\n",
      "882:\tlearn: 0.3499770\ttotal: 1m 7s\tremaining: 8.89s\n",
      "883:\tlearn: 0.3499095\ttotal: 1m 7s\tremaining: 8.82s\n",
      "884:\tlearn: 0.3498363\ttotal: 1m 7s\tremaining: 8.74s\n",
      "885:\tlearn: 0.3497619\ttotal: 1m 7s\tremaining: 8.67s\n",
      "886:\tlearn: 0.3497109\ttotal: 1m 7s\tremaining: 8.6s\n",
      "887:\tlearn: 0.3496423\ttotal: 1m 7s\tremaining: 8.52s\n",
      "888:\tlearn: 0.3495688\ttotal: 1m 7s\tremaining: 8.45s\n",
      "889:\tlearn: 0.3494962\ttotal: 1m 7s\tremaining: 8.38s\n",
      "890:\tlearn: 0.3494427\ttotal: 1m 7s\tremaining: 8.3s\n",
      "891:\tlearn: 0.3493643\ttotal: 1m 7s\tremaining: 8.23s\n",
      "892:\tlearn: 0.3492788\ttotal: 1m 8s\tremaining: 8.15s\n",
      "893:\tlearn: 0.3492207\ttotal: 1m 8s\tremaining: 8.08s\n",
      "894:\tlearn: 0.3491352\ttotal: 1m 8s\tremaining: 8s\n",
      "895:\tlearn: 0.3490728\ttotal: 1m 8s\tremaining: 7.93s\n",
      "896:\tlearn: 0.3490161\ttotal: 1m 8s\tremaining: 7.86s\n",
      "897:\tlearn: 0.3489043\ttotal: 1m 8s\tremaining: 7.78s\n",
      "898:\tlearn: 0.3488438\ttotal: 1m 8s\tremaining: 7.71s\n",
      "899:\tlearn: 0.3487795\ttotal: 1m 8s\tremaining: 7.63s\n",
      "900:\tlearn: 0.3487292\ttotal: 1m 8s\tremaining: 7.56s\n",
      "901:\tlearn: 0.3486608\ttotal: 1m 8s\tremaining: 7.48s\n",
      "902:\tlearn: 0.3486144\ttotal: 1m 8s\tremaining: 7.41s\n",
      "903:\tlearn: 0.3485559\ttotal: 1m 9s\tremaining: 7.33s\n",
      "904:\tlearn: 0.3484907\ttotal: 1m 9s\tremaining: 7.26s\n",
      "905:\tlearn: 0.3483854\ttotal: 1m 9s\tremaining: 7.19s\n",
      "906:\tlearn: 0.3483019\ttotal: 1m 9s\tremaining: 7.11s\n",
      "907:\tlearn: 0.3482471\ttotal: 1m 9s\tremaining: 7.04s\n",
      "908:\tlearn: 0.3482041\ttotal: 1m 9s\tremaining: 6.96s\n",
      "909:\tlearn: 0.3481281\ttotal: 1m 9s\tremaining: 6.88s\n",
      "910:\tlearn: 0.3480469\ttotal: 1m 9s\tremaining: 6.81s\n",
      "911:\tlearn: 0.3479856\ttotal: 1m 9s\tremaining: 6.74s\n",
      "912:\tlearn: 0.3479212\ttotal: 1m 9s\tremaining: 6.66s\n",
      "913:\tlearn: 0.3478699\ttotal: 1m 10s\tremaining: 6.59s\n",
      "914:\tlearn: 0.3477613\ttotal: 1m 10s\tremaining: 6.51s\n",
      "915:\tlearn: 0.3476884\ttotal: 1m 10s\tremaining: 6.44s\n",
      "916:\tlearn: 0.3476265\ttotal: 1m 10s\tremaining: 6.36s\n",
      "917:\tlearn: 0.3475775\ttotal: 1m 10s\tremaining: 6.29s\n",
      "918:\tlearn: 0.3475403\ttotal: 1m 10s\tremaining: 6.21s\n",
      "919:\tlearn: 0.3475053\ttotal: 1m 10s\tremaining: 6.13s\n",
      "920:\tlearn: 0.3474538\ttotal: 1m 10s\tremaining: 6.06s\n",
      "921:\tlearn: 0.3473762\ttotal: 1m 10s\tremaining: 5.98s\n",
      "922:\tlearn: 0.3473303\ttotal: 1m 10s\tremaining: 5.91s\n",
      "923:\tlearn: 0.3472578\ttotal: 1m 10s\tremaining: 5.83s\n",
      "924:\tlearn: 0.3471936\ttotal: 1m 11s\tremaining: 5.76s\n",
      "925:\tlearn: 0.3471452\ttotal: 1m 11s\tremaining: 5.68s\n",
      "926:\tlearn: 0.3470861\ttotal: 1m 11s\tremaining: 5.61s\n",
      "927:\tlearn: 0.3470161\ttotal: 1m 11s\tremaining: 5.53s\n",
      "928:\tlearn: 0.3469353\ttotal: 1m 11s\tremaining: 5.46s\n",
      "929:\tlearn: 0.3468774\ttotal: 1m 11s\tremaining: 5.38s\n",
      "930:\tlearn: 0.3467888\ttotal: 1m 11s\tremaining: 5.3s\n",
      "931:\tlearn: 0.3467297\ttotal: 1m 11s\tremaining: 5.23s\n",
      "932:\tlearn: 0.3466576\ttotal: 1m 11s\tremaining: 5.15s\n",
      "933:\tlearn: 0.3466084\ttotal: 1m 11s\tremaining: 5.08s\n",
      "934:\tlearn: 0.3465524\ttotal: 1m 11s\tremaining: 5s\n",
      "935:\tlearn: 0.3464840\ttotal: 1m 12s\tremaining: 4.92s\n",
      "936:\tlearn: 0.3464160\ttotal: 1m 12s\tremaining: 4.85s\n",
      "937:\tlearn: 0.3463342\ttotal: 1m 12s\tremaining: 4.77s\n",
      "938:\tlearn: 0.3462754\ttotal: 1m 12s\tremaining: 4.7s\n",
      "939:\tlearn: 0.3462085\ttotal: 1m 12s\tremaining: 4.62s\n",
      "940:\tlearn: 0.3461720\ttotal: 1m 12s\tremaining: 4.54s\n",
      "941:\tlearn: 0.3461041\ttotal: 1m 12s\tremaining: 4.47s\n",
      "942:\tlearn: 0.3460666\ttotal: 1m 12s\tremaining: 4.39s\n",
      "943:\tlearn: 0.3459820\ttotal: 1m 12s\tremaining: 4.31s\n",
      "944:\tlearn: 0.3459178\ttotal: 1m 12s\tremaining: 4.24s\n",
      "945:\tlearn: 0.3458173\ttotal: 1m 12s\tremaining: 4.16s\n",
      "946:\tlearn: 0.3457217\ttotal: 1m 13s\tremaining: 4.09s\n",
      "947:\tlearn: 0.3456525\ttotal: 1m 13s\tremaining: 4.01s\n",
      "948:\tlearn: 0.3455924\ttotal: 1m 13s\tremaining: 3.94s\n",
      "949:\tlearn: 0.3455005\ttotal: 1m 13s\tremaining: 3.86s\n",
      "950:\tlearn: 0.3454274\ttotal: 1m 13s\tremaining: 3.78s\n",
      "951:\tlearn: 0.3453473\ttotal: 1m 13s\tremaining: 3.71s\n",
      "952:\tlearn: 0.3452370\ttotal: 1m 13s\tremaining: 3.63s\n",
      "953:\tlearn: 0.3451634\ttotal: 1m 13s\tremaining: 3.55s\n",
      "954:\tlearn: 0.3451019\ttotal: 1m 13s\tremaining: 3.48s\n",
      "955:\tlearn: 0.3450237\ttotal: 1m 13s\tremaining: 3.4s\n",
      "956:\tlearn: 0.3449955\ttotal: 1m 14s\tremaining: 3.33s\n",
      "957:\tlearn: 0.3449305\ttotal: 1m 14s\tremaining: 3.25s\n",
      "958:\tlearn: 0.3448662\ttotal: 1m 14s\tremaining: 3.17s\n",
      "959:\tlearn: 0.3448142\ttotal: 1m 14s\tremaining: 3.09s\n",
      "960:\tlearn: 0.3447470\ttotal: 1m 14s\tremaining: 3.02s\n"
     ]
    },
    {
     "name": "stdout",
     "output_type": "stream",
     "text": [
      "961:\tlearn: 0.3446575\ttotal: 1m 14s\tremaining: 2.94s\n",
      "962:\tlearn: 0.3446008\ttotal: 1m 14s\tremaining: 2.87s\n",
      "963:\tlearn: 0.3445188\ttotal: 1m 14s\tremaining: 2.79s\n",
      "964:\tlearn: 0.3444727\ttotal: 1m 14s\tremaining: 2.71s\n",
      "965:\tlearn: 0.3444270\ttotal: 1m 14s\tremaining: 2.63s\n",
      "966:\tlearn: 0.3443619\ttotal: 1m 14s\tremaining: 2.56s\n",
      "967:\tlearn: 0.3442957\ttotal: 1m 15s\tremaining: 2.48s\n",
      "968:\tlearn: 0.3442392\ttotal: 1m 15s\tremaining: 2.4s\n",
      "969:\tlearn: 0.3441828\ttotal: 1m 15s\tremaining: 2.33s\n",
      "970:\tlearn: 0.3441489\ttotal: 1m 15s\tremaining: 2.25s\n",
      "971:\tlearn: 0.3440478\ttotal: 1m 15s\tremaining: 2.17s\n",
      "972:\tlearn: 0.3440025\ttotal: 1m 15s\tremaining: 2.1s\n",
      "973:\tlearn: 0.3439361\ttotal: 1m 15s\tremaining: 2.02s\n",
      "974:\tlearn: 0.3438445\ttotal: 1m 15s\tremaining: 1.94s\n",
      "975:\tlearn: 0.3438013\ttotal: 1m 15s\tremaining: 1.86s\n",
      "976:\tlearn: 0.3437134\ttotal: 1m 15s\tremaining: 1.79s\n",
      "977:\tlearn: 0.3436774\ttotal: 1m 15s\tremaining: 1.71s\n",
      "978:\tlearn: 0.3435865\ttotal: 1m 16s\tremaining: 1.63s\n",
      "979:\tlearn: 0.3435290\ttotal: 1m 16s\tremaining: 1.55s\n",
      "980:\tlearn: 0.3434878\ttotal: 1m 16s\tremaining: 1.48s\n",
      "981:\tlearn: 0.3434302\ttotal: 1m 16s\tremaining: 1.4s\n",
      "982:\tlearn: 0.3433715\ttotal: 1m 16s\tremaining: 1.32s\n",
      "983:\tlearn: 0.3433075\ttotal: 1m 16s\tremaining: 1.24s\n",
      "984:\tlearn: 0.3432385\ttotal: 1m 16s\tremaining: 1.17s\n",
      "985:\tlearn: 0.3431817\ttotal: 1m 16s\tremaining: 1.09s\n",
      "986:\tlearn: 0.3431283\ttotal: 1m 16s\tremaining: 1.01s\n",
      "987:\tlearn: 0.3430787\ttotal: 1m 17s\tremaining: 935ms\n",
      "988:\tlearn: 0.3430262\ttotal: 1m 17s\tremaining: 858ms\n",
      "989:\tlearn: 0.3429485\ttotal: 1m 17s\tremaining: 780ms\n",
      "990:\tlearn: 0.3428823\ttotal: 1m 17s\tremaining: 703ms\n",
      "991:\tlearn: 0.3428307\ttotal: 1m 17s\tremaining: 625ms\n",
      "992:\tlearn: 0.3427556\ttotal: 1m 17s\tremaining: 547ms\n",
      "993:\tlearn: 0.3426850\ttotal: 1m 17s\tremaining: 469ms\n",
      "994:\tlearn: 0.3426338\ttotal: 1m 17s\tremaining: 391ms\n",
      "995:\tlearn: 0.3426027\ttotal: 1m 17s\tremaining: 313ms\n",
      "996:\tlearn: 0.3425302\ttotal: 1m 18s\tremaining: 235ms\n",
      "997:\tlearn: 0.3424893\ttotal: 1m 18s\tremaining: 157ms\n",
      "998:\tlearn: 0.3424012\ttotal: 1m 18s\tremaining: 78.4ms\n",
      "999:\tlearn: 0.3423593\ttotal: 1m 18s\tremaining: 0us\n"
     ]
    }
   ],
   "source": [
    "cb = catboost.CatBoostClassifier()\n",
    "cb.fit(X_train,y_train)\n",
    "cb_pred = cb.predict(X_test)"
   ]
  },
  {
   "cell_type": "code",
   "execution_count": 239,
   "metadata": {},
   "outputs": [
    {
     "name": "stdout",
     "output_type": "stream",
     "text": [
      "0.8320899778705542\n",
      "0.832575068243858\n",
      "[[18173  3800]\n",
      " [ 3560 18300]]\n"
     ]
    }
   ],
   "source": [
    "print(accuracy_score(y_test, cb_pred))\n",
    "print(f1_score(y_test, cb_pred))\n",
    "print(confusion_matrix(y_test, cb_pred))"
   ]
  },
  {
   "cell_type": "code",
   "execution_count": null,
   "metadata": {},
   "outputs": [],
   "source": []
  },
  {
   "cell_type": "code",
   "execution_count": 240,
   "metadata": {},
   "outputs": [],
   "source": [
    "rfc = RandomForestClassifier()"
   ]
  },
  {
   "cell_type": "code",
   "execution_count": 241,
   "metadata": {},
   "outputs": [
    {
     "data": {
      "text/plain": [
       "RandomForestClassifier()"
      ]
     },
     "execution_count": 241,
     "metadata": {},
     "output_type": "execute_result"
    }
   ],
   "source": [
    "rfc.fit(X_train, y_train)"
   ]
  },
  {
   "cell_type": "code",
   "execution_count": 242,
   "metadata": {},
   "outputs": [
    {
     "data": {
      "text/plain": [
       "array([1, 1, 0, ..., 1, 1, 0], dtype=int64)"
      ]
     },
     "execution_count": 242,
     "metadata": {},
     "output_type": "execute_result"
    }
   ],
   "source": [
    "rfc_pred = rfc.predict(X_test)\n",
    "rfc_pred"
   ]
  },
  {
   "cell_type": "code",
   "execution_count": 243,
   "metadata": {},
   "outputs": [
    {
     "name": "stdout",
     "output_type": "stream",
     "text": [
      "0.947573745807953\n",
      "0.9489401413144914\n",
      "[[20181  1792]\n",
      " [  506 21354]]\n"
     ]
    }
   ],
   "source": [
    "print(accuracy_score(y_test, rfc_pred))\n",
    "print(f1_score(y_test, rfc_pred))\n",
    "print(confusion_matrix(y_test, rfc_pred))"
   ]
  },
  {
   "cell_type": "code",
   "execution_count": null,
   "metadata": {},
   "outputs": [],
   "source": []
  },
  {
   "cell_type": "markdown",
   "metadata": {},
   "source": [
    "## Smote Technique"
   ]
  },
  {
   "cell_type": "code",
   "execution_count": null,
   "metadata": {},
   "outputs": [],
   "source": []
  },
  {
   "cell_type": "code",
   "execution_count": 244,
   "metadata": {},
   "outputs": [],
   "source": [
    "# %%capture\n",
    "# !pip install imbalanced-learn"
   ]
  },
  {
   "cell_type": "code",
   "execution_count": 254,
   "metadata": {},
   "outputs": [],
   "source": [
    "from imblearn.over_sampling import SMOTE"
   ]
  },
  {
   "cell_type": "code",
   "execution_count": 255,
   "metadata": {},
   "outputs": [],
   "source": [
    "# knn_class(X,y,name)"
   ]
  },
  {
   "cell_type": "code",
   "execution_count": 256,
   "metadata": {},
   "outputs": [
    {
     "data": {
      "text/html": [
       "<div>\n",
       "<style scoped>\n",
       "    .dataframe tbody tr th:only-of-type {\n",
       "        vertical-align: middle;\n",
       "    }\n",
       "\n",
       "    .dataframe tbody tr th {\n",
       "        vertical-align: top;\n",
       "    }\n",
       "\n",
       "    .dataframe thead th {\n",
       "        text-align: right;\n",
       "    }\n",
       "</style>\n",
       "<table border=\"1\" class=\"dataframe\">\n",
       "  <thead>\n",
       "    <tr style=\"text-align: right;\">\n",
       "      <th></th>\n",
       "      <th>MinTemp</th>\n",
       "      <th>MaxTemp</th>\n",
       "      <th>Rainfall</th>\n",
       "      <th>Evaporation</th>\n",
       "      <th>Sunshine</th>\n",
       "      <th>WindGustDir</th>\n",
       "      <th>WindGustSpeed</th>\n",
       "      <th>WindDir9am</th>\n",
       "      <th>WindDir3pm</th>\n",
       "      <th>WindSpeed9am</th>\n",
       "      <th>...</th>\n",
       "      <th>Humidity9am</th>\n",
       "      <th>Humidity3pm</th>\n",
       "      <th>Pressure9am</th>\n",
       "      <th>Pressure3pm</th>\n",
       "      <th>Cloud9am</th>\n",
       "      <th>Cloud3pm</th>\n",
       "      <th>Temp9am</th>\n",
       "      <th>Temp3pm</th>\n",
       "      <th>RainToday</th>\n",
       "      <th>RainTomorrow</th>\n",
       "    </tr>\n",
       "  </thead>\n",
       "  <tbody>\n",
       "    <tr>\n",
       "      <th>0</th>\n",
       "      <td>13.4</td>\n",
       "      <td>22.9</td>\n",
       "      <td>0.6</td>\n",
       "      <td>5.462012</td>\n",
       "      <td>7.611104</td>\n",
       "      <td>1</td>\n",
       "      <td>44.0</td>\n",
       "      <td>1</td>\n",
       "      <td>1</td>\n",
       "      <td>20.0</td>\n",
       "      <td>...</td>\n",
       "      <td>71.0</td>\n",
       "      <td>22.0</td>\n",
       "      <td>1007.7</td>\n",
       "      <td>1007.1</td>\n",
       "      <td>8.000000</td>\n",
       "      <td>4.509948</td>\n",
       "      <td>16.9</td>\n",
       "      <td>21.8</td>\n",
       "      <td>0</td>\n",
       "      <td>0</td>\n",
       "    </tr>\n",
       "    <tr>\n",
       "      <th>1</th>\n",
       "      <td>7.4</td>\n",
       "      <td>25.1</td>\n",
       "      <td>0.0</td>\n",
       "      <td>5.462012</td>\n",
       "      <td>7.611104</td>\n",
       "      <td>1</td>\n",
       "      <td>44.0</td>\n",
       "      <td>1</td>\n",
       "      <td>1</td>\n",
       "      <td>4.0</td>\n",
       "      <td>...</td>\n",
       "      <td>44.0</td>\n",
       "      <td>25.0</td>\n",
       "      <td>1010.6</td>\n",
       "      <td>1007.8</td>\n",
       "      <td>4.447542</td>\n",
       "      <td>4.509948</td>\n",
       "      <td>17.2</td>\n",
       "      <td>24.3</td>\n",
       "      <td>0</td>\n",
       "      <td>0</td>\n",
       "    </tr>\n",
       "    <tr>\n",
       "      <th>2</th>\n",
       "      <td>12.9</td>\n",
       "      <td>25.7</td>\n",
       "      <td>0.0</td>\n",
       "      <td>5.462012</td>\n",
       "      <td>7.611104</td>\n",
       "      <td>1</td>\n",
       "      <td>46.0</td>\n",
       "      <td>1</td>\n",
       "      <td>1</td>\n",
       "      <td>19.0</td>\n",
       "      <td>...</td>\n",
       "      <td>38.0</td>\n",
       "      <td>30.0</td>\n",
       "      <td>1007.6</td>\n",
       "      <td>1008.7</td>\n",
       "      <td>4.447542</td>\n",
       "      <td>2.000000</td>\n",
       "      <td>21.0</td>\n",
       "      <td>23.2</td>\n",
       "      <td>0</td>\n",
       "      <td>0</td>\n",
       "    </tr>\n",
       "    <tr>\n",
       "      <th>3</th>\n",
       "      <td>9.2</td>\n",
       "      <td>28.0</td>\n",
       "      <td>0.0</td>\n",
       "      <td>5.462012</td>\n",
       "      <td>7.611104</td>\n",
       "      <td>1</td>\n",
       "      <td>24.0</td>\n",
       "      <td>1</td>\n",
       "      <td>0</td>\n",
       "      <td>11.0</td>\n",
       "      <td>...</td>\n",
       "      <td>45.0</td>\n",
       "      <td>16.0</td>\n",
       "      <td>1017.6</td>\n",
       "      <td>1012.8</td>\n",
       "      <td>4.447542</td>\n",
       "      <td>4.509948</td>\n",
       "      <td>18.1</td>\n",
       "      <td>26.5</td>\n",
       "      <td>0</td>\n",
       "      <td>0</td>\n",
       "    </tr>\n",
       "    <tr>\n",
       "      <th>4</th>\n",
       "      <td>17.5</td>\n",
       "      <td>32.3</td>\n",
       "      <td>1.0</td>\n",
       "      <td>5.462012</td>\n",
       "      <td>7.611104</td>\n",
       "      <td>1</td>\n",
       "      <td>41.0</td>\n",
       "      <td>1</td>\n",
       "      <td>1</td>\n",
       "      <td>7.0</td>\n",
       "      <td>...</td>\n",
       "      <td>82.0</td>\n",
       "      <td>33.0</td>\n",
       "      <td>1010.8</td>\n",
       "      <td>1006.0</td>\n",
       "      <td>7.000000</td>\n",
       "      <td>8.000000</td>\n",
       "      <td>17.8</td>\n",
       "      <td>29.7</td>\n",
       "      <td>0</td>\n",
       "      <td>0</td>\n",
       "    </tr>\n",
       "    <tr>\n",
       "      <th>...</th>\n",
       "      <td>...</td>\n",
       "      <td>...</td>\n",
       "      <td>...</td>\n",
       "      <td>...</td>\n",
       "      <td>...</td>\n",
       "      <td>...</td>\n",
       "      <td>...</td>\n",
       "      <td>...</td>\n",
       "      <td>...</td>\n",
       "      <td>...</td>\n",
       "      <td>...</td>\n",
       "      <td>...</td>\n",
       "      <td>...</td>\n",
       "      <td>...</td>\n",
       "      <td>...</td>\n",
       "      <td>...</td>\n",
       "      <td>...</td>\n",
       "      <td>...</td>\n",
       "      <td>...</td>\n",
       "      <td>...</td>\n",
       "      <td>...</td>\n",
       "    </tr>\n",
       "    <tr>\n",
       "      <th>145454</th>\n",
       "      <td>3.5</td>\n",
       "      <td>21.8</td>\n",
       "      <td>0.0</td>\n",
       "      <td>5.462012</td>\n",
       "      <td>7.611104</td>\n",
       "      <td>0</td>\n",
       "      <td>31.0</td>\n",
       "      <td>1</td>\n",
       "      <td>0</td>\n",
       "      <td>15.0</td>\n",
       "      <td>...</td>\n",
       "      <td>59.0</td>\n",
       "      <td>27.0</td>\n",
       "      <td>1024.7</td>\n",
       "      <td>1021.2</td>\n",
       "      <td>4.447542</td>\n",
       "      <td>4.509948</td>\n",
       "      <td>9.4</td>\n",
       "      <td>20.9</td>\n",
       "      <td>0</td>\n",
       "      <td>0</td>\n",
       "    </tr>\n",
       "    <tr>\n",
       "      <th>145455</th>\n",
       "      <td>2.8</td>\n",
       "      <td>23.4</td>\n",
       "      <td>0.0</td>\n",
       "      <td>5.462012</td>\n",
       "      <td>7.611104</td>\n",
       "      <td>0</td>\n",
       "      <td>31.0</td>\n",
       "      <td>1</td>\n",
       "      <td>1</td>\n",
       "      <td>13.0</td>\n",
       "      <td>...</td>\n",
       "      <td>51.0</td>\n",
       "      <td>24.0</td>\n",
       "      <td>1024.6</td>\n",
       "      <td>1020.3</td>\n",
       "      <td>4.447542</td>\n",
       "      <td>4.509948</td>\n",
       "      <td>10.1</td>\n",
       "      <td>22.4</td>\n",
       "      <td>0</td>\n",
       "      <td>0</td>\n",
       "    </tr>\n",
       "    <tr>\n",
       "      <th>145456</th>\n",
       "      <td>3.6</td>\n",
       "      <td>25.3</td>\n",
       "      <td>0.0</td>\n",
       "      <td>5.462012</td>\n",
       "      <td>7.611104</td>\n",
       "      <td>1</td>\n",
       "      <td>22.0</td>\n",
       "      <td>1</td>\n",
       "      <td>1</td>\n",
       "      <td>13.0</td>\n",
       "      <td>...</td>\n",
       "      <td>56.0</td>\n",
       "      <td>21.0</td>\n",
       "      <td>1023.5</td>\n",
       "      <td>1019.1</td>\n",
       "      <td>4.447542</td>\n",
       "      <td>4.509948</td>\n",
       "      <td>10.9</td>\n",
       "      <td>24.5</td>\n",
       "      <td>0</td>\n",
       "      <td>0</td>\n",
       "    </tr>\n",
       "    <tr>\n",
       "      <th>145457</th>\n",
       "      <td>5.4</td>\n",
       "      <td>26.9</td>\n",
       "      <td>0.0</td>\n",
       "      <td>5.462012</td>\n",
       "      <td>7.611104</td>\n",
       "      <td>1</td>\n",
       "      <td>37.0</td>\n",
       "      <td>1</td>\n",
       "      <td>1</td>\n",
       "      <td>9.0</td>\n",
       "      <td>...</td>\n",
       "      <td>53.0</td>\n",
       "      <td>24.0</td>\n",
       "      <td>1021.0</td>\n",
       "      <td>1016.8</td>\n",
       "      <td>4.447542</td>\n",
       "      <td>4.509948</td>\n",
       "      <td>12.5</td>\n",
       "      <td>26.1</td>\n",
       "      <td>0</td>\n",
       "      <td>0</td>\n",
       "    </tr>\n",
       "    <tr>\n",
       "      <th>145458</th>\n",
       "      <td>7.8</td>\n",
       "      <td>27.0</td>\n",
       "      <td>0.0</td>\n",
       "      <td>5.462012</td>\n",
       "      <td>7.611104</td>\n",
       "      <td>1</td>\n",
       "      <td>28.0</td>\n",
       "      <td>1</td>\n",
       "      <td>1</td>\n",
       "      <td>13.0</td>\n",
       "      <td>...</td>\n",
       "      <td>51.0</td>\n",
       "      <td>24.0</td>\n",
       "      <td>1019.4</td>\n",
       "      <td>1016.5</td>\n",
       "      <td>3.000000</td>\n",
       "      <td>2.000000</td>\n",
       "      <td>15.1</td>\n",
       "      <td>26.0</td>\n",
       "      <td>0</td>\n",
       "      <td>0</td>\n",
       "    </tr>\n",
       "  </tbody>\n",
       "</table>\n",
       "<p>109581 rows × 21 columns</p>\n",
       "</div>"
      ],
      "text/plain": [
       "        MinTemp  MaxTemp  Rainfall  Evaporation  Sunshine  WindGustDir  \\\n",
       "0          13.4     22.9       0.6     5.462012  7.611104            1   \n",
       "1           7.4     25.1       0.0     5.462012  7.611104            1   \n",
       "2          12.9     25.7       0.0     5.462012  7.611104            1   \n",
       "3           9.2     28.0       0.0     5.462012  7.611104            1   \n",
       "4          17.5     32.3       1.0     5.462012  7.611104            1   \n",
       "...         ...      ...       ...          ...       ...          ...   \n",
       "145454      3.5     21.8       0.0     5.462012  7.611104            0   \n",
       "145455      2.8     23.4       0.0     5.462012  7.611104            0   \n",
       "145456      3.6     25.3       0.0     5.462012  7.611104            1   \n",
       "145457      5.4     26.9       0.0     5.462012  7.611104            1   \n",
       "145458      7.8     27.0       0.0     5.462012  7.611104            1   \n",
       "\n",
       "        WindGustSpeed  WindDir9am  WindDir3pm  WindSpeed9am  ...  Humidity9am  \\\n",
       "0                44.0           1           1          20.0  ...         71.0   \n",
       "1                44.0           1           1           4.0  ...         44.0   \n",
       "2                46.0           1           1          19.0  ...         38.0   \n",
       "3                24.0           1           0          11.0  ...         45.0   \n",
       "4                41.0           1           1           7.0  ...         82.0   \n",
       "...               ...         ...         ...           ...  ...          ...   \n",
       "145454           31.0           1           0          15.0  ...         59.0   \n",
       "145455           31.0           1           1          13.0  ...         51.0   \n",
       "145456           22.0           1           1          13.0  ...         56.0   \n",
       "145457           37.0           1           1           9.0  ...         53.0   \n",
       "145458           28.0           1           1          13.0  ...         51.0   \n",
       "\n",
       "        Humidity3pm  Pressure9am  Pressure3pm  Cloud9am  Cloud3pm  Temp9am  \\\n",
       "0              22.0       1007.7       1007.1  8.000000  4.509948     16.9   \n",
       "1              25.0       1010.6       1007.8  4.447542  4.509948     17.2   \n",
       "2              30.0       1007.6       1008.7  4.447542  2.000000     21.0   \n",
       "3              16.0       1017.6       1012.8  4.447542  4.509948     18.1   \n",
       "4              33.0       1010.8       1006.0  7.000000  8.000000     17.8   \n",
       "...             ...          ...          ...       ...       ...      ...   \n",
       "145454         27.0       1024.7       1021.2  4.447542  4.509948      9.4   \n",
       "145455         24.0       1024.6       1020.3  4.447542  4.509948     10.1   \n",
       "145456         21.0       1023.5       1019.1  4.447542  4.509948     10.9   \n",
       "145457         24.0       1021.0       1016.8  4.447542  4.509948     12.5   \n",
       "145458         24.0       1019.4       1016.5  3.000000  2.000000     15.1   \n",
       "\n",
       "        Temp3pm  RainToday  RainTomorrow  \n",
       "0          21.8          0             0  \n",
       "1          24.3          0             0  \n",
       "2          23.2          0             0  \n",
       "3          26.5          0             0  \n",
       "4          29.7          0             0  \n",
       "...         ...        ...           ...  \n",
       "145454     20.9          0             0  \n",
       "145455     22.4          0             0  \n",
       "145456     24.5          0             0  \n",
       "145457     26.1          0             0  \n",
       "145458     26.0          0             0  \n",
       "\n",
       "[109581 rows x 21 columns]"
      ]
     },
     "execution_count": 256,
     "metadata": {},
     "output_type": "execute_result"
    }
   ],
   "source": [
    "df_class_0"
   ]
  },
  {
   "cell_type": "code",
   "execution_count": 257,
   "metadata": {},
   "outputs": [
    {
     "data": {
      "text/html": [
       "<div>\n",
       "<style scoped>\n",
       "    .dataframe tbody tr th:only-of-type {\n",
       "        vertical-align: middle;\n",
       "    }\n",
       "\n",
       "    .dataframe tbody tr th {\n",
       "        vertical-align: top;\n",
       "    }\n",
       "\n",
       "    .dataframe thead th {\n",
       "        text-align: right;\n",
       "    }\n",
       "</style>\n",
       "<table border=\"1\" class=\"dataframe\">\n",
       "  <thead>\n",
       "    <tr style=\"text-align: right;\">\n",
       "      <th></th>\n",
       "      <th>MinTemp</th>\n",
       "      <th>MaxTemp</th>\n",
       "      <th>Rainfall</th>\n",
       "      <th>Evaporation</th>\n",
       "      <th>Sunshine</th>\n",
       "      <th>WindGustDir</th>\n",
       "      <th>WindGustSpeed</th>\n",
       "      <th>WindDir9am</th>\n",
       "      <th>WindDir3pm</th>\n",
       "      <th>WindSpeed9am</th>\n",
       "      <th>...</th>\n",
       "      <th>Humidity9am</th>\n",
       "      <th>Humidity3pm</th>\n",
       "      <th>Pressure9am</th>\n",
       "      <th>Pressure3pm</th>\n",
       "      <th>Cloud9am</th>\n",
       "      <th>Cloud3pm</th>\n",
       "      <th>Temp9am</th>\n",
       "      <th>Temp3pm</th>\n",
       "      <th>RainToday</th>\n",
       "      <th>RainTomorrow</th>\n",
       "    </tr>\n",
       "  </thead>\n",
       "  <tbody>\n",
       "    <tr>\n",
       "      <th>8</th>\n",
       "      <td>9.7</td>\n",
       "      <td>31.9</td>\n",
       "      <td>0.0</td>\n",
       "      <td>5.462012</td>\n",
       "      <td>7.611104</td>\n",
       "      <td>1</td>\n",
       "      <td>80.0</td>\n",
       "      <td>1</td>\n",
       "      <td>1</td>\n",
       "      <td>7.0</td>\n",
       "      <td>...</td>\n",
       "      <td>42.0</td>\n",
       "      <td>9.0</td>\n",
       "      <td>1008.9</td>\n",
       "      <td>1003.6</td>\n",
       "      <td>4.447542</td>\n",
       "      <td>4.509948</td>\n",
       "      <td>18.3</td>\n",
       "      <td>30.2</td>\n",
       "      <td>0</td>\n",
       "      <td>1</td>\n",
       "    </tr>\n",
       "    <tr>\n",
       "      <th>10</th>\n",
       "      <td>13.4</td>\n",
       "      <td>30.4</td>\n",
       "      <td>0.0</td>\n",
       "      <td>5.462012</td>\n",
       "      <td>7.611104</td>\n",
       "      <td>1</td>\n",
       "      <td>30.0</td>\n",
       "      <td>1</td>\n",
       "      <td>1</td>\n",
       "      <td>17.0</td>\n",
       "      <td>...</td>\n",
       "      <td>48.0</td>\n",
       "      <td>22.0</td>\n",
       "      <td>1011.8</td>\n",
       "      <td>1008.7</td>\n",
       "      <td>4.447542</td>\n",
       "      <td>4.509948</td>\n",
       "      <td>20.4</td>\n",
       "      <td>28.8</td>\n",
       "      <td>0</td>\n",
       "      <td>1</td>\n",
       "    </tr>\n",
       "    <tr>\n",
       "      <th>11</th>\n",
       "      <td>15.9</td>\n",
       "      <td>21.7</td>\n",
       "      <td>2.2</td>\n",
       "      <td>5.462012</td>\n",
       "      <td>7.611104</td>\n",
       "      <td>1</td>\n",
       "      <td>31.0</td>\n",
       "      <td>1</td>\n",
       "      <td>1</td>\n",
       "      <td>15.0</td>\n",
       "      <td>...</td>\n",
       "      <td>89.0</td>\n",
       "      <td>91.0</td>\n",
       "      <td>1010.5</td>\n",
       "      <td>1004.2</td>\n",
       "      <td>8.000000</td>\n",
       "      <td>8.000000</td>\n",
       "      <td>15.9</td>\n",
       "      <td>17.0</td>\n",
       "      <td>1</td>\n",
       "      <td>1</td>\n",
       "    </tr>\n",
       "    <tr>\n",
       "      <th>12</th>\n",
       "      <td>15.9</td>\n",
       "      <td>18.6</td>\n",
       "      <td>15.6</td>\n",
       "      <td>5.462012</td>\n",
       "      <td>7.611104</td>\n",
       "      <td>1</td>\n",
       "      <td>61.0</td>\n",
       "      <td>1</td>\n",
       "      <td>1</td>\n",
       "      <td>28.0</td>\n",
       "      <td>...</td>\n",
       "      <td>76.0</td>\n",
       "      <td>93.0</td>\n",
       "      <td>994.3</td>\n",
       "      <td>993.0</td>\n",
       "      <td>8.000000</td>\n",
       "      <td>8.000000</td>\n",
       "      <td>17.4</td>\n",
       "      <td>15.8</td>\n",
       "      <td>1</td>\n",
       "      <td>1</td>\n",
       "    </tr>\n",
       "    <tr>\n",
       "      <th>16</th>\n",
       "      <td>14.1</td>\n",
       "      <td>20.9</td>\n",
       "      <td>0.0</td>\n",
       "      <td>5.462012</td>\n",
       "      <td>7.611104</td>\n",
       "      <td>1</td>\n",
       "      <td>22.0</td>\n",
       "      <td>1</td>\n",
       "      <td>0</td>\n",
       "      <td>11.0</td>\n",
       "      <td>...</td>\n",
       "      <td>69.0</td>\n",
       "      <td>82.0</td>\n",
       "      <td>1012.2</td>\n",
       "      <td>1010.4</td>\n",
       "      <td>8.000000</td>\n",
       "      <td>1.000000</td>\n",
       "      <td>17.2</td>\n",
       "      <td>18.1</td>\n",
       "      <td>0</td>\n",
       "      <td>1</td>\n",
       "    </tr>\n",
       "    <tr>\n",
       "      <th>...</th>\n",
       "      <td>...</td>\n",
       "      <td>...</td>\n",
       "      <td>...</td>\n",
       "      <td>...</td>\n",
       "      <td>...</td>\n",
       "      <td>...</td>\n",
       "      <td>...</td>\n",
       "      <td>...</td>\n",
       "      <td>...</td>\n",
       "      <td>...</td>\n",
       "      <td>...</td>\n",
       "      <td>...</td>\n",
       "      <td>...</td>\n",
       "      <td>...</td>\n",
       "      <td>...</td>\n",
       "      <td>...</td>\n",
       "      <td>...</td>\n",
       "      <td>...</td>\n",
       "      <td>...</td>\n",
       "      <td>...</td>\n",
       "      <td>...</td>\n",
       "    </tr>\n",
       "    <tr>\n",
       "      <th>145324</th>\n",
       "      <td>24.8</td>\n",
       "      <td>39.8</td>\n",
       "      <td>0.4</td>\n",
       "      <td>5.462012</td>\n",
       "      <td>7.611104</td>\n",
       "      <td>1</td>\n",
       "      <td>65.0</td>\n",
       "      <td>0</td>\n",
       "      <td>1</td>\n",
       "      <td>15.0</td>\n",
       "      <td>...</td>\n",
       "      <td>38.0</td>\n",
       "      <td>24.0</td>\n",
       "      <td>1007.0</td>\n",
       "      <td>1003.6</td>\n",
       "      <td>4.447542</td>\n",
       "      <td>4.509948</td>\n",
       "      <td>31.5</td>\n",
       "      <td>36.6</td>\n",
       "      <td>0</td>\n",
       "      <td>1</td>\n",
       "    </tr>\n",
       "    <tr>\n",
       "      <th>145390</th>\n",
       "      <td>19.3</td>\n",
       "      <td>24.4</td>\n",
       "      <td>0.0</td>\n",
       "      <td>5.462012</td>\n",
       "      <td>7.611104</td>\n",
       "      <td>1</td>\n",
       "      <td>35.0</td>\n",
       "      <td>1</td>\n",
       "      <td>1</td>\n",
       "      <td>7.0</td>\n",
       "      <td>...</td>\n",
       "      <td>28.0</td>\n",
       "      <td>91.0</td>\n",
       "      <td>1015.9</td>\n",
       "      <td>1013.9</td>\n",
       "      <td>8.000000</td>\n",
       "      <td>8.000000</td>\n",
       "      <td>21.3</td>\n",
       "      <td>18.5</td>\n",
       "      <td>0</td>\n",
       "      <td>1</td>\n",
       "    </tr>\n",
       "    <tr>\n",
       "      <th>145391</th>\n",
       "      <td>15.2</td>\n",
       "      <td>21.5</td>\n",
       "      <td>6.8</td>\n",
       "      <td>5.462012</td>\n",
       "      <td>7.611104</td>\n",
       "      <td>1</td>\n",
       "      <td>30.0</td>\n",
       "      <td>1</td>\n",
       "      <td>1</td>\n",
       "      <td>19.0</td>\n",
       "      <td>...</td>\n",
       "      <td>65.0</td>\n",
       "      <td>65.0</td>\n",
       "      <td>1016.9</td>\n",
       "      <td>1015.3</td>\n",
       "      <td>3.000000</td>\n",
       "      <td>8.000000</td>\n",
       "      <td>19.0</td>\n",
       "      <td>21.2</td>\n",
       "      <td>1</td>\n",
       "      <td>1</td>\n",
       "    </tr>\n",
       "    <tr>\n",
       "      <th>145392</th>\n",
       "      <td>17.7</td>\n",
       "      <td>26.9</td>\n",
       "      <td>12.6</td>\n",
       "      <td>5.462012</td>\n",
       "      <td>7.611104</td>\n",
       "      <td>1</td>\n",
       "      <td>35.0</td>\n",
       "      <td>0</td>\n",
       "      <td>1</td>\n",
       "      <td>15.0</td>\n",
       "      <td>...</td>\n",
       "      <td>93.0</td>\n",
       "      <td>59.0</td>\n",
       "      <td>1018.1</td>\n",
       "      <td>1014.7</td>\n",
       "      <td>7.000000</td>\n",
       "      <td>8.000000</td>\n",
       "      <td>19.0</td>\n",
       "      <td>26.0</td>\n",
       "      <td>1</td>\n",
       "      <td>1</td>\n",
       "    </tr>\n",
       "    <tr>\n",
       "      <th>145393</th>\n",
       "      <td>18.6</td>\n",
       "      <td>28.6</td>\n",
       "      <td>34.6</td>\n",
       "      <td>5.462012</td>\n",
       "      <td>7.611104</td>\n",
       "      <td>0</td>\n",
       "      <td>46.0</td>\n",
       "      <td>0</td>\n",
       "      <td>0</td>\n",
       "      <td>4.0</td>\n",
       "      <td>...</td>\n",
       "      <td>100.0</td>\n",
       "      <td>56.0</td>\n",
       "      <td>1020.0</td>\n",
       "      <td>1015.8</td>\n",
       "      <td>8.000000</td>\n",
       "      <td>5.000000</td>\n",
       "      <td>19.8</td>\n",
       "      <td>26.9</td>\n",
       "      <td>1</td>\n",
       "      <td>1</td>\n",
       "    </tr>\n",
       "  </tbody>\n",
       "</table>\n",
       "<p>31200 rows × 21 columns</p>\n",
       "</div>"
      ],
      "text/plain": [
       "        MinTemp  MaxTemp  Rainfall  Evaporation  Sunshine  WindGustDir  \\\n",
       "8           9.7     31.9       0.0     5.462012  7.611104            1   \n",
       "10         13.4     30.4       0.0     5.462012  7.611104            1   \n",
       "11         15.9     21.7       2.2     5.462012  7.611104            1   \n",
       "12         15.9     18.6      15.6     5.462012  7.611104            1   \n",
       "16         14.1     20.9       0.0     5.462012  7.611104            1   \n",
       "...         ...      ...       ...          ...       ...          ...   \n",
       "145324     24.8     39.8       0.4     5.462012  7.611104            1   \n",
       "145390     19.3     24.4       0.0     5.462012  7.611104            1   \n",
       "145391     15.2     21.5       6.8     5.462012  7.611104            1   \n",
       "145392     17.7     26.9      12.6     5.462012  7.611104            1   \n",
       "145393     18.6     28.6      34.6     5.462012  7.611104            0   \n",
       "\n",
       "        WindGustSpeed  WindDir9am  WindDir3pm  WindSpeed9am  ...  Humidity9am  \\\n",
       "8                80.0           1           1           7.0  ...         42.0   \n",
       "10               30.0           1           1          17.0  ...         48.0   \n",
       "11               31.0           1           1          15.0  ...         89.0   \n",
       "12               61.0           1           1          28.0  ...         76.0   \n",
       "16               22.0           1           0          11.0  ...         69.0   \n",
       "...               ...         ...         ...           ...  ...          ...   \n",
       "145324           65.0           0           1          15.0  ...         38.0   \n",
       "145390           35.0           1           1           7.0  ...         28.0   \n",
       "145391           30.0           1           1          19.0  ...         65.0   \n",
       "145392           35.0           0           1          15.0  ...         93.0   \n",
       "145393           46.0           0           0           4.0  ...        100.0   \n",
       "\n",
       "        Humidity3pm  Pressure9am  Pressure3pm  Cloud9am  Cloud3pm  Temp9am  \\\n",
       "8               9.0       1008.9       1003.6  4.447542  4.509948     18.3   \n",
       "10             22.0       1011.8       1008.7  4.447542  4.509948     20.4   \n",
       "11             91.0       1010.5       1004.2  8.000000  8.000000     15.9   \n",
       "12             93.0        994.3        993.0  8.000000  8.000000     17.4   \n",
       "16             82.0       1012.2       1010.4  8.000000  1.000000     17.2   \n",
       "...             ...          ...          ...       ...       ...      ...   \n",
       "145324         24.0       1007.0       1003.6  4.447542  4.509948     31.5   \n",
       "145390         91.0       1015.9       1013.9  8.000000  8.000000     21.3   \n",
       "145391         65.0       1016.9       1015.3  3.000000  8.000000     19.0   \n",
       "145392         59.0       1018.1       1014.7  7.000000  8.000000     19.0   \n",
       "145393         56.0       1020.0       1015.8  8.000000  5.000000     19.8   \n",
       "\n",
       "        Temp3pm  RainToday  RainTomorrow  \n",
       "8          30.2          0             1  \n",
       "10         28.8          0             1  \n",
       "11         17.0          1             1  \n",
       "12         15.8          1             1  \n",
       "16         18.1          0             1  \n",
       "...         ...        ...           ...  \n",
       "145324     36.6          0             1  \n",
       "145390     18.5          0             1  \n",
       "145391     21.2          1             1  \n",
       "145392     26.0          1             1  \n",
       "145393     26.9          1             1  \n",
       "\n",
       "[31200 rows x 21 columns]"
      ]
     },
     "execution_count": 257,
     "metadata": {},
     "output_type": "execute_result"
    }
   ],
   "source": [
    "df_class_1"
   ]
  },
  {
   "cell_type": "code",
   "execution_count": 258,
   "metadata": {},
   "outputs": [],
   "source": [
    "x = data.drop('RainTomorrow', axis=1)\n",
    "y = data.RainTomorrow"
   ]
  },
  {
   "cell_type": "code",
   "execution_count": 259,
   "metadata": {},
   "outputs": [],
   "source": [
    "smote = SMOTE(sampling_strategy='minority')"
   ]
  },
  {
   "cell_type": "code",
   "execution_count": 260,
   "metadata": {},
   "outputs": [],
   "source": [
    "x_sm, y_sm = smote.fit_resample(x,y)"
   ]
  },
  {
   "cell_type": "code",
   "execution_count": 262,
   "metadata": {},
   "outputs": [
    {
     "data": {
      "text/plain": [
       "1    109581\n",
       "0    109581\n",
       "Name: RainTomorrow, dtype: int64"
      ]
     },
     "execution_count": 262,
     "metadata": {},
     "output_type": "execute_result"
    }
   ],
   "source": [
    "y_sm.value_counts()"
   ]
  },
  {
   "cell_type": "code",
   "execution_count": 263,
   "metadata": {},
   "outputs": [],
   "source": [
    "X = x_sm\n",
    "y= y_sm"
   ]
  },
  {
   "cell_type": "code",
   "execution_count": 264,
   "metadata": {},
   "outputs": [],
   "source": [
    "X = scaler.transform(X)"
   ]
  },
  {
   "cell_type": "code",
   "execution_count": 265,
   "metadata": {},
   "outputs": [
    {
     "data": {
      "text/plain": [
       "array([[ 0.13268195,  0.05756936, -0.28119732, ...,  0.00228755,\n",
       "         0.14192356, -0.67083617],\n",
       "       [-0.8068462 ,  0.36683893, -0.3355184 , ...,  0.04879162,\n",
       "         0.50513705, -0.67083617],\n",
       "       [ 0.05438794,  0.45118518, -0.3355184 , ...,  0.63784313,\n",
       "         0.34532312, -0.67083617],\n",
       "       ...,\n",
       "       [-0.24042191, -1.48335459,  0.37780927, ..., -0.83511982,\n",
       "        -1.53477727,  1.49067692],\n",
       "       [ 0.60638612,  0.19717345, -0.3355184 , ...,  0.7827497 ,\n",
       "         0.16845272, -0.67083617],\n",
       "       [ 0.3053507 , -0.52342647,  0.84119444, ..., -0.27928948,\n",
       "        -0.55346716,  1.49067692]])"
      ]
     },
     "execution_count": 265,
     "metadata": {},
     "output_type": "execute_result"
    }
   ],
   "source": [
    "X"
   ]
  },
  {
   "cell_type": "code",
   "execution_count": 296,
   "metadata": {},
   "outputs": [],
   "source": [
    "X_train, X_test, y_train, y_test = train_test_split(X, y, test_size=0.33, random_state=1234)"
   ]
  },
  {
   "cell_type": "code",
   "execution_count": 297,
   "metadata": {},
   "outputs": [
    {
     "name": "stdout",
     "output_type": "stream",
     "text": [
      "0.7821746584812787\n",
      "0.7783000281452294\n",
      "[[28917  7388]\n",
      " [ 8366 27653]]\n"
     ]
    }
   ],
   "source": [
    "smote_log = LogisticRegression()\n",
    "smote_log.fit(X_train, y_train)\n",
    "smote_log_pred = smote_log.predict(X_test)\n",
    "print(accuracy_score(y_test, smote_log_pred))\n",
    "print(f1_score(y_test, smote_log_pred))\n",
    "print(confusion_matrix(y_test, smote_log_pred))"
   ]
  },
  {
   "cell_type": "code",
   "execution_count": 298,
   "metadata": {},
   "outputs": [
    {
     "name": "stdout",
     "output_type": "stream",
     "text": [
      "[20]\ttraining's binary_logloss: 0.39\tvalid_0's binary_logloss: 0.393288\n",
      "[40]\ttraining's binary_logloss: 0.307607\tvalid_0's binary_logloss: 0.311642\n",
      "[60]\ttraining's binary_logloss: 0.26906\tvalid_0's binary_logloss: 0.273638\n",
      "[80]\ttraining's binary_logloss: 0.250312\tvalid_0's binary_logloss: 0.2559\n",
      "[100]\ttraining's binary_logloss: 0.240131\tvalid_0's binary_logloss: 0.24719\n"
     ]
    },
    {
     "data": {
      "text/plain": [
       "LGBMClassifier(learning_rate=0.09, max_depth=-5, random_state=1234)"
      ]
     },
     "execution_count": 298,
     "metadata": {},
     "output_type": "execute_result"
    }
   ],
   "source": [
    "model.fit(X_train, y_train,eval_set=[(X_test, y_test), (X_train, y_train)], \n",
    "         verbose=20, eval_metric = 'logloss')"
   ]
  },
  {
   "cell_type": "code",
   "execution_count": 299,
   "metadata": {},
   "outputs": [
    {
     "name": "stdout",
     "output_type": "stream",
     "text": [
      "Training accuracy 0.9004\n",
      "Testing accuracy 0.8970\n"
     ]
    }
   ],
   "source": [
    "print('Training accuracy {:.4f}'.format(model.score(X_train, y_train)))\n",
    "print('Testing accuracy {:.4f}'.format(model.score(X_test, y_test)))\n"
   ]
  },
  {
   "cell_type": "code",
   "execution_count": 300,
   "metadata": {},
   "outputs": [
    {
     "data": {
      "text/plain": [
       "<matplotlib.axes._subplots.AxesSubplot at 0x20b02760a20>"
      ]
     },
     "execution_count": 300,
     "metadata": {},
     "output_type": "execute_result"
    },
    {
     "data": {
      "image/png": "[encoded data removed]",
      "text/plain": [
       "<Figure size 432x288 with 1 Axes>"
      ]
     },
     "metadata": {
      "needs_background": "light"
     },
     "output_type": "display_data"
    }
   ],
   "source": [
    "lgb.plot_importance(model)"
   ]
  },
  {
   "cell_type": "code",
   "execution_count": 301,
   "metadata": {},
   "outputs": [
    {
     "data": {
      "text/plain": [
       "array([0, 0, 0, ..., 1, 1, 0], dtype=int64)"
      ]
     },
     "execution_count": 301,
     "metadata": {},
     "output_type": "execute_result"
    }
   ],
   "source": [
    "lgbm_pred = model.predict(X_test)\n",
    "lgbm_pred"
   ]
  },
  {
   "cell_type": "code",
   "execution_count": 302,
   "metadata": {},
   "outputs": [
    {
     "name": "stdout",
     "output_type": "stream",
     "text": [
      "0.897005143520823\n",
      "0.8931108209330023\n",
      "[[33755  2550]\n",
      " [ 4899 31120]]\n"
     ]
    }
   ],
   "source": [
    "print(accuracy_score(y_test,lgbm_pred))\n",
    "print(f1_score(y_test,lgbm_pred))\n",
    "print(confusion_matrix(y_test, lgbm_pred))"
   ]
  },
  {
   "cell_type": "code",
   "execution_count": 303,
   "metadata": {},
   "outputs": [
    {
     "name": "stderr",
     "output_type": "stream",
     "text": [
      "C:\\Users\\hp\\Anaconda3\\lib\\site-packages\\xgboost\\sklearn.py:1146: UserWarning: The use of label encoder in XGBClassifier is deprecated and will be removed in a future release. To remove this warning, do the following: 1) Pass option use_label_encoder=False when constructing XGBClassifier object; and 2) Encode your labels (y) as integers starting with 0, i.e. 0, 1, 2, ..., [num_class - 1].\n",
      "  warnings.warn(label_encoder_deprecation_msg, UserWarning)\n"
     ]
    },
    {
     "name": "stdout",
     "output_type": "stream",
     "text": [
      "[20:31:40] WARNING: C:/Users/Administrator/workspace/xgboost-win64_release_1.4.0/src/learner.cc:1095: Starting in XGBoost 1.3.0, the default evaluation metric used with the objective 'binary:logistic' was changed from 'error' to 'logloss'. Explicitly set eval_metric if you'd like to restore the old behavior.\n"
     ]
    },
    {
     "data": {
      "text/plain": [
       "array([0, 0, 0, ..., 1, 1, 0], dtype=int64)"
      ]
     },
     "execution_count": 303,
     "metadata": {},
     "output_type": "execute_result"
    }
   ],
   "source": [
    "# xgb = XGBClassifier()\n",
    "xgb.fit(X_train, y_train)\n",
    "xgb_pred = xgb.predict(X_test)\n",
    "xgb_pred"
   ]
  },
  {
   "cell_type": "code",
   "execution_count": 304,
   "metadata": {},
   "outputs": [
    {
     "name": "stdout",
     "output_type": "stream",
     "text": [
      "0.9043056246889\n",
      "0.9006816388031857\n",
      "[[34021  2284]\n",
      " [ 4637 31382]]\n"
     ]
    }
   ],
   "source": [
    "print(accuracy_score(y_test, xgb_pred))\n",
    "print(f1_score(y_test, xgb_pred))\n",
    "print(confusion_matrix(y_test, xgb_pred))"
   ]
  },
  {
   "cell_type": "code",
   "execution_count": 305,
   "metadata": {},
   "outputs": [
    {
     "name": "stdout",
     "output_type": "stream",
     "text": [
      "Learning rate set to 0.086731\n",
      "0:\tlearn: 0.6488600\ttotal: 62.3ms\tremaining: 1m 2s\n",
      "1:\tlearn: 0.6124794\ttotal: 127ms\tremaining: 1m 3s\n",
      "2:\tlearn: 0.5831161\ttotal: 196ms\tremaining: 1m 5s\n",
      "3:\tlearn: 0.5564778\ttotal: 270ms\tremaining: 1m 7s\n",
      "4:\tlearn: 0.5369908\ttotal: 327ms\tremaining: 1m 5s\n",
      "5:\tlearn: 0.5196907\ttotal: 386ms\tremaining: 1m 3s\n",
      "6:\tlearn: 0.5050429\ttotal: 456ms\tremaining: 1m 4s\n",
      "7:\tlearn: 0.4930257\ttotal: 513ms\tremaining: 1m 3s\n",
      "8:\tlearn: 0.4817564\ttotal: 583ms\tremaining: 1m 4s\n",
      "9:\tlearn: 0.4732534\ttotal: 647ms\tremaining: 1m 4s\n",
      "10:\tlearn: 0.4630924\ttotal: 716ms\tremaining: 1m 4s\n",
      "11:\tlearn: 0.4504525\ttotal: 787ms\tremaining: 1m 4s\n",
      "12:\tlearn: 0.4429015\ttotal: 841ms\tremaining: 1m 3s\n",
      "13:\tlearn: 0.4369380\ttotal: 906ms\tremaining: 1m 3s\n",
      "14:\tlearn: 0.4309143\ttotal: 971ms\tremaining: 1m 3s\n",
      "15:\tlearn: 0.4251589\ttotal: 1.03s\tremaining: 1m 3s\n",
      "16:\tlearn: 0.4120971\ttotal: 1.1s\tremaining: 1m 3s\n",
      "17:\tlearn: 0.4081021\ttotal: 1.18s\tremaining: 1m 4s\n",
      "18:\tlearn: 0.4057562\ttotal: 1.25s\tremaining: 1m 4s\n",
      "19:\tlearn: 0.4000992\ttotal: 1.31s\tremaining: 1m 4s\n",
      "20:\tlearn: 0.3961587\ttotal: 1.38s\tremaining: 1m 4s\n",
      "21:\tlearn: 0.3919039\ttotal: 1.46s\tremaining: 1m 5s\n",
      "22:\tlearn: 0.3855705\ttotal: 1.53s\tremaining: 1m 5s\n",
      "23:\tlearn: 0.3805256\ttotal: 1.6s\tremaining: 1m 5s\n",
      "24:\tlearn: 0.3763014\ttotal: 1.68s\tremaining: 1m 5s\n",
      "25:\tlearn: 0.3741375\ttotal: 1.75s\tremaining: 1m 5s\n",
      "26:\tlearn: 0.3705540\ttotal: 1.81s\tremaining: 1m 5s\n",
      "27:\tlearn: 0.3619316\ttotal: 1.89s\tremaining: 1m 5s\n",
      "28:\tlearn: 0.3592398\ttotal: 1.95s\tremaining: 1m 5s\n",
      "29:\tlearn: 0.3560066\ttotal: 2.02s\tremaining: 1m 5s\n",
      "30:\tlearn: 0.3519267\ttotal: 2.09s\tremaining: 1m 5s\n",
      "31:\tlearn: 0.3466892\ttotal: 2.16s\tremaining: 1m 5s\n",
      "32:\tlearn: 0.3456461\ttotal: 2.21s\tremaining: 1m 4s\n",
      "33:\tlearn: 0.3428499\ttotal: 2.32s\tremaining: 1m 5s\n",
      "34:\tlearn: 0.3400868\ttotal: 2.38s\tremaining: 1m 5s\n",
      "35:\tlearn: 0.3356184\ttotal: 2.45s\tremaining: 1m 5s\n",
      "36:\tlearn: 0.3325690\ttotal: 2.52s\tremaining: 1m 5s\n",
      "37:\tlearn: 0.3296111\ttotal: 2.58s\tremaining: 1m 5s\n",
      "38:\tlearn: 0.3287899\ttotal: 2.65s\tremaining: 1m 5s\n",
      "39:\tlearn: 0.3271706\ttotal: 2.73s\tremaining: 1m 5s\n",
      "40:\tlearn: 0.3248757\ttotal: 2.79s\tremaining: 1m 5s\n",
      "41:\tlearn: 0.3229949\ttotal: 2.85s\tremaining: 1m 5s\n",
      "42:\tlearn: 0.3211083\ttotal: 2.93s\tremaining: 1m 5s\n",
      "43:\tlearn: 0.3195430\ttotal: 2.99s\tremaining: 1m 4s\n",
      "44:\tlearn: 0.3182916\ttotal: 3.06s\tremaining: 1m 4s\n",
      "45:\tlearn: 0.3174884\ttotal: 3.13s\tremaining: 1m 4s\n",
      "46:\tlearn: 0.3165361\ttotal: 3.19s\tremaining: 1m 4s\n",
      "47:\tlearn: 0.3150575\ttotal: 3.26s\tremaining: 1m 4s\n",
      "48:\tlearn: 0.3137254\ttotal: 3.35s\tremaining: 1m 4s\n",
      "49:\tlearn: 0.3127410\ttotal: 3.41s\tremaining: 1m 4s\n",
      "50:\tlearn: 0.3106116\ttotal: 3.47s\tremaining: 1m 4s\n",
      "51:\tlearn: 0.3073116\ttotal: 3.54s\tremaining: 1m 4s\n",
      "52:\tlearn: 0.3048844\ttotal: 3.59s\tremaining: 1m 4s\n",
      "53:\tlearn: 0.3032614\ttotal: 3.64s\tremaining: 1m 3s\n",
      "54:\tlearn: 0.3023275\ttotal: 3.71s\tremaining: 1m 3s\n",
      "55:\tlearn: 0.3016342\ttotal: 3.77s\tremaining: 1m 3s\n",
      "56:\tlearn: 0.2997455\ttotal: 3.82s\tremaining: 1m 3s\n",
      "57:\tlearn: 0.2991233\ttotal: 3.87s\tremaining: 1m 2s\n",
      "58:\tlearn: 0.2987906\ttotal: 3.92s\tremaining: 1m 2s\n",
      "59:\tlearn: 0.2978147\ttotal: 3.98s\tremaining: 1m 2s\n",
      "60:\tlearn: 0.2966676\ttotal: 4.04s\tremaining: 1m 2s\n",
      "61:\tlearn: 0.2962807\ttotal: 4.09s\tremaining: 1m 1s\n",
      "62:\tlearn: 0.2946396\ttotal: 4.16s\tremaining: 1m 1s\n",
      "63:\tlearn: 0.2937993\ttotal: 4.21s\tremaining: 1m 1s\n",
      "64:\tlearn: 0.2932236\ttotal: 4.27s\tremaining: 1m 1s\n",
      "65:\tlearn: 0.2922497\ttotal: 4.33s\tremaining: 1m 1s\n",
      "66:\tlearn: 0.2919422\ttotal: 4.38s\tremaining: 1m 1s\n",
      "67:\tlearn: 0.2897857\ttotal: 4.45s\tremaining: 1m 1s\n",
      "68:\tlearn: 0.2888402\ttotal: 4.51s\tremaining: 1m\n",
      "69:\tlearn: 0.2884958\ttotal: 4.57s\tremaining: 1m\n",
      "70:\tlearn: 0.2877023\ttotal: 4.63s\tremaining: 1m\n",
      "71:\tlearn: 0.2863576\ttotal: 4.69s\tremaining: 1m\n",
      "72:\tlearn: 0.2860388\ttotal: 4.75s\tremaining: 1m\n",
      "73:\tlearn: 0.2848002\ttotal: 4.81s\tremaining: 1m\n",
      "74:\tlearn: 0.2837968\ttotal: 4.88s\tremaining: 1m\n",
      "75:\tlearn: 0.2834866\ttotal: 4.94s\tremaining: 1m\n",
      "76:\tlearn: 0.2832149\ttotal: 5s\tremaining: 59.9s\n",
      "77:\tlearn: 0.2818689\ttotal: 5.05s\tremaining: 59.7s\n",
      "78:\tlearn: 0.2816288\ttotal: 5.11s\tremaining: 59.6s\n",
      "79:\tlearn: 0.2808346\ttotal: 5.17s\tremaining: 59.5s\n",
      "80:\tlearn: 0.2796874\ttotal: 5.23s\tremaining: 59.3s\n",
      "81:\tlearn: 0.2793876\ttotal: 5.28s\tremaining: 59.1s\n",
      "82:\tlearn: 0.2792047\ttotal: 5.34s\tremaining: 59s\n",
      "83:\tlearn: 0.2787322\ttotal: 5.4s\tremaining: 58.9s\n",
      "84:\tlearn: 0.2780148\ttotal: 5.45s\tremaining: 58.7s\n",
      "85:\tlearn: 0.2771089\ttotal: 5.5s\tremaining: 58.5s\n",
      "86:\tlearn: 0.2759616\ttotal: 5.57s\tremaining: 58.5s\n",
      "87:\tlearn: 0.2754435\ttotal: 5.64s\tremaining: 58.4s\n",
      "88:\tlearn: 0.2747761\ttotal: 5.7s\tremaining: 58.3s\n",
      "89:\tlearn: 0.2743618\ttotal: 5.75s\tremaining: 58.2s\n",
      "90:\tlearn: 0.2740897\ttotal: 5.82s\tremaining: 58.1s\n",
      "91:\tlearn: 0.2729177\ttotal: 5.88s\tremaining: 58.1s\n",
      "92:\tlearn: 0.2726920\ttotal: 5.93s\tremaining: 57.9s\n",
      "93:\tlearn: 0.2725543\ttotal: 5.99s\tremaining: 57.7s\n",
      "94:\tlearn: 0.2721747\ttotal: 6.05s\tremaining: 57.6s\n",
      "95:\tlearn: 0.2713741\ttotal: 6.11s\tremaining: 57.6s\n",
      "96:\tlearn: 0.2711313\ttotal: 6.16s\tremaining: 57.4s\n",
      "97:\tlearn: 0.2706425\ttotal: 6.22s\tremaining: 57.2s\n",
      "98:\tlearn: 0.2704391\ttotal: 6.27s\tremaining: 57.1s\n",
      "99:\tlearn: 0.2698595\ttotal: 6.33s\tremaining: 57s\n",
      "100:\tlearn: 0.2696657\ttotal: 6.39s\tremaining: 56.8s\n",
      "101:\tlearn: 0.2692082\ttotal: 6.45s\tremaining: 56.8s\n",
      "102:\tlearn: 0.2687242\ttotal: 6.51s\tremaining: 56.7s\n",
      "103:\tlearn: 0.2682764\ttotal: 6.58s\tremaining: 56.7s\n",
      "104:\tlearn: 0.2681279\ttotal: 6.65s\tremaining: 56.7s\n",
      "105:\tlearn: 0.2674383\ttotal: 6.72s\tremaining: 56.7s\n",
      "106:\tlearn: 0.2672713\ttotal: 6.79s\tremaining: 56.7s\n",
      "107:\tlearn: 0.2670599\ttotal: 6.86s\tremaining: 56.7s\n",
      "108:\tlearn: 0.2669011\ttotal: 6.92s\tremaining: 56.6s\n",
      "109:\tlearn: 0.2664809\ttotal: 6.99s\tremaining: 56.6s\n",
      "110:\tlearn: 0.2659616\ttotal: 7.05s\tremaining: 56.5s\n",
      "111:\tlearn: 0.2649314\ttotal: 7.12s\tremaining: 56.4s\n",
      "112:\tlearn: 0.2645954\ttotal: 7.17s\tremaining: 56.3s\n",
      "113:\tlearn: 0.2642268\ttotal: 7.25s\tremaining: 56.3s\n",
      "114:\tlearn: 0.2636388\ttotal: 7.3s\tremaining: 56.2s\n",
      "115:\tlearn: 0.2634613\ttotal: 7.37s\tremaining: 56.1s\n",
      "116:\tlearn: 0.2631870\ttotal: 7.43s\tremaining: 56.1s\n",
      "117:\tlearn: 0.2626906\ttotal: 7.51s\tremaining: 56.1s\n",
      "118:\tlearn: 0.2623373\ttotal: 7.59s\tremaining: 56.2s\n",
      "119:\tlearn: 0.2618047\ttotal: 7.65s\tremaining: 56.1s\n",
      "120:\tlearn: 0.2611669\ttotal: 7.71s\tremaining: 56s\n",
      "121:\tlearn: 0.2608794\ttotal: 7.77s\tremaining: 56s\n",
      "122:\tlearn: 0.2605309\ttotal: 7.83s\tremaining: 55.8s\n",
      "123:\tlearn: 0.2601311\ttotal: 7.88s\tremaining: 55.7s\n",
      "124:\tlearn: 0.2599285\ttotal: 7.95s\tremaining: 55.6s\n",
      "125:\tlearn: 0.2595805\ttotal: 8s\tremaining: 55.5s\n",
      "126:\tlearn: 0.2590044\ttotal: 8.06s\tremaining: 55.4s\n",
      "127:\tlearn: 0.2586810\ttotal: 8.12s\tremaining: 55.3s\n",
      "128:\tlearn: 0.2582510\ttotal: 8.17s\tremaining: 55.2s\n",
      "129:\tlearn: 0.2581200\ttotal: 8.23s\tremaining: 55.1s\n",
      "130:\tlearn: 0.2577060\ttotal: 8.27s\tremaining: 54.9s\n",
      "131:\tlearn: 0.2572631\ttotal: 8.33s\tremaining: 54.8s\n",
      "132:\tlearn: 0.2567207\ttotal: 8.4s\tremaining: 54.7s\n",
      "133:\tlearn: 0.2565452\ttotal: 8.45s\tremaining: 54.6s\n",
      "134:\tlearn: 0.2564223\ttotal: 8.49s\tremaining: 54.4s\n",
      "135:\tlearn: 0.2559719\ttotal: 8.54s\tremaining: 54.3s\n",
      "136:\tlearn: 0.2556732\ttotal: 8.59s\tremaining: 54.1s\n",
      "137:\tlearn: 0.2551529\ttotal: 8.65s\tremaining: 54.1s\n",
      "138:\tlearn: 0.2546602\ttotal: 8.71s\tremaining: 53.9s\n",
      "139:\tlearn: 0.2545098\ttotal: 8.76s\tremaining: 53.8s\n",
      "140:\tlearn: 0.2543505\ttotal: 8.81s\tremaining: 53.7s\n",
      "141:\tlearn: 0.2539728\ttotal: 8.87s\tremaining: 53.6s\n",
      "142:\tlearn: 0.2538656\ttotal: 8.93s\tremaining: 53.5s\n",
      "143:\tlearn: 0.2537121\ttotal: 8.99s\tremaining: 53.4s\n",
      "144:\tlearn: 0.2533358\ttotal: 9.04s\tremaining: 53.3s\n",
      "145:\tlearn: 0.2530359\ttotal: 9.1s\tremaining: 53.3s\n",
      "146:\tlearn: 0.2526830\ttotal: 9.16s\tremaining: 53.2s\n",
      "147:\tlearn: 0.2524310\ttotal: 9.22s\tremaining: 53.1s\n",
      "148:\tlearn: 0.2522712\ttotal: 9.28s\tremaining: 53s\n",
      "149:\tlearn: 0.2517160\ttotal: 9.36s\tremaining: 53s\n",
      "150:\tlearn: 0.2513829\ttotal: 9.41s\tremaining: 52.9s\n",
      "151:\tlearn: 0.2506778\ttotal: 9.47s\tremaining: 52.8s\n",
      "152:\tlearn: 0.2505154\ttotal: 9.52s\tremaining: 52.7s\n",
      "153:\tlearn: 0.2498665\ttotal: 9.59s\tremaining: 52.7s\n",
      "154:\tlearn: 0.2496066\ttotal: 9.65s\tremaining: 52.6s\n",
      "155:\tlearn: 0.2493940\ttotal: 9.71s\tremaining: 52.5s\n",
      "156:\tlearn: 0.2487482\ttotal: 9.77s\tremaining: 52.4s\n",
      "157:\tlearn: 0.2485556\ttotal: 9.84s\tremaining: 52.4s\n",
      "158:\tlearn: 0.2483989\ttotal: 9.89s\tremaining: 52.3s\n",
      "159:\tlearn: 0.2482228\ttotal: 9.95s\tremaining: 52.2s\n",
      "160:\tlearn: 0.2480427\ttotal: 10s\tremaining: 52.1s\n"
     ]
    },
    {
     "name": "stdout",
     "output_type": "stream",
     "text": [
      "161:\tlearn: 0.2479032\ttotal: 10.1s\tremaining: 52s\n",
      "162:\tlearn: 0.2475307\ttotal: 10.1s\tremaining: 52s\n",
      "163:\tlearn: 0.2474183\ttotal: 10.2s\tremaining: 51.9s\n",
      "164:\tlearn: 0.2470075\ttotal: 10.2s\tremaining: 51.8s\n",
      "165:\tlearn: 0.2468619\ttotal: 10.3s\tremaining: 51.7s\n",
      "166:\tlearn: 0.2467459\ttotal: 10.4s\tremaining: 51.7s\n",
      "167:\tlearn: 0.2465805\ttotal: 10.4s\tremaining: 51.6s\n",
      "168:\tlearn: 0.2463773\ttotal: 10.5s\tremaining: 51.5s\n",
      "169:\tlearn: 0.2462029\ttotal: 10.5s\tremaining: 51.5s\n",
      "170:\tlearn: 0.2458252\ttotal: 10.6s\tremaining: 51.4s\n",
      "171:\tlearn: 0.2454706\ttotal: 10.6s\tremaining: 51.2s\n",
      "172:\tlearn: 0.2446318\ttotal: 10.7s\tremaining: 51.2s\n",
      "173:\tlearn: 0.2443454\ttotal: 10.8s\tremaining: 51.1s\n",
      "174:\tlearn: 0.2442277\ttotal: 10.8s\tremaining: 51s\n",
      "175:\tlearn: 0.2439569\ttotal: 10.9s\tremaining: 50.9s\n",
      "176:\tlearn: 0.2437074\ttotal: 10.9s\tremaining: 50.9s\n",
      "177:\tlearn: 0.2435905\ttotal: 11s\tremaining: 50.8s\n",
      "178:\tlearn: 0.2434669\ttotal: 11.1s\tremaining: 50.7s\n",
      "179:\tlearn: 0.2431748\ttotal: 11.1s\tremaining: 50.6s\n",
      "180:\tlearn: 0.2430546\ttotal: 11.2s\tremaining: 50.5s\n",
      "181:\tlearn: 0.2429540\ttotal: 11.2s\tremaining: 50.4s\n",
      "182:\tlearn: 0.2428258\ttotal: 11.3s\tremaining: 50.3s\n",
      "183:\tlearn: 0.2427250\ttotal: 11.3s\tremaining: 50.2s\n",
      "184:\tlearn: 0.2425159\ttotal: 11.4s\tremaining: 50.2s\n",
      "185:\tlearn: 0.2423071\ttotal: 11.5s\tremaining: 50.2s\n",
      "186:\tlearn: 0.2421947\ttotal: 11.5s\tremaining: 50.1s\n",
      "187:\tlearn: 0.2417431\ttotal: 11.6s\tremaining: 50s\n",
      "188:\tlearn: 0.2415731\ttotal: 11.6s\tremaining: 49.9s\n",
      "189:\tlearn: 0.2412464\ttotal: 11.7s\tremaining: 49.9s\n",
      "190:\tlearn: 0.2411157\ttotal: 11.8s\tremaining: 49.8s\n",
      "191:\tlearn: 0.2407506\ttotal: 11.8s\tremaining: 49.7s\n",
      "192:\tlearn: 0.2405283\ttotal: 11.9s\tremaining: 49.6s\n",
      "193:\tlearn: 0.2401129\ttotal: 12s\tremaining: 49.7s\n",
      "194:\tlearn: 0.2399089\ttotal: 12s\tremaining: 49.6s\n",
      "195:\tlearn: 0.2397575\ttotal: 12.1s\tremaining: 49.5s\n",
      "196:\tlearn: 0.2396503\ttotal: 12.1s\tremaining: 49.5s\n",
      "197:\tlearn: 0.2395529\ttotal: 12.2s\tremaining: 49.4s\n",
      "198:\tlearn: 0.2391809\ttotal: 12.2s\tremaining: 49.3s\n",
      "199:\tlearn: 0.2390562\ttotal: 12.3s\tremaining: 49.2s\n",
      "200:\tlearn: 0.2388247\ttotal: 12.4s\tremaining: 49.2s\n",
      "201:\tlearn: 0.2387045\ttotal: 12.4s\tremaining: 49.2s\n",
      "202:\tlearn: 0.2382744\ttotal: 12.5s\tremaining: 49.1s\n",
      "203:\tlearn: 0.2381865\ttotal: 12.5s\tremaining: 49s\n",
      "204:\tlearn: 0.2380781\ttotal: 12.6s\tremaining: 48.9s\n",
      "205:\tlearn: 0.2379731\ttotal: 12.7s\tremaining: 48.8s\n",
      "206:\tlearn: 0.2378844\ttotal: 12.7s\tremaining: 48.7s\n",
      "207:\tlearn: 0.2375095\ttotal: 12.8s\tremaining: 48.7s\n",
      "208:\tlearn: 0.2373594\ttotal: 12.8s\tremaining: 48.6s\n",
      "209:\tlearn: 0.2372832\ttotal: 12.9s\tremaining: 48.5s\n",
      "210:\tlearn: 0.2371688\ttotal: 13s\tremaining: 48.4s\n",
      "211:\tlearn: 0.2370436\ttotal: 13s\tremaining: 48.4s\n",
      "212:\tlearn: 0.2367795\ttotal: 13.1s\tremaining: 48.4s\n",
      "213:\tlearn: 0.2366575\ttotal: 13.2s\tremaining: 48.3s\n",
      "214:\tlearn: 0.2364650\ttotal: 13.2s\tremaining: 48.3s\n",
      "215:\tlearn: 0.2363646\ttotal: 13.3s\tremaining: 48.2s\n",
      "216:\tlearn: 0.2362755\ttotal: 13.3s\tremaining: 48.2s\n",
      "217:\tlearn: 0.2361182\ttotal: 13.4s\tremaining: 48.1s\n",
      "218:\tlearn: 0.2358864\ttotal: 13.5s\tremaining: 48.1s\n",
      "219:\tlearn: 0.2357988\ttotal: 13.5s\tremaining: 48s\n",
      "220:\tlearn: 0.2356782\ttotal: 13.6s\tremaining: 47.9s\n",
      "221:\tlearn: 0.2354327\ttotal: 13.7s\tremaining: 47.9s\n",
      "222:\tlearn: 0.2353475\ttotal: 13.7s\tremaining: 47.8s\n",
      "223:\tlearn: 0.2352383\ttotal: 13.8s\tremaining: 47.7s\n",
      "224:\tlearn: 0.2351409\ttotal: 13.8s\tremaining: 47.6s\n",
      "225:\tlearn: 0.2350117\ttotal: 13.9s\tremaining: 47.6s\n",
      "226:\tlearn: 0.2348175\ttotal: 14s\tremaining: 47.5s\n",
      "227:\tlearn: 0.2347299\ttotal: 14s\tremaining: 47.5s\n",
      "228:\tlearn: 0.2346147\ttotal: 14.1s\tremaining: 47.5s\n",
      "229:\tlearn: 0.2342634\ttotal: 14.2s\tremaining: 47.4s\n",
      "230:\tlearn: 0.2341809\ttotal: 14.2s\tremaining: 47.4s\n",
      "231:\tlearn: 0.2340680\ttotal: 14.3s\tremaining: 47.4s\n",
      "232:\tlearn: 0.2338654\ttotal: 14.4s\tremaining: 47.4s\n",
      "233:\tlearn: 0.2337919\ttotal: 14.4s\tremaining: 47.3s\n",
      "234:\tlearn: 0.2336895\ttotal: 14.5s\tremaining: 47.2s\n",
      "235:\tlearn: 0.2334744\ttotal: 14.5s\tremaining: 47.1s\n",
      "236:\tlearn: 0.2333911\ttotal: 14.6s\tremaining: 47s\n",
      "237:\tlearn: 0.2332771\ttotal: 14.7s\tremaining: 46.9s\n",
      "238:\tlearn: 0.2331807\ttotal: 14.7s\tremaining: 46.8s\n",
      "239:\tlearn: 0.2330896\ttotal: 14.8s\tremaining: 46.8s\n",
      "240:\tlearn: 0.2329629\ttotal: 14.8s\tremaining: 46.7s\n",
      "241:\tlearn: 0.2328595\ttotal: 14.9s\tremaining: 46.6s\n",
      "242:\tlearn: 0.2327711\ttotal: 14.9s\tremaining: 46.6s\n",
      "243:\tlearn: 0.2325206\ttotal: 15s\tremaining: 46.5s\n",
      "244:\tlearn: 0.2324403\ttotal: 15.1s\tremaining: 46.4s\n",
      "245:\tlearn: 0.2323653\ttotal: 15.1s\tremaining: 46.3s\n",
      "246:\tlearn: 0.2322780\ttotal: 15.2s\tremaining: 46.2s\n",
      "247:\tlearn: 0.2321964\ttotal: 15.2s\tremaining: 46.2s\n",
      "248:\tlearn: 0.2321363\ttotal: 15.3s\tremaining: 46.1s\n",
      "249:\tlearn: 0.2320315\ttotal: 15.3s\tremaining: 46s\n",
      "250:\tlearn: 0.2317478\ttotal: 15.4s\tremaining: 45.9s\n",
      "251:\tlearn: 0.2316278\ttotal: 15.4s\tremaining: 45.8s\n",
      "252:\tlearn: 0.2313381\ttotal: 15.5s\tremaining: 45.8s\n",
      "253:\tlearn: 0.2310563\ttotal: 15.6s\tremaining: 45.7s\n",
      "254:\tlearn: 0.2308752\ttotal: 15.6s\tremaining: 45.7s\n",
      "255:\tlearn: 0.2306635\ttotal: 15.7s\tremaining: 45.6s\n",
      "256:\tlearn: 0.2305770\ttotal: 15.8s\tremaining: 45.6s\n",
      "257:\tlearn: 0.2304921\ttotal: 15.8s\tremaining: 45.5s\n",
      "258:\tlearn: 0.2303748\ttotal: 15.9s\tremaining: 45.4s\n",
      "259:\tlearn: 0.2303098\ttotal: 15.9s\tremaining: 45.4s\n",
      "260:\tlearn: 0.2302250\ttotal: 16s\tremaining: 45.3s\n",
      "261:\tlearn: 0.2301246\ttotal: 16.1s\tremaining: 45.3s\n",
      "262:\tlearn: 0.2300336\ttotal: 16.2s\tremaining: 45.3s\n",
      "263:\tlearn: 0.2299644\ttotal: 16.2s\tremaining: 45.2s\n",
      "264:\tlearn: 0.2298703\ttotal: 16.3s\tremaining: 45.2s\n",
      "265:\tlearn: 0.2298078\ttotal: 16.4s\tremaining: 45.2s\n",
      "266:\tlearn: 0.2296474\ttotal: 16.4s\tremaining: 45.1s\n",
      "267:\tlearn: 0.2295825\ttotal: 16.5s\tremaining: 45s\n",
      "268:\tlearn: 0.2295168\ttotal: 16.5s\tremaining: 44.9s\n",
      "269:\tlearn: 0.2293922\ttotal: 16.6s\tremaining: 44.8s\n",
      "270:\tlearn: 0.2293230\ttotal: 16.6s\tremaining: 44.8s\n",
      "271:\tlearn: 0.2292486\ttotal: 16.7s\tremaining: 44.7s\n",
      "272:\tlearn: 0.2291461\ttotal: 16.8s\tremaining: 44.7s\n",
      "273:\tlearn: 0.2290984\ttotal: 16.9s\tremaining: 44.7s\n",
      "274:\tlearn: 0.2290279\ttotal: 17s\tremaining: 44.7s\n",
      "275:\tlearn: 0.2289496\ttotal: 17.1s\tremaining: 44.8s\n",
      "276:\tlearn: 0.2285899\ttotal: 17.2s\tremaining: 44.9s\n",
      "277:\tlearn: 0.2285059\ttotal: 17.3s\tremaining: 45s\n",
      "278:\tlearn: 0.2284251\ttotal: 17.4s\tremaining: 45.1s\n",
      "279:\tlearn: 0.2283670\ttotal: 17.5s\tremaining: 45s\n",
      "280:\tlearn: 0.2282160\ttotal: 17.6s\tremaining: 45.1s\n",
      "281:\tlearn: 0.2281248\ttotal: 17.8s\tremaining: 45.2s\n",
      "282:\tlearn: 0.2280172\ttotal: 17.9s\tremaining: 45.3s\n",
      "283:\tlearn: 0.2279634\ttotal: 18s\tremaining: 45.3s\n",
      "284:\tlearn: 0.2277446\ttotal: 18.1s\tremaining: 45.3s\n",
      "285:\tlearn: 0.2276732\ttotal: 18.2s\tremaining: 45.3s\n",
      "286:\tlearn: 0.2276036\ttotal: 18.2s\tremaining: 45.3s\n",
      "287:\tlearn: 0.2275131\ttotal: 18.3s\tremaining: 45.3s\n",
      "288:\tlearn: 0.2272838\ttotal: 18.4s\tremaining: 45.3s\n",
      "289:\tlearn: 0.2272307\ttotal: 18.5s\tremaining: 45.3s\n",
      "290:\tlearn: 0.2271027\ttotal: 18.6s\tremaining: 45.3s\n",
      "291:\tlearn: 0.2270317\ttotal: 18.7s\tremaining: 45.3s\n",
      "292:\tlearn: 0.2269586\ttotal: 18.8s\tremaining: 45.3s\n",
      "293:\tlearn: 0.2268975\ttotal: 18.9s\tremaining: 45.3s\n",
      "294:\tlearn: 0.2268175\ttotal: 19s\tremaining: 45.3s\n",
      "295:\tlearn: 0.2267475\ttotal: 19s\tremaining: 45.3s\n",
      "296:\tlearn: 0.2266845\ttotal: 19.1s\tremaining: 45.3s\n",
      "297:\tlearn: 0.2266087\ttotal: 19.2s\tremaining: 45.2s\n",
      "298:\tlearn: 0.2265158\ttotal: 19.3s\tremaining: 45.2s\n",
      "299:\tlearn: 0.2264621\ttotal: 19.4s\tremaining: 45.2s\n",
      "300:\tlearn: 0.2263824\ttotal: 19.5s\tremaining: 45.2s\n",
      "301:\tlearn: 0.2263068\ttotal: 19.6s\tremaining: 45.2s\n",
      "302:\tlearn: 0.2262214\ttotal: 19.7s\tremaining: 45.2s\n",
      "303:\tlearn: 0.2261264\ttotal: 19.8s\tremaining: 45.2s\n",
      "304:\tlearn: 0.2260658\ttotal: 19.8s\tremaining: 45.2s\n",
      "305:\tlearn: 0.2259846\ttotal: 19.9s\tremaining: 45.2s\n",
      "306:\tlearn: 0.2259335\ttotal: 20s\tremaining: 45.2s\n",
      "307:\tlearn: 0.2258578\ttotal: 20.1s\tremaining: 45.2s\n",
      "308:\tlearn: 0.2257951\ttotal: 20.2s\tremaining: 45.1s\n",
      "309:\tlearn: 0.2256476\ttotal: 20.3s\tremaining: 45.1s\n",
      "310:\tlearn: 0.2253212\ttotal: 20.4s\tremaining: 45.1s\n",
      "311:\tlearn: 0.2252506\ttotal: 20.4s\tremaining: 45.1s\n",
      "312:\tlearn: 0.2250958\ttotal: 20.5s\tremaining: 45s\n",
      "313:\tlearn: 0.2250263\ttotal: 20.6s\tremaining: 45s\n",
      "314:\tlearn: 0.2249237\ttotal: 20.7s\tremaining: 45s\n",
      "315:\tlearn: 0.2248636\ttotal: 20.8s\tremaining: 44.9s\n",
      "316:\tlearn: 0.2247643\ttotal: 20.8s\tremaining: 44.9s\n",
      "317:\tlearn: 0.2246955\ttotal: 20.9s\tremaining: 44.9s\n",
      "318:\tlearn: 0.2244279\ttotal: 21s\tremaining: 44.9s\n",
      "319:\tlearn: 0.2243589\ttotal: 21.1s\tremaining: 44.8s\n"
     ]
    },
    {
     "name": "stdout",
     "output_type": "stream",
     "text": [
      "320:\tlearn: 0.2243051\ttotal: 21.2s\tremaining: 44.8s\n",
      "321:\tlearn: 0.2240337\ttotal: 21.3s\tremaining: 44.8s\n",
      "322:\tlearn: 0.2238613\ttotal: 21.3s\tremaining: 44.7s\n",
      "323:\tlearn: 0.2237987\ttotal: 21.4s\tremaining: 44.7s\n",
      "324:\tlearn: 0.2237284\ttotal: 21.5s\tremaining: 44.7s\n",
      "325:\tlearn: 0.2236717\ttotal: 21.6s\tremaining: 44.6s\n",
      "326:\tlearn: 0.2236279\ttotal: 21.6s\tremaining: 44.5s\n",
      "327:\tlearn: 0.2235747\ttotal: 21.7s\tremaining: 44.5s\n",
      "328:\tlearn: 0.2234804\ttotal: 21.8s\tremaining: 44.5s\n",
      "329:\tlearn: 0.2234215\ttotal: 21.9s\tremaining: 44.5s\n",
      "330:\tlearn: 0.2233698\ttotal: 22s\tremaining: 44.5s\n",
      "331:\tlearn: 0.2233221\ttotal: 22.1s\tremaining: 44.4s\n",
      "332:\tlearn: 0.2232390\ttotal: 22.2s\tremaining: 44.4s\n",
      "333:\tlearn: 0.2231472\ttotal: 22.3s\tremaining: 44.4s\n",
      "334:\tlearn: 0.2231048\ttotal: 22.4s\tremaining: 44.4s\n",
      "335:\tlearn: 0.2230542\ttotal: 22.4s\tremaining: 44.4s\n",
      "336:\tlearn: 0.2229846\ttotal: 22.5s\tremaining: 44.4s\n",
      "337:\tlearn: 0.2229028\ttotal: 22.6s\tremaining: 44.3s\n",
      "338:\tlearn: 0.2228148\ttotal: 22.7s\tremaining: 44.3s\n",
      "339:\tlearn: 0.2227623\ttotal: 22.8s\tremaining: 44.2s\n",
      "340:\tlearn: 0.2226230\ttotal: 22.9s\tremaining: 44.2s\n",
      "341:\tlearn: 0.2225547\ttotal: 22.9s\tremaining: 44.2s\n",
      "342:\tlearn: 0.2225168\ttotal: 23s\tremaining: 44.1s\n",
      "343:\tlearn: 0.2224523\ttotal: 23.1s\tremaining: 44s\n",
      "344:\tlearn: 0.2223917\ttotal: 23.2s\tremaining: 44s\n",
      "345:\tlearn: 0.2223516\ttotal: 23.2s\tremaining: 43.9s\n",
      "346:\tlearn: 0.2222866\ttotal: 23.3s\tremaining: 43.8s\n",
      "347:\tlearn: 0.2222113\ttotal: 23.4s\tremaining: 43.8s\n",
      "348:\tlearn: 0.2221390\ttotal: 23.5s\tremaining: 43.8s\n",
      "349:\tlearn: 0.2220917\ttotal: 23.5s\tremaining: 43.7s\n",
      "350:\tlearn: 0.2220595\ttotal: 23.6s\tremaining: 43.6s\n",
      "351:\tlearn: 0.2219670\ttotal: 23.7s\tremaining: 43.6s\n",
      "352:\tlearn: 0.2219157\ttotal: 23.7s\tremaining: 43.5s\n",
      "353:\tlearn: 0.2218293\ttotal: 23.8s\tremaining: 43.5s\n",
      "354:\tlearn: 0.2217917\ttotal: 23.9s\tremaining: 43.4s\n",
      "355:\tlearn: 0.2217354\ttotal: 24s\tremaining: 43.4s\n",
      "356:\tlearn: 0.2216620\ttotal: 24.1s\tremaining: 43.4s\n",
      "357:\tlearn: 0.2215769\ttotal: 24.2s\tremaining: 43.3s\n",
      "358:\tlearn: 0.2214965\ttotal: 24.2s\tremaining: 43.3s\n",
      "359:\tlearn: 0.2214400\ttotal: 24.3s\tremaining: 43.2s\n",
      "360:\tlearn: 0.2213942\ttotal: 24.4s\tremaining: 43.2s\n",
      "361:\tlearn: 0.2213273\ttotal: 24.5s\tremaining: 43.1s\n",
      "362:\tlearn: 0.2212394\ttotal: 24.6s\tremaining: 43.1s\n",
      "363:\tlearn: 0.2210454\ttotal: 24.6s\tremaining: 43.1s\n",
      "364:\tlearn: 0.2209743\ttotal: 24.7s\tremaining: 43s\n",
      "365:\tlearn: 0.2209116\ttotal: 24.8s\tremaining: 43s\n",
      "366:\tlearn: 0.2208560\ttotal: 24.9s\tremaining: 42.9s\n",
      "367:\tlearn: 0.2207844\ttotal: 25s\tremaining: 42.9s\n",
      "368:\tlearn: 0.2207027\ttotal: 25s\tremaining: 42.8s\n",
      "369:\tlearn: 0.2206386\ttotal: 25.1s\tremaining: 42.8s\n",
      "370:\tlearn: 0.2205770\ttotal: 25.2s\tremaining: 42.7s\n",
      "371:\tlearn: 0.2205020\ttotal: 25.3s\tremaining: 42.7s\n",
      "372:\tlearn: 0.2204755\ttotal: 25.4s\tremaining: 42.6s\n",
      "373:\tlearn: 0.2204108\ttotal: 25.4s\tremaining: 42.6s\n",
      "374:\tlearn: 0.2203390\ttotal: 25.5s\tremaining: 42.5s\n",
      "375:\tlearn: 0.2202932\ttotal: 25.6s\tremaining: 42.5s\n",
      "376:\tlearn: 0.2201973\ttotal: 25.7s\tremaining: 42.4s\n",
      "377:\tlearn: 0.2201507\ttotal: 25.7s\tremaining: 42.4s\n",
      "378:\tlearn: 0.2200807\ttotal: 25.8s\tremaining: 42.3s\n",
      "379:\tlearn: 0.2200182\ttotal: 25.9s\tremaining: 42.3s\n",
      "380:\tlearn: 0.2199591\ttotal: 26s\tremaining: 42.2s\n",
      "381:\tlearn: 0.2198867\ttotal: 26.1s\tremaining: 42.2s\n",
      "382:\tlearn: 0.2198264\ttotal: 26.1s\tremaining: 42.1s\n",
      "383:\tlearn: 0.2197387\ttotal: 26.2s\tremaining: 42.1s\n",
      "384:\tlearn: 0.2196720\ttotal: 26.3s\tremaining: 42s\n",
      "385:\tlearn: 0.2196076\ttotal: 26.4s\tremaining: 42s\n",
      "386:\tlearn: 0.2195712\ttotal: 26.5s\tremaining: 41.9s\n",
      "387:\tlearn: 0.2195240\ttotal: 26.5s\tremaining: 41.9s\n",
      "388:\tlearn: 0.2194612\ttotal: 26.6s\tremaining: 41.8s\n",
      "389:\tlearn: 0.2194236\ttotal: 26.7s\tremaining: 41.7s\n",
      "390:\tlearn: 0.2193786\ttotal: 26.7s\tremaining: 41.7s\n",
      "391:\tlearn: 0.2192744\ttotal: 26.8s\tremaining: 41.6s\n",
      "392:\tlearn: 0.2191212\ttotal: 26.9s\tremaining: 41.5s\n",
      "393:\tlearn: 0.2189350\ttotal: 27s\tremaining: 41.5s\n",
      "394:\tlearn: 0.2186977\ttotal: 27s\tremaining: 41.4s\n",
      "395:\tlearn: 0.2186329\ttotal: 27.1s\tremaining: 41.4s\n",
      "396:\tlearn: 0.2185955\ttotal: 27.2s\tremaining: 41.3s\n",
      "397:\tlearn: 0.2185079\ttotal: 27.3s\tremaining: 41.2s\n",
      "398:\tlearn: 0.2184475\ttotal: 27.3s\tremaining: 41.2s\n",
      "399:\tlearn: 0.2184120\ttotal: 27.4s\tremaining: 41.1s\n",
      "400:\tlearn: 0.2183608\ttotal: 27.5s\tremaining: 41.1s\n",
      "401:\tlearn: 0.2183198\ttotal: 27.6s\tremaining: 41s\n",
      "402:\tlearn: 0.2182764\ttotal: 27.6s\tremaining: 41s\n",
      "403:\tlearn: 0.2182471\ttotal: 27.7s\tremaining: 40.9s\n",
      "404:\tlearn: 0.2182017\ttotal: 27.8s\tremaining: 40.8s\n",
      "405:\tlearn: 0.2181391\ttotal: 27.9s\tremaining: 40.8s\n",
      "406:\tlearn: 0.2180918\ttotal: 27.9s\tremaining: 40.7s\n",
      "407:\tlearn: 0.2180319\ttotal: 28s\tremaining: 40.6s\n",
      "408:\tlearn: 0.2179764\ttotal: 28.1s\tremaining: 40.6s\n",
      "409:\tlearn: 0.2179420\ttotal: 28.2s\tremaining: 40.6s\n",
      "410:\tlearn: 0.2178723\ttotal: 28.2s\tremaining: 40.5s\n",
      "411:\tlearn: 0.2178252\ttotal: 28.3s\tremaining: 40.4s\n",
      "412:\tlearn: 0.2177885\ttotal: 28.4s\tremaining: 40.4s\n",
      "413:\tlearn: 0.2177302\ttotal: 28.5s\tremaining: 40.3s\n",
      "414:\tlearn: 0.2176826\ttotal: 28.6s\tremaining: 40.3s\n",
      "415:\tlearn: 0.2176279\ttotal: 28.7s\tremaining: 40.2s\n",
      "416:\tlearn: 0.2175789\ttotal: 28.8s\tremaining: 40.2s\n",
      "417:\tlearn: 0.2174709\ttotal: 28.9s\tremaining: 40.2s\n",
      "418:\tlearn: 0.2173851\ttotal: 28.9s\tremaining: 40.1s\n",
      "419:\tlearn: 0.2172340\ttotal: 29s\tremaining: 40s\n",
      "420:\tlearn: 0.2171973\ttotal: 29.1s\tremaining: 40s\n",
      "421:\tlearn: 0.2171344\ttotal: 29.2s\tremaining: 39.9s\n",
      "422:\tlearn: 0.2170775\ttotal: 29.3s\tremaining: 39.9s\n",
      "423:\tlearn: 0.2170209\ttotal: 29.4s\tremaining: 39.9s\n",
      "424:\tlearn: 0.2168677\ttotal: 29.4s\tremaining: 39.8s\n",
      "425:\tlearn: 0.2168018\ttotal: 29.5s\tremaining: 39.8s\n",
      "426:\tlearn: 0.2167292\ttotal: 29.6s\tremaining: 39.7s\n",
      "427:\tlearn: 0.2166591\ttotal: 29.7s\tremaining: 39.7s\n",
      "428:\tlearn: 0.2165911\ttotal: 29.7s\tremaining: 39.6s\n",
      "429:\tlearn: 0.2165201\ttotal: 29.8s\tremaining: 39.5s\n",
      "430:\tlearn: 0.2164400\ttotal: 29.9s\tremaining: 39.5s\n",
      "431:\tlearn: 0.2163827\ttotal: 30s\tremaining: 39.4s\n",
      "432:\tlearn: 0.2162665\ttotal: 30.1s\tremaining: 39.4s\n",
      "433:\tlearn: 0.2162231\ttotal: 30.2s\tremaining: 39.3s\n",
      "434:\tlearn: 0.2161704\ttotal: 30.2s\tremaining: 39.3s\n",
      "435:\tlearn: 0.2161169\ttotal: 30.3s\tremaining: 39.2s\n",
      "436:\tlearn: 0.2160008\ttotal: 30.4s\tremaining: 39.2s\n",
      "437:\tlearn: 0.2159385\ttotal: 30.5s\tremaining: 39.1s\n",
      "438:\tlearn: 0.2158264\ttotal: 30.6s\tremaining: 39.1s\n",
      "439:\tlearn: 0.2157544\ttotal: 30.7s\tremaining: 39s\n",
      "440:\tlearn: 0.2157187\ttotal: 30.7s\tremaining: 39s\n",
      "441:\tlearn: 0.2156713\ttotal: 30.8s\tremaining: 38.9s\n",
      "442:\tlearn: 0.2156152\ttotal: 30.9s\tremaining: 38.9s\n",
      "443:\tlearn: 0.2155621\ttotal: 31s\tremaining: 38.8s\n",
      "444:\tlearn: 0.2155044\ttotal: 31.1s\tremaining: 38.8s\n",
      "445:\tlearn: 0.2154136\ttotal: 31.2s\tremaining: 38.7s\n",
      "446:\tlearn: 0.2153713\ttotal: 31.2s\tremaining: 38.7s\n",
      "447:\tlearn: 0.2153185\ttotal: 31.4s\tremaining: 38.6s\n",
      "448:\tlearn: 0.2151735\ttotal: 31.5s\tremaining: 38.6s\n",
      "449:\tlearn: 0.2151211\ttotal: 31.5s\tremaining: 38.5s\n",
      "450:\tlearn: 0.2150706\ttotal: 31.6s\tremaining: 38.5s\n",
      "451:\tlearn: 0.2149952\ttotal: 31.7s\tremaining: 38.4s\n",
      "452:\tlearn: 0.2149541\ttotal: 31.8s\tremaining: 38.4s\n",
      "453:\tlearn: 0.2149134\ttotal: 31.9s\tremaining: 38.3s\n",
      "454:\tlearn: 0.2148698\ttotal: 31.9s\tremaining: 38.3s\n",
      "455:\tlearn: 0.2148096\ttotal: 32s\tremaining: 38.2s\n",
      "456:\tlearn: 0.2147657\ttotal: 32.1s\tremaining: 38.1s\n",
      "457:\tlearn: 0.2147087\ttotal: 32.2s\tremaining: 38.1s\n",
      "458:\tlearn: 0.2146638\ttotal: 32.3s\tremaining: 38s\n",
      "459:\tlearn: 0.2146233\ttotal: 32.3s\tremaining: 38s\n",
      "460:\tlearn: 0.2145853\ttotal: 32.4s\tremaining: 37.9s\n",
      "461:\tlearn: 0.2145273\ttotal: 32.5s\tremaining: 37.9s\n",
      "462:\tlearn: 0.2144584\ttotal: 32.6s\tremaining: 37.8s\n",
      "463:\tlearn: 0.2143828\ttotal: 32.7s\tremaining: 37.7s\n",
      "464:\tlearn: 0.2143003\ttotal: 32.8s\tremaining: 37.7s\n",
      "465:\tlearn: 0.2142632\ttotal: 32.9s\tremaining: 37.7s\n",
      "466:\tlearn: 0.2141905\ttotal: 33s\tremaining: 37.6s\n",
      "467:\tlearn: 0.2141478\ttotal: 33s\tremaining: 37.6s\n",
      "468:\tlearn: 0.2140290\ttotal: 33.1s\tremaining: 37.5s\n",
      "469:\tlearn: 0.2139141\ttotal: 33.2s\tremaining: 37.5s\n",
      "470:\tlearn: 0.2138405\ttotal: 33.3s\tremaining: 37.4s\n",
      "471:\tlearn: 0.2138040\ttotal: 33.4s\tremaining: 37.4s\n",
      "472:\tlearn: 0.2137409\ttotal: 33.5s\tremaining: 37.3s\n",
      "473:\tlearn: 0.2136970\ttotal: 33.6s\tremaining: 37.3s\n",
      "474:\tlearn: 0.2136531\ttotal: 33.7s\tremaining: 37.2s\n",
      "475:\tlearn: 0.2135998\ttotal: 33.8s\tremaining: 37.2s\n",
      "476:\tlearn: 0.2135722\ttotal: 33.9s\tremaining: 37.1s\n",
      "477:\tlearn: 0.2135031\ttotal: 34s\tremaining: 37.1s\n",
      "478:\tlearn: 0.2134343\ttotal: 34.1s\tremaining: 37s\n"
     ]
    },
    {
     "name": "stdout",
     "output_type": "stream",
     "text": [
      "479:\tlearn: 0.2133983\ttotal: 34.2s\tremaining: 37s\n",
      "480:\tlearn: 0.2133315\ttotal: 34.2s\tremaining: 37s\n",
      "481:\tlearn: 0.2132775\ttotal: 34.3s\tremaining: 36.9s\n",
      "482:\tlearn: 0.2132124\ttotal: 34.4s\tremaining: 36.8s\n",
      "483:\tlearn: 0.2131606\ttotal: 34.5s\tremaining: 36.8s\n",
      "484:\tlearn: 0.2130992\ttotal: 34.6s\tremaining: 36.7s\n",
      "485:\tlearn: 0.2130311\ttotal: 34.7s\tremaining: 36.7s\n",
      "486:\tlearn: 0.2129831\ttotal: 34.8s\tremaining: 36.6s\n",
      "487:\tlearn: 0.2129455\ttotal: 34.9s\tremaining: 36.6s\n",
      "488:\tlearn: 0.2128729\ttotal: 35s\tremaining: 36.5s\n",
      "489:\tlearn: 0.2127658\ttotal: 35s\tremaining: 36.5s\n",
      "490:\tlearn: 0.2126872\ttotal: 35.1s\tremaining: 36.4s\n",
      "491:\tlearn: 0.2125865\ttotal: 35.2s\tremaining: 36.4s\n",
      "492:\tlearn: 0.2125264\ttotal: 35.3s\tremaining: 36.3s\n",
      "493:\tlearn: 0.2124993\ttotal: 35.4s\tremaining: 36.2s\n",
      "494:\tlearn: 0.2124258\ttotal: 35.5s\tremaining: 36.2s\n",
      "495:\tlearn: 0.2123791\ttotal: 35.6s\tremaining: 36.1s\n",
      "496:\tlearn: 0.2123310\ttotal: 35.7s\tremaining: 36.1s\n",
      "497:\tlearn: 0.2122832\ttotal: 35.8s\tremaining: 36.1s\n",
      "498:\tlearn: 0.2122375\ttotal: 35.9s\tremaining: 36s\n",
      "499:\tlearn: 0.2122025\ttotal: 35.9s\tremaining: 35.9s\n",
      "500:\tlearn: 0.2121258\ttotal: 36s\tremaining: 35.9s\n",
      "501:\tlearn: 0.2120714\ttotal: 36.1s\tremaining: 35.8s\n",
      "502:\tlearn: 0.2120175\ttotal: 36.2s\tremaining: 35.8s\n",
      "503:\tlearn: 0.2119413\ttotal: 36.3s\tremaining: 35.7s\n",
      "504:\tlearn: 0.2119012\ttotal: 36.4s\tremaining: 35.6s\n",
      "505:\tlearn: 0.2118680\ttotal: 36.4s\tremaining: 35.6s\n",
      "506:\tlearn: 0.2117169\ttotal: 36.5s\tremaining: 35.5s\n",
      "507:\tlearn: 0.2116533\ttotal: 36.6s\tremaining: 35.5s\n",
      "508:\tlearn: 0.2116170\ttotal: 36.7s\tremaining: 35.4s\n",
      "509:\tlearn: 0.2115831\ttotal: 36.7s\tremaining: 35.3s\n",
      "510:\tlearn: 0.2115207\ttotal: 36.8s\tremaining: 35.2s\n",
      "511:\tlearn: 0.2114799\ttotal: 36.9s\tremaining: 35.1s\n",
      "512:\tlearn: 0.2114117\ttotal: 36.9s\tremaining: 35s\n",
      "513:\tlearn: 0.2113834\ttotal: 37s\tremaining: 35s\n",
      "514:\tlearn: 0.2113504\ttotal: 37.1s\tremaining: 34.9s\n",
      "515:\tlearn: 0.2111927\ttotal: 37.2s\tremaining: 34.9s\n",
      "516:\tlearn: 0.2111602\ttotal: 37.3s\tremaining: 34.8s\n",
      "517:\tlearn: 0.2111042\ttotal: 37.3s\tremaining: 34.8s\n",
      "518:\tlearn: 0.2110440\ttotal: 37.4s\tremaining: 34.7s\n",
      "519:\tlearn: 0.2110060\ttotal: 37.5s\tremaining: 34.6s\n",
      "520:\tlearn: 0.2109609\ttotal: 37.6s\tremaining: 34.6s\n",
      "521:\tlearn: 0.2108202\ttotal: 37.7s\tremaining: 34.5s\n",
      "522:\tlearn: 0.2107632\ttotal: 37.7s\tremaining: 34.4s\n",
      "523:\tlearn: 0.2107159\ttotal: 37.8s\tremaining: 34.3s\n",
      "524:\tlearn: 0.2106545\ttotal: 37.9s\tremaining: 34.3s\n",
      "525:\tlearn: 0.2105853\ttotal: 37.9s\tremaining: 34.2s\n",
      "526:\tlearn: 0.2105309\ttotal: 38s\tremaining: 34.1s\n",
      "527:\tlearn: 0.2104818\ttotal: 38.1s\tremaining: 34s\n",
      "528:\tlearn: 0.2104516\ttotal: 38.2s\tremaining: 34s\n",
      "529:\tlearn: 0.2104139\ttotal: 38.3s\tremaining: 33.9s\n",
      "530:\tlearn: 0.2103765\ttotal: 38.3s\tremaining: 33.9s\n",
      "531:\tlearn: 0.2103408\ttotal: 38.4s\tremaining: 33.8s\n",
      "532:\tlearn: 0.2102983\ttotal: 38.4s\tremaining: 33.7s\n",
      "533:\tlearn: 0.2102305\ttotal: 38.5s\tremaining: 33.6s\n",
      "534:\tlearn: 0.2101968\ttotal: 38.6s\tremaining: 33.5s\n",
      "535:\tlearn: 0.2101321\ttotal: 38.7s\tremaining: 33.5s\n",
      "536:\tlearn: 0.2100294\ttotal: 38.7s\tremaining: 33.4s\n",
      "537:\tlearn: 0.2098961\ttotal: 38.8s\tremaining: 33.4s\n",
      "538:\tlearn: 0.2098241\ttotal: 38.9s\tremaining: 33.3s\n",
      "539:\tlearn: 0.2097931\ttotal: 39s\tremaining: 33.2s\n",
      "540:\tlearn: 0.2097590\ttotal: 39.1s\tremaining: 33.2s\n",
      "541:\tlearn: 0.2097076\ttotal: 39.2s\tremaining: 33.1s\n",
      "542:\tlearn: 0.2096577\ttotal: 39.2s\tremaining: 33s\n",
      "543:\tlearn: 0.2096191\ttotal: 39.3s\tremaining: 32.9s\n",
      "544:\tlearn: 0.2095800\ttotal: 39.4s\tremaining: 32.9s\n",
      "545:\tlearn: 0.2095169\ttotal: 39.5s\tremaining: 32.8s\n",
      "546:\tlearn: 0.2093297\ttotal: 39.5s\tremaining: 32.7s\n",
      "547:\tlearn: 0.2093059\ttotal: 39.6s\tremaining: 32.7s\n",
      "548:\tlearn: 0.2091579\ttotal: 39.7s\tremaining: 32.6s\n",
      "549:\tlearn: 0.2090908\ttotal: 39.7s\tremaining: 32.5s\n",
      "550:\tlearn: 0.2090360\ttotal: 39.8s\tremaining: 32.4s\n",
      "551:\tlearn: 0.2089881\ttotal: 39.9s\tremaining: 32.4s\n",
      "552:\tlearn: 0.2089276\ttotal: 40s\tremaining: 32.3s\n",
      "553:\tlearn: 0.2088842\ttotal: 40s\tremaining: 32.2s\n",
      "554:\tlearn: 0.2088273\ttotal: 40.1s\tremaining: 32.2s\n",
      "555:\tlearn: 0.2087980\ttotal: 40.2s\tremaining: 32.1s\n",
      "556:\tlearn: 0.2087094\ttotal: 40.3s\tremaining: 32s\n",
      "557:\tlearn: 0.2086742\ttotal: 40.4s\tremaining: 32s\n",
      "558:\tlearn: 0.2085676\ttotal: 40.4s\tremaining: 31.9s\n",
      "559:\tlearn: 0.2084862\ttotal: 40.5s\tremaining: 31.8s\n",
      "560:\tlearn: 0.2084497\ttotal: 40.6s\tremaining: 31.8s\n",
      "561:\tlearn: 0.2083932\ttotal: 40.7s\tremaining: 31.7s\n",
      "562:\tlearn: 0.2083278\ttotal: 40.8s\tremaining: 31.6s\n",
      "563:\tlearn: 0.2082660\ttotal: 40.8s\tremaining: 31.6s\n",
      "564:\tlearn: 0.2082127\ttotal: 40.9s\tremaining: 31.5s\n",
      "565:\tlearn: 0.2081780\ttotal: 41s\tremaining: 31.4s\n",
      "566:\tlearn: 0.2081290\ttotal: 41.1s\tremaining: 31.4s\n",
      "567:\tlearn: 0.2080980\ttotal: 41.2s\tremaining: 31.3s\n",
      "568:\tlearn: 0.2080814\ttotal: 41.2s\tremaining: 31.2s\n",
      "569:\tlearn: 0.2080526\ttotal: 41.3s\tremaining: 31.2s\n",
      "570:\tlearn: 0.2080136\ttotal: 41.4s\tremaining: 31.1s\n",
      "571:\tlearn: 0.2079673\ttotal: 41.5s\tremaining: 31s\n",
      "572:\tlearn: 0.2078061\ttotal: 41.6s\tremaining: 31s\n",
      "573:\tlearn: 0.2077554\ttotal: 41.6s\tremaining: 30.9s\n",
      "574:\tlearn: 0.2077154\ttotal: 41.7s\tremaining: 30.8s\n",
      "575:\tlearn: 0.2076617\ttotal: 41.8s\tremaining: 30.8s\n",
      "576:\tlearn: 0.2076060\ttotal: 41.8s\tremaining: 30.7s\n",
      "577:\tlearn: 0.2075662\ttotal: 41.9s\tremaining: 30.6s\n",
      "578:\tlearn: 0.2075316\ttotal: 42s\tremaining: 30.5s\n",
      "579:\tlearn: 0.2074894\ttotal: 42.1s\tremaining: 30.5s\n",
      "580:\tlearn: 0.2074403\ttotal: 42.1s\tremaining: 30.4s\n",
      "581:\tlearn: 0.2073630\ttotal: 42.2s\tremaining: 30.3s\n",
      "582:\tlearn: 0.2072982\ttotal: 42.3s\tremaining: 30.3s\n",
      "583:\tlearn: 0.2072359\ttotal: 42.4s\tremaining: 30.2s\n",
      "584:\tlearn: 0.2072082\ttotal: 42.5s\tremaining: 30.1s\n",
      "585:\tlearn: 0.2071675\ttotal: 42.5s\tremaining: 30s\n",
      "586:\tlearn: 0.2071328\ttotal: 42.6s\tremaining: 30s\n",
      "587:\tlearn: 0.2070919\ttotal: 42.7s\tremaining: 29.9s\n",
      "588:\tlearn: 0.2070235\ttotal: 42.8s\tremaining: 29.8s\n",
      "589:\tlearn: 0.2069836\ttotal: 42.8s\tremaining: 29.8s\n",
      "590:\tlearn: 0.2069403\ttotal: 42.9s\tremaining: 29.7s\n",
      "591:\tlearn: 0.2068906\ttotal: 43s\tremaining: 29.6s\n",
      "592:\tlearn: 0.2068279\ttotal: 43.1s\tremaining: 29.6s\n",
      "593:\tlearn: 0.2067775\ttotal: 43.1s\tremaining: 29.5s\n",
      "594:\tlearn: 0.2067332\ttotal: 43.2s\tremaining: 29.4s\n",
      "595:\tlearn: 0.2066562\ttotal: 43.3s\tremaining: 29.3s\n",
      "596:\tlearn: 0.2066122\ttotal: 43.4s\tremaining: 29.3s\n",
      "597:\tlearn: 0.2065573\ttotal: 43.4s\tremaining: 29.2s\n",
      "598:\tlearn: 0.2065193\ttotal: 43.5s\tremaining: 29.1s\n",
      "599:\tlearn: 0.2064686\ttotal: 43.6s\tremaining: 29.1s\n",
      "600:\tlearn: 0.2064317\ttotal: 43.7s\tremaining: 29s\n",
      "601:\tlearn: 0.2063307\ttotal: 43.7s\tremaining: 28.9s\n",
      "602:\tlearn: 0.2062680\ttotal: 43.8s\tremaining: 28.8s\n",
      "603:\tlearn: 0.2062152\ttotal: 43.9s\tremaining: 28.8s\n",
      "604:\tlearn: 0.2061746\ttotal: 44s\tremaining: 28.7s\n",
      "605:\tlearn: 0.2061176\ttotal: 44s\tremaining: 28.6s\n",
      "606:\tlearn: 0.2060849\ttotal: 44.1s\tremaining: 28.6s\n",
      "607:\tlearn: 0.2060264\ttotal: 44.2s\tremaining: 28.5s\n",
      "608:\tlearn: 0.2059901\ttotal: 44.3s\tremaining: 28.4s\n",
      "609:\tlearn: 0.2059575\ttotal: 44.3s\tremaining: 28.3s\n",
      "610:\tlearn: 0.2059238\ttotal: 44.4s\tremaining: 28.3s\n",
      "611:\tlearn: 0.2058669\ttotal: 44.5s\tremaining: 28.2s\n",
      "612:\tlearn: 0.2058174\ttotal: 44.5s\tremaining: 28.1s\n",
      "613:\tlearn: 0.2057798\ttotal: 44.6s\tremaining: 28s\n",
      "614:\tlearn: 0.2057498\ttotal: 44.7s\tremaining: 28s\n",
      "615:\tlearn: 0.2057120\ttotal: 44.7s\tremaining: 27.9s\n",
      "616:\tlearn: 0.2056462\ttotal: 44.8s\tremaining: 27.8s\n",
      "617:\tlearn: 0.2056188\ttotal: 44.8s\tremaining: 27.7s\n",
      "618:\tlearn: 0.2055868\ttotal: 44.9s\tremaining: 27.6s\n",
      "619:\tlearn: 0.2055654\ttotal: 45s\tremaining: 27.6s\n",
      "620:\tlearn: 0.2055229\ttotal: 45s\tremaining: 27.5s\n",
      "621:\tlearn: 0.2054867\ttotal: 45.1s\tremaining: 27.4s\n",
      "622:\tlearn: 0.2054353\ttotal: 45.1s\tremaining: 27.3s\n",
      "623:\tlearn: 0.2053763\ttotal: 45.2s\tremaining: 27.2s\n",
      "624:\tlearn: 0.2053360\ttotal: 45.3s\tremaining: 27.2s\n",
      "625:\tlearn: 0.2052939\ttotal: 45.3s\tremaining: 27.1s\n",
      "626:\tlearn: 0.2052437\ttotal: 45.4s\tremaining: 27s\n",
      "627:\tlearn: 0.2051812\ttotal: 45.5s\tremaining: 26.9s\n",
      "628:\tlearn: 0.2051267\ttotal: 45.5s\tremaining: 26.8s\n",
      "629:\tlearn: 0.2050583\ttotal: 45.6s\tremaining: 26.8s\n",
      "630:\tlearn: 0.2050318\ttotal: 45.7s\tremaining: 26.7s\n",
      "631:\tlearn: 0.2049995\ttotal: 45.7s\tremaining: 26.6s\n",
      "632:\tlearn: 0.2049505\ttotal: 45.8s\tremaining: 26.5s\n",
      "633:\tlearn: 0.2049173\ttotal: 45.9s\tremaining: 26.5s\n",
      "634:\tlearn: 0.2048866\ttotal: 45.9s\tremaining: 26.4s\n",
      "635:\tlearn: 0.2047981\ttotal: 46s\tremaining: 26.3s\n",
      "636:\tlearn: 0.2047468\ttotal: 46s\tremaining: 26.2s\n",
      "637:\tlearn: 0.2046731\ttotal: 46.1s\tremaining: 26.2s\n",
      "638:\tlearn: 0.2046557\ttotal: 46.2s\tremaining: 26.1s\n"
     ]
    },
    {
     "name": "stdout",
     "output_type": "stream",
     "text": [
      "639:\tlearn: 0.2046118\ttotal: 46.2s\tremaining: 26s\n",
      "640:\tlearn: 0.2045610\ttotal: 46.3s\tremaining: 25.9s\n",
      "641:\tlearn: 0.2045055\ttotal: 46.4s\tremaining: 25.9s\n",
      "642:\tlearn: 0.2044576\ttotal: 46.4s\tremaining: 25.8s\n",
      "643:\tlearn: 0.2044310\ttotal: 46.5s\tremaining: 25.7s\n",
      "644:\tlearn: 0.2043910\ttotal: 46.5s\tremaining: 25.6s\n",
      "645:\tlearn: 0.2043694\ttotal: 46.6s\tremaining: 25.5s\n",
      "646:\tlearn: 0.2043183\ttotal: 46.7s\tremaining: 25.5s\n",
      "647:\tlearn: 0.2042790\ttotal: 46.7s\tremaining: 25.4s\n",
      "648:\tlearn: 0.2042301\ttotal: 46.8s\tremaining: 25.3s\n",
      "649:\tlearn: 0.2041816\ttotal: 46.9s\tremaining: 25.2s\n",
      "650:\tlearn: 0.2041315\ttotal: 46.9s\tremaining: 25.2s\n",
      "651:\tlearn: 0.2040986\ttotal: 47s\tremaining: 25.1s\n",
      "652:\tlearn: 0.2040531\ttotal: 47.1s\tremaining: 25s\n",
      "653:\tlearn: 0.2040380\ttotal: 47.1s\tremaining: 24.9s\n",
      "654:\tlearn: 0.2040073\ttotal: 47.2s\tremaining: 24.9s\n",
      "655:\tlearn: 0.2039572\ttotal: 47.2s\tremaining: 24.8s\n",
      "656:\tlearn: 0.2039004\ttotal: 47.3s\tremaining: 24.7s\n",
      "657:\tlearn: 0.2038583\ttotal: 47.4s\tremaining: 24.6s\n",
      "658:\tlearn: 0.2038141\ttotal: 47.4s\tremaining: 24.5s\n",
      "659:\tlearn: 0.2037789\ttotal: 47.5s\tremaining: 24.5s\n",
      "660:\tlearn: 0.2037435\ttotal: 47.6s\tremaining: 24.4s\n",
      "661:\tlearn: 0.2037118\ttotal: 47.6s\tremaining: 24.3s\n",
      "662:\tlearn: 0.2036785\ttotal: 47.7s\tremaining: 24.2s\n",
      "663:\tlearn: 0.2036480\ttotal: 47.8s\tremaining: 24.2s\n",
      "664:\tlearn: 0.2036085\ttotal: 47.8s\tremaining: 24.1s\n",
      "665:\tlearn: 0.2035698\ttotal: 47.9s\tremaining: 24s\n",
      "666:\tlearn: 0.2035083\ttotal: 47.9s\tremaining: 23.9s\n",
      "667:\tlearn: 0.2034764\ttotal: 48s\tremaining: 23.9s\n",
      "668:\tlearn: 0.2034409\ttotal: 48.1s\tremaining: 23.8s\n",
      "669:\tlearn: 0.2034001\ttotal: 48.1s\tremaining: 23.7s\n",
      "670:\tlearn: 0.2033640\ttotal: 48.2s\tremaining: 23.6s\n",
      "671:\tlearn: 0.2033125\ttotal: 48.3s\tremaining: 23.6s\n",
      "672:\tlearn: 0.2032885\ttotal: 48.3s\tremaining: 23.5s\n",
      "673:\tlearn: 0.2032433\ttotal: 48.4s\tremaining: 23.4s\n",
      "674:\tlearn: 0.2031905\ttotal: 48.5s\tremaining: 23.3s\n",
      "675:\tlearn: 0.2031513\ttotal: 48.5s\tremaining: 23.3s\n",
      "676:\tlearn: 0.2031006\ttotal: 48.6s\tremaining: 23.2s\n",
      "677:\tlearn: 0.2029709\ttotal: 48.7s\tremaining: 23.1s\n",
      "678:\tlearn: 0.2029247\ttotal: 48.8s\tremaining: 23.1s\n",
      "679:\tlearn: 0.2028712\ttotal: 48.9s\tremaining: 23s\n",
      "680:\tlearn: 0.2028251\ttotal: 49s\tremaining: 22.9s\n",
      "681:\tlearn: 0.2027917\ttotal: 49s\tremaining: 22.9s\n",
      "682:\tlearn: 0.2027511\ttotal: 49.1s\tremaining: 22.8s\n",
      "683:\tlearn: 0.2027125\ttotal: 49.2s\tremaining: 22.7s\n",
      "684:\tlearn: 0.2026899\ttotal: 49.3s\tremaining: 22.7s\n",
      "685:\tlearn: 0.2026394\ttotal: 49.4s\tremaining: 22.6s\n",
      "686:\tlearn: 0.2025425\ttotal: 49.5s\tremaining: 22.5s\n",
      "687:\tlearn: 0.2024820\ttotal: 49.6s\tremaining: 22.5s\n",
      "688:\tlearn: 0.2024552\ttotal: 49.6s\tremaining: 22.4s\n",
      "689:\tlearn: 0.2024191\ttotal: 49.7s\tremaining: 22.3s\n",
      "690:\tlearn: 0.2023706\ttotal: 49.8s\tremaining: 22.3s\n",
      "691:\tlearn: 0.2023485\ttotal: 49.9s\tremaining: 22.2s\n",
      "692:\tlearn: 0.2023021\ttotal: 50s\tremaining: 22.1s\n",
      "693:\tlearn: 0.2022441\ttotal: 50s\tremaining: 22.1s\n",
      "694:\tlearn: 0.2022016\ttotal: 50.1s\tremaining: 22s\n",
      "695:\tlearn: 0.2021581\ttotal: 50.2s\tremaining: 21.9s\n",
      "696:\tlearn: 0.2021237\ttotal: 50.3s\tremaining: 21.9s\n",
      "697:\tlearn: 0.2020886\ttotal: 50.4s\tremaining: 21.8s\n",
      "698:\tlearn: 0.2020552\ttotal: 50.4s\tremaining: 21.7s\n",
      "699:\tlearn: 0.2020288\ttotal: 50.5s\tremaining: 21.6s\n",
      "700:\tlearn: 0.2019947\ttotal: 50.6s\tremaining: 21.6s\n",
      "701:\tlearn: 0.2019776\ttotal: 50.7s\tremaining: 21.5s\n",
      "702:\tlearn: 0.2019441\ttotal: 50.9s\tremaining: 21.5s\n",
      "703:\tlearn: 0.2019112\ttotal: 51s\tremaining: 21.4s\n",
      "704:\tlearn: 0.2018675\ttotal: 51.1s\tremaining: 21.4s\n",
      "705:\tlearn: 0.2018326\ttotal: 51.2s\tremaining: 21.3s\n",
      "706:\tlearn: 0.2017922\ttotal: 51.2s\tremaining: 21.2s\n",
      "707:\tlearn: 0.2017015\ttotal: 51.3s\tremaining: 21.2s\n",
      "708:\tlearn: 0.2016795\ttotal: 51.4s\tremaining: 21.1s\n",
      "709:\tlearn: 0.2016419\ttotal: 51.5s\tremaining: 21s\n",
      "710:\tlearn: 0.2015984\ttotal: 51.6s\tremaining: 21s\n",
      "711:\tlearn: 0.2015244\ttotal: 51.6s\tremaining: 20.9s\n",
      "712:\tlearn: 0.2014230\ttotal: 51.7s\tremaining: 20.8s\n",
      "713:\tlearn: 0.2013950\ttotal: 51.8s\tremaining: 20.7s\n",
      "714:\tlearn: 0.2013556\ttotal: 51.8s\tremaining: 20.7s\n",
      "715:\tlearn: 0.2013056\ttotal: 51.9s\tremaining: 20.6s\n",
      "716:\tlearn: 0.2012769\ttotal: 52s\tremaining: 20.5s\n",
      "717:\tlearn: 0.2012432\ttotal: 52s\tremaining: 20.4s\n",
      "718:\tlearn: 0.2012206\ttotal: 52.1s\tremaining: 20.4s\n",
      "719:\tlearn: 0.2011651\ttotal: 52.2s\tremaining: 20.3s\n",
      "720:\tlearn: 0.2011318\ttotal: 52.2s\tremaining: 20.2s\n",
      "721:\tlearn: 0.2010931\ttotal: 52.3s\tremaining: 20.1s\n",
      "722:\tlearn: 0.2010448\ttotal: 52.4s\tremaining: 20.1s\n",
      "723:\tlearn: 0.2010088\ttotal: 52.4s\tremaining: 20s\n",
      "724:\tlearn: 0.2009694\ttotal: 52.5s\tremaining: 19.9s\n",
      "725:\tlearn: 0.2009364\ttotal: 52.6s\tremaining: 19.8s\n",
      "726:\tlearn: 0.2008946\ttotal: 52.6s\tremaining: 19.8s\n",
      "727:\tlearn: 0.2008623\ttotal: 52.7s\tremaining: 19.7s\n",
      "728:\tlearn: 0.2008346\ttotal: 52.8s\tremaining: 19.6s\n",
      "729:\tlearn: 0.2007954\ttotal: 52.9s\tremaining: 19.6s\n",
      "730:\tlearn: 0.2007703\ttotal: 52.9s\tremaining: 19.5s\n",
      "731:\tlearn: 0.2007457\ttotal: 53s\tremaining: 19.4s\n",
      "732:\tlearn: 0.2007140\ttotal: 53.1s\tremaining: 19.3s\n",
      "733:\tlearn: 0.2006464\ttotal: 53.1s\tremaining: 19.3s\n",
      "734:\tlearn: 0.2006028\ttotal: 53.2s\tremaining: 19.2s\n",
      "735:\tlearn: 0.2005744\ttotal: 53.3s\tremaining: 19.1s\n",
      "736:\tlearn: 0.2005250\ttotal: 53.3s\tremaining: 19s\n",
      "737:\tlearn: 0.2004818\ttotal: 53.4s\tremaining: 19s\n",
      "738:\tlearn: 0.2004622\ttotal: 53.5s\tremaining: 18.9s\n",
      "739:\tlearn: 0.2004005\ttotal: 53.5s\tremaining: 18.8s\n",
      "740:\tlearn: 0.2003798\ttotal: 53.6s\tremaining: 18.7s\n",
      "741:\tlearn: 0.2003375\ttotal: 53.6s\tremaining: 18.7s\n",
      "742:\tlearn: 0.2003087\ttotal: 53.7s\tremaining: 18.6s\n",
      "743:\tlearn: 0.2002796\ttotal: 53.8s\tremaining: 18.5s\n",
      "744:\tlearn: 0.2002340\ttotal: 53.8s\tremaining: 18.4s\n",
      "745:\tlearn: 0.2001908\ttotal: 53.9s\tremaining: 18.3s\n",
      "746:\tlearn: 0.2001492\ttotal: 53.9s\tremaining: 18.3s\n",
      "747:\tlearn: 0.2001199\ttotal: 54s\tremaining: 18.2s\n",
      "748:\tlearn: 0.2001020\ttotal: 54.1s\tremaining: 18.1s\n",
      "749:\tlearn: 0.2000811\ttotal: 54.1s\tremaining: 18s\n",
      "750:\tlearn: 0.2000505\ttotal: 54.2s\tremaining: 18s\n",
      "751:\tlearn: 0.2000101\ttotal: 54.3s\tremaining: 17.9s\n",
      "752:\tlearn: 0.1999722\ttotal: 54.3s\tremaining: 17.8s\n",
      "753:\tlearn: 0.1999496\ttotal: 54.4s\tremaining: 17.8s\n",
      "754:\tlearn: 0.1999141\ttotal: 54.5s\tremaining: 17.7s\n",
      "755:\tlearn: 0.1998658\ttotal: 54.5s\tremaining: 17.6s\n",
      "756:\tlearn: 0.1998318\ttotal: 54.6s\tremaining: 17.5s\n",
      "757:\tlearn: 0.1998168\ttotal: 54.7s\tremaining: 17.5s\n",
      "758:\tlearn: 0.1997725\ttotal: 54.7s\tremaining: 17.4s\n",
      "759:\tlearn: 0.1997289\ttotal: 54.8s\tremaining: 17.3s\n",
      "760:\tlearn: 0.1996410\ttotal: 54.9s\tremaining: 17.2s\n",
      "761:\tlearn: 0.1996191\ttotal: 54.9s\tremaining: 17.2s\n",
      "762:\tlearn: 0.1995717\ttotal: 55s\tremaining: 17.1s\n",
      "763:\tlearn: 0.1995246\ttotal: 55.1s\tremaining: 17s\n",
      "764:\tlearn: 0.1994938\ttotal: 55.1s\tremaining: 16.9s\n",
      "765:\tlearn: 0.1994586\ttotal: 55.2s\tremaining: 16.9s\n",
      "766:\tlearn: 0.1994040\ttotal: 55.3s\tremaining: 16.8s\n",
      "767:\tlearn: 0.1993670\ttotal: 55.3s\tremaining: 16.7s\n",
      "768:\tlearn: 0.1993440\ttotal: 55.4s\tremaining: 16.6s\n",
      "769:\tlearn: 0.1992973\ttotal: 55.5s\tremaining: 16.6s\n",
      "770:\tlearn: 0.1992615\ttotal: 55.5s\tremaining: 16.5s\n",
      "771:\tlearn: 0.1991529\ttotal: 55.6s\tremaining: 16.4s\n",
      "772:\tlearn: 0.1991206\ttotal: 55.7s\tremaining: 16.4s\n",
      "773:\tlearn: 0.1990757\ttotal: 55.7s\tremaining: 16.3s\n",
      "774:\tlearn: 0.1989596\ttotal: 55.8s\tremaining: 16.2s\n",
      "775:\tlearn: 0.1989294\ttotal: 55.9s\tremaining: 16.1s\n",
      "776:\tlearn: 0.1989074\ttotal: 55.9s\tremaining: 16.1s\n",
      "777:\tlearn: 0.1988674\ttotal: 56s\tremaining: 16s\n",
      "778:\tlearn: 0.1988115\ttotal: 56.1s\tremaining: 15.9s\n",
      "779:\tlearn: 0.1987189\ttotal: 56.1s\tremaining: 15.8s\n",
      "780:\tlearn: 0.1986862\ttotal: 56.2s\tremaining: 15.8s\n",
      "781:\tlearn: 0.1986284\ttotal: 56.3s\tremaining: 15.7s\n",
      "782:\tlearn: 0.1985906\ttotal: 56.3s\tremaining: 15.6s\n",
      "783:\tlearn: 0.1985510\ttotal: 56.4s\tremaining: 15.5s\n",
      "784:\tlearn: 0.1985221\ttotal: 56.5s\tremaining: 15.5s\n",
      "785:\tlearn: 0.1985021\ttotal: 56.5s\tremaining: 15.4s\n",
      "786:\tlearn: 0.1983994\ttotal: 56.6s\tremaining: 15.3s\n",
      "787:\tlearn: 0.1983552\ttotal: 56.7s\tremaining: 15.3s\n",
      "788:\tlearn: 0.1983139\ttotal: 56.8s\tremaining: 15.2s\n",
      "789:\tlearn: 0.1982760\ttotal: 56.9s\tremaining: 15.1s\n",
      "790:\tlearn: 0.1982405\ttotal: 57s\tremaining: 15.1s\n",
      "791:\tlearn: 0.1982001\ttotal: 57.1s\tremaining: 15s\n",
      "792:\tlearn: 0.1981549\ttotal: 57.1s\tremaining: 14.9s\n",
      "793:\tlearn: 0.1981117\ttotal: 57.2s\tremaining: 14.8s\n",
      "794:\tlearn: 0.1980538\ttotal: 57.3s\tremaining: 14.8s\n",
      "795:\tlearn: 0.1980117\ttotal: 57.4s\tremaining: 14.7s\n",
      "796:\tlearn: 0.1979663\ttotal: 57.5s\tremaining: 14.6s\n",
      "797:\tlearn: 0.1979295\ttotal: 57.6s\tremaining: 14.6s\n",
      "798:\tlearn: 0.1978995\ttotal: 57.7s\tremaining: 14.5s\n"
     ]
    },
    {
     "name": "stdout",
     "output_type": "stream",
     "text": [
      "799:\tlearn: 0.1978638\ttotal: 57.8s\tremaining: 14.4s\n",
      "800:\tlearn: 0.1978225\ttotal: 57.9s\tremaining: 14.4s\n",
      "801:\tlearn: 0.1977654\ttotal: 58s\tremaining: 14.3s\n",
      "802:\tlearn: 0.1977324\ttotal: 58.1s\tremaining: 14.2s\n",
      "803:\tlearn: 0.1976950\ttotal: 58.1s\tremaining: 14.2s\n",
      "804:\tlearn: 0.1976565\ttotal: 58.2s\tremaining: 14.1s\n",
      "805:\tlearn: 0.1976077\ttotal: 58.3s\tremaining: 14s\n",
      "806:\tlearn: 0.1975626\ttotal: 58.4s\tremaining: 14s\n",
      "807:\tlearn: 0.1974924\ttotal: 58.5s\tremaining: 13.9s\n",
      "808:\tlearn: 0.1974603\ttotal: 58.6s\tremaining: 13.8s\n",
      "809:\tlearn: 0.1974231\ttotal: 58.7s\tremaining: 13.8s\n",
      "810:\tlearn: 0.1973854\ttotal: 58.8s\tremaining: 13.7s\n",
      "811:\tlearn: 0.1973212\ttotal: 58.9s\tremaining: 13.6s\n",
      "812:\tlearn: 0.1972714\ttotal: 59s\tremaining: 13.6s\n",
      "813:\tlearn: 0.1972345\ttotal: 59.1s\tremaining: 13.5s\n",
      "814:\tlearn: 0.1971903\ttotal: 59.2s\tremaining: 13.4s\n",
      "815:\tlearn: 0.1971543\ttotal: 59.3s\tremaining: 13.4s\n",
      "816:\tlearn: 0.1971083\ttotal: 59.4s\tremaining: 13.3s\n",
      "817:\tlearn: 0.1970644\ttotal: 59.5s\tremaining: 13.2s\n",
      "818:\tlearn: 0.1970311\ttotal: 59.6s\tremaining: 13.2s\n",
      "819:\tlearn: 0.1969727\ttotal: 59.6s\tremaining: 13.1s\n",
      "820:\tlearn: 0.1969364\ttotal: 59.8s\tremaining: 13s\n",
      "821:\tlearn: 0.1968876\ttotal: 59.8s\tremaining: 13s\n",
      "822:\tlearn: 0.1968444\ttotal: 59.9s\tremaining: 12.9s\n",
      "823:\tlearn: 0.1968253\ttotal: 1m\tremaining: 12.8s\n",
      "824:\tlearn: 0.1967840\ttotal: 1m\tremaining: 12.7s\n",
      "825:\tlearn: 0.1967667\ttotal: 1m\tremaining: 12.7s\n",
      "826:\tlearn: 0.1967248\ttotal: 1m\tremaining: 12.6s\n",
      "827:\tlearn: 0.1966896\ttotal: 1m\tremaining: 12.5s\n",
      "828:\tlearn: 0.1966572\ttotal: 1m\tremaining: 12.5s\n",
      "829:\tlearn: 0.1966106\ttotal: 1m\tremaining: 12.4s\n",
      "830:\tlearn: 0.1965818\ttotal: 1m\tremaining: 12.3s\n",
      "831:\tlearn: 0.1965527\ttotal: 1m\tremaining: 12.3s\n",
      "832:\tlearn: 0.1965229\ttotal: 1m\tremaining: 12.2s\n",
      "833:\tlearn: 0.1964843\ttotal: 1m\tremaining: 12.1s\n",
      "834:\tlearn: 0.1964565\ttotal: 1m 1s\tremaining: 12.1s\n",
      "835:\tlearn: 0.1964172\ttotal: 1m 1s\tremaining: 12s\n",
      "836:\tlearn: 0.1963666\ttotal: 1m 1s\tremaining: 11.9s\n",
      "837:\tlearn: 0.1963218\ttotal: 1m 1s\tremaining: 11.8s\n",
      "838:\tlearn: 0.1962875\ttotal: 1m 1s\tremaining: 11.8s\n",
      "839:\tlearn: 0.1962155\ttotal: 1m 1s\tremaining: 11.7s\n",
      "840:\tlearn: 0.1961795\ttotal: 1m 1s\tremaining: 11.6s\n",
      "841:\tlearn: 0.1961471\ttotal: 1m 1s\tremaining: 11.6s\n",
      "842:\tlearn: 0.1961140\ttotal: 1m 1s\tremaining: 11.5s\n",
      "843:\tlearn: 0.1960774\ttotal: 1m 1s\tremaining: 11.4s\n",
      "844:\tlearn: 0.1960314\ttotal: 1m 1s\tremaining: 11.4s\n",
      "845:\tlearn: 0.1960061\ttotal: 1m 2s\tremaining: 11.3s\n",
      "846:\tlearn: 0.1959728\ttotal: 1m 2s\tremaining: 11.2s\n",
      "847:\tlearn: 0.1959437\ttotal: 1m 2s\tremaining: 11.2s\n",
      "848:\tlearn: 0.1959222\ttotal: 1m 2s\tremaining: 11.1s\n",
      "849:\tlearn: 0.1958329\ttotal: 1m 2s\tremaining: 11s\n",
      "850:\tlearn: 0.1957856\ttotal: 1m 2s\tremaining: 11s\n",
      "851:\tlearn: 0.1957435\ttotal: 1m 2s\tremaining: 10.9s\n",
      "852:\tlearn: 0.1957159\ttotal: 1m 2s\tremaining: 10.8s\n",
      "853:\tlearn: 0.1956781\ttotal: 1m 2s\tremaining: 10.8s\n",
      "854:\tlearn: 0.1956384\ttotal: 1m 3s\tremaining: 10.7s\n",
      "855:\tlearn: 0.1955831\ttotal: 1m 3s\tremaining: 10.6s\n",
      "856:\tlearn: 0.1954669\ttotal: 1m 3s\tremaining: 10.6s\n",
      "857:\tlearn: 0.1954118\ttotal: 1m 3s\tremaining: 10.5s\n",
      "858:\tlearn: 0.1953870\ttotal: 1m 3s\tremaining: 10.4s\n",
      "859:\tlearn: 0.1953631\ttotal: 1m 3s\tremaining: 10.3s\n",
      "860:\tlearn: 0.1953337\ttotal: 1m 3s\tremaining: 10.3s\n",
      "861:\tlearn: 0.1953056\ttotal: 1m 3s\tremaining: 10.2s\n",
      "862:\tlearn: 0.1952666\ttotal: 1m 3s\tremaining: 10.1s\n",
      "863:\tlearn: 0.1952343\ttotal: 1m 3s\tremaining: 10.1s\n",
      "864:\tlearn: 0.1951906\ttotal: 1m 4s\tremaining: 9.99s\n",
      "865:\tlearn: 0.1951562\ttotal: 1m 4s\tremaining: 9.92s\n",
      "866:\tlearn: 0.1951279\ttotal: 1m 4s\tremaining: 9.85s\n",
      "867:\tlearn: 0.1950797\ttotal: 1m 4s\tremaining: 9.78s\n",
      "868:\tlearn: 0.1950464\ttotal: 1m 4s\tremaining: 9.71s\n",
      "869:\tlearn: 0.1950196\ttotal: 1m 4s\tremaining: 9.64s\n",
      "870:\tlearn: 0.1949845\ttotal: 1m 4s\tremaining: 9.57s\n",
      "871:\tlearn: 0.1949533\ttotal: 1m 4s\tremaining: 9.5s\n",
      "872:\tlearn: 0.1948988\ttotal: 1m 4s\tremaining: 9.43s\n",
      "873:\tlearn: 0.1948768\ttotal: 1m 4s\tremaining: 9.36s\n",
      "874:\tlearn: 0.1947791\ttotal: 1m 5s\tremaining: 9.29s\n",
      "875:\tlearn: 0.1947526\ttotal: 1m 5s\tremaining: 9.22s\n",
      "876:\tlearn: 0.1947045\ttotal: 1m 5s\tremaining: 9.15s\n",
      "877:\tlearn: 0.1946759\ttotal: 1m 5s\tremaining: 9.08s\n",
      "878:\tlearn: 0.1946500\ttotal: 1m 5s\tremaining: 9.01s\n",
      "879:\tlearn: 0.1946026\ttotal: 1m 5s\tremaining: 8.94s\n",
      "880:\tlearn: 0.1945686\ttotal: 1m 5s\tremaining: 8.87s\n",
      "881:\tlearn: 0.1945245\ttotal: 1m 5s\tremaining: 8.8s\n",
      "882:\tlearn: 0.1944704\ttotal: 1m 5s\tremaining: 8.73s\n",
      "883:\tlearn: 0.1943943\ttotal: 1m 5s\tremaining: 8.66s\n",
      "884:\tlearn: 0.1943704\ttotal: 1m 6s\tremaining: 8.58s\n",
      "885:\tlearn: 0.1943408\ttotal: 1m 6s\tremaining: 8.51s\n",
      "886:\tlearn: 0.1943010\ttotal: 1m 6s\tremaining: 8.44s\n",
      "887:\tlearn: 0.1942707\ttotal: 1m 6s\tremaining: 8.37s\n",
      "888:\tlearn: 0.1942408\ttotal: 1m 6s\tremaining: 8.3s\n",
      "889:\tlearn: 0.1942017\ttotal: 1m 6s\tremaining: 8.23s\n",
      "890:\tlearn: 0.1941565\ttotal: 1m 6s\tremaining: 8.16s\n",
      "891:\tlearn: 0.1941084\ttotal: 1m 6s\tremaining: 8.08s\n",
      "892:\tlearn: 0.1940740\ttotal: 1m 6s\tremaining: 8.01s\n",
      "893:\tlearn: 0.1940318\ttotal: 1m 6s\tremaining: 7.94s\n",
      "894:\tlearn: 0.1939785\ttotal: 1m 7s\tremaining: 7.86s\n",
      "895:\tlearn: 0.1939533\ttotal: 1m 7s\tremaining: 7.79s\n",
      "896:\tlearn: 0.1939160\ttotal: 1m 7s\tremaining: 7.72s\n",
      "897:\tlearn: 0.1938800\ttotal: 1m 7s\tremaining: 7.65s\n",
      "898:\tlearn: 0.1938590\ttotal: 1m 7s\tremaining: 7.58s\n",
      "899:\tlearn: 0.1938235\ttotal: 1m 7s\tremaining: 7.5s\n",
      "900:\tlearn: 0.1937858\ttotal: 1m 7s\tremaining: 7.43s\n",
      "901:\tlearn: 0.1937430\ttotal: 1m 7s\tremaining: 7.36s\n",
      "902:\tlearn: 0.1937188\ttotal: 1m 7s\tremaining: 7.29s\n",
      "903:\tlearn: 0.1937005\ttotal: 1m 7s\tremaining: 7.21s\n",
      "904:\tlearn: 0.1936562\ttotal: 1m 8s\tremaining: 7.14s\n",
      "905:\tlearn: 0.1936273\ttotal: 1m 8s\tremaining: 7.06s\n",
      "906:\tlearn: 0.1936029\ttotal: 1m 8s\tremaining: 6.99s\n",
      "907:\tlearn: 0.1935706\ttotal: 1m 8s\tremaining: 6.92s\n",
      "908:\tlearn: 0.1935322\ttotal: 1m 8s\tremaining: 6.84s\n",
      "909:\tlearn: 0.1935132\ttotal: 1m 8s\tremaining: 6.77s\n",
      "910:\tlearn: 0.1934751\ttotal: 1m 8s\tremaining: 6.7s\n",
      "911:\tlearn: 0.1934390\ttotal: 1m 8s\tremaining: 6.62s\n",
      "912:\tlearn: 0.1934143\ttotal: 1m 8s\tremaining: 6.55s\n",
      "913:\tlearn: 0.1933836\ttotal: 1m 8s\tremaining: 6.47s\n",
      "914:\tlearn: 0.1933567\ttotal: 1m 8s\tremaining: 6.4s\n",
      "915:\tlearn: 0.1933140\ttotal: 1m 8s\tremaining: 6.32s\n",
      "916:\tlearn: 0.1932796\ttotal: 1m 9s\tremaining: 6.25s\n",
      "917:\tlearn: 0.1932550\ttotal: 1m 9s\tremaining: 6.18s\n",
      "918:\tlearn: 0.1932220\ttotal: 1m 9s\tremaining: 6.1s\n",
      "919:\tlearn: 0.1931792\ttotal: 1m 9s\tremaining: 6.03s\n",
      "920:\tlearn: 0.1931534\ttotal: 1m 9s\tremaining: 5.96s\n",
      "921:\tlearn: 0.1931336\ttotal: 1m 9s\tremaining: 5.88s\n",
      "922:\tlearn: 0.1930858\ttotal: 1m 9s\tremaining: 5.81s\n",
      "923:\tlearn: 0.1930503\ttotal: 1m 9s\tremaining: 5.73s\n",
      "924:\tlearn: 0.1930147\ttotal: 1m 9s\tremaining: 5.66s\n",
      "925:\tlearn: 0.1929929\ttotal: 1m 9s\tremaining: 5.59s\n",
      "926:\tlearn: 0.1929654\ttotal: 1m 10s\tremaining: 5.51s\n",
      "927:\tlearn: 0.1929196\ttotal: 1m 10s\tremaining: 5.44s\n",
      "928:\tlearn: 0.1929028\ttotal: 1m 10s\tremaining: 5.36s\n",
      "929:\tlearn: 0.1928762\ttotal: 1m 10s\tremaining: 5.29s\n",
      "930:\tlearn: 0.1928228\ttotal: 1m 10s\tremaining: 5.22s\n",
      "931:\tlearn: 0.1927885\ttotal: 1m 10s\tremaining: 5.14s\n",
      "932:\tlearn: 0.1927516\ttotal: 1m 10s\tremaining: 5.07s\n",
      "933:\tlearn: 0.1927121\ttotal: 1m 10s\tremaining: 4.99s\n",
      "934:\tlearn: 0.1926796\ttotal: 1m 10s\tremaining: 4.92s\n",
      "935:\tlearn: 0.1926437\ttotal: 1m 10s\tremaining: 4.85s\n",
      "936:\tlearn: 0.1925894\ttotal: 1m 11s\tremaining: 4.78s\n",
      "937:\tlearn: 0.1925428\ttotal: 1m 11s\tremaining: 4.71s\n",
      "938:\tlearn: 0.1925128\ttotal: 1m 11s\tremaining: 4.63s\n",
      "939:\tlearn: 0.1924799\ttotal: 1m 11s\tremaining: 4.56s\n",
      "940:\tlearn: 0.1924414\ttotal: 1m 11s\tremaining: 4.49s\n",
      "941:\tlearn: 0.1923873\ttotal: 1m 11s\tremaining: 4.41s\n",
      "942:\tlearn: 0.1923374\ttotal: 1m 11s\tremaining: 4.34s\n",
      "943:\tlearn: 0.1922863\ttotal: 1m 11s\tremaining: 4.26s\n",
      "944:\tlearn: 0.1922370\ttotal: 1m 11s\tremaining: 4.19s\n",
      "945:\tlearn: 0.1922067\ttotal: 1m 12s\tremaining: 4.11s\n",
      "946:\tlearn: 0.1921708\ttotal: 1m 12s\tremaining: 4.04s\n",
      "947:\tlearn: 0.1921448\ttotal: 1m 12s\tremaining: 3.96s\n",
      "948:\tlearn: 0.1921169\ttotal: 1m 12s\tremaining: 3.88s\n",
      "949:\tlearn: 0.1920905\ttotal: 1m 12s\tremaining: 3.81s\n",
      "950:\tlearn: 0.1920583\ttotal: 1m 12s\tremaining: 3.73s\n",
      "951:\tlearn: 0.1920104\ttotal: 1m 12s\tremaining: 3.66s\n",
      "952:\tlearn: 0.1919826\ttotal: 1m 12s\tremaining: 3.58s\n",
      "953:\tlearn: 0.1919395\ttotal: 1m 12s\tremaining: 3.51s\n",
      "954:\tlearn: 0.1919006\ttotal: 1m 12s\tremaining: 3.43s\n",
      "955:\tlearn: 0.1918656\ttotal: 1m 12s\tremaining: 3.36s\n",
      "956:\tlearn: 0.1918319\ttotal: 1m 13s\tremaining: 3.28s\n",
      "957:\tlearn: 0.1918001\ttotal: 1m 13s\tremaining: 3.2s\n"
     ]
    },
    {
     "name": "stdout",
     "output_type": "stream",
     "text": [
      "958:\tlearn: 0.1917628\ttotal: 1m 13s\tremaining: 3.13s\n",
      "959:\tlearn: 0.1917196\ttotal: 1m 13s\tremaining: 3.05s\n",
      "960:\tlearn: 0.1916726\ttotal: 1m 13s\tremaining: 2.98s\n",
      "961:\tlearn: 0.1916196\ttotal: 1m 13s\tremaining: 2.9s\n",
      "962:\tlearn: 0.1915852\ttotal: 1m 13s\tremaining: 2.83s\n",
      "963:\tlearn: 0.1915563\ttotal: 1m 13s\tremaining: 2.75s\n",
      "964:\tlearn: 0.1915256\ttotal: 1m 13s\tremaining: 2.67s\n",
      "965:\tlearn: 0.1914632\ttotal: 1m 13s\tremaining: 2.6s\n",
      "966:\tlearn: 0.1914299\ttotal: 1m 13s\tremaining: 2.52s\n",
      "967:\tlearn: 0.1914072\ttotal: 1m 13s\tremaining: 2.44s\n",
      "968:\tlearn: 0.1913767\ttotal: 1m 14s\tremaining: 2.37s\n",
      "969:\tlearn: 0.1913566\ttotal: 1m 14s\tremaining: 2.29s\n",
      "970:\tlearn: 0.1913291\ttotal: 1m 14s\tremaining: 2.22s\n",
      "971:\tlearn: 0.1912919\ttotal: 1m 14s\tremaining: 2.14s\n",
      "972:\tlearn: 0.1912526\ttotal: 1m 14s\tremaining: 2.06s\n",
      "973:\tlearn: 0.1912136\ttotal: 1m 14s\tremaining: 1.99s\n",
      "974:\tlearn: 0.1911917\ttotal: 1m 14s\tremaining: 1.91s\n",
      "975:\tlearn: 0.1911520\ttotal: 1m 14s\tremaining: 1.83s\n",
      "976:\tlearn: 0.1911197\ttotal: 1m 14s\tremaining: 1.76s\n",
      "977:\tlearn: 0.1910997\ttotal: 1m 14s\tremaining: 1.68s\n",
      "978:\tlearn: 0.1910581\ttotal: 1m 14s\tremaining: 1.61s\n",
      "979:\tlearn: 0.1910203\ttotal: 1m 14s\tremaining: 1.53s\n",
      "980:\tlearn: 0.1909924\ttotal: 1m 15s\tremaining: 1.45s\n",
      "981:\tlearn: 0.1909542\ttotal: 1m 15s\tremaining: 1.38s\n",
      "982:\tlearn: 0.1909231\ttotal: 1m 15s\tremaining: 1.3s\n",
      "983:\tlearn: 0.1908875\ttotal: 1m 15s\tremaining: 1.22s\n",
      "984:\tlearn: 0.1908546\ttotal: 1m 15s\tremaining: 1.15s\n",
      "985:\tlearn: 0.1908287\ttotal: 1m 15s\tremaining: 1.07s\n",
      "986:\tlearn: 0.1907921\ttotal: 1m 15s\tremaining: 995ms\n",
      "987:\tlearn: 0.1907605\ttotal: 1m 15s\tremaining: 919ms\n",
      "988:\tlearn: 0.1907349\ttotal: 1m 15s\tremaining: 843ms\n",
      "989:\tlearn: 0.1906955\ttotal: 1m 15s\tremaining: 766ms\n",
      "990:\tlearn: 0.1906525\ttotal: 1m 15s\tremaining: 690ms\n",
      "991:\tlearn: 0.1906151\ttotal: 1m 16s\tremaining: 613ms\n",
      "992:\tlearn: 0.1905837\ttotal: 1m 16s\tremaining: 536ms\n",
      "993:\tlearn: 0.1905528\ttotal: 1m 16s\tremaining: 460ms\n",
      "994:\tlearn: 0.1905111\ttotal: 1m 16s\tremaining: 383ms\n",
      "995:\tlearn: 0.1904751\ttotal: 1m 16s\tremaining: 307ms\n",
      "996:\tlearn: 0.1904411\ttotal: 1m 16s\tremaining: 230ms\n",
      "997:\tlearn: 0.1904272\ttotal: 1m 16s\tremaining: 153ms\n",
      "998:\tlearn: 0.1903944\ttotal: 1m 16s\tremaining: 76.7ms\n",
      "999:\tlearn: 0.1903643\ttotal: 1m 16s\tremaining: 0us\n"
     ]
    }
   ],
   "source": [
    "# cb = catboost.CatBoostClassifier()\n",
    "cb.fit(X_train,y_train)\n",
    "cb_pred = cb.predict(X_test)"
   ]
  },
  {
   "cell_type": "code",
   "execution_count": 306,
   "metadata": {},
   "outputs": [
    {
     "name": "stdout",
     "output_type": "stream",
     "text": [
      "0.9069603451136552\n",
      "0.9032007480399915\n",
      "[[34202  2103]\n",
      " [ 4626 31393]]\n"
     ]
    }
   ],
   "source": [
    "print(accuracy_score(y_test, cb_pred))\n",
    "print(f1_score(y_test, cb_pred))\n",
    "print(confusion_matrix(y_test, cb_pred))"
   ]
  },
  {
   "cell_type": "code",
   "execution_count": 307,
   "metadata": {},
   "outputs": [],
   "source": [
    "# rfc = RandomForestClassifier()"
   ]
  },
  {
   "cell_type": "code",
   "execution_count": 308,
   "metadata": {},
   "outputs": [
    {
     "data": {
      "text/plain": [
       "RandomForestClassifier()"
      ]
     },
     "execution_count": 308,
     "metadata": {},
     "output_type": "execute_result"
    }
   ],
   "source": [
    "rfc.fit(X_train, y_train)"
   ]
  },
  {
   "cell_type": "code",
   "execution_count": 309,
   "metadata": {},
   "outputs": [
    {
     "data": {
      "text/plain": [
       "array([1, 0, 0, ..., 1, 1, 0], dtype=int64)"
      ]
     },
     "execution_count": 309,
     "metadata": {},
     "output_type": "execute_result"
    }
   ],
   "source": [
    "rfc_pred = rfc.predict(X_test)\n",
    "rfc_pred"
   ]
  },
  {
   "cell_type": "code",
   "execution_count": 310,
   "metadata": {},
   "outputs": [
    {
     "name": "stdout",
     "output_type": "stream",
     "text": [
      "0.901166970853382\n",
      "0.9008544163337772\n",
      "[[32702  3603]\n",
      " [ 3545 32474]]\n"
     ]
    }
   ],
   "source": [
    "print(accuracy_score(y_test, rfc_pred))\n",
    "print(f1_score(y_test, rfc_pred))\n",
    "print(confusion_matrix(y_test, rfc_pred))"
   ]
  },
  {
   "cell_type": "code",
   "execution_count": 311,
   "metadata": {},
   "outputs": [
    {
     "data": {
      "text/plain": [
       "DecisionTreeClassifier()"
      ]
     },
     "execution_count": 311,
     "metadata": {},
     "output_type": "execute_result"
    }
   ],
   "source": [
    "dct.fit(X_train, y_train)"
   ]
  },
  {
   "cell_type": "code",
   "execution_count": 312,
   "metadata": {},
   "outputs": [],
   "source": [
    "dct_pred = dct.predict(X_test)"
   ]
  },
  {
   "cell_type": "code",
   "execution_count": 313,
   "metadata": {},
   "outputs": [
    {
     "name": "stdout",
     "output_type": "stream",
     "text": [
      "0.8378131740501078\n",
      "0.838340683572216\n",
      "[[30179  6126]\n",
      " [ 5604 30415]]\n"
     ]
    }
   ],
   "source": [
    "print(accuracy_score(y_test, dct_pred))\n",
    "print(f1_score(y_test, dct_pred))\n",
    "print(confusion_matrix(y_test, dct_pred))"
   ]
  },
  {
   "cell_type": "code",
   "execution_count": null,
   "metadata": {},
   "outputs": [],
   "source": []
  }
 ],
 "metadata": {
  "kernelspec": {
   "display_name": "Python 3",
   "language": "python",
   "name": "python3"
  },
  "language_info": {
   "codemirror_mode": {
    "name": "ipython",
    "version": 3
   },
   "file_extension": ".py",
   "mimetype": "text/x-python",
   "name": "python",
   "nbconvert_exporter": "python",
   "pygments_lexer": "ipython3",
   "version": "3.7.0"
  }
 },
 "nbformat": 4,
 "nbformat_minor": 2
}
